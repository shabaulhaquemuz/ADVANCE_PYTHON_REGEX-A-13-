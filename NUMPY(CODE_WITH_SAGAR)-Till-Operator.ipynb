{
 "cells": [
  {
   "cell_type": "code",
   "execution_count": 9,
   "id": "9dffd7b1-47a7-4827-9a5f-7afee83fb582",
   "metadata": {},
   "outputs": [],
   "source": [
    "# NumPy was developed by Travis Oliphant in 2005.\n",
    "#numpy is a library of python through  which we can handle large amount of data using arrays instead of list.\n",
    "#it is used to perform arithmetic calculation on numeric data.\n",
    "\n",
    "\n",
    "#C is the fastest programming language because it is closest to hardware, it is used for OS,\n",
    "#embedded system(An embedded system is a small computer built into a device to perform a specific task.).\n",
    "# Washing Machine\tControls washing cycles\n",
    "# Microwave Oven\tManages heating and timing\n",
    "\n",
    "# Universal Function (ufunc) in NumPy =\n",
    "# A built-in, fast, vectorized function that performs element-wise operations on arrays.\n",
    "# It’s written in C for speed, but you call it like normal Python functions.\n",
    "#Universal function: functions that can be applied over each elements\n",
    "\n",
    "# | Category            | Function Examples                       |\n",
    "# | ------------------- | --------------------------------------- |\n",
    "# | **Arithmetic**      | `add`, `subtract`, `multiply`, `divide` |\n",
    "# | **Trigonometric**   | `sin`, `cos`, `tan`                     |\n",
    "# | **Exponential/Log** | `exp`, `log`, `log10`                   |\n",
    "# | **Comparison**      | `greater`, `less`, `equal`              |\n",
    "# | **Statistical**     | `minimum`, `maximum`, `mean`, `std`     |\n",
    "\n",
    "\n",
    "\n",
    "# Why do people still use Python if it's slower?\n",
    "# Python is easy to write and learn.\n",
    "\n",
    "# Python is good for prototyping.\n",
    "\n",
    "# Many libraries like NumPy, TensorFlow, PyTorch use C/C++ internally for speed but give Python interface for simplicity.\n",
    "\n",
    "# NumPy and C: How are they related?\n",
    "# NumPy is a Python library, but internally, it uses C language for the heavy work (like calculations).\n",
    "\n",
    "# That’s why NumPy is very fast compared to normal Python loops.\n",
    "\n",
    "\n",
    "#Numpy stands for numerical python\n",
    "\n",
    "# NumPy Overview\n",
    "# NumPy uses arrays to perform operations and store data efficiently.\n",
    "\n",
    "# Why Arrays?\n",
    "# Arrays store data in continuous memory locations.\n",
    "# This makes data access faster compared to Python lists.\n",
    "\n",
    "# Key Advantages of NumPy Arrays(its the difference also between lists and arrays):\n",
    "# Speed: Much faster than lists for numerical tasks.\n",
    "# Efficiency: Consumes less memory due to continuous memory allocation.\n",
    "# Convenient Operations: Supports mathematical operations like addition, multiplication, and trigonometric functions directly on arrays.\n",
    "\n",
    "# Definition:\n",
    "# Broadcasting in NumPy is the ability to perform element-wise operations on arrays of different shapes — by automatically expanding \n",
    "#the smaller array to match the shape of the larger one.\n",
    "# 🎯 In Simple Words:# You can add, subtract, multiply, etc., arrays of different shapes, and NumPy will stretch the smaller array without copying data."
   ]
  },
  {
   "cell_type": "code",
   "execution_count": 7,
   "id": "caa13b28-4692-4c23-b684-ff64ef6b014c",
   "metadata": {},
   "outputs": [
    {
     "name": "stdout",
     "output_type": "stream",
     "text": [
      "33.82\n"
     ]
    }
   ],
   "source": [
    "import numpy as np\n",
    "temperatures=np.array([32.5,31.8,33.0,35.2,36.6])\n",
    "average=np.mean(temperatures)\n",
    "print(average)"
   ]
  },
  {
   "cell_type": "code",
   "execution_count": 11,
   "id": "3f057580-f0e3-45e4-a3c2-71b0a60af3eb",
   "metadata": {},
   "outputs": [],
   "source": [
    "# features of numpy: \n",
    "# 1. consumes less memory\n",
    "# 2. easy math operation\n",
    "# 3. used in almost all data fields AI,DS,Data Analysis\n"
   ]
  },
  {
   "cell_type": "code",
   "execution_count": 13,
   "id": "f019742d-864f-4989-864d-028702d32ae4",
   "metadata": {},
   "outputs": [],
   "source": [
    "# Use of Numpy:\n",
    "# 1.Data Science\n",
    "# 2.Machine Learning and AI(used in tensorflow and pytorch)\n",
    "# 3.Stock market and finance\n",
    "# 4.Image processing(photoshop tools)\n",
    "# 5. Scientific Computing\n",
    "# Solving mathematical problems: linear algebra, calculus,\n",
    "# 6. Deep Learning\n",
    "# Creating input data structures (e.g., image tensors)\n",
    "# Normalization and augmentation of data\n",
    "# 7. Mathematical Computations\n",
    "# Matrix multiplication, inversion, dot products\n",
    "# Statistical functions (mean, median, std)\n",
    "# 8. Computer Graphics & Simulations\n",
    "# Modeling transformations in 2D/3D space\n",
    "# Creating simulations using multi-dimensional arrays"
   ]
  },
  {
   "cell_type": "code",
   "execution_count": 1,
   "id": "48148169-9018-45a5-890c-68f3ff64c22f",
   "metadata": {},
   "outputs": [],
   "source": [
    "#  difference between Python Lists and NumPy Arrays\n",
    "#A NumPy ndarray (n-dimensional array) is the primary data structure of the NumPy library, used to store elements of the same data type in effiecient way\n",
    "#in a multidimensional format. It is faster than actual list,uses less memory and perform mathematical operations directly without using any loop.\n",
    "\n",
    "\n",
    "# | Feature                      | **Python List**                                                       | **NumPy Array**                                                      |\n",
    "# | ---------------------------- | --------------------------------------------------------------------- | -------------------------------------------------------------------- |\n",
    "# |Actual existence?             | Built-in data structure                                               |  Provided by NumPy library\n",
    "# | **Data Type**                | **Heterogeneous** – can store different types (int, float, str, etc.) | **Homogeneous** – all elements must be of the same type              |\n",
    "# | **Speed**                    | Slower – not optimized for numerical computation                      | Faster – optimized using C backend and vectorized operations         |\n",
    "# | **Memory Efficiency**        | Consumes more memory due to dynamic typing                            | Consumes less memory – fixed data types and continuous memory        |\n",
    "# | **Mathematical Operations**  | Not supported directly (e.g., `a + b` concatenates lists)             | Element-wise operations (e.g., `a + b` adds elements)                |\n",
    "# | **Functionality**            | Basic: append, pop, slice, etc.                                       | Rich:broadcasting, statistical operations, reshaping       |\n",
    "# | **Indexing**                 | Basic (single level)                                                  | Advanced (multi-dimensional)                |\n",
    "\n",
    "#In NumPy, multidimensional indexing lets you access elements in arrays with 2 or more dimensions using row and column indices, or even more."
   ]
  },
  {
   "cell_type": "code",
   "execution_count": 7,
   "id": "6c5fdfed-5d3d-4cb3-bb53-39c4f8a9c37c",
   "metadata": {},
   "outputs": [
    {
     "name": "stdout",
     "output_type": "stream",
     "text": [
      "[1, 2, 3, 4, 5]\n",
      "[1 2 3 4 5]\n"
     ]
    }
   ],
   "source": [
    "python_list=[1,2,3,4,5]\n",
    "print(python_list)\n",
    "\n",
    "import numpy as np\n",
    "numpy_array=np.array([1,2,3,4,5])\n",
    "print(numpy_array)\n",
    "\n",
    "\n",
    "# Printing a Python list shows elements separated by commas,\n",
    "# while printing a NumPy array shows elements separated by spaces (no commas)."
   ]
  },
  {
   "cell_type": "code",
   "execution_count": 1,
   "id": "b62b3500-3dd1-4026-8dc5-26556e6ff235",
   "metadata": {},
   "outputs": [],
   "source": [
    "# An array is a data structure that stores elements of the same data type in a fixed-size, indexed, and ordered format.\n",
    "# A fixed-size array means that once an array is created, its size (number of elements) cannot be changed directly.\n",
    "\n",
    "# In Python, arrays are commonly created using the NumPy library, where they are called ndarray and support multi-dimensional storage \n",
    "# and fast numerical computations."
   ]
  },
  {
   "cell_type": "code",
   "execution_count": 3,
   "id": "7be0665d-19bf-4f47-a4d6-0aa733736b9b",
   "metadata": {},
   "outputs": [],
   "source": [
    "# | Array Type   | Description                   | Example                                        |\n",
    "# | ------------ | ----------------------------- | ---------------------------------------------- |\n",
    "# | **1D Array** | Single row or column (vector) | `np.array([1, 2, 3])`                          |\n",
    "# | **2D Array** | Matrix (rows and columns)     | `np.array([[1, 2], [3, 4]])`                   |\n",
    "# | **3D Array** | Stack of matrices/2d-arrays   | `np.array([[[1], [2]], [[3], [4]]])`           |\n",
    "# | **nD Array** | n-dimensional (4D, 5D, etc.)  | Created using `np.array()` with higher nesting |\n"
   ]
  },
  {
   "cell_type": "code",
   "execution_count": 7,
   "id": "b91db481-05a0-4ce0-a5a7-0a90b33e483c",
   "metadata": {},
   "outputs": [
    {
     "data": {
      "text/plain": [
       "array([[[1],\n",
       "        [2]],\n",
       "\n",
       "       [[3],\n",
       "        [4]]])"
      ]
     },
     "execution_count": 7,
     "metadata": {},
     "output_type": "execute_result"
    }
   ],
   "source": [
    "import numpy as np\n",
    "\n",
    "np.array([[[1], [2]], [[3], [4]]])"
   ]
  },
  {
   "cell_type": "code",
   "execution_count": 9,
   "id": "36ce3e62-467c-4582-81c6-c2d1a087aa0e",
   "metadata": {},
   "outputs": [
    {
     "name": "stdout",
     "output_type": "stream",
     "text": [
      "[[1 2 3]\n",
      " [4 5 6]]\n"
     ]
    }
   ],
   "source": [
    "#matrix:\n",
    "# A matrix is essentially a fancy or specialized name for a 2D array — an array with rows and columns.\n",
    "# In NumPy, a 2D array created using np.array([[1, 2], [3, 4]]) can be considered a matrix, even though technically it's just a 2-dimensional ndarray.\n",
    "\n",
    "# creating a matrix:\n",
    "matrix=np.array([[1,2,3],[4,5,6]])\n",
    "print(matrix)"
   ]
  },
  {
   "cell_type": "code",
   "execution_count": null,
   "id": "1bc4a99f-8668-430c-bda4-1c57fee7f739",
   "metadata": {},
   "outputs": [],
   "source": [
    "#converting a list into numpy array(when we want to have a faster,better performance)\n",
    "#creating arrays from python lists\n",
    "#np.array([element1,element2,element3])\n",
    "import numpy as np\n",
    "arr=np.array([1,2,3,4])  #passed the list directly\n",
    "print(arr)\n",
    "#it has created 1-d array"
   ]
  },
  {
   "cell_type": "code",
   "execution_count": 17,
   "id": "0e8f7adc-52bc-44b1-8411-be0b9ea35bd3",
   "metadata": {},
   "outputs": [
    {
     "name": "stdout",
     "output_type": "stream",
     "text": [
      "[[1 2 3 4]]\n"
     ]
    }
   ],
   "source": [
    "mylist=[1,2,3,4]\n",
    "import numpy as np\n",
    "arr=np.array([mylist])  #passing the  name of the list\n",
    "print(arr)\n",
    "#it has created a 2-d array"
   ]
  },
  {
   "cell_type": "code",
   "execution_count": 19,
   "id": "3b2c89e1-3ab7-4052-96cd-f31314135ed9",
   "metadata": {},
   "outputs": [],
   "source": [
    "# NumPy Array Creation with Default Values:\n",
    "# | Function                | Description                                    | Example Code         | Output (Shape / Values)                |\n",
    "# | ----------------------- | ---------------------------------------------- | -------------------- | -------------------------------------- |\n",
    "# | `np.zeros(shape)`       | Creates array filled with **0**                | `np.zeros((2, 3))`   | `[[0. 0. 0.], [0. 0. 0.]]`             |\n",
    "# | `np.ones(shape)`        | Creates array filled with **1**                | `np.ones((3, 2))`    | `[[1. 1.], [1. 1.], [1. 1.]]`          |\n",
    "# | `np.empty(shape)`       | Creates array with **uninitialized values**    | `np.empty((2, 2))`   | May contain **random/garbage values**  |\n",
    "# | `np.full(shape, value)` | Creates array filled with a **specific value** | `np.full((2, 3), 7)` | `[[7 7 7], [7 7 7]]`                   |\n",
    "# | `np.eye(n)`             | Creates **identity matrix** (1s on diagonal)   | `np.eye(3)`          | `[[1. 0. 0.], [0. 1. 0.], [0. 0. 1.]]` |\n"
   ]
  },
  {
   "cell_type": "code",
   "execution_count": 23,
   "id": "48552bc8-bf53-41b4-af0e-7514bc5e5c8e",
   "metadata": {},
   "outputs": [
    {
     "name": "stdout",
     "output_type": "stream",
     "text": [
      "[[0. 0. 0. 0.]\n",
      " [0. 0. 0. 0.]\n",
      " [0. 0. 0. 0.]]\n"
     ]
    }
   ],
   "source": [
    "zerosarray=np.zeros((3,4))\n",
    "print(zerosarray)"
   ]
  },
  {
   "cell_type": "code",
   "execution_count": 27,
   "id": "a98eabd6-21ab-4ee1-a105-95b87c53982d",
   "metadata": {},
   "outputs": [
    {
     "name": "stdout",
     "output_type": "stream",
     "text": [
      "[[1. 1. 1. 1.]\n",
      " [1. 1. 1. 1.]\n",
      " [1. 1. 1. 1.]]\n"
     ]
    }
   ],
   "source": [
    "onesarray=np.ones((3,4))\n",
    "print(onesarray)"
   ]
  },
  {
   "cell_type": "code",
   "execution_count": 41,
   "id": "c95b3a08-0b85-44c3-a081-87231fa1c4e3",
   "metadata": {},
   "outputs": [
    {
     "name": "stdout",
     "output_type": "stream",
     "text": [
      "[[1. 1. 1. 1.]\n",
      " [1. 1. 1. 1.]\n",
      " [1. 1. 1. 1.]]\n",
      "[[1.46717037e-311 1.46717688e-311 1.46717688e-311 1.46717688e-311]\n",
      " [1.46717694e-311 1.46717694e-311 1.46717694e-311 1.46717694e-311]\n",
      " [1.46717694e-311 1.46717694e-311 1.46717691e-311 1.46717694e-311]\n",
      " [1.46717694e-311 1.46717694e-311 1.46717694e-311 1.46717694e-311]\n",
      " [1.46717694e-311 1.46717691e-311 1.46717694e-311 1.46717694e-311]]\n"
     ]
    }
   ],
   "source": [
    "emptyarray=np.empty((3,4))\n",
    "print(emptyarray)\n",
    "\n",
    "emptyarray2=np.empty((5,4))\n",
    "print(emptyarray2)"
   ]
  },
  {
   "cell_type": "code",
   "execution_count": 45,
   "id": "5c66fabf-ab33-4e79-9bf5-07da71cee55e",
   "metadata": {},
   "outputs": [
    {
     "name": "stdout",
     "output_type": "stream",
     "text": [
      "[[7 7 7 7]\n",
      " [7 7 7 7]\n",
      " [7 7 7 7]]\n"
     ]
    }
   ],
   "source": [
    "fullarray=np.full((3,4),7)\n",
    "print(fullarray)"
   ]
  },
  {
   "cell_type": "code",
   "execution_count": 55,
   "id": "b7601d56-d411-4f46-8a84-5fb0dd069e2d",
   "metadata": {},
   "outputs": [
    {
     "name": "stdout",
     "output_type": "stream",
     "text": [
      "[[1. 0. 0. 0.]\n",
      " [0. 1. 0. 0.]\n",
      " [0. 0. 1. 0.]\n",
      " [0. 0. 0. 1.]]\n",
      "[[1. 0. 0. 0. 0.]\n",
      " [0. 1. 0. 0. 0.]\n",
      " [0. 0. 1. 0. 0.]\n",
      " [0. 0. 0. 1. 0.]\n",
      " [0. 0. 0. 0. 1.]]\n"
     ]
    }
   ],
   "source": [
    "eyearray=np.eye((4))  #identity matrix with 4 ones\n",
    "print(eyearray)\n",
    "\n",
    "eyearray=np.eye((5))  #  #identity matrix with 5 ones\n",
    "print(eyearray)"
   ]
  },
  {
   "cell_type": "code",
   "execution_count": 1,
   "id": "0cce01fc-ca6f-4309-99ca-76a8c9c310bf",
   "metadata": {},
   "outputs": [],
   "source": [
    "#types of Arrays (in NumPy and general context)\n",
    "# 1. Based on Dimensions (Number of Axes):\n",
    "# | Array Type   | Description                   | Example                                        |\n",
    "# | ------------ | ----------------------------- | ---------------------------------------------- |\n",
    "# | **1D Array** | Single row or column (vector) | `np.array([1, 2, 3])`                          |\n",
    "# | **2D Array** | Matrix (rows and columns)     | `np.array([[1, 2], [3, 4]])`                   |\n",
    "# | **3D Array** | Stack of matrices             | `np.array([[[1], [2]], [[3], [4]]])`           |\n",
    "# | **nD Array** | n-dimensional (4D, 5D, etc.)  | Created using `np.array()` with higher nesting |\n",
    "\n",
    "\n",
    "# 2. Based on Content Initialization:\n",
    "# | Function        | Description                                    |\n",
    "# | --------------- | ---------------------------------------------- |\n",
    "# | `np.array()`    | Creates array from list or tuple               |\n",
    "# | `np.zeros()`    | Creates array filled with **zeros**            |\n",
    "# | `np.ones()`     | Creates array filled with **ones**             |\n",
    "# | `np.empty()`    | Creates uninitialized array (random values)    |\n",
    "# | `np.arange()`   | Array with range of numbers (like `range()`)   |\n",
    "# | `np.linspace()` | Evenly spaced values over a specified interval |\n",
    "# | `np.identity()` | Creates identity matrix                        |\n",
    "# | `np.eye()`      | Creates 2D array with 1s on diagonal           |\n"
   ]
  },
  {
   "cell_type": "code",
   "execution_count": 7,
   "id": "c5a6c22b-85b4-45d4-92fa-932629f6d7d9",
   "metadata": {},
   "outputs": [
    {
     "name": "stdout",
     "output_type": "stream",
     "text": [
      "[[1. 0. 0.]\n",
      " [0. 1. 0.]\n",
      " [0. 0. 1.]\n",
      " [0. 0. 0.]\n",
      " [0. 0. 0.]]\n"
     ]
    }
   ],
   "source": [
    "import numpy as np\n",
    "\n",
    "eyearray2=np.eye(5,3)  #  #identity matrix with 5 ones\n",
    "print(eyearray2)"
   ]
  },
  {
   "cell_type": "code",
   "execution_count": 13,
   "id": "a5d882c2-3ad9-4b32-a669-58b50fd128ab",
   "metadata": {},
   "outputs": [
    {
     "name": "stdout",
     "output_type": "stream",
     "text": [
      "[[1. 0. 0.]\n",
      " [0. 1. 0.]\n",
      " [0. 0. 1.]]\n"
     ]
    }
   ],
   "source": [
    "# | Feature              | `np.identity()`                          | `np.eye()`                                  |\n",
    "# | -------------------- | ---------------------------------------- | ------------------------------------------- |\n",
    "# | **Purpose**          | Creates a square identity matrix         | Creates a matrix with 1s on the diagonal    |\n",
    "# | **Parameters**       | Takes **only one** parameter: `n` (size) | Takes **two**: `rows`, `columns` (optional) |\n",
    "# | **Diagonal control** | Fixed (main diagonal only)               | Flexible: can shift diagonal using `k`      |\n",
    "# | **Shape**            | Always **square** (n × n)                | Can be **non-square** (m × n)               |\n",
    "# | **Function Type**    | Simpler, limited                         | More general and powerful                   |\n",
    "\n",
    "\n",
    "#In the function np.eye(m,n, k=0), the k parameter controls which diagonal gets the 1s.\n",
    "#example 1:\n",
    "import numpy as np\n",
    "\n",
    "# Main diagonal (k = 0)\n",
    "print(np.eye(3, 3, k=0))\n",
    "                                                                                        "
   ]
  },
  {
   "cell_type": "code",
   "execution_count": 15,
   "id": "37bb9c51-efe7-4610-b8b4-55de22529f90",
   "metadata": {},
   "outputs": [
    {
     "name": "stdout",
     "output_type": "stream",
     "text": [
      "[[0. 1. 0. 0.]\n",
      " [0. 0. 1. 0.]\n",
      " [0. 0. 0. 1.]]\n"
     ]
    }
   ],
   "source": [
    "# Diagonal above the main (k = 1)\n",
    "print(np.eye(3, 4, k=1))"
   ]
  },
  {
   "cell_type": "code",
   "execution_count": 17,
   "id": "d69eeed4-a915-460f-be00-9a0acf1a64ca",
   "metadata": {},
   "outputs": [
    {
     "name": "stdout",
     "output_type": "stream",
     "text": [
      "[[0. 0. 0.]\n",
      " [1. 0. 0.]\n",
      " [0. 1. 0.]]\n"
     ]
    }
   ],
   "source": [
    "# Diagonal below the main (k = -1)\n",
    "print(np.eye(3, 3, k=-1))\n"
   ]
  },
  {
   "cell_type": "code",
   "execution_count": 3,
   "id": "210e33ba-8624-4089-86e7-478e26bf272d",
   "metadata": {},
   "outputs": [],
   "source": [
    "#creating sequences of numbers in numpy:\n",
    "# | **Function**          | **Purpose**                                    | **Syntax**                           | **Example**                 | **Output**                  |\n",
    "# | --------------------- | ---------------------------------------------- | ------------------------------------ | --------------------------- | --------------------------- |\n",
    "# | `np.arange()`         | Evenly spaced values within a range            | `np.arange(start, stop, step)`       | `np.arange(1, 10, 2)`       | `[1 3 5 7 9]`               |\n",
    "# | `np.arange(n)`        | Sequence from 0 to n-1                         | `np.arange(stop)`                    | `np.arange(5)`              | `[0 1 2 3 4]`               |\n",
    "# | `np.linspace()`       | `num` values evenly spaced over \\[start, stop] | `np.linspace(start, stop, num)`      | `np.linspace(0, 1, 5)`      | `[0.   0.25 0.5  0.75 1. ]` |\n",
    "# | `np.logspace()`       | `num` values spaced logarithmically            | `np.logspace(start, stop, num)`      | `np.logspace(1, 3, 3)`      | `[  10.  100. 1000.]`       |\n",
    "# | `np.random.randint()` | Random sequence of integers                    | `np.random.randint(low, high, size)` | `np.random.randint(1,10,5)` | e.g. `[2 7 9 3 6]`          |\n",
    "# | `np.random.rand()`    | Random floats in \\[0, 1)                       | `np.random.rand(n)`                  | `np.random.rand(4)`         | e.g. `[0.3 0.7 0.1 0.5]`    |\n"
   ]
  },
  {
   "cell_type": "code",
   "execution_count": 19,
   "id": "7d7e8625-6391-4dec-a8f0-7d2dd0eecc7a",
   "metadata": {},
   "outputs": [
    {
     "name": "stdout",
     "output_type": "stream",
     "text": [
      "[2 5 8]\n",
      "[0 1 2 3 4 5 6 7 8 9]\n",
      "[1 2 3 4 5 6 7 8 9]\n"
     ]
    }
   ],
   "source": [
    "# 1.np.arange()\n",
    "# The function np.arange() is used to create a sequence of evenly spaced numbers within a given range by specifying the start, stop, and step values.\n",
    "# (Note: The stop value is not included in the output.)\n",
    "\n",
    "\n",
    "#syntax: arange(start,stop,step)\n",
    "import numpy as np\n",
    "print(np.arange(2,10,3))\n",
    "print(np.arange(0,10,1))   #last limlit is excluded\n",
    "print(np.arange(1,10,1))"
   ]
  },
  {
   "cell_type": "code",
   "execution_count": 21,
   "id": "6c1b6c2c-ea75-464b-ac09-00b699f05730",
   "metadata": {},
   "outputs": [
    {
     "name": "stdout",
     "output_type": "stream",
     "text": [
      "[0 1 2 3 4]\n"
     ]
    }
   ],
   "source": [
    "#np.arange(n)\n",
    "#syntax: np.arange(stop)\n",
    "print(np.arange(5))     #just give the last limit n, output will be array till n-1 elements"
   ]
  },
  {
   "cell_type": "code",
   "execution_count": 41,
   "id": "d047066a-e229-4391-8341-10fc1ebc06c1",
   "metadata": {},
   "outputs": [
    {
     "name": "stdout",
     "output_type": "stream",
     "text": [
      "[2.         2.28571429 2.57142857 2.85714286 3.14285714 3.42857143\n",
      " 3.71428571 4.        ]\n",
      "another example:\n",
      "[1.   1.25 1.5  1.75 2.  ]\n"
     ]
    }
   ],
   "source": [
    " #np.linspace()\n",
    "# The function np.linspace() is used to create a sequence of evenly spaced numbers over a specified interval by specifying the start, stop,\n",
    "#and the total number of values to generate.\n",
    "# (Note: The stop value is included by default.)\n",
    "\n",
    "print(np.linspace(2,4,8))\n",
    "print(\"another example:\")\n",
    "print(np.linspace(1,2,5))"
   ]
  },
  {
   "cell_type": "code",
   "execution_count": 49,
   "id": "620d7e8c-18fc-4ac7-abb3-b08cfcd8e1be",
   "metadata": {},
   "outputs": [
    {
     "name": "stdout",
     "output_type": "stream",
     "text": [
      "[  10.           31.6227766   100.          316.22776602 1000.        ]\n"
     ]
    }
   ],
   "source": [
    "# np.logspace():\n",
    "# The function np.logspace() is used to create a sequence of numbers that increases exponentially.\n",
    "# It’s useful when you want to create numbers that grow on a logarithmic scale, like 10¹, 10², 10³...\n",
    "#np.logspace(start, stop, num=50, endpoint=True/False, base=10.0, dtype=None)\n",
    "\n",
    "\n",
    "\n",
    "import numpy as np\n",
    "arr=np.logspace(1,3,num=5,endpoint=True,base=10)\n",
    "print(arr)\n"
   ]
  },
  {
   "cell_type": "code",
   "execution_count": 53,
   "id": "c7d8f279-5a83-4c62-acbf-0a5dcc3b71ea",
   "metadata": {},
   "outputs": [
    {
     "name": "stdout",
     "output_type": "stream",
     "text": [
      "[ 100.          177.827941    316.22776602  562.34132519 1000.        ]\n"
     ]
    }
   ],
   "source": [
    "import numpy as np\n",
    "arr=np.logspace(2,3,num=5,endpoint=True,base=10)\n",
    "print(arr)"
   ]
  },
  {
   "cell_type": "code",
   "execution_count": 63,
   "id": "62084ef6-1a17-44cf-a6ef-43d3c1a9277e",
   "metadata": {},
   "outputs": [
    {
     "name": "stdout",
     "output_type": "stream",
     "text": [
      "[  10.           39.81071706  158.48931925  630.95734448 2511.88643151]\n"
     ]
    }
   ],
   "source": [
    "import numpy as np\n",
    "arr=np.logspace(1,4,num=5,endpoint=False,base=10)\n",
    "print(arr)"
   ]
  },
  {
   "cell_type": "markdown",
   "id": "b009848a-da18-420e-8571-89354401d2a3",
   "metadata": {},
   "source": [
    "# NUMPY ARRAY PROPERTIES"
   ]
  },
  {
   "cell_type": "code",
   "execution_count": null,
   "id": "ceb859b7-988a-4165-8291-d27dbaa3aaee",
   "metadata": {},
   "outputs": [],
   "source": [
    "#Important Properties of a NumPy Array (ndarray)\n",
    "\n",
    "\n",
    "# | **Property**       | **Description**                                                | **Example**                    |\n",
    "# | ------------------ | -------------------------------------------------------------- | ------------------------------ |\n",
    "# | `ndarray.ndim`     | Number of dimensions (axes) of the array                       | `arr.ndim` → `1`, `2`, `3`...  |\n",
    "# | `ndarray.shape`    | Tuple showing the size in each dimension (rows, columns, etc.) | `arr.shape` → `(3, 4)`         |\n",
    "# | `ndarray.size`     | Total number of elements in the array                          | `arr.size` → `12`              |\n",
    "# | `ndarray.dtype`    | Data type of the array elements                                | `arr.dtype` → `int64`, `float` |\n",
    "# | `ndarray.itemsize` | Size (in bytes) of each element in the array                   | `arr.itemsize` → `8`           |\n",
    "# | `ndarray.nbytes`   | Total memory consumed by the array (size × itemsize)           | `arr.nbytes` → `96`            |\n",
    "# | `ndarray.T`        | Transpose of the array (rows ↔ columns for 2D)                 | `arr.T`                        |\n",
    "# | `ndarray.data`     | Memory location where the array is stored (rarely used)        | `arr.data`                     |\n"
   ]
  },
  {
   "cell_type": "code",
   "execution_count": 71,
   "id": "7303d552-6a2c-48c2-adb7-997a8f05552d",
   "metadata": {},
   "outputs": [
    {
     "name": "stdout",
     "output_type": "stream",
     "text": [
      "[[1 2 3]\n",
      " [4 5 6]]\n",
      "shape is:\n",
      "(2, 3)\n"
     ]
    }
   ],
   "source": [
    "#1.shape:In NumPy, .shape is an attribute that tells you the dimensions (shape) of an array.\n",
    "#It returns a tuple of integers which shows the number of elements along each dimension (axis) of the array.\n",
    "import numpy as np\n",
    "arr_2d=np.array([[1,2,3],\n",
    "                [4,5,6]])\n",
    "print(arr_2d)\n",
    "print(\"shape is:\")\n",
    "print(arr_2d.shape)"
   ]
  },
  {
   "cell_type": "code",
   "execution_count": 75,
   "id": "11fcfcbf-f2da-47b2-aeca-3fb1e3ac4db4",
   "metadata": {},
   "outputs": [
    {
     "name": "stdout",
     "output_type": "stream",
     "text": [
      "(4,)\n"
     ]
    }
   ],
   "source": [
    "#Examples:\n",
    "#1. 1D Array\n",
    "import numpy as np\n",
    "a = np.array([1, 2, 3, 4])\n",
    "print(a.shape)\n",
    "#➡️ Means: 1 row, 4 columns — a 1D array with 4 elements."
   ]
  },
  {
   "cell_type": "code",
   "execution_count": 77,
   "id": "5a682eef-efcb-463a-ac92-c47b66dc5885",
   "metadata": {},
   "outputs": [
    {
     "name": "stdout",
     "output_type": "stream",
     "text": [
      "(2, 3)\n"
     ]
    }
   ],
   "source": [
    "#2d array\n",
    "b = np.array([[1, 2, 3], [4, 5, 6]])\n",
    "print(b.shape)\n",
    "#Means: 2 rows, 3 columns."
   ]
  },
  {
   "cell_type": "code",
   "execution_count": 87,
   "id": "3ed163db-03a1-4d0b-a19f-732ba7e66de7",
   "metadata": {},
   "outputs": [
    {
     "name": "stdout",
     "output_type": "stream",
     "text": [
      "(2, 2, 2)\n"
     ]
    }
   ],
   "source": [
    "#3d array\n",
    "c = np.array([[[1,2],[3,4]], [[5,6],[7,8]]])\n",
    "print(c.shape)\n",
    "#Means: 2 blocks, each with 2 rows and 2 columns."
   ]
  },
  {
   "cell_type": "code",
   "execution_count": 89,
   "id": "b4bc2c4d-7a4e-4c3e-a35e-281e77e3ae17",
   "metadata": {},
   "outputs": [],
   "source": [
    "#NOTE\n",
    "# arr.shape()  # ❌ This will give an error\n",
    "# arr.shape    # ✅ No parentheses\n",
    "\n",
    "# If you want a valid 3D array, all inner arrays must have the same size:\n",
    "# c = np.array([[[1,2,3],[4,5,6]], [[7,8,9],[10,11,12]]])\n",
    "\n"
   ]
  },
  {
   "cell_type": "code",
   "execution_count": 105,
   "id": "4ced6ed7-491f-44bc-a20c-4dd4bc80f102",
   "metadata": {},
   "outputs": [
    {
     "name": "stdout",
     "output_type": "stream",
     "text": [
      "4\n"
     ]
    }
   ],
   "source": [
    "# ndarray.size\n",
    "# it is an attribute that shows the total number of elements in the array\n",
    "\n",
    "#1d array\n",
    "import numpy as np\n",
    "a = np.array([1, 2, 3, 4])\n",
    "print(a.size)"
   ]
  },
  {
   "cell_type": "code",
   "execution_count": 101,
   "id": "a63f5462-9fe0-45dc-ab70-8beea13f4afa",
   "metadata": {},
   "outputs": [
    {
     "name": "stdout",
     "output_type": "stream",
     "text": [
      "6\n"
     ]
    }
   ],
   "source": [
    "#2d array\n",
    "b = np.array([[1, 2, 3], [4, 5, 6]])\n",
    "print(b.size)"
   ]
  },
  {
   "cell_type": "code",
   "execution_count": 103,
   "id": "05236e7b-a477-43ea-b592-cc6fa7ba0d0f",
   "metadata": {},
   "outputs": [
    {
     "name": "stdout",
     "output_type": "stream",
     "text": [
      "8\n"
     ]
    }
   ],
   "source": [
    "#3d array\n",
    "c = np.array([[[1,2],[3,4]], [[5,6],[7,8]]])\n",
    "print(c.size)"
   ]
  },
  {
   "cell_type": "code",
   "execution_count": 113,
   "id": "d9650ff5-2d6d-46b1-bf5a-153dc1440156",
   "metadata": {},
   "outputs": [
    {
     "name": "stdout",
     "output_type": "stream",
     "text": [
      "1\n",
      "2\n",
      "3\n"
     ]
    }
   ],
   "source": [
    "#.ndim\n",
    "#.ndim is an attribute of a NumPy array that tells us the number of dimensions (also called axes).\n",
    "\n",
    "#1d array\n",
    "import numpy as np\n",
    "a = np.array([1, 2, 3, 4])\n",
    "print(a.ndim)\n",
    "\n",
    "\n",
    "#2d array\n",
    "b = np.array([[1, 2, 3], [4, 5, 6]])\n",
    "print(b.ndim)\n",
    "\n",
    "\n",
    "#3d array\n",
    "c = np.array([[[1,2],[3,4]], [[5,6],[7,8]]])\n",
    "print(c.ndim)"
   ]
  },
  {
   "cell_type": "code",
   "execution_count": 129,
   "id": "5d1e15fa-c66c-4239-938b-a82708133d3e",
   "metadata": {},
   "outputs": [
    {
     "name": "stdout",
     "output_type": "stream",
     "text": [
      "int32\n"
     ]
    }
   ],
   "source": [
    "#.dtype\n",
    "#.dtype is an attribute that tells you the data type of elements stored in a NumPy array.\n",
    "#Example 1: Integer Array\n",
    "import numpy as np\n",
    "arr = np.array([1, 2, 3])\n",
    "print(arr.dtype)\n"
   ]
  },
  {
   "cell_type": "code",
   "execution_count": 131,
   "id": "a7889722-0eb1-4a19-9923-b27377d37d94",
   "metadata": {},
   "outputs": [
    {
     "name": "stdout",
     "output_type": "stream",
     "text": [
      "float64\n"
     ]
    }
   ],
   "source": [
    "import numpy as np\n",
    "arr1 = np.array([1.1, 2, 3])\n",
    "print(arr1.dtype)\n",
    "#IF THERE ARE BOTH INT AND FLOATS, IT WILL SHOW THE RESULT AS FLOAT"
   ]
  },
  {
   "cell_type": "code",
   "execution_count": 117,
   "id": "c4df6987-c928-4060-b8bd-811f4d52bcbf",
   "metadata": {},
   "outputs": [
    {
     "name": "stdout",
     "output_type": "stream",
     "text": [
      "float64\n"
     ]
    }
   ],
   "source": [
    "#Example 2: Float Array\n",
    "arr = np.array([1.2, 3.5, 4.8])\n",
    "print(arr.dtype)\n"
   ]
  },
  {
   "cell_type": "code",
   "execution_count": 123,
   "id": "50072ff5-8cc8-47a2-a34c-99376d7b5a99",
   "metadata": {},
   "outputs": [
    {
     "name": "stdout",
     "output_type": "stream",
     "text": [
      "<U6\n"
     ]
    }
   ],
   "source": [
    "#Example 3: String Array\n",
    "arr = np.array([\"apple\", \"banana\"])\n",
    "print(arr.dtype)\n",
    "#<U6 : Unicode string of length 6\n",
    "#NOTE: \"banana\" is longer, NumPy chooses the longest string's length to decide the array's dtype"
   ]
  },
  {
   "cell_type": "code",
   "execution_count": 133,
   "id": "9c396c5a-e535-42c8-a0ec-7de33a7f2de3",
   "metadata": {},
   "outputs": [
    {
     "name": "stdout",
     "output_type": "stream",
     "text": [
      "[1. 2. 3.]\n",
      "float64\n"
     ]
    }
   ],
   "source": [
    "# astype(): its a method in numpy which converts the array to a different data type\n",
    "\n",
    "# A method is a function that is attached to an object, like a NumPy array.\n",
    "# So astype() is a method of the ndarray object (NumPy array).\n",
    "\n",
    "\n",
    "#Example 1: Convert int to float\n",
    "import numpy as np\n",
    "arr = np.array([1, 2, 3])\n",
    "new_arr = arr.astype(float)\n",
    "\n",
    "print(new_arr)       # [1. 2. 3.]\n",
    "print(new_arr.dtype) # float64\n"
   ]
  },
  {
   "cell_type": "code",
   "execution_count": 137,
   "id": "ba192981-883c-4a9e-a0e5-8f3a9fa16aca",
   "metadata": {},
   "outputs": [
    {
     "name": "stdout",
     "output_type": "stream",
     "text": [
      "[1 2 3 4 5]\n"
     ]
    }
   ],
   "source": [
    "#Example 2: Convert float to int\n",
    "import numpy as np\n",
    "con=np.array([1.2,2.3,3.4,4.4,5.6])\n",
    "newcon=con.astype(int)\n",
    "print(newcon)"
   ]
  },
  {
   "cell_type": "code",
   "execution_count": 141,
   "id": "8271326d-58ca-4eb0-b530-4fc4a9493bda",
   "metadata": {},
   "outputs": [
    {
     "name": "stdout",
     "output_type": "stream",
     "text": [
      "['1' '2' '3']\n",
      "<U11\n"
     ]
    }
   ],
   "source": [
    "#Example 3: Convert int to string\n",
    "arr3 = np.array([1, 2, 3])\n",
    "new_arr = arr3.astype(str)\n",
    "\n",
    "print(new_arr)       # [1 2 3]\n",
    "print(new_arr.dtype) # int32 or int64\n"
   ]
  },
  {
   "cell_type": "code",
   "execution_count": 145,
   "id": "316f0368-2b39-412f-9e6b-75698cf937b8",
   "metadata": {},
   "outputs": [
    {
     "name": "stdout",
     "output_type": "stream",
     "text": [
      "[1 2 3]\n",
      "int32\n"
     ]
    }
   ],
   "source": [
    "#Example 3: Convert string to int\n",
    "arr4 = np.array([\"1\", \"2\", \"3\"])\n",
    "new_arr = arr4.astype(int)\n",
    "\n",
    "print(new_arr)       # [1 2 3]\n",
    "print(new_arr.dtype) # int32 or int64\n"
   ]
  },
  {
   "cell_type": "code",
   "execution_count": 149,
   "id": "44b88681-4afa-41ca-9110-02edc8849a88",
   "metadata": {},
   "outputs": [
    {
     "name": "stdout",
     "output_type": "stream",
     "text": [
      "['1.2' '2.3' '3.4']\n",
      "<U32\n"
     ]
    }
   ],
   "source": [
    "#Example 5: Convert float to string\n",
    "arr5 = np.array([1.2, 2.3, 3.4])\n",
    "new_arr = arr5.astype(str)\n",
    "\n",
    "print(new_arr)       # [1 2 3]\n",
    "print(new_arr.dtype) # int32 or int64"
   ]
  },
  {
   "cell_type": "code",
   "execution_count": 155,
   "id": "41ba952f-e588-421e-b950-e3250b39b0ce",
   "metadata": {},
   "outputs": [
    {
     "name": "stdout",
     "output_type": "stream",
     "text": [
      "[[ 1  2  3  4]\n",
      " [10 20 30 40]\n",
      " [90 80 70 60]]\n",
      "[[ 1 10 90]\n",
      " [ 2 20 80]\n",
      " [ 3 30 70]\n",
      " [ 4 40 60]]\n"
     ]
    }
   ],
   "source": [
    "#.T : array.T is an attribute that returns the transpose of a NumPy array.\n",
    "# 🔸 What is transpose?\n",
    "# Transpose means flipping the array over its diagonal, so that:\n",
    "# Rows become columns\n",
    "# Columns become rows\n",
    "import numpy as np\n",
    "transpose=np.array([[1,2,3,4],\n",
    "                   [10,20,30,40],\n",
    "                   [90,80,70,60]])\n",
    "print(transpose)\n",
    "print(transpose.T)"
   ]
  },
  {
   "cell_type": "markdown",
   "id": "7f7ee25f-e58d-4064-a251-3689da480b0d",
   "metadata": {},
   "source": [
    "# NumPy Array Operations"
   ]
  },
  {
   "cell_type": "code",
   "execution_count": 160,
   "id": "1214219c-7d57-46e5-ada3-144caa9e499e",
   "metadata": {},
   "outputs": [
    {
     "name": "stdout",
     "output_type": "stream",
     "text": [
      "[[ 1  2  3  4]\n",
      " [10 20 30 40]\n",
      " [90 80 70 60]]\n",
      "[[ 6  7  8  9]\n",
      " [15 25 35 45]\n",
      " [95 85 75 65]]\n"
     ]
    }
   ],
   "source": [
    "# 1. Arithmetic Operations\n",
    "# | Operation          | Syntax     | Example    | Output                                                  |\n",
    "# | ------------------ | ---------- | ---------- | ------------------------------------------------------- |\n",
    "# | Addition           | `arr + x`  | `arr + 5`  | Adds 5 to each element                                  |\n",
    "# | Subtraction        | `arr - x`  | `arr - 2`  | Subtracts 2 from each element                           |\n",
    "# | Multiplication     | `arr * x`  | `arr * 3`  | Multiplies each element by 3                            |\n",
    "# | Division           | `arr / x`  | `arr / 2`  | Divides each element by 2 (float)                       |\n",
    "# | **Floor Division** | `arr // x` | `arr // 2` | Divides and returns **whole number** (removes decimals) |\n",
    "# | Power              | `arr ** x` | `arr ** 2` | Squares each element                                    |\n",
    "#addition\n",
    "import numpy as np\n",
    "operadd=np.array([[1,2,3,4],\n",
    "                   [10,20,30,40],\n",
    "                   [90,80,70,60]])\n",
    "print(operadd)\n",
    "print(operadd+5)"
   ]
  },
  {
   "cell_type": "code",
   "execution_count": 162,
   "id": "e0ac1023-d681-4552-ae90-f276429fd6e2",
   "metadata": {},
   "outputs": [
    {
     "name": "stdout",
     "output_type": "stream",
     "text": [
      "[[ 1  2  3  4]\n",
      " [10 20 30 40]\n",
      " [90 80 70 60]]\n",
      "[[-4 -3 -2 -1]\n",
      " [ 5 15 25 35]\n",
      " [85 75 65 55]]\n"
     ]
    }
   ],
   "source": [
    "#subtraction\n",
    "import numpy as np\n",
    "opersub=np.array([[1,2,3,4],\n",
    "                   [10,20,30,40],\n",
    "                   [90,80,70,60]])\n",
    "print(opersub)\n",
    "print(opersub-5)"
   ]
  },
  {
   "cell_type": "code",
   "execution_count": 168,
   "id": "a23e94be-fc1b-46cf-b385-20a2c651300e",
   "metadata": {},
   "outputs": [
    {
     "name": "stdout",
     "output_type": "stream",
     "text": [
      "[[ 1  2  3  4]\n",
      " [10 20 30 40]\n",
      " [90 80 70 60]]\n",
      "[[  5  10  15  20]\n",
      " [ 50 100 150 200]\n",
      " [450 400 350 300]]\n"
     ]
    }
   ],
   "source": [
    "#multiplication\n",
    "import numpy as np\n",
    "opermul=np.array([[1,2,3,4],\n",
    "                   [10,20,30,40],\n",
    "                   [90,80,70,60]])\n",
    "print(opermul)\n",
    "print(opermul*5)"
   ]
  },
  {
   "cell_type": "code",
   "execution_count": 178,
   "id": "06be4a60-51a8-4935-9199-8f4c6f4be2b8",
   "metadata": {},
   "outputs": [
    {
     "name": "stdout",
     "output_type": "stream",
     "text": [
      "[[ 1  2  3  4]\n",
      " [10 20 30 40]\n",
      " [90 80 70 60]]\n",
      "[[ 6  7  8  9]\n",
      " [15 25 35 45]\n",
      " [95 85 75 65]]\n",
      "[[   1    4    9   16]\n",
      " [ 100  400  900 1600]\n",
      " [8100 6400 4900 3600]]\n",
      "[[  3   6   9  12]\n",
      " [ 30  60  90 120]\n",
      " [270 240 210 180]]\n",
      "[[ 0  0  0  0]\n",
      " [ 2  4  6  8]\n",
      " [18 16 14 12]]\n"
     ]
    }
   ],
   "source": [
    "import numpy as np\n",
    "arrayop=np.array([[1,2,3,4],\n",
    "                   [10,20,30,40],\n",
    "                   [90,80,70,60]])\n",
    "print(arrayop)\n",
    "print(arrayop+5)\n",
    "print(arrayop**2)\n",
    "print(arrayop*3)\n",
    "print(arrayop//5)"
   ]
  },
  {
   "cell_type": "code",
   "execution_count": 190,
   "id": "e8ffc0bd-82a1-4d28-9603-50b5ea76e531",
   "metadata": {},
   "outputs": [
    {
     "name": "stdout",
     "output_type": "stream",
     "text": [
      "[[ 1  2  3  4]\n",
      " [10 20 30 40]\n",
      " [90 80 70 60]]\n",
      "[[False False False False]\n",
      " [False  True  True  True]\n",
      " [ True  True  True  True]]\n",
      "[[ True  True  True  True]\n",
      " [False False False False]\n",
      " [False False False False]]\n",
      "[[False False False False]\n",
      " [False False  True  True]\n",
      " [ True  True  True  True]]\n"
     ]
    }
   ],
   "source": [
    " #2. Comparison Operations\n",
    "# It compares each element of an array with a value or another array.\n",
    "# The result is a Boolean array: True or False for each comparison.\n",
    "# | Operation             | Syntax     | Example    | Output                |\n",
    "# | --------------------- | ---------- | ---------- | --------------------- |\n",
    "# | Greater than          | `arr > x`  | `arr > 2`  | `[False False  True]` |\n",
    "# | Less than             | `arr < x`  | `arr < 3`  | `[ True  True False]` |\n",
    "# | Equal to              | `arr == x` | `arr == 2` | `[False  True False]` |\n",
    "# | Not equal to          | `arr != x` | `arr != 2` | `[ True False  True]` |\n",
    "# | Greater than or equal | `arr >= x` | `arr >= 2` | `[False  True  True]` |\n",
    "# | Less than or equal    | `arr <= x` | `arr <= 2` | `[ True  True False]` |\n",
    "#example\n",
    "import numpy as np\n",
    "comparray=np.array([[1,2,3,4],\n",
    "                   [10,20,30,40],\n",
    "                   [90,80,70,60]])\n",
    "print(comparray)\n",
    "print(comparray>10)\n",
    "print(comparray<10)\n",
    "print(comparray>=30)"
   ]
  },
  {
   "cell_type": "code",
   "execution_count": 204,
   "id": "f0141935-7614-454f-9129-1c78065e0a22",
   "metadata": {},
   "outputs": [
    {
     "name": "stdout",
     "output_type": "stream",
     "text": [
      "[[ 1  2  3  4]\n",
      " [10 20 30 40]\n",
      " [90 80 70 60]]\n",
      "410\n",
      "90\n",
      "1\n",
      "34.166666666666664\n",
      "31.651312066888405\n"
     ]
    }
   ],
   "source": [
    "# 3. Aggregate Functions\n",
    "# An aggregate function in NumPy is a function that takes many values in an array and gives one single result (like total, average, max, etc.).\n",
    "# | Function     | Purpose             | Example              |\n",
    "# | ------------ | ------------------- | -------------------- |\n",
    "# | `arr.sum()`  | Sum of all elements | `arr.sum()` → `6`    |\n",
    "# | `arr.mean()` | Average of elements | `arr.mean()` → `2.0` |\n",
    "# | `arr.min()`  | Minimum value       | `arr.min()` → `1`    |\n",
    "# | `arr.max()`  | Maximum value       | `arr.max()` → `3`    |\n",
    "# | `arr.std()`  | Standard deviation  | `arr.std()` → `0.82` |\n",
    "# |  arr.var()   |variation  | syntax:np.var(arr) or arr.var()|\n",
    "\n",
    "\n",
    "\n",
    "\n",
    "import numpy as np\n",
    "aggrarray=np.array([[1,2,3,4],\n",
    "                   [10,20,30,40],\n",
    "                   [90,80,70,60]])\n",
    "print(aggrarray)\n",
    "print(aggrarray.sum())\n",
    "print(aggrarray.max())\n",
    "print(aggrarray.min())\n",
    "print(aggrarray.mean())\n",
    "print(aggrarray.std())\n",
    "\n",
    "\n",
    "#Standard deviation:\n",
    "#it tells us how spread out the numbers are from the mean (average).\n",
    "# If numbers are close to the mean, the standard deviation is small ✅\n",
    "#If numbers are spread out far from the mean, the standard deviation is large ❌\n",
    "\n",
    "\n",
    "\n",
    "#Variance:Variance measures how far each number in a dataset is from the mean\n",
    "# If all numbers are close to the mean, variance is low\n",
    "# If numbers are very different from the mean, variance is high\n",
    "\n",
    "# for the array: [2, 4, 6, 8]\n",
    "# Mean = 5\n",
    "# Differences from mean = [-3, -1, 1, 3]\n",
    "# Squared differences = [9, 1, 1, 9]\n",
    "# Variance = Average of these \n",
    "#just read : and it squares those differences to avoid negative values.\n",
    "\n",
    "\n",
    "\n",
    "# Relationship:\n",
    "# Standard Deviation=square root of variance or\n",
    "# variance=square of std\n",
    "\n",
    "# | Term                   | Meaning                                                              |\n",
    "# | ---------------------- | -------------------------------------------------------------------- |\n",
    "# | **Variance**           | Measures spread using **squared differences** from mean              |\n",
    "# | **Standard Deviation** | Measures spread using **original differences** from mean (no square) |\n"
   ]
  },
  {
   "cell_type": "code",
   "execution_count": null,
   "id": "a275d271-a7c2-4f6c-a853-c55d3eac2151",
   "metadata": {},
   "outputs": [],
   "source": [
    " 4. Array-wise Operations\n",
    "# | Operation          | NumPy Function          | Example                           | Output     |\n",
    "# | ------------------ | ----------------------- | --------------------------------- | ---------- |\n",
    "# | Addition           | `np.add(a, b)`          | `np.add([1, 2], [3, 4])`          | `[4, 6]`   |\n",
    "# | Subtraction        | `np.subtract(a, b)`     | `np.subtract([3, 5], [1, 2])`     | `[2, 3]`   |\n",
    "# | Multiplication     | `np.multiply(a, b)`     | `np.multiply([1, 2], [3, 4])`     | `[3, 8]`   |\n",
    "# | Division           | `np.divide(a, b)`       | `np.divide([6, 8], [2, 4])`       | `[3., 2.]` |\n",
    "# | **Floor Division** | `np.floor_divide(a, b)` | `np.floor_divide([7, 9], [2, 4])` | `[3, 2]`   |\n",
    "# | **Power**          | `np.power(a, b)`        | `np.power([2, 3], 2)`             | `[4, 9]`   |\n",
    "# | Dot Product        | `np.dot(a, b)`          | `np.dot([[1, 2]], [[3], [4]])`    | `[[11]]`   |\n"
   ]
  },
  {
   "cell_type": "code",
   "execution_count": null,
   "id": "6b45676c-73ed-4c0e-9242-9ba8739c8d29",
   "metadata": {},
   "outputs": [],
   "source": [
    "# 5. Reshaping and Flattening\n",
    "# | Function        | Purpose                            | Example             |\n",
    "# | --------------- | ---------------------------------- | ------------------- |\n",
    "# | `arr.reshape()` | Change shape without changing data | `arr.reshape(3, 2)` |\n",
    "# | `arr.flatten()` | Convert multi-dimensional to 1D    | `arr.flatten()`     |\n"
   ]
  }
 ],
 "metadata": {
  "kernelspec": {
   "display_name": "Python 3 (ipykernel)",
   "language": "python",
   "name": "python3"
  },
  "language_info": {
   "codemirror_mode": {
    "name": "ipython",
    "version": 3
   },
   "file_extension": ".py",
   "mimetype": "text/x-python",
   "name": "python",
   "nbconvert_exporter": "python",
   "pygments_lexer": "ipython3",
   "version": "3.12.4"
  }
 },
 "nbformat": 4,
 "nbformat_minor": 5
}
