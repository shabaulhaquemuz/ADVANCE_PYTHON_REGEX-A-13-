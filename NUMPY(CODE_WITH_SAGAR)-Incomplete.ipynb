{
 "cells": [
  {
   "cell_type": "code",
   "execution_count": 9,
   "id": "9dffd7b1-47a7-4827-9a5f-7afee83fb582",
   "metadata": {},
   "outputs": [],
   "source": [
    "# NumPy was developed by Travis Oliphant in 2005.\n",
    "#numpy is a library of python through  which we can handle large amount of data using arrays instead of list.\n",
    "#it is used to perform arithmetic calculation on numeric data.\n",
    "\n",
    "\n",
    "#C is the fastest programming language because it is closest to hardware, it is used for OS,\n",
    "#embedded system(An embedded system is a small computer built into a device to perform a specific task.).\n",
    "# Washing Machine\tControls washing cycles\n",
    "# Microwave Oven\tManages heating and timing\n",
    "\n",
    "# Universal Function (ufunc) in NumPy =\n",
    "# A built-in, fast, vectorized function that performs element-wise operations on arrays.\n",
    "# It’s written in C for speed, but you call it like normal Python functions.\n",
    "#Universal function: functions that can be applied over each elements\n",
    "\n",
    "# | Category            | Function Examples                       |\n",
    "# | ------------------- | --------------------------------------- |\n",
    "# | **Arithmetic**      | `add`, `subtract`, `multiply`, `divide` |\n",
    "# | **Trigonometric**   | `sin`, `cos`, `tan`                     |\n",
    "# | **Exponential/Log** | `exp`, `log`, `log10`                   |\n",
    "# | **Comparison**      | `greater`, `less`, `equal`              |\n",
    "# | **Statistical**     | `minimum`, `maximum`, `mean`, `std`     |\n",
    "\n",
    "\n",
    "\n",
    "# Why do people still use Python if it's slower?\n",
    "# Python is easy to write and learn.\n",
    "\n",
    "# Python is good for prototyping.\n",
    "\n",
    "# Many libraries like NumPy, TensorFlow, PyTorch use C/C++ internally for speed but give Python interface for simplicity.\n",
    "\n",
    "# NumPy and C: How are they related?\n",
    "# NumPy is a Python library, but internally, it uses C language for the heavy work (like calculations).\n",
    "\n",
    "# That’s why NumPy is very fast compared to normal Python loops.\n",
    "\n",
    "\n",
    "#Numpy stands for numerical python\n",
    "\n",
    "# NumPy Overview\n",
    "# NumPy uses arrays to perform operations and store data efficiently.\n",
    "\n",
    "# Why Arrays?\n",
    "# Arrays store data in continuous memory locations.\n",
    "# This makes data access faster compared to Python lists.\n",
    "\n",
    "# Key Advantages of NumPy Arrays(its the difference also between lists and arrays):\n",
    "# Speed: Much faster than lists for numerical tasks.\n",
    "# Efficiency: Consumes less memory due to continuous memory allocation.\n",
    "# Convenient Operations: Supports mathematical operations like addition, multiplication, and trigonometric functions directly on arrays.\n",
    "\n",
    "# Definition:\n",
    "# Broadcasting in NumPy is the ability to perform element-wise operations on arrays of different shapes — by automatically expanding \n",
    "#the smaller array to match the shape of the larger one.\n",
    "# 🎯 In Simple Words:# You can add, subtract, multiply, etc., arrays of different shapes, and NumPy will stretch the smaller array without copying data."
   ]
  },
  {
   "cell_type": "code",
   "execution_count": 7,
   "id": "caa13b28-4692-4c23-b684-ff64ef6b014c",
   "metadata": {},
   "outputs": [
    {
     "name": "stdout",
     "output_type": "stream",
     "text": [
      "33.82\n"
     ]
    }
   ],
   "source": [
    "import numpy as np\n",
    "temperatures=np.array([32.5,31.8,33.0,35.2,36.6])\n",
    "average=np.mean(temperatures)\n",
    "print(average)"
   ]
  },
  {
   "cell_type": "code",
   "execution_count": 11,
   "id": "3f057580-f0e3-45e4-a3c2-71b0a60af3eb",
   "metadata": {},
   "outputs": [],
   "source": [
    "# features of numpy: \n",
    "# 1. consumes less memory\n",
    "# 2. easy math operation\n",
    "# 3. used in almost all data fields AI,DS,Data Analysis\n"
   ]
  },
  {
   "cell_type": "code",
   "execution_count": 13,
   "id": "f019742d-864f-4989-864d-028702d32ae4",
   "metadata": {},
   "outputs": [],
   "source": [
    "# Use of Numpy:\n",
    "# 1.Data Science\n",
    "# 2.Machine Learning and AI(used in tensorflow and pytorch)\n",
    "# 3.Stock market and finance\n",
    "# 4.Image processing(photoshop tools)\n",
    "# 5. Scientific Computing\n",
    "# Solving mathematical problems: linear algebra, calculus,\n",
    "# 6. Deep Learning\n",
    "# Creating input data structures (e.g., image tensors)\n",
    "# Normalization and augmentation of data\n",
    "# 7. Mathematical Computations\n",
    "# Matrix multiplication, inversion, dot products\n",
    "# Statistical functions (mean, median, std)\n",
    "# 8. Computer Graphics & Simulations\n",
    "# Modeling transformations in 2D/3D space\n",
    "# Creating simulations using multi-dimensional arrays"
   ]
  },
  {
   "cell_type": "code",
   "execution_count": 1,
   "id": "48148169-9018-45a5-890c-68f3ff64c22f",
   "metadata": {},
   "outputs": [],
   "source": [
    "#  difference between Python Lists and NumPy Arrays\n",
    "#A NumPy ndarray (n-dimensional array) is the primary data structure of the NumPy library, used to store elements of the same data type in effiecient way\n",
    "#in a multidimensional format. It is faster than actual list,uses less memory and perform mathematical operations directly without using any loop.\n",
    "\n",
    "\n",
    "# | Feature                      | **Python List**                                                       | **NumPy Array**                                                      |\n",
    "# | ---------------------------- | --------------------------------------------------------------------- | -------------------------------------------------------------------- |\n",
    "# |Actual existence?             | Built-in data structure                                               |  Provided by NumPy library\n",
    "# | **Data Type**                | **Heterogeneous** – can store different types (int, float, str, etc.) | **Homogeneous** – all elements must be of the same type              |\n",
    "# | **Speed**                    | Slower – not optimized for numerical computation                      | Faster – optimized using C backend and vectorized operations         |\n",
    "# | **Memory Efficiency**        | Consumes more memory due to dynamic typing                            | Consumes less memory – fixed data types and continuous memory        |\n",
    "# | **Mathematical Operations**  | Not supported directly (e.g., `a + b` concatenates lists)             | Element-wise operations (e.g., `a + b` adds elements)                |\n",
    "# | **Functionality**            | Basic: append, pop, slice, etc.                                       | Rich:broadcasting, statistical operations, reshaping       |\n",
    "# | **Indexing**                 | Basic (single level)                                                  | Advanced (multi-dimensional)                |\n",
    "\n",
    "#In NumPy, multidimensional indexing lets you access elements in arrays with 2 or more dimensions using row and column indices, or even more."
   ]
  },
  {
   "cell_type": "code",
   "execution_count": 7,
   "id": "6c5fdfed-5d3d-4cb3-bb53-39c4f8a9c37c",
   "metadata": {},
   "outputs": [
    {
     "name": "stdout",
     "output_type": "stream",
     "text": [
      "[1, 2, 3, 4, 5]\n",
      "[1 2 3 4 5]\n"
     ]
    }
   ],
   "source": [
    "python_list=[1,2,3,4,5]\n",
    "print(python_list)\n",
    "\n",
    "import numpy as np\n",
    "numpy_array=np.array([1,2,3,4,5])\n",
    "print(numpy_array)\n",
    "\n",
    "\n",
    "# Printing a Python list shows elements separated by commas,\n",
    "# while printing a NumPy array shows elements separated by spaces (no commas)."
   ]
  },
  {
   "cell_type": "code",
   "execution_count": 1,
   "id": "b62b3500-3dd1-4026-8dc5-26556e6ff235",
   "metadata": {},
   "outputs": [],
   "source": [
    "# An array is a data structure that stores elements of the same data type in a fixed-size, indexed, and ordered format.\n",
    "# A fixed-size array means that once an array is created, its size (number of elements) cannot be changed directly.\n",
    "\n",
    "# In Python, arrays are commonly created using the NumPy library, where they are called ndarray and support multi-dimensional storage \n",
    "# and fast numerical computations."
   ]
  },
  {
   "cell_type": "code",
   "execution_count": 3,
   "id": "7be0665d-19bf-4f47-a4d6-0aa733736b9b",
   "metadata": {},
   "outputs": [],
   "source": [
    "# | Array Type   | Description                   | Example                                        |\n",
    "# | ------------ | ----------------------------- | ---------------------------------------------- |\n",
    "# | **1D Array** | Single row or column (vector) | `np.array([1, 2, 3])`                          |\n",
    "# | **2D Array** | Matrix (rows and columns)     | `np.array([[1, 2], [3, 4]])`                   |\n",
    "# | **3D Array** | Stack of matrices/2d-arrays   | `np.array([[[1], [2]], [[3], [4]]])`           |\n",
    "# | **nD Array** | n-dimensional (4D, 5D, etc.)  | Created using `np.array()` with higher nesting |\n"
   ]
  },
  {
   "cell_type": "code",
   "execution_count": 7,
   "id": "b91db481-05a0-4ce0-a5a7-0a90b33e483c",
   "metadata": {},
   "outputs": [
    {
     "data": {
      "text/plain": [
       "array([[[1],\n",
       "        [2]],\n",
       "\n",
       "       [[3],\n",
       "        [4]]])"
      ]
     },
     "execution_count": 7,
     "metadata": {},
     "output_type": "execute_result"
    }
   ],
   "source": [
    "import numpy as np\n",
    "\n",
    "np.array([[[1], [2]], [[3], [4]]])"
   ]
  },
  {
   "cell_type": "code",
   "execution_count": 9,
   "id": "36ce3e62-467c-4582-81c6-c2d1a087aa0e",
   "metadata": {},
   "outputs": [
    {
     "name": "stdout",
     "output_type": "stream",
     "text": [
      "[[1 2 3]\n",
      " [4 5 6]]\n"
     ]
    }
   ],
   "source": [
    "#matrix:\n",
    "# A matrix is essentially a fancy or specialized name for a 2D array — an array with rows and columns.\n",
    "# In NumPy, a 2D array created using np.array([[1, 2], [3, 4]]) can be considered a matrix, even though technically it's just a 2-dimensional ndarray.\n",
    "\n",
    "# creating a matrix:\n",
    "matrix=np.array([[1,2,3],[4,5,6]])\n",
    "print(matrix)"
   ]
  },
  {
   "cell_type": "code",
   "execution_count": null,
   "id": "1bc4a99f-8668-430c-bda4-1c57fee7f739",
   "metadata": {},
   "outputs": [],
   "source": [
    "#converting a list into numpy array(when we want to have a faster,better performance)\n",
    "#creating arrays from python lists\n",
    "#np.array([element1,element2,element3])\n",
    "import numpy as np\n",
    "arr=np.array([1,2,3,4])  #passed the list directly\n",
    "print(arr)\n",
    "#it has created 1-d array"
   ]
  },
  {
   "cell_type": "code",
   "execution_count": 17,
   "id": "0e8f7adc-52bc-44b1-8411-be0b9ea35bd3",
   "metadata": {},
   "outputs": [
    {
     "name": "stdout",
     "output_type": "stream",
     "text": [
      "[[1 2 3 4]]\n"
     ]
    }
   ],
   "source": [
    "mylist=[1,2,3,4]\n",
    "import numpy as np\n",
    "arr=np.array([mylist])  #passing the  name of the list\n",
    "print(arr)\n",
    "#it has created a 2-d array"
   ]
  },
  {
   "cell_type": "code",
   "execution_count": 19,
   "id": "3b2c89e1-3ab7-4052-96cd-f31314135ed9",
   "metadata": {},
   "outputs": [],
   "source": [
    "# NumPy Array Creation with Default Values:\n",
    "# | Function                | Description                                    | Example Code         | Output (Shape / Values)                |\n",
    "# | ----------------------- | ---------------------------------------------- | -------------------- | -------------------------------------- |\n",
    "# | `np.zeros(shape)`       | Creates array filled with **0**                | `np.zeros((2, 3))`   | `[[0. 0. 0.], [0. 0. 0.]]`             |\n",
    "# | `np.ones(shape)`        | Creates array filled with **1**                | `np.ones((3, 2))`    | `[[1. 1.], [1. 1.], [1. 1.]]`          |\n",
    "# | `np.empty(shape)`       | Creates array with **uninitialized values**    | `np.empty((2, 2))`   | May contain **random/garbage values**  |\n",
    "# | `np.full(shape, value)` | Creates array filled with a **specific value** | `np.full((2, 3), 7)` | `[[7 7 7], [7 7 7]]`                   |\n",
    "# | `np.eye(n)`             | Creates **identity matrix** (1s on diagonal)   | `np.eye(3)`          | `[[1. 0. 0.], [0. 1. 0.], [0. 0. 1.]]` |\n"
   ]
  },
  {
   "cell_type": "code",
   "execution_count": 23,
   "id": "48552bc8-bf53-41b4-af0e-7514bc5e5c8e",
   "metadata": {},
   "outputs": [
    {
     "name": "stdout",
     "output_type": "stream",
     "text": [
      "[[0. 0. 0. 0.]\n",
      " [0. 0. 0. 0.]\n",
      " [0. 0. 0. 0.]]\n"
     ]
    }
   ],
   "source": [
    "zerosarray=np.zeros((3,4))\n",
    "print(zerosarray)"
   ]
  },
  {
   "cell_type": "code",
   "execution_count": 27,
   "id": "a98eabd6-21ab-4ee1-a105-95b87c53982d",
   "metadata": {},
   "outputs": [
    {
     "name": "stdout",
     "output_type": "stream",
     "text": [
      "[[1. 1. 1. 1.]\n",
      " [1. 1. 1. 1.]\n",
      " [1. 1. 1. 1.]]\n"
     ]
    }
   ],
   "source": [
    "onesarray=np.ones((3,4))\n",
    "print(onesarray)"
   ]
  },
  {
   "cell_type": "code",
   "execution_count": 41,
   "id": "c95b3a08-0b85-44c3-a081-87231fa1c4e3",
   "metadata": {},
   "outputs": [
    {
     "name": "stdout",
     "output_type": "stream",
     "text": [
      "[[1. 1. 1. 1.]\n",
      " [1. 1. 1. 1.]\n",
      " [1. 1. 1. 1.]]\n",
      "[[1.46717037e-311 1.46717688e-311 1.46717688e-311 1.46717688e-311]\n",
      " [1.46717694e-311 1.46717694e-311 1.46717694e-311 1.46717694e-311]\n",
      " [1.46717694e-311 1.46717694e-311 1.46717691e-311 1.46717694e-311]\n",
      " [1.46717694e-311 1.46717694e-311 1.46717694e-311 1.46717694e-311]\n",
      " [1.46717694e-311 1.46717691e-311 1.46717694e-311 1.46717694e-311]]\n"
     ]
    }
   ],
   "source": [
    "emptyarray=np.empty((3,4))\n",
    "print(emptyarray)\n",
    "\n",
    "emptyarray2=np.empty((5,4))\n",
    "print(emptyarray2)"
   ]
  },
  {
   "cell_type": "code",
   "execution_count": 45,
   "id": "5c66fabf-ab33-4e79-9bf5-07da71cee55e",
   "metadata": {},
   "outputs": [
    {
     "name": "stdout",
     "output_type": "stream",
     "text": [
      "[[7 7 7 7]\n",
      " [7 7 7 7]\n",
      " [7 7 7 7]]\n"
     ]
    }
   ],
   "source": [
    "fullarray=np.full((3,4),7)\n",
    "print(fullarray)"
   ]
  },
  {
   "cell_type": "code",
   "execution_count": 55,
   "id": "b7601d56-d411-4f46-8a84-5fb0dd069e2d",
   "metadata": {},
   "outputs": [
    {
     "name": "stdout",
     "output_type": "stream",
     "text": [
      "[[1. 0. 0. 0.]\n",
      " [0. 1. 0. 0.]\n",
      " [0. 0. 1. 0.]\n",
      " [0. 0. 0. 1.]]\n",
      "[[1. 0. 0. 0. 0.]\n",
      " [0. 1. 0. 0. 0.]\n",
      " [0. 0. 1. 0. 0.]\n",
      " [0. 0. 0. 1. 0.]\n",
      " [0. 0. 0. 0. 1.]]\n"
     ]
    }
   ],
   "source": [
    "eyearray=np.eye((4))  #identity matrix with 4 ones\n",
    "print(eyearray)\n",
    "\n",
    "eyearray=np.eye((5))  #  #identity matrix with 5 ones\n",
    "print(eyearray)"
   ]
  },
  {
   "cell_type": "code",
   "execution_count": null,
   "id": "0cce01fc-ca6f-4309-99ca-76a8c9c310bf",
   "metadata": {},
   "outputs": [],
   "source": []
  }
 ],
 "metadata": {
  "kernelspec": {
   "display_name": "Python 3 (ipykernel)",
   "language": "python",
   "name": "python3"
  },
  "language_info": {
   "codemirror_mode": {
    "name": "ipython",
    "version": 3
   },
   "file_extension": ".py",
   "mimetype": "text/x-python",
   "name": "python",
   "nbconvert_exporter": "python",
   "pygments_lexer": "ipython3",
   "version": "3.12.4"
  }
 },
 "nbformat": 4,
 "nbformat_minor": 5
}
