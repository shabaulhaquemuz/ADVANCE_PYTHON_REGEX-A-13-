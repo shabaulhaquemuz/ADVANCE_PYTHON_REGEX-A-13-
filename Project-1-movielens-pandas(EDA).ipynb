{
 "cells": [
  {
   "cell_type": "code",
   "execution_count": 19,
   "id": "58ea6055-e7f1-456c-b80a-907745ae8a5d",
   "metadata": {},
   "outputs": [
    {
     "name": "stdout",
     "output_type": "stream",
     "text": [
      "        userId  movieId  rating   timestamp\n",
      "0            1        1     4.0   964982703\n",
      "1            1        3     4.0   964981247\n",
      "2            1        6     4.0   964982224\n",
      "3            1       47     5.0   964983815\n",
      "4            1       50     5.0   964982931\n",
      "...        ...      ...     ...         ...\n",
      "100831     610   166534     4.0  1493848402\n",
      "100832     610   168248     5.0  1493850091\n",
      "100833     610   168250     5.0  1494273047\n",
      "100834     610   168252     5.0  1493846352\n",
      "100835     610   170875     3.0  1493846415\n",
      "\n",
      "[100836 rows x 4 columns]\n"
     ]
    },
    {
     "data": {
      "text/html": [
       "<div>\n",
       "<style scoped>\n",
       "    .dataframe tbody tr th:only-of-type {\n",
       "        vertical-align: middle;\n",
       "    }\n",
       "\n",
       "    .dataframe tbody tr th {\n",
       "        vertical-align: top;\n",
       "    }\n",
       "\n",
       "    .dataframe thead th {\n",
       "        text-align: right;\n",
       "    }\n",
       "</style>\n",
       "<table border=\"1\" class=\"dataframe\">\n",
       "  <thead>\n",
       "    <tr style=\"text-align: right;\">\n",
       "      <th></th>\n",
       "      <th>userId</th>\n",
       "      <th>movieId</th>\n",
       "      <th>rating</th>\n",
       "      <th>timestamp</th>\n",
       "    </tr>\n",
       "  </thead>\n",
       "  <tbody>\n",
       "    <tr>\n",
       "      <th>0</th>\n",
       "      <td>False</td>\n",
       "      <td>False</td>\n",
       "      <td>False</td>\n",
       "      <td>False</td>\n",
       "    </tr>\n",
       "    <tr>\n",
       "      <th>1</th>\n",
       "      <td>False</td>\n",
       "      <td>False</td>\n",
       "      <td>False</td>\n",
       "      <td>False</td>\n",
       "    </tr>\n",
       "    <tr>\n",
       "      <th>2</th>\n",
       "      <td>False</td>\n",
       "      <td>False</td>\n",
       "      <td>False</td>\n",
       "      <td>False</td>\n",
       "    </tr>\n",
       "    <tr>\n",
       "      <th>3</th>\n",
       "      <td>False</td>\n",
       "      <td>False</td>\n",
       "      <td>False</td>\n",
       "      <td>False</td>\n",
       "    </tr>\n",
       "    <tr>\n",
       "      <th>4</th>\n",
       "      <td>False</td>\n",
       "      <td>False</td>\n",
       "      <td>False</td>\n",
       "      <td>False</td>\n",
       "    </tr>\n",
       "    <tr>\n",
       "      <th>...</th>\n",
       "      <td>...</td>\n",
       "      <td>...</td>\n",
       "      <td>...</td>\n",
       "      <td>...</td>\n",
       "    </tr>\n",
       "    <tr>\n",
       "      <th>100831</th>\n",
       "      <td>False</td>\n",
       "      <td>False</td>\n",
       "      <td>False</td>\n",
       "      <td>False</td>\n",
       "    </tr>\n",
       "    <tr>\n",
       "      <th>100832</th>\n",
       "      <td>False</td>\n",
       "      <td>False</td>\n",
       "      <td>False</td>\n",
       "      <td>False</td>\n",
       "    </tr>\n",
       "    <tr>\n",
       "      <th>100833</th>\n",
       "      <td>False</td>\n",
       "      <td>False</td>\n",
       "      <td>False</td>\n",
       "      <td>False</td>\n",
       "    </tr>\n",
       "    <tr>\n",
       "      <th>100834</th>\n",
       "      <td>False</td>\n",
       "      <td>False</td>\n",
       "      <td>False</td>\n",
       "      <td>False</td>\n",
       "    </tr>\n",
       "    <tr>\n",
       "      <th>100835</th>\n",
       "      <td>False</td>\n",
       "      <td>False</td>\n",
       "      <td>False</td>\n",
       "      <td>False</td>\n",
       "    </tr>\n",
       "  </tbody>\n",
       "</table>\n",
       "<p>100836 rows × 4 columns</p>\n",
       "</div>"
      ],
      "text/plain": [
       "        userId  movieId  rating  timestamp\n",
       "0        False    False   False      False\n",
       "1        False    False   False      False\n",
       "2        False    False   False      False\n",
       "3        False    False   False      False\n",
       "4        False    False   False      False\n",
       "...        ...      ...     ...        ...\n",
       "100831   False    False   False      False\n",
       "100832   False    False   False      False\n",
       "100833   False    False   False      False\n",
       "100834   False    False   False      False\n",
       "100835   False    False   False      False\n",
       "\n",
       "[100836 rows x 4 columns]"
      ]
     },
     "execution_count": 19,
     "metadata": {},
     "output_type": "execute_result"
    }
   ],
   "source": [
    "# hw\n",
    "# search movielens--- movielens/grouplens----download small(1 mb) zip file\n",
    "# task: 1. ratings   2. movies\n",
    "# make a dataframe of ratings and check if there any null values \n",
    "# and also check if the data types are correct, \n",
    "# also check and drop all none values if present,\n",
    "# also drop duplicate records, \n",
    "# timestamp is present in the form of integers chnage it to normal date time, \n",
    "# also create 3 new columns named as year, month and quarter and inside it find out how many number of movies has been watched in each quarter and what are the average count of users watching movies per year.\n",
    "                                    \n",
    "# do a groupby on movies columns and find out the average rating and the total number of users who has watched that movie.\n",
    "\n",
    "\n",
    "#Q.1 make a dataframe of ratings and check if there any null values \n",
    "import pandas as pd\n",
    "df=pd.read_csv(\"ratings.csv\")\n",
    "print(df)\n",
    "df.isnull()  # Check for any null (missing) values in the DataFrame\n",
    "              # True → The value is missing (i.e., it is NaN)\n",
    "              # False → The value is not missing (i.e., it has valid data)"
   ]
  },
  {
   "cell_type": "code",
   "execution_count": 21,
   "id": "0e054e43-2bd2-4bc3-9702-a3338fbc645b",
   "metadata": {},
   "outputs": [
    {
     "name": "stdout",
     "output_type": "stream",
     "text": [
      "userId         int64\n",
      "movieId        int64\n",
      "rating       float64\n",
      "timestamp      int64\n",
      "dtype: object\n"
     ]
    }
   ],
   "source": [
    "#and also check if the data types are correct,\n",
    "print(df.dtypes)\n",
    "#data type of userID, movieID and rating are correct however the datatype of timestamp is not correct, it should be datetime64[ns].\n",
    "#datetime64[ns] means a datetime data type in Pandas with nanosecond precision."
   ]
  },
  {
   "cell_type": "code",
   "execution_count": 33,
   "id": "48c429f0-7b94-41db-bf48-41a750d3e40c",
   "metadata": {},
   "outputs": [
    {
     "name": "stdout",
     "output_type": "stream",
     "text": [
      "userId                int64\n",
      "movieId               int64\n",
      "rating              float64\n",
      "timestamp    datetime64[ns]\n",
      "dtype: object\n"
     ]
    }
   ],
   "source": [
    "df[\"timestamp\"]=pd.to_datetime(df[\"timestamp\"])\n",
    "print(df.dtypes)"
   ]
  },
  {
   "cell_type": "code",
   "execution_count": 39,
   "id": "fe3fd964-0c9b-4be6-ae25-7dc894b1072d",
   "metadata": {},
   "outputs": [
    {
     "name": "stdout",
     "output_type": "stream",
     "text": [
      "100836\n"
     ]
    }
   ],
   "source": [
    "# Check all missing values (None and NaN):\n",
    "# df.isnull()\n",
    "#Q. also check and drop all none values if present\n",
    "print(len(df.isnull()))\n",
    "\n",
    "# print(len(df.isnull())) will just print the number of rows in your DataFrame because df.isnull() returns a DataFrame of the same shape,\n",
    "# and len() counts its rows.\n",
    "\n",
    "\n",
    "\n"
   ]
  },
  {
   "cell_type": "code",
   "execution_count": 45,
   "id": "aa84c8cc-2671-4004-b54a-71c1257d0c29",
   "metadata": {},
   "outputs": [
    {
     "name": "stdout",
     "output_type": "stream",
     "text": [
      "userId       0\n",
      "movieId      0\n",
      "rating       0\n",
      "timestamp    0\n",
      "dtype: int64\n"
     ]
    }
   ],
   "source": [
    "#To print count of missing values per column, use:\n",
    "print(df.isnull().sum())\n",
    "\n",
    "#no missing values in any column"
   ]
  },
  {
   "cell_type": "code",
   "execution_count": 49,
   "id": "4ef6fb64-d9c7-450f-b73f-9e82b49b7529",
   "metadata": {},
   "outputs": [
    {
     "name": "stdout",
     "output_type": "stream",
     "text": [
      "0\n"
     ]
    }
   ],
   "source": [
    "#To print total number of missing values in the entire DataFrame, use:\n",
    "print(df.isnull().sum().sum())\n",
    "\n",
    "#no missing values in the dataframe"
   ]
  },
  {
   "cell_type": "code",
   "execution_count": 63,
   "id": "80eced05-2625-465e-b109-411e1c840ab8",
   "metadata": {},
   "outputs": [
    {
     "name": "stdout",
     "output_type": "stream",
     "text": [
      "0         False\n",
      "1         False\n",
      "2         False\n",
      "3         False\n",
      "4         False\n",
      "          ...  \n",
      "100831    False\n",
      "100832    False\n",
      "100833    False\n",
      "100834    False\n",
      "100835    False\n",
      "Length: 100836, dtype: bool\n",
      "0\n"
     ]
    }
   ],
   "source": [
    "#Q. also drop duplicate records,\n",
    "duplicated_records=df.duplicated()\n",
    "print(duplicated_records)\n",
    "print(df.duplicated().sum()) # gives no of suplicate records which is 0 here"
   ]
  },
  {
   "cell_type": "code",
   "execution_count": 69,
   "id": "63666000-a577-41e5-8a92-7202dd2a1ccb",
   "metadata": {},
   "outputs": [
    {
     "name": "stdout",
     "output_type": "stream",
     "text": [
      "False\n"
     ]
    }
   ],
   "source": [
    " #Check if any duplicate rows exist:\n",
    "print(df.duplicated().any())\n",
    "\n",
    "#Returns True if there is at least one duplicate row.\n"
   ]
  },
  {
   "cell_type": "code",
   "execution_count": 125,
   "id": "cc9e5494-a253-471e-af90-d8deb633c3b0",
   "metadata": {},
   "outputs": [
    {
     "name": "stdout",
     "output_type": "stream",
     "text": [
      "        userId  movieId  rating           timestamp  year  month  quarter\n",
      "0            1        1     4.0 2000-07-30 18:45:03  2000      7        3\n",
      "1            1        3     4.0 2000-07-30 18:20:47  2000      7        3\n",
      "2            1        6     4.0 2000-07-30 18:37:04  2000      7        3\n",
      "3            1       47     5.0 2000-07-30 19:03:35  2000      7        3\n",
      "4            1       50     5.0 2000-07-30 18:48:51  2000      7        3\n",
      "...        ...      ...     ...                 ...   ...    ...      ...\n",
      "100831     610   166534     4.0 2017-05-03 21:53:22  2017      5        2\n",
      "100832     610   168248     5.0 2017-05-03 22:21:31  2017      5        2\n",
      "100833     610   168250     5.0 2017-05-08 19:50:47  2017      5        2\n",
      "100834     610   168252     5.0 2017-05-03 21:19:12  2017      5        2\n",
      "100835     610   170875     3.0 2017-05-03 21:20:15  2017      5        2\n",
      "\n",
      "[100836 rows x 7 columns]\n"
     ]
    }
   ],
   "source": [
    "#year, month, and quarter are attributes of the .dt datetime accessor in Pandas.\n",
    "#accessor is a tool in pandas that gives us to access to extra methods or attributes in a dataframe.\n",
    "#A Pandas DataFrame is like a 2D array or table, with row and column.\n",
    "\n",
    "#Q. also create 3 new columns named as year, month and quarter\n",
    "import pandas as pd\n",
    "df=pd.read_csv(\"ratings.csv\")\n",
    "df[\"timestamp\"]=pd.to_datetime(df[\"timestamp\"],unit=\"s\")\n",
    "df['year'] = df['timestamp'].dt.year\n",
    "df['month'] = df['timestamp'].dt.month\n",
    "df['quarter'] = df['timestamp'].dt.quarter\n",
    "print(df)\n",
    "\n",
    "\n",
    "\n",
    "#The Unix epoch is a time-measuring system used in computing. It's defined as January 1, 1970, at 00:00:00 Coordinated Universal Time (UTC).\n",
    "#our timestamps are like 964982703, which is Unix time in seconds, unit='s' is the correct way to get accurate datetime"
   ]
  },
  {
   "cell_type": "code",
   "execution_count": 127,
   "id": "e2a503e7-2d8c-4a82-80b5-73ad008d6330",
   "metadata": {},
   "outputs": [
    {
     "name": "stdout",
     "output_type": "stream",
     "text": [
      "year\n",
      "1996     6040\n",
      "1997     1916\n",
      "1998      507\n",
      "1999     2439\n",
      "2000    10061\n",
      "2001     3922\n",
      "2002     3478\n",
      "2003     4014\n",
      "2004     3279\n",
      "2005     5813\n",
      "2006     4059\n",
      "2007     7114\n",
      "2008     4351\n",
      "2009     4158\n",
      "2010     2301\n",
      "2011     1690\n",
      "2012     4656\n",
      "2013     1664\n",
      "2014     1439\n",
      "2015     6616\n",
      "2016     6703\n",
      "2017     8198\n",
      "2018     6418\n",
      "dtype: int64\n"
     ]
    }
   ],
   "source": [
    "#find out how many number of movies has been watched in each year,quarter,month\n",
    "movies_per_year=df.groupby(\"year\").size()\n",
    "print(movies_per_year)"
   ]
  },
  {
   "cell_type": "code",
   "execution_count": 129,
   "id": "226fa5ad-71ff-49f8-9975-816d51358630",
   "metadata": {},
   "outputs": [
    {
     "name": "stdout",
     "output_type": "stream",
     "text": [
      "year  quarter\n",
      "1996  1            58\n",
      "      2          1880\n",
      "      3          1883\n",
      "      4          2219\n",
      "1997  1           971\n",
      "                 ... \n",
      "2017  3           815\n",
      "      4           991\n",
      "2018  1          3090\n",
      "      2          1600\n",
      "      3          1728\n",
      "Length: 91, dtype: int64\n"
     ]
    }
   ],
   "source": [
    "movies_per_quarter=df.groupby([\"year\",\"quarter\"]).size()\n",
    "print(movies_per_quarter)"
   ]
  },
  {
   "cell_type": "code",
   "execution_count": 139,
   "id": "6b7e5c97-9175-430b-bf10-f48323feaf10",
   "metadata": {},
   "outputs": [
    {
     "name": "stdout",
     "output_type": "stream",
     "text": [
      "year  month\n",
      "1996  3         58\n",
      "      4        165\n",
      "      5        832\n",
      "      6        883\n",
      "      7        489\n",
      "              ... \n",
      "2018  5        951\n",
      "      6        419\n",
      "      7        293\n",
      "      8        831\n",
      "      9        604\n",
      "Length: 267, dtype: int64\n"
     ]
    }
   ],
   "source": [
    "movies_per_month=df.groupby([\"year\",\"month\"]).size()\n",
    "print(movies_per_month)\n",
    "\n",
    "#for month not showing in month columns, there is no data present for that month of that particular year"
   ]
  },
  {
   "cell_type": "code",
   "execution_count": 153,
   "id": "0843d330-16e5-4875-8ef0-c638afdd6cc1",
   "metadata": {},
   "outputs": [
    {
     "name": "stdout",
     "output_type": "stream",
     "text": [
      "average count of users watching movies per year 40.78260869565217\n"
     ]
    }
   ],
   "source": [
    "# Q. what are the average count of users watching movies per year.\n",
    "unique_users_per_year=df.groupby(\"year\")[\"userId\"].nunique()\n",
    "average_users=unique_users_per_year.mean()\n",
    "print(\"average count of users watching movies per year\",average_users)"
   ]
  },
  {
   "cell_type": "code",
   "execution_count": 163,
   "id": "28e4aedc-6a92-469f-afc6-d93de6e9b5f8",
   "metadata": {},
   "outputs": [
    {
     "name": "stdout",
     "output_type": "stream",
     "text": [
      "      movieId                                      title  \\\n",
      "0           1                           Toy Story (1995)   \n",
      "1           2                             Jumanji (1995)   \n",
      "2           3                    Grumpier Old Men (1995)   \n",
      "3           4                   Waiting to Exhale (1995)   \n",
      "4           5         Father of the Bride Part II (1995)   \n",
      "...       ...                                        ...   \n",
      "9737   193581  Black Butler: Book of the Atlantic (2017)   \n",
      "9738   193583               No Game No Life: Zero (2017)   \n",
      "9739   193585                               Flint (2017)   \n",
      "9740   193587        Bungo Stray Dogs: Dead Apple (2018)   \n",
      "9741   193609        Andrew Dice Clay: Dice Rules (1991)   \n",
      "\n",
      "                                           genres  \n",
      "0     Adventure|Animation|Children|Comedy|Fantasy  \n",
      "1                      Adventure|Children|Fantasy  \n",
      "2                                  Comedy|Romance  \n",
      "3                            Comedy|Drama|Romance  \n",
      "4                                          Comedy  \n",
      "...                                           ...  \n",
      "9737              Action|Animation|Comedy|Fantasy  \n",
      "9738                     Animation|Comedy|Fantasy  \n",
      "9739                                        Drama  \n",
      "9740                             Action|Animation  \n",
      "9741                                       Comedy  \n",
      "\n",
      "[9742 rows x 3 columns]\n"
     ]
    }
   ],
   "source": [
    "#dataframe movies\n",
    "dm=pd.read_csv(\"movies.csv\")\n",
    "print(dm)"
   ]
  },
  {
   "cell_type": "code",
   "execution_count": 169,
   "id": "8a828217-f2cf-4597-bd35-87c3044a258d",
   "metadata": {},
   "outputs": [
    {
     "name": "stdout",
     "output_type": "stream",
     "text": [
      "        userId  movieId  rating           timestamp  year  month  quarter  \\\n",
      "0            1        1     4.0 2000-07-30 18:45:03  2000      7        3   \n",
      "1            1        3     4.0 2000-07-30 18:20:47  2000      7        3   \n",
      "2            1        6     4.0 2000-07-30 18:37:04  2000      7        3   \n",
      "3            1       47     5.0 2000-07-30 19:03:35  2000      7        3   \n",
      "4            1       50     5.0 2000-07-30 18:48:51  2000      7        3   \n",
      "...        ...      ...     ...                 ...   ...    ...      ...   \n",
      "100831     610   166534     4.0 2017-05-03 21:53:22  2017      5        2   \n",
      "100832     610   168248     5.0 2017-05-03 22:21:31  2017      5        2   \n",
      "100833     610   168250     5.0 2017-05-08 19:50:47  2017      5        2   \n",
      "100834     610   168252     5.0 2017-05-03 21:19:12  2017      5        2   \n",
      "100835     610   170875     3.0 2017-05-03 21:20:15  2017      5        2   \n",
      "\n",
      "                                 title  \\\n",
      "0                     Toy Story (1995)   \n",
      "1              Grumpier Old Men (1995)   \n",
      "2                          Heat (1995)   \n",
      "3          Seven (a.k.a. Se7en) (1995)   \n",
      "4           Usual Suspects, The (1995)   \n",
      "...                                ...   \n",
      "100831                    Split (2017)   \n",
      "100832   John Wick: Chapter Two (2017)   \n",
      "100833                  Get Out (2017)   \n",
      "100834                    Logan (2017)   \n",
      "100835  The Fate of the Furious (2017)   \n",
      "\n",
      "                                             genres  \n",
      "0       Adventure|Animation|Children|Comedy|Fantasy  \n",
      "1                                    Comedy|Romance  \n",
      "2                             Action|Crime|Thriller  \n",
      "3                                  Mystery|Thriller  \n",
      "4                            Crime|Mystery|Thriller  \n",
      "...                                             ...  \n",
      "100831                        Drama|Horror|Thriller  \n",
      "100832                        Action|Crime|Thriller  \n",
      "100833                                       Horror  \n",
      "100834                                Action|Sci-Fi  \n",
      "100835                  Action|Crime|Drama|Thriller  \n",
      "\n",
      "[100836 rows x 9 columns]\n"
     ]
    }
   ],
   "source": [
    "merged_df=pd.merge(df,dm,on=\"movieId\")\n",
    "print(merged_df)\n",
    "\n",
    "#on='movieId'\n",
    "#Match rows where movieId is the same in both DataFrames — and only keep one movieId column in the result.\n"
   ]
  },
  {
   "cell_type": "code",
   "execution_count": 175,
   "id": "acd1df1f-9dcd-4fd9-9722-f53c1f7ac714",
   "metadata": {},
   "outputs": [
    {
     "name": "stdout",
     "output_type": "stream",
     "text": [
      "title\n",
      "'71 (2014)                                   4.000000\n",
      "'Hellboy': The Seeds of Creation (2004)      4.000000\n",
      "'Round Midnight (1986)                       3.500000\n",
      "'Salem's Lot (2004)                          5.000000\n",
      "'Til There Was You (1997)                    4.000000\n",
      "                                               ...   \n",
      "eXistenZ (1999)                              3.863636\n",
      "xXx (2002)                                   2.770833\n",
      "xXx: State of the Union (2005)               2.000000\n",
      "¡Three Amigos! (1986)                        3.134615\n",
      "À nous la liberté (Freedom for Us) (1931)    1.000000\n",
      "Name: rating, Length: 9719, dtype: float64\n"
     ]
    }
   ],
   "source": [
    "#do a groupby on movies columns and find out the average rating\n",
    "average_rating=merged_df.groupby(\"title\")[\"rating\"].mean()\n",
    "print(average_rating)"
   ]
  },
  {
   "cell_type": "code",
   "execution_count": 181,
   "id": "b24487c8-7f15-4c74-b298-872a3c9d68ef",
   "metadata": {},
   "outputs": [
    {
     "name": "stdout",
     "output_type": "stream",
     "text": [
      "title\n",
      "'71 (2014)                                    1\n",
      "'Hellboy': The Seeds of Creation (2004)       1\n",
      "'Round Midnight (1986)                        2\n",
      "'Salem's Lot (2004)                           1\n",
      "'Til There Was You (1997)                     2\n",
      "                                             ..\n",
      "eXistenZ (1999)                              22\n",
      "xXx (2002)                                   24\n",
      "xXx: State of the Union (2005)                5\n",
      "¡Three Amigos! (1986)                        26\n",
      "À nous la liberté (Freedom for Us) (1931)     1\n",
      "Name: userId, Length: 9719, dtype: int64\n"
     ]
    }
   ],
   "source": [
    "#the total number of users who has watched that movie.\n",
    "total_users=merged_df.groupby(\"title\")[\"userId\"].size()\n",
    "print(total_users)"
   ]
  },
  {
   "cell_type": "code",
   "execution_count": null,
   "id": "4658e414-c1bc-427c-a4c0-b5c9d51e8224",
   "metadata": {},
   "outputs": [],
   "source": []
  }
 ],
 "metadata": {
  "kernelspec": {
   "display_name": "Python 3 (ipykernel)",
   "language": "python",
   "name": "python3"
  },
  "language_info": {
   "codemirror_mode": {
    "name": "ipython",
    "version": 3
   },
   "file_extension": ".py",
   "mimetype": "text/x-python",
   "name": "python",
   "nbconvert_exporter": "python",
   "pygments_lexer": "ipython3",
   "version": "3.12.4"
  }
 },
 "nbformat": 4,
 "nbformat_minor": 5
}
