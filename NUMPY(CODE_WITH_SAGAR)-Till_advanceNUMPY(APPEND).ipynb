{
 "cells": [
  {
   "cell_type": "code",
   "execution_count": 9,
   "id": "9dffd7b1-47a7-4827-9a5f-7afee83fb582",
   "metadata": {},
   "outputs": [],
   "source": [
    "# NumPy was developed by Travis Oliphant in 2005.\n",
    "#numpy is a library of python through  which we can handle large amount of data using arrays instead of list.\n",
    "#it is used to perform arithmetic calculation on numeric data.\n",
    "#NumPy array operations are usually 20x to 1000x faster than Python loops depending on the operation and array size.\n",
    "\n",
    "\n",
    "#C is the fastest programming language because it is closest to hardware, it is used for OS,\n",
    "#embedded system(An embedded system is a small computer built into a device to perform a specific task.).\n",
    "# Washing Machine\tControls washing cycles\n",
    "# Microwave Oven\tManages heating and timing\n",
    "\n",
    "# Universal Function (ufunc) in NumPy =\n",
    "# A built-in, fast, vectorized function that performs element-wise operations on arrays.\n",
    "# It’s written in C for speed, but you call it like normal Python functions.\n",
    "#Universal function: functions that can be applied over each elements\n",
    "\n",
    "# | Category            | Function Examples                       |\n",
    "# | ------------------- | --------------------------------------- |\n",
    "# | **Arithmetic**      | `add`, `subtract`, `multiply`, `divide` |\n",
    "# | **Trigonometric**   | `sin`, `cos`, `tan`                     |\n",
    "# | **Exponential/Log** | `exp`, `log`, `log10`                   |\n",
    "# | **Comparison**      | `greater`, `less`, `equal`              |\n",
    "# | **Statistical**     | `minimum`, `maximum`, `mean`, `std`     |\n",
    "\n",
    "\n",
    "\n",
    "# Why do people still use Python if it's slower?\n",
    "# Python is easy to write and learn.\n",
    "\n",
    "# Python is good for prototyping.\n",
    "\n",
    "# Many libraries like NumPy, TensorFlow, PyTorch use C/C++ internally for speed but give Python interface for simplicity.\n",
    "\n",
    "# NumPy and C: How are they related?\n",
    "# NumPy is a Python library, but internally, it uses C language for the heavy work (like calculations).\n",
    "\n",
    "# That’s why NumPy is very fast compared to normal Python loops.\n",
    "\n",
    "\n",
    "#Numpy stands for numerical python\n",
    "\n",
    "# NumPy Overview\n",
    "# NumPy uses arrays to perform operations and store data efficiently.\n",
    "\n",
    "# Why Arrays?\n",
    "# Arrays store data in continuous memory locations.\n",
    "# This makes data access faster compared to Python lists.\n",
    "\n",
    "# Key Advantages of NumPy Arrays(its the difference also between lists and arrays):\n",
    "# Speed: Much faster than lists for numerical tasks.\n",
    "# Efficiency: Consumes less memory due to continuous memory allocation.\n",
    "# Convenient Operations: Supports mathematical operations like addition, multiplication, and trigonometric functions directly on arrays.\n",
    "\n",
    "# Definition:\n",
    "# Broadcasting in NumPy is the ability to perform element-wise operations on arrays of different shapes — by automatically expanding \n",
    "#the smaller array to match the shape of the larger one.\n",
    "# 🎯 In Simple Words:# You can add, subtract, multiply, etc., arrays of different shapes, and NumPy will stretch the smaller array without copying data."
   ]
  },
  {
   "cell_type": "code",
   "execution_count": 7,
   "id": "caa13b28-4692-4c23-b684-ff64ef6b014c",
   "metadata": {},
   "outputs": [
    {
     "name": "stdout",
     "output_type": "stream",
     "text": [
      "33.82\n"
     ]
    }
   ],
   "source": [
    "import numpy as np\n",
    "temperatures=np.array([32.5,31.8,33.0,35.2,36.6])\n",
    "average=np.mean(temperatures)\n",
    "print(average)"
   ]
  },
  {
   "cell_type": "code",
   "execution_count": 11,
   "id": "3f057580-f0e3-45e4-a3c2-71b0a60af3eb",
   "metadata": {},
   "outputs": [],
   "source": [
    "# features of numpy: \n",
    "# 1. consumes less memory\n",
    "# 2. easy math operation\n",
    "# 3. used in almost all data fields AI,DS,Data Analysis\n"
   ]
  },
  {
   "cell_type": "code",
   "execution_count": 13,
   "id": "f019742d-864f-4989-864d-028702d32ae4",
   "metadata": {},
   "outputs": [],
   "source": [
    "# Use of Numpy:\n",
    "# 1.Data Science\n",
    "# 2.Machine Learning and AI(used in tensorflow and pytorch)\n",
    "# 3.Stock market and finance\n",
    "# 4.Image processing(photoshop tools)\n",
    "# 5. Scientific Computing\n",
    "# Solving mathematical problems: linear algebra, calculus,\n",
    "# 6. Deep Learning\n",
    "# Creating input data structures (e.g., image tensors)\n",
    "# Normalization and augmentation of data\n",
    "# 7. Mathematical Computations\n",
    "# Matrix multiplication, inversion, dot products\n",
    "# Statistical functions (mean, median, std)\n",
    "# 8. Computer Graphics & Simulations\n",
    "# Modeling transformations in 2D/3D space\n",
    "# Creating simulations using multi-dimensional arrays"
   ]
  },
  {
   "cell_type": "code",
   "execution_count": 1,
   "id": "48148169-9018-45a5-890c-68f3ff64c22f",
   "metadata": {},
   "outputs": [],
   "source": [
    "#  difference between Python Lists and NumPy Arrays\n",
    "#A NumPy ndarray (n-dimensional array) is the primary data structure of the NumPy library, used to store elements of the same data type in effiecient way\n",
    "#in a multidimensional format. It is faster than actual list,uses less memory and perform mathematical operations directly without using any loop.\n",
    "\n",
    "\n",
    "# | Feature                      | **Python List**                                                       | **NumPy Array**                                                      |\n",
    "# | ---------------------------- | --------------------------------------------------------------------- | -------------------------------------------------------------------- |\n",
    "# |Actual existence?             | Built-in data structure                                               |  Provided by NumPy library\n",
    "# | **Data Type**                | **Heterogeneous** – can store different types (int, float, str, etc.) | **Homogeneous** – all elements must be of the same type              |\n",
    "# | **Speed**                    | Slower – not optimized for numerical computation                      | Faster – optimized using C backend and vectorized operations         |\n",
    "# | **Memory Efficiency**        | Consumes more memory due to dynamic typing                            | Consumes less memory – fixed data types and continuous memory        |\n",
    "# | **Mathematical Operations**  | Not supported directly (e.g., `a + b` concatenates lists)             | Element-wise operations (e.g., `a + b` adds elements)                |\n",
    "# | **Functionality**            | Basic: append, pop, slice, etc.                                       | Rich:broadcasting, statistical operations, reshaping       |\n",
    "# | **Indexing**                 | Basic (single level)                                                  | Advanced (multi-dimensional)                |\n",
    "\n",
    "#In NumPy, multidimensional indexing lets you access elements in arrays with 2 or more dimensions using row and column indices, or even more."
   ]
  },
  {
   "cell_type": "code",
   "execution_count": 7,
   "id": "6c5fdfed-5d3d-4cb3-bb53-39c4f8a9c37c",
   "metadata": {},
   "outputs": [
    {
     "name": "stdout",
     "output_type": "stream",
     "text": [
      "[1, 2, 3, 4, 5]\n",
      "[1 2 3 4 5]\n"
     ]
    }
   ],
   "source": [
    "python_list=[1,2,3,4,5]\n",
    "print(python_list)\n",
    "\n",
    "import numpy as np\n",
    "numpy_array=np.array([1,2,3,4,5])\n",
    "print(numpy_array)\n",
    "\n",
    "\n",
    "# Printing a Python list shows elements separated by commas,\n",
    "# while printing a NumPy array shows elements separated by spaces (no commas)."
   ]
  },
  {
   "cell_type": "code",
   "execution_count": 1,
   "id": "b62b3500-3dd1-4026-8dc5-26556e6ff235",
   "metadata": {},
   "outputs": [],
   "source": [
    "# An array is a data structure that stores elements of the same data type in a fixed-size, indexed, and ordered format.\n",
    "# A fixed-size array means that once an array is created, its size (number of elements) cannot be changed directly.\n",
    "\n",
    "# In Python, arrays are commonly created using the NumPy library, where they are called ndarray and support multi-dimensional storage \n",
    "# and fast numerical computations."
   ]
  },
  {
   "cell_type": "code",
   "execution_count": 3,
   "id": "7be0665d-19bf-4f47-a4d6-0aa733736b9b",
   "metadata": {},
   "outputs": [],
   "source": [
    "# | Array Type   | Description                   | Example                                        |\n",
    "# | ------------ | ----------------------------- | ---------------------------------------------- |\n",
    "# | **1D Array** | Single row or column (vector) | `np.array([1, 2, 3])`                          |\n",
    "# | **2D Array** | Matrix (rows and columns)     | `np.array([[1, 2], [3, 4]])`                   |\n",
    "# | **3D Array** | Stack of matrices/2d-arrays   | `np.array([[[1], [2]], [[3], [4]]])`           |\n",
    "# | **nD Array** | n-dimensional (4D, 5D, etc.)  | Created using `np.array()` with higher nesting |\n"
   ]
  },
  {
   "cell_type": "code",
   "execution_count": 7,
   "id": "b91db481-05a0-4ce0-a5a7-0a90b33e483c",
   "metadata": {},
   "outputs": [
    {
     "data": {
      "text/plain": [
       "array([[[1],\n",
       "        [2]],\n",
       "\n",
       "       [[3],\n",
       "        [4]]])"
      ]
     },
     "execution_count": 7,
     "metadata": {},
     "output_type": "execute_result"
    }
   ],
   "source": [
    "import numpy as np\n",
    "\n",
    "np.array([[[1], [2]], [[3], [4]]])"
   ]
  },
  {
   "cell_type": "code",
   "execution_count": 9,
   "id": "36ce3e62-467c-4582-81c6-c2d1a087aa0e",
   "metadata": {},
   "outputs": [
    {
     "name": "stdout",
     "output_type": "stream",
     "text": [
      "[[1 2 3]\n",
      " [4 5 6]]\n"
     ]
    }
   ],
   "source": [
    "#matrix:\n",
    "# A matrix is essentially a fancy or specialized name for a 2D array — an array with rows and columns.\n",
    "# In NumPy, a 2D array created using np.array([[1, 2], [3, 4]]) can be considered a matrix, even though technically it's just a 2-dimensional ndarray.\n",
    "\n",
    "# creating a matrix:\n",
    "matrix=np.array([[1,2,3],[4,5,6]])\n",
    "print(matrix)"
   ]
  },
  {
   "cell_type": "code",
   "execution_count": null,
   "id": "1bc4a99f-8668-430c-bda4-1c57fee7f739",
   "metadata": {},
   "outputs": [],
   "source": [
    "#converting a list into numpy array(when we want to have a faster,better performance)\n",
    "#creating arrays from python lists\n",
    "#np.array([element1,element2,element3])\n",
    "import numpy as np\n",
    "arr=np.array([1,2,3,4])  #passed the list directly\n",
    "print(arr)\n",
    "#it has created 1-d array"
   ]
  },
  {
   "cell_type": "code",
   "execution_count": 17,
   "id": "0e8f7adc-52bc-44b1-8411-be0b9ea35bd3",
   "metadata": {},
   "outputs": [
    {
     "name": "stdout",
     "output_type": "stream",
     "text": [
      "[[1 2 3 4]]\n"
     ]
    }
   ],
   "source": [
    "mylist=[1,2,3,4]\n",
    "import numpy as np\n",
    "arr=np.array([mylist])  #passing the  name of the list\n",
    "print(arr)\n",
    "#it has created a 2-d array"
   ]
  },
  {
   "cell_type": "code",
   "execution_count": 19,
   "id": "3b2c89e1-3ab7-4052-96cd-f31314135ed9",
   "metadata": {},
   "outputs": [],
   "source": [
    "# NumPy Array Creation with Default Values:\n",
    "# | Function                | Description                                    | Example Code         | Output (Shape / Values)                |\n",
    "# | ----------------------- | ---------------------------------------------- | -------------------- | -------------------------------------- |\n",
    "# | `np.zeros(shape)`       | Creates array filled with **0**                | `np.zeros((2, 3))`   | `[[0. 0. 0.], [0. 0. 0.]]`             |\n",
    "# | `np.ones(shape)`        | Creates array filled with **1**                | `np.ones((3, 2))`    | `[[1. 1.], [1. 1.], [1. 1.]]`          |\n",
    "# | `np.empty(shape)`       | Creates array with **uninitialized values**    | `np.empty((2, 2))`   | May contain **random/garbage values**  |\n",
    "# | `np.full(shape, value)` | Creates array filled with a **specific value** | `np.full((2, 3), 7)` | `[[7 7 7], [7 7 7]]`                   |\n",
    "# | `np.eye(n)`             | Creates **identity matrix** (1s on diagonal)   | `np.eye(3)`          | `[[1. 0. 0.], [0. 1. 0.], [0. 0. 1.]]` |\n"
   ]
  },
  {
   "cell_type": "code",
   "execution_count": 23,
   "id": "48552bc8-bf53-41b4-af0e-7514bc5e5c8e",
   "metadata": {},
   "outputs": [
    {
     "name": "stdout",
     "output_type": "stream",
     "text": [
      "[[0. 0. 0. 0.]\n",
      " [0. 0. 0. 0.]\n",
      " [0. 0. 0. 0.]]\n"
     ]
    }
   ],
   "source": [
    "zerosarray=np.zeros((3,4))\n",
    "print(zerosarray)"
   ]
  },
  {
   "cell_type": "code",
   "execution_count": 27,
   "id": "a98eabd6-21ab-4ee1-a105-95b87c53982d",
   "metadata": {},
   "outputs": [
    {
     "name": "stdout",
     "output_type": "stream",
     "text": [
      "[[1. 1. 1. 1.]\n",
      " [1. 1. 1. 1.]\n",
      " [1. 1. 1. 1.]]\n"
     ]
    }
   ],
   "source": [
    "onesarray=np.ones((3,4))\n",
    "print(onesarray)"
   ]
  },
  {
   "cell_type": "code",
   "execution_count": 41,
   "id": "c95b3a08-0b85-44c3-a081-87231fa1c4e3",
   "metadata": {},
   "outputs": [
    {
     "name": "stdout",
     "output_type": "stream",
     "text": [
      "[[1. 1. 1. 1.]\n",
      " [1. 1. 1. 1.]\n",
      " [1. 1. 1. 1.]]\n",
      "[[1.46717037e-311 1.46717688e-311 1.46717688e-311 1.46717688e-311]\n",
      " [1.46717694e-311 1.46717694e-311 1.46717694e-311 1.46717694e-311]\n",
      " [1.46717694e-311 1.46717694e-311 1.46717691e-311 1.46717694e-311]\n",
      " [1.46717694e-311 1.46717694e-311 1.46717694e-311 1.46717694e-311]\n",
      " [1.46717694e-311 1.46717691e-311 1.46717694e-311 1.46717694e-311]]\n"
     ]
    }
   ],
   "source": [
    "emptyarray=np.empty((3,4))\n",
    "print(emptyarray)\n",
    "\n",
    "emptyarray2=np.empty((5,4))\n",
    "print(emptyarray2)"
   ]
  },
  {
   "cell_type": "code",
   "execution_count": 45,
   "id": "5c66fabf-ab33-4e79-9bf5-07da71cee55e",
   "metadata": {},
   "outputs": [
    {
     "name": "stdout",
     "output_type": "stream",
     "text": [
      "[[7 7 7 7]\n",
      " [7 7 7 7]\n",
      " [7 7 7 7]]\n"
     ]
    }
   ],
   "source": [
    "fullarray=np.full((3,4),7)\n",
    "print(fullarray)"
   ]
  },
  {
   "cell_type": "code",
   "execution_count": 55,
   "id": "b7601d56-d411-4f46-8a84-5fb0dd069e2d",
   "metadata": {},
   "outputs": [
    {
     "name": "stdout",
     "output_type": "stream",
     "text": [
      "[[1. 0. 0. 0.]\n",
      " [0. 1. 0. 0.]\n",
      " [0. 0. 1. 0.]\n",
      " [0. 0. 0. 1.]]\n",
      "[[1. 0. 0. 0. 0.]\n",
      " [0. 1. 0. 0. 0.]\n",
      " [0. 0. 1. 0. 0.]\n",
      " [0. 0. 0. 1. 0.]\n",
      " [0. 0. 0. 0. 1.]]\n"
     ]
    }
   ],
   "source": [
    "eyearray=np.eye((4))  #identity matrix with 4 ones\n",
    "print(eyearray)\n",
    "\n",
    "eyearray=np.eye((5))  #  #identity matrix with 5 ones\n",
    "print(eyearray)"
   ]
  },
  {
   "cell_type": "code",
   "execution_count": 1,
   "id": "0cce01fc-ca6f-4309-99ca-76a8c9c310bf",
   "metadata": {},
   "outputs": [],
   "source": [
    "#types of Arrays (in NumPy and general context)\n",
    "# 1. Based on Dimensions (Number of Axes):\n",
    "# | Array Type   | Description                   | Example                                        |\n",
    "# | ------------ | ----------------------------- | ---------------------------------------------- |\n",
    "# | **1D Array** | Single row or column (vector) | `np.array([1, 2, 3])`                          |\n",
    "# | **2D Array** | Matrix (rows and columns)     | `np.array([[1, 2], [3, 4]])`                   |\n",
    "# | **3D Array** | Stack of matrices             | `np.array([[[1], [2]], [[3], [4]]])`           |\n",
    "# | **nD Array** | n-dimensional (4D, 5D, etc.)  | Created using `np.array()` with higher nesting |\n",
    "\n",
    "\n",
    "# 2. Based on Content Initialization:\n",
    "# | Function        | Description                                    |\n",
    "# | --------------- | ---------------------------------------------- |\n",
    "# | `np.array()`    | Creates array from list or tuple               |\n",
    "# | `np.zeros()`    | Creates array filled with **zeros**            |\n",
    "# | `np.ones()`     | Creates array filled with **ones**             |\n",
    "# | `np.empty()`    | Creates uninitialized array (random values)    |\n",
    "# | `np.arange()`   | Array with range of numbers (like `range()`)   |\n",
    "# | `np.linspace()` | Evenly spaced values over a specified interval |\n",
    "# | `np.identity()` | Creates identity matrix                        |\n",
    "# | `np.eye()`      | Creates 2D array with 1s on diagonal           |\n"
   ]
  },
  {
   "cell_type": "code",
   "execution_count": 7,
   "id": "c5a6c22b-85b4-45d4-92fa-932629f6d7d9",
   "metadata": {},
   "outputs": [
    {
     "name": "stdout",
     "output_type": "stream",
     "text": [
      "[[1. 0. 0.]\n",
      " [0. 1. 0.]\n",
      " [0. 0. 1.]\n",
      " [0. 0. 0.]\n",
      " [0. 0. 0.]]\n"
     ]
    }
   ],
   "source": [
    "import numpy as np\n",
    "\n",
    "eyearray2=np.eye(5,3)  #  #identity matrix with 5 ones\n",
    "print(eyearray2)"
   ]
  },
  {
   "cell_type": "code",
   "execution_count": 13,
   "id": "a5d882c2-3ad9-4b32-a669-58b50fd128ab",
   "metadata": {},
   "outputs": [
    {
     "name": "stdout",
     "output_type": "stream",
     "text": [
      "[[1. 0. 0.]\n",
      " [0. 1. 0.]\n",
      " [0. 0. 1.]]\n"
     ]
    }
   ],
   "source": [
    "# | Feature              | `np.identity()`                          | `np.eye()`                                  |\n",
    "# | -------------------- | ---------------------------------------- | ------------------------------------------- |\n",
    "# | **Purpose**          | Creates a square identity matrix         | Creates a matrix with 1s on the diagonal    |\n",
    "# | **Parameters**       | Takes **only one** parameter: `n` (size) | Takes **two**: `rows`, `columns` (optional) |\n",
    "# | **Diagonal control** | Fixed (main diagonal only)               | Flexible: can shift diagonal using `k`      |\n",
    "# | **Shape**            | Always **square** (n × n)                | Can be **non-square** (m × n)               |\n",
    "# | **Function Type**    | Simpler, limited                         | More general and powerful                   |\n",
    "\n",
    "\n",
    "#In the function np.eye(m,n, k=0), the k parameter controls which diagonal gets the 1s.\n",
    "#example 1:\n",
    "import numpy as np\n",
    "\n",
    "# Main diagonal (k = 0)\n",
    "print(np.eye(3, 3, k=0))\n",
    "                                                                                        "
   ]
  },
  {
   "cell_type": "code",
   "execution_count": 15,
   "id": "37bb9c51-efe7-4610-b8b4-55de22529f90",
   "metadata": {},
   "outputs": [
    {
     "name": "stdout",
     "output_type": "stream",
     "text": [
      "[[0. 1. 0. 0.]\n",
      " [0. 0. 1. 0.]\n",
      " [0. 0. 0. 1.]]\n"
     ]
    }
   ],
   "source": [
    "# Diagonal above the main (k = 1)\n",
    "print(np.eye(3, 4, k=1))"
   ]
  },
  {
   "cell_type": "code",
   "execution_count": 17,
   "id": "d69eeed4-a915-460f-be00-9a0acf1a64ca",
   "metadata": {},
   "outputs": [
    {
     "name": "stdout",
     "output_type": "stream",
     "text": [
      "[[0. 0. 0.]\n",
      " [1. 0. 0.]\n",
      " [0. 1. 0.]]\n"
     ]
    }
   ],
   "source": [
    "# Diagonal below the main (k = -1)\n",
    "print(np.eye(3, 3, k=-1))\n"
   ]
  },
  {
   "cell_type": "code",
   "execution_count": 3,
   "id": "210e33ba-8624-4089-86e7-478e26bf272d",
   "metadata": {},
   "outputs": [],
   "source": [
    "#creating sequences of numbers in numpy:\n",
    "# | **Function**          | **Purpose**                                    | **Syntax**                           | **Example**                 | **Output**                  |\n",
    "# | --------------------- | ---------------------------------------------- | ------------------------------------ | --------------------------- | --------------------------- |\n",
    "# | `np.arange()`         | Evenly spaced values within a range            | `np.arange(start, stop, step)`       | `np.arange(1, 10, 2)`       | `[1 3 5 7 9]`               |\n",
    "# | `np.arange(n)`        | Sequence from 0 to n-1                         | `np.arange(stop)`                    | `np.arange(5)`              | `[0 1 2 3 4]`               |\n",
    "# | `np.linspace()`       | `num` values evenly spaced over \\[start, stop] | `np.linspace(start, stop, num)`      | `np.linspace(0, 1, 5)`      | `[0.   0.25 0.5  0.75 1. ]` |\n",
    "# | `np.logspace()`       | `num` values spaced logarithmically            | `np.logspace(start, stop, num)`      | `np.logspace(1, 3, 3)`      | `[  10.  100. 1000.]`       |\n",
    "# | `np.random.randint()` | Random sequence of integers                    | `np.random.randint(low, high, size)` | `np.random.randint(1,10,5)` | e.g. `[2 7 9 3 6]`          |\n",
    "# | `np.random.rand()`    | Random floats in \\[0, 1)                       | `np.random.rand(n)`                  | `np.random.rand(4)`         | e.g. `[0.3 0.7 0.1 0.5]`    |\n"
   ]
  },
  {
   "cell_type": "code",
   "execution_count": 19,
   "id": "7d7e8625-6391-4dec-a8f0-7d2dd0eecc7a",
   "metadata": {},
   "outputs": [
    {
     "name": "stdout",
     "output_type": "stream",
     "text": [
      "[2 5 8]\n",
      "[0 1 2 3 4 5 6 7 8 9]\n",
      "[1 2 3 4 5 6 7 8 9]\n"
     ]
    }
   ],
   "source": [
    "# 1.np.arange()\n",
    "# The function np.arange() is used to create a sequence of evenly spaced numbers within a given range by specifying the start, stop, and step values.\n",
    "# (Note: The stop value is not included in the output.)\n",
    "\n",
    "\n",
    "#syntax: arange(start,stop,step)\n",
    "import numpy as np\n",
    "print(np.arange(2,10,3))\n",
    "print(np.arange(0,10,1))   #last limlit is excluded\n",
    "print(np.arange(1,10,1))"
   ]
  },
  {
   "cell_type": "code",
   "execution_count": 21,
   "id": "6c1b6c2c-ea75-464b-ac09-00b699f05730",
   "metadata": {},
   "outputs": [
    {
     "name": "stdout",
     "output_type": "stream",
     "text": [
      "[0 1 2 3 4]\n"
     ]
    }
   ],
   "source": [
    "#np.arange(n)\n",
    "#syntax: np.arange(stop)\n",
    "print(np.arange(5))     #just give the last limit n, output will be array till n-1 elements"
   ]
  },
  {
   "cell_type": "code",
   "execution_count": 41,
   "id": "d047066a-e229-4391-8341-10fc1ebc06c1",
   "metadata": {},
   "outputs": [
    {
     "name": "stdout",
     "output_type": "stream",
     "text": [
      "[2.         2.28571429 2.57142857 2.85714286 3.14285714 3.42857143\n",
      " 3.71428571 4.        ]\n",
      "another example:\n",
      "[1.   1.25 1.5  1.75 2.  ]\n"
     ]
    }
   ],
   "source": [
    " #np.linspace()\n",
    "# The function np.linspace() is used to create a sequence of evenly spaced numbers over a specified interval by specifying the start, stop,\n",
    "#and the total number of values to generate.\n",
    "# (Note: The stop value is included by default.)\n",
    "\n",
    "print(np.linspace(2,4,8))\n",
    "print(\"another example:\")\n",
    "print(np.linspace(1,2,5))"
   ]
  },
  {
   "cell_type": "code",
   "execution_count": 49,
   "id": "620d7e8c-18fc-4ac7-abb3-b08cfcd8e1be",
   "metadata": {},
   "outputs": [
    {
     "name": "stdout",
     "output_type": "stream",
     "text": [
      "[  10.           31.6227766   100.          316.22776602 1000.        ]\n"
     ]
    }
   ],
   "source": [
    "# np.logspace():\n",
    "# The function np.logspace() is used to create a sequence of numbers that increases exponentially.\n",
    "# It’s useful when you want to create numbers that grow on a logarithmic scale, like 10¹, 10², 10³...\n",
    "#np.logspace(start, stop, num=50, endpoint=True/False, base=10.0, dtype=None)\n",
    "\n",
    "\n",
    "\n",
    "import numpy as np\n",
    "arr=np.logspace(1,3,num=5,endpoint=True,base=10)\n",
    "print(arr)\n"
   ]
  },
  {
   "cell_type": "code",
   "execution_count": 53,
   "id": "c7d8f279-5a83-4c62-acbf-0a5dcc3b71ea",
   "metadata": {},
   "outputs": [
    {
     "name": "stdout",
     "output_type": "stream",
     "text": [
      "[ 100.          177.827941    316.22776602  562.34132519 1000.        ]\n"
     ]
    }
   ],
   "source": [
    "import numpy as np\n",
    "arr=np.logspace(2,3,num=5,endpoint=True,base=10)\n",
    "print(arr)"
   ]
  },
  {
   "cell_type": "code",
   "execution_count": 63,
   "id": "62084ef6-1a17-44cf-a6ef-43d3c1a9277e",
   "metadata": {},
   "outputs": [
    {
     "name": "stdout",
     "output_type": "stream",
     "text": [
      "[  10.           39.81071706  158.48931925  630.95734448 2511.88643151]\n"
     ]
    }
   ],
   "source": [
    "import numpy as np\n",
    "arr=np.logspace(1,4,num=5,endpoint=False,base=10)\n",
    "print(arr)"
   ]
  },
  {
   "cell_type": "markdown",
   "id": "b009848a-da18-420e-8571-89354401d2a3",
   "metadata": {},
   "source": [
    "# NUMPY ARRAY PROPERTIES"
   ]
  },
  {
   "cell_type": "code",
   "execution_count": null,
   "id": "ceb859b7-988a-4165-8291-d27dbaa3aaee",
   "metadata": {},
   "outputs": [],
   "source": [
    "#Important Properties of a NumPy Array (ndarray)\n",
    "\n",
    "\n",
    "# | **Property**       | **Description**                                                | **Example**                    |\n",
    "# | ------------------ | -------------------------------------------------------------- | ------------------------------ |\n",
    "# | `ndarray.ndim`     | Number of dimensions (axes) of the array                       | `arr.ndim` → `1`, `2`, `3`...  |\n",
    "# | `ndarray.shape`    | Tuple showing the size in each dimension (rows, columns, etc.) | `arr.shape` → `(3, 4)`         |\n",
    "# | `ndarray.size`     | Total number of elements in the array                          | `arr.size` → `12`              |\n",
    "# | `ndarray.dtype`    | Data type of the array elements                                | `arr.dtype` → `int64`, `float` |\n",
    "# | `ndarray.itemsize` | Size (in bytes) of each element in the array                   | `arr.itemsize` → `8`           |\n",
    "# | `ndarray.nbytes`   | Total memory consumed by the array (size × itemsize)           | `arr.nbytes` → `96`            |\n",
    "# | `ndarray.T`        | Transpose of the array (rows ↔ columns for 2D)                 | `arr.T`                        |\n",
    "# | `ndarray.data`     | Memory location where the array is stored (rarely used)        | `arr.data`                     |\n"
   ]
  },
  {
   "cell_type": "code",
   "execution_count": 71,
   "id": "7303d552-6a2c-48c2-adb7-997a8f05552d",
   "metadata": {},
   "outputs": [
    {
     "name": "stdout",
     "output_type": "stream",
     "text": [
      "[[1 2 3]\n",
      " [4 5 6]]\n",
      "shape is:\n",
      "(2, 3)\n"
     ]
    }
   ],
   "source": [
    "#1.shape:In NumPy, .shape is an attribute that tells you the dimensions (shape) of an array.\n",
    "#It returns a tuple of integers which shows the number of elements along each dimension (axis) of the array.\n",
    "import numpy as np\n",
    "arr_2d=np.array([[1,2,3],\n",
    "                [4,5,6]])\n",
    "print(arr_2d)\n",
    "print(\"shape is:\")\n",
    "print(arr_2d.shape)"
   ]
  },
  {
   "cell_type": "code",
   "execution_count": 75,
   "id": "11fcfcbf-f2da-47b2-aeca-3fb1e3ac4db4",
   "metadata": {},
   "outputs": [
    {
     "name": "stdout",
     "output_type": "stream",
     "text": [
      "(4,)\n"
     ]
    }
   ],
   "source": [
    "#Examples:\n",
    "#1. 1D Array\n",
    "import numpy as np\n",
    "a = np.array([1, 2, 3, 4])\n",
    "print(a.shape)\n",
    "#➡️ Means: 1 row, 4 columns — a 1D array with 4 elements."
   ]
  },
  {
   "cell_type": "code",
   "execution_count": 77,
   "id": "5a682eef-efcb-463a-ac92-c47b66dc5885",
   "metadata": {},
   "outputs": [
    {
     "name": "stdout",
     "output_type": "stream",
     "text": [
      "(2, 3)\n"
     ]
    }
   ],
   "source": [
    "#2d array\n",
    "b = np.array([[1, 2, 3], [4, 5, 6]])\n",
    "print(b.shape)\n",
    "#Means: 2 rows, 3 columns."
   ]
  },
  {
   "cell_type": "code",
   "execution_count": 87,
   "id": "3ed163db-03a1-4d0b-a19f-732ba7e66de7",
   "metadata": {},
   "outputs": [
    {
     "name": "stdout",
     "output_type": "stream",
     "text": [
      "(2, 2, 2)\n"
     ]
    }
   ],
   "source": [
    "#3d array\n",
    "c = np.array([[[1,2],[3,4]], [[5,6],[7,8]]])\n",
    "print(c.shape)\n",
    "#Means: 2 blocks, each with 2 rows and 2 columns."
   ]
  },
  {
   "cell_type": "code",
   "execution_count": 89,
   "id": "b4bc2c4d-7a4e-4c3e-a35e-281e77e3ae17",
   "metadata": {},
   "outputs": [],
   "source": [
    "#NOTE\n",
    "# arr.shape()  # ❌ This will give an error\n",
    "# arr.shape    # ✅ No parentheses\n",
    "\n",
    "# If you want a valid 3D array, all inner arrays must have the same size:\n",
    "# c = np.array([[[1,2,3],[4,5,6]], [[7,8,9],[10,11,12]]])\n",
    "\n"
   ]
  },
  {
   "cell_type": "code",
   "execution_count": 105,
   "id": "4ced6ed7-491f-44bc-a20c-4dd4bc80f102",
   "metadata": {},
   "outputs": [
    {
     "name": "stdout",
     "output_type": "stream",
     "text": [
      "4\n"
     ]
    }
   ],
   "source": [
    "# ndarray.size\n",
    "# it is an attribute that shows the total number of elements in the array\n",
    "\n",
    "#1d array\n",
    "import numpy as np\n",
    "a = np.array([1, 2, 3, 4])\n",
    "print(a.size)"
   ]
  },
  {
   "cell_type": "code",
   "execution_count": 101,
   "id": "a63f5462-9fe0-45dc-ab70-8beea13f4afa",
   "metadata": {},
   "outputs": [
    {
     "name": "stdout",
     "output_type": "stream",
     "text": [
      "6\n"
     ]
    }
   ],
   "source": [
    "#2d array\n",
    "b = np.array([[1, 2, 3], [4, 5, 6]])\n",
    "print(b.size)"
   ]
  },
  {
   "cell_type": "code",
   "execution_count": 103,
   "id": "05236e7b-a477-43ea-b592-cc6fa7ba0d0f",
   "metadata": {},
   "outputs": [
    {
     "name": "stdout",
     "output_type": "stream",
     "text": [
      "8\n"
     ]
    }
   ],
   "source": [
    "#3d array\n",
    "c = np.array([[[1,2],[3,4]], [[5,6],[7,8]]])\n",
    "print(c.size)"
   ]
  },
  {
   "cell_type": "code",
   "execution_count": 113,
   "id": "d9650ff5-2d6d-46b1-bf5a-153dc1440156",
   "metadata": {},
   "outputs": [
    {
     "name": "stdout",
     "output_type": "stream",
     "text": [
      "1\n",
      "2\n",
      "3\n"
     ]
    }
   ],
   "source": [
    "#.ndim\n",
    "#.ndim is an attribute of a NumPy array that tells us the number of dimensions (also called axes).\n",
    "\n",
    "#1d array\n",
    "import numpy as np\n",
    "a = np.array([1, 2, 3, 4])\n",
    "print(a.ndim)\n",
    "\n",
    "\n",
    "#2d array\n",
    "b = np.array([[1, 2, 3], [4, 5, 6]])\n",
    "print(b.ndim)\n",
    "\n",
    "\n",
    "#3d array\n",
    "c = np.array([[[1,2],[3,4]], [[5,6],[7,8]]])\n",
    "print(c.ndim)"
   ]
  },
  {
   "cell_type": "code",
   "execution_count": 129,
   "id": "5d1e15fa-c66c-4239-938b-a82708133d3e",
   "metadata": {},
   "outputs": [
    {
     "name": "stdout",
     "output_type": "stream",
     "text": [
      "int32\n"
     ]
    }
   ],
   "source": [
    "#.dtype\n",
    "#.dtype is an attribute that tells you the data type of elements stored in a NumPy array.\n",
    "#Example 1: Integer Array\n",
    "import numpy as np\n",
    "arr = np.array([1, 2, 3])\n",
    "print(arr.dtype)\n"
   ]
  },
  {
   "cell_type": "code",
   "execution_count": 131,
   "id": "a7889722-0eb1-4a19-9923-b27377d37d94",
   "metadata": {},
   "outputs": [
    {
     "name": "stdout",
     "output_type": "stream",
     "text": [
      "float64\n"
     ]
    }
   ],
   "source": [
    "import numpy as np\n",
    "arr1 = np.array([1.1, 2, 3])\n",
    "print(arr1.dtype)\n",
    "#IF THERE ARE BOTH INT AND FLOATS, IT WILL SHOW THE RESULT AS FLOAT"
   ]
  },
  {
   "cell_type": "code",
   "execution_count": 117,
   "id": "c4df6987-c928-4060-b8bd-811f4d52bcbf",
   "metadata": {},
   "outputs": [
    {
     "name": "stdout",
     "output_type": "stream",
     "text": [
      "float64\n"
     ]
    }
   ],
   "source": [
    "#Example 2: Float Array\n",
    "arr = np.array([1.2, 3.5, 4.8])\n",
    "print(arr.dtype)\n"
   ]
  },
  {
   "cell_type": "code",
   "execution_count": 123,
   "id": "50072ff5-8cc8-47a2-a34c-99376d7b5a99",
   "metadata": {},
   "outputs": [
    {
     "name": "stdout",
     "output_type": "stream",
     "text": [
      "<U6\n"
     ]
    }
   ],
   "source": [
    "#Example 3: String Array\n",
    "arr = np.array([\"apple\", \"banana\"])\n",
    "print(arr.dtype)\n",
    "#<U6 : Unicode string of length 6\n",
    "#NOTE: \"banana\" is longer, NumPy chooses the longest string's length to decide the array's dtype"
   ]
  },
  {
   "cell_type": "code",
   "execution_count": 133,
   "id": "9c396c5a-e535-42c8-a0ec-7de33a7f2de3",
   "metadata": {},
   "outputs": [
    {
     "name": "stdout",
     "output_type": "stream",
     "text": [
      "[1. 2. 3.]\n",
      "float64\n"
     ]
    }
   ],
   "source": [
    "# astype(): its a method in numpy which converts the array to a different data type\n",
    "\n",
    "# A method is a function that is attached to an object, like a NumPy array.\n",
    "# So astype() is a method of the ndarray object (NumPy array).\n",
    "\n",
    "\n",
    "#Example 1: Convert int to float\n",
    "import numpy as np\n",
    "arr = np.array([1, 2, 3])\n",
    "new_arr = arr.astype(float)\n",
    "\n",
    "print(new_arr)       # [1. 2. 3.]\n",
    "print(new_arr.dtype) # float64\n"
   ]
  },
  {
   "cell_type": "code",
   "execution_count": 137,
   "id": "ba192981-883c-4a9e-a0e5-8f3a9fa16aca",
   "metadata": {},
   "outputs": [
    {
     "name": "stdout",
     "output_type": "stream",
     "text": [
      "[1 2 3 4 5]\n"
     ]
    }
   ],
   "source": [
    "#Example 2: Convert float to int\n",
    "import numpy as np\n",
    "con=np.array([1.2,2.3,3.4,4.4,5.6])\n",
    "newcon=con.astype(int)\n",
    "print(newcon)"
   ]
  },
  {
   "cell_type": "code",
   "execution_count": 141,
   "id": "8271326d-58ca-4eb0-b530-4fc4a9493bda",
   "metadata": {},
   "outputs": [
    {
     "name": "stdout",
     "output_type": "stream",
     "text": [
      "['1' '2' '3']\n",
      "<U11\n"
     ]
    }
   ],
   "source": [
    "#Example 3: Convert int to string\n",
    "arr3 = np.array([1, 2, 3])\n",
    "new_arr = arr3.astype(str)\n",
    "\n",
    "print(new_arr)       # [1 2 3]\n",
    "print(new_arr.dtype) # int32 or int64\n"
   ]
  },
  {
   "cell_type": "code",
   "execution_count": 145,
   "id": "316f0368-2b39-412f-9e6b-75698cf937b8",
   "metadata": {},
   "outputs": [
    {
     "name": "stdout",
     "output_type": "stream",
     "text": [
      "[1 2 3]\n",
      "int32\n"
     ]
    }
   ],
   "source": [
    "#Example 3: Convert string to int\n",
    "arr4 = np.array([\"1\", \"2\", \"3\"])\n",
    "new_arr = arr4.astype(int)\n",
    "\n",
    "print(new_arr)       # [1 2 3]\n",
    "print(new_arr.dtype) # int32 or int64\n"
   ]
  },
  {
   "cell_type": "code",
   "execution_count": 149,
   "id": "44b88681-4afa-41ca-9110-02edc8849a88",
   "metadata": {},
   "outputs": [
    {
     "name": "stdout",
     "output_type": "stream",
     "text": [
      "['1.2' '2.3' '3.4']\n",
      "<U32\n"
     ]
    }
   ],
   "source": [
    "#Example 5: Convert float to string\n",
    "arr5 = np.array([1.2, 2.3, 3.4])\n",
    "new_arr = arr5.astype(str)\n",
    "\n",
    "print(new_arr)       # [1 2 3]\n",
    "print(new_arr.dtype) # int32 or int64"
   ]
  },
  {
   "cell_type": "code",
   "execution_count": 155,
   "id": "41ba952f-e588-421e-b950-e3250b39b0ce",
   "metadata": {},
   "outputs": [
    {
     "name": "stdout",
     "output_type": "stream",
     "text": [
      "[[ 1  2  3  4]\n",
      " [10 20 30 40]\n",
      " [90 80 70 60]]\n",
      "[[ 1 10 90]\n",
      " [ 2 20 80]\n",
      " [ 3 30 70]\n",
      " [ 4 40 60]]\n"
     ]
    }
   ],
   "source": [
    "#.T : array.T is an attribute that returns the transpose of a NumPy array.\n",
    "# 🔸 What is transpose?\n",
    "# Transpose means flipping the array over its diagonal, so that:\n",
    "# Rows become columns\n",
    "# Columns become rows\n",
    "import numpy as np\n",
    "transpose=np.array([[1,2,3,4],\n",
    "                   [10,20,30,40],\n",
    "                   [90,80,70,60]])\n",
    "print(transpose)\n",
    "print(transpose.T)"
   ]
  },
  {
   "cell_type": "markdown",
   "id": "7f7ee25f-e58d-4064-a251-3689da480b0d",
   "metadata": {},
   "source": [
    "# NumPy Array Operations"
   ]
  },
  {
   "cell_type": "code",
   "execution_count": 160,
   "id": "1214219c-7d57-46e5-ada3-144caa9e499e",
   "metadata": {},
   "outputs": [
    {
     "name": "stdout",
     "output_type": "stream",
     "text": [
      "[[ 1  2  3  4]\n",
      " [10 20 30 40]\n",
      " [90 80 70 60]]\n",
      "[[ 6  7  8  9]\n",
      " [15 25 35 45]\n",
      " [95 85 75 65]]\n"
     ]
    }
   ],
   "source": [
    "# 1. Arithmetic Operations\n",
    "# | Operation          | Syntax     | Example    | Output                                                  |\n",
    "# | ------------------ | ---------- | ---------- | ------------------------------------------------------- |\n",
    "# | Addition           | `arr + x`  | `arr + 5`  | Adds 5 to each element                                  |\n",
    "# | Subtraction        | `arr - x`  | `arr - 2`  | Subtracts 2 from each element                           |\n",
    "# | Multiplication     | `arr * x`  | `arr * 3`  | Multiplies each element by 3                            |\n",
    "# | Division           | `arr / x`  | `arr / 2`  | Divides each element by 2 (float)                       |\n",
    "# | **Floor Division** | `arr // x` | `arr // 2` | Divides and returns **whole number** (removes decimals) |\n",
    "# | Power              | `arr ** x` | `arr ** 2` | Squares each element                                    |\n",
    "#addition\n",
    "import numpy as np\n",
    "operadd=np.array([[1,2,3,4],\n",
    "                   [10,20,30,40],\n",
    "                   [90,80,70,60]])\n",
    "print(operadd)\n",
    "print(operadd+5)"
   ]
  },
  {
   "cell_type": "code",
   "execution_count": 162,
   "id": "e0ac1023-d681-4552-ae90-f276429fd6e2",
   "metadata": {},
   "outputs": [
    {
     "name": "stdout",
     "output_type": "stream",
     "text": [
      "[[ 1  2  3  4]\n",
      " [10 20 30 40]\n",
      " [90 80 70 60]]\n",
      "[[-4 -3 -2 -1]\n",
      " [ 5 15 25 35]\n",
      " [85 75 65 55]]\n"
     ]
    }
   ],
   "source": [
    "#subtraction\n",
    "import numpy as np\n",
    "opersub=np.array([[1,2,3,4],\n",
    "                   [10,20,30,40],\n",
    "                   [90,80,70,60]])\n",
    "print(opersub)\n",
    "print(opersub-5)"
   ]
  },
  {
   "cell_type": "code",
   "execution_count": 168,
   "id": "a23e94be-fc1b-46cf-b385-20a2c651300e",
   "metadata": {},
   "outputs": [
    {
     "name": "stdout",
     "output_type": "stream",
     "text": [
      "[[ 1  2  3  4]\n",
      " [10 20 30 40]\n",
      " [90 80 70 60]]\n",
      "[[  5  10  15  20]\n",
      " [ 50 100 150 200]\n",
      " [450 400 350 300]]\n"
     ]
    }
   ],
   "source": [
    "#multiplication\n",
    "import numpy as np\n",
    "opermul=np.array([[1,2,3,4],\n",
    "                   [10,20,30,40],\n",
    "                   [90,80,70,60]])\n",
    "print(opermul)\n",
    "print(opermul*5)"
   ]
  },
  {
   "cell_type": "code",
   "execution_count": 178,
   "id": "06be4a60-51a8-4935-9199-8f4c6f4be2b8",
   "metadata": {},
   "outputs": [
    {
     "name": "stdout",
     "output_type": "stream",
     "text": [
      "[[ 1  2  3  4]\n",
      " [10 20 30 40]\n",
      " [90 80 70 60]]\n",
      "[[ 6  7  8  9]\n",
      " [15 25 35 45]\n",
      " [95 85 75 65]]\n",
      "[[   1    4    9   16]\n",
      " [ 100  400  900 1600]\n",
      " [8100 6400 4900 3600]]\n",
      "[[  3   6   9  12]\n",
      " [ 30  60  90 120]\n",
      " [270 240 210 180]]\n",
      "[[ 0  0  0  0]\n",
      " [ 2  4  6  8]\n",
      " [18 16 14 12]]\n"
     ]
    }
   ],
   "source": [
    "import numpy as np\n",
    "arrayop=np.array([[1,2,3,4],\n",
    "                   [10,20,30,40],\n",
    "                   [90,80,70,60]])\n",
    "print(arrayop)\n",
    "print(arrayop+5)\n",
    "print(arrayop**2)\n",
    "print(arrayop*3)\n",
    "print(arrayop//5)"
   ]
  },
  {
   "cell_type": "code",
   "execution_count": 190,
   "id": "e8ffc0bd-82a1-4d28-9603-50b5ea76e531",
   "metadata": {},
   "outputs": [
    {
     "name": "stdout",
     "output_type": "stream",
     "text": [
      "[[ 1  2  3  4]\n",
      " [10 20 30 40]\n",
      " [90 80 70 60]]\n",
      "[[False False False False]\n",
      " [False  True  True  True]\n",
      " [ True  True  True  True]]\n",
      "[[ True  True  True  True]\n",
      " [False False False False]\n",
      " [False False False False]]\n",
      "[[False False False False]\n",
      " [False False  True  True]\n",
      " [ True  True  True  True]]\n"
     ]
    }
   ],
   "source": [
    " #2. Comparison Operations\n",
    "# It compares each element of an array with a value or another array.\n",
    "# The result is a Boolean array: True or False for each comparison.\n",
    "# | Operation             | Syntax     | Example    | Output                |\n",
    "# | --------------------- | ---------- | ---------- | --------------------- |\n",
    "# | Greater than          | `arr > x`  | `arr > 2`  | `[False False  True]` |\n",
    "# | Less than             | `arr < x`  | `arr < 3`  | `[ True  True False]` |\n",
    "# | Equal to              | `arr == x` | `arr == 2` | `[False  True False]` |\n",
    "# | Not equal to          | `arr != x` | `arr != 2` | `[ True False  True]` |\n",
    "# | Greater than or equal | `arr >= x` | `arr >= 2` | `[False  True  True]` |\n",
    "# | Less than or equal    | `arr <= x` | `arr <= 2` | `[ True  True False]` |\n",
    "#example\n",
    "import numpy as np\n",
    "comparray=np.array([[1,2,3,4],\n",
    "                   [10,20,30,40],\n",
    "                   [90,80,70,60]])\n",
    "print(comparray)\n",
    "print(comparray>10)\n",
    "print(comparray<10)\n",
    "print(comparray>=30)"
   ]
  },
  {
   "cell_type": "code",
   "execution_count": 204,
   "id": "f0141935-7614-454f-9129-1c78065e0a22",
   "metadata": {},
   "outputs": [
    {
     "name": "stdout",
     "output_type": "stream",
     "text": [
      "[[ 1  2  3  4]\n",
      " [10 20 30 40]\n",
      " [90 80 70 60]]\n",
      "410\n",
      "90\n",
      "1\n",
      "34.166666666666664\n",
      "31.651312066888405\n"
     ]
    }
   ],
   "source": [
    "# 3. Aggregate Functions\n",
    "# An aggregate function in NumPy is a function that takes many values in an array and gives one single result (like total, average, max, etc.).\n",
    "# | Function     | Purpose             | Example              |\n",
    "# | ------------ | ------------------- | -------------------- |\n",
    "# | `arr.sum()`  | Sum of all elements | `arr.sum()` → `6`    |\n",
    "# | `arr.mean()` | Average of elements | `arr.mean()` → `2.0` |\n",
    "# | `arr.min()`  | Minimum value       | `arr.min()` → `1`    |\n",
    "# | `arr.max()`  | Maximum value       | `arr.max()` → `3`    |\n",
    "# | `arr.std()`  | Standard deviation  | `arr.std()` → `0.82` |\n",
    "# |  arr.var()   |variation  | syntax:np.var(arr) or arr.var()|\n",
    "\n",
    "\n",
    "\n",
    "\n",
    "import numpy as np\n",
    "aggrarray=np.array([[1,2,3,4],\n",
    "                   [10,20,30,40],\n",
    "                   [90,80,70,60]])\n",
    "print(aggrarray)\n",
    "print(aggrarray.sum())\n",
    "print(aggrarray.max())\n",
    "print(aggrarray.min())\n",
    "print(aggrarray.mean())\n",
    "print(aggrarray.std())\n",
    "\n",
    "\n",
    "#Standard deviation:\n",
    "#it tells us how spread out the numbers are from the mean (average).\n",
    "# If numbers are close to the mean, the standard deviation is small ✅\n",
    "#If numbers are spread out far from the mean, the standard deviation is large ❌\n",
    "\n",
    "\n",
    "\n",
    "#Variance:Variance measures how far each number in a dataset is from the mean\n",
    "# If all numbers are close to the mean, variance is low\n",
    "# If numbers are very different from the mean, variance is high\n",
    "\n",
    "# for the array: [2, 4, 6, 8]\n",
    "# Mean = 5\n",
    "# Differences from mean = [-3, -1, 1, 3]\n",
    "# Squared differences = [9, 1, 1, 9]\n",
    "# Variance = Average of these \n",
    "#just read : and it squares those differences to avoid negative values.\n",
    "\n",
    "\n",
    "\n",
    "# Relationship:\n",
    "# Standard Deviation=square root of variance or\n",
    "# variance=square of std\n",
    "\n",
    "# | Term                   | Meaning                                                              |\n",
    "# | ---------------------- | -------------------------------------------------------------------- |\n",
    "# | **Variance**           | Measures spread using **squared differences** from mean              |\n",
    "# | **Standard Deviation** | Measures spread using **original differences** from mean (no square) |\n"
   ]
  },
  {
   "cell_type": "code",
   "execution_count": null,
   "id": "e9a1aedd-1a36-4926-8c1a-224912c8cbd2",
   "metadata": {},
   "outputs": [],
   "source": [
    "#4. Array-wise Operations\n",
    "# | Operation          | NumPy Function          | Example                           | Output     |\n",
    "# | ------------------ | ----------------------- | --------------------------------- | ---------- |\n",
    "# | Addition           | `np.add(a, b)`          | `np.add([1, 2], [3, 4])`          | `[4, 6]`   |\n",
    "# | Subtraction        | `np.subtract(a, b)`     | `np.subtract([3, 5], [1, 2])`     | `[2, 3]`   |\n",
    "# | Multiplication     | `np.multiply(a, b)`     | `np.multiply([1, 2], [3, 4])`     | `[3, 8]`   |\n",
    "# | Division           | `np.divide(a, b)`       | `np.divide([6, 8], [2, 4])`       | `[3., 2.]` |\n",
    "# | **Floor Division** | `np.floor_divide(a, b)` | `np.floor_divide([7, 9], [2, 4])` | `[3, 2]`   |\n",
    "# | **Power**          | `np.power(a, b)`        | `np.power([2, 3], 2)`             | `[4, 9]`   |\n",
    "# | Dot Product        | `np.dot(a, b)`          | `np.dot([[1, 2]], [[3], [4]])`    | `[[11]]`   |\n"
   ]
  },
  {
   "cell_type": "code",
   "execution_count": 51,
   "id": "5ccd3f8a-cf4c-43eb-b91f-c7ff76b43725",
   "metadata": {},
   "outputs": [
    {
     "name": "stdout",
     "output_type": "stream",
     "text": [
      "[[19 22]\n",
      " [43 50]]\n",
      "[[ 50  68]\n",
      " [122 167]]\n"
     ]
    }
   ],
   "source": [
    "#Dot-product rule:\n",
    "#1. 1D Arrays (Vectors)\n",
    "# ➤ Rule:\n",
    "# np.dot(a, b) →\n",
    "# Returns a scalar (single number) only if both a and b are 1D arrays of equal length.\n",
    "# If lengths are not equal, NumPy raises an error.\n",
    "\n",
    "\n",
    "# Rule for Dot Product in NumPy (2D Arrays)\n",
    "# To compute the dot product of two 2D arrays A and B:\n",
    "# The number of columns in A must equal the number of rows in B\n",
    "# Mathematically:\n",
    "# If,\n",
    "# A.shape = (m, n)\n",
    "# B.shape = (n, p)\n",
    "# example 1(valid case):\n",
    "A = np.array([[1, 2], \n",
    "              [3, 4]])   # Shape: (2, 2)\n",
    "\n",
    "B = np.array([[5, 6], \n",
    "              [7, 8]])   # Shape: (2, 2)\n",
    "\n",
    "result = np.dot(A, B)\n",
    "print(result)\n",
    "\n",
    "\n",
    "# P = np.array([[1, 2, 3],\n",
    "#               [4, 5, 6]])  # Shape: (2, 3)\n",
    "\n",
    "# Q = np.array([[7, 8, 9],\n",
    "#               [10, 11, 12]])  # Shape: (2, 3)\n",
    "\n",
    "# np.dot(P, Q)  # ❌ ERROR\n",
    "\n",
    "#MAKING IT VALID BY TRANSFORMING THE NUMBER OF ROWS AND COLUMNS USING TRANSPOSE(.T)\n",
    "P1 = np.array([[1, 2, 3],\n",
    "              [4, 5, 6]])  # Shape: (2, 3)\n",
    "\n",
    "Q1 = np.array([[7, 8, 9],\n",
    "              [10, 11, 12]])  # Shape: (2, 3)\n",
    "\n",
    "Q1transposed=Q1.T             #new shape: (3,2)\n",
    "\n",
    "print(np.dot(P1, Q1transposed))  \n"
   ]
  },
  {
   "cell_type": "code",
   "execution_count": 53,
   "id": "ee27dbfb-e7d2-4c39-b9e1-038b6df7fe62",
   "metadata": {},
   "outputs": [
    {
     "name": "stdout",
     "output_type": "stream",
     "text": [
      "A shape: (2, 2, 3)\n",
      "B shape: (2, 3, 2)\n",
      "Result shape: (2, 2, 2)\n",
      "[[[ 22  28]\n",
      "  [ 49  64]]\n",
      "\n",
      " [[ 92  68]\n",
      "  [128  95]]]\n"
     ]
    }
   ],
   "source": [
    "#Dot-product rule for 3D-array\n",
    "# ➤ Rule:\n",
    "# With 3D or higher dimensions, np.dot is not recommended.\n",
    "# Instead, use np.matmul or @ for true matrix multiplication with broadcasting.(matmul stands for \"matrix multiplication\".)\n",
    "#example:\n",
    "import numpy as np\n",
    "\n",
    "# A: 3D array of shape (2, 2, 3)\n",
    "A = np.array([\n",
    "    [[1, 2, 3],\n",
    "     [4, 5, 6]],\n",
    "    \n",
    "    [[7, 8, 9],\n",
    "     [10, 11, 12]]\n",
    "])\n",
    "\n",
    "# B: 3D array of shape (2, 3, 2)\n",
    "B = np.array([\n",
    "    [[1, 2],\n",
    "     [3, 4],\n",
    "     [5, 6]],\n",
    "    \n",
    "    [[6, 5],\n",
    "     [4, 3],\n",
    "     [2, 1]]\n",
    "])\n",
    "\n",
    "# Matrix multiplication\n",
    "result = np.matmul(A, B)\n",
    "\n",
    "print(\"A shape:\", A.shape)\n",
    "print(\"B shape:\", B.shape)\n",
    "print(\"Result shape:\", result.shape)\n",
    "print(result)\n"
   ]
  },
  {
   "cell_type": "code",
   "execution_count": 33,
   "id": "3e052cb8-ec1d-439a-a0f2-140689e87ac2",
   "metadata": {},
   "outputs": [
    {
     "name": "stdout",
     "output_type": "stream",
     "text": [
      "array 1:\n",
      "[[ 1  2  3]\n",
      " [10 20 30]]\n",
      "array 2:\n",
      "[[ 1  2  3]\n",
      " [10 20 30]]\n",
      "addition: [[ 2  4  6]\n",
      " [20 40 60]]\n",
      "subtraction: [[0 0 0]\n",
      " [0 0 0]]\n",
      "multiplication: [[  1   4   9]\n",
      " [100 400 900]]\n",
      "division: [[1. 1. 1.]\n",
      " [1. 1. 1.]]\n",
      "floor division: [[1 1 1]\n",
      " [1 1 1]]\n",
      "exponentiation: [[         1          4         27]\n",
      " [1410065408          0 1073741824]]\n"
     ]
    },
    {
     "ename": "ValueError",
     "evalue": "shapes (2,3) and (2,3) not aligned: 3 (dim 1) != 2 (dim 0)",
     "output_type": "error",
     "traceback": [
      "\u001b[1;31m---------------------------------------------------------------------------\u001b[0m",
      "\u001b[1;31mValueError\u001b[0m                                Traceback (most recent call last)",
      "Cell \u001b[1;32mIn[33], line 18\u001b[0m\n\u001b[0;32m     16\u001b[0m \u001b[38;5;28mprint\u001b[39m(\u001b[38;5;124m\"\u001b[39m\u001b[38;5;124mfloor division:\u001b[39m\u001b[38;5;124m\"\u001b[39m,np\u001b[38;5;241m.\u001b[39mfloor_divide(arrop1,arrop2))\n\u001b[0;32m     17\u001b[0m \u001b[38;5;28mprint\u001b[39m(\u001b[38;5;124m\"\u001b[39m\u001b[38;5;124mexponentiation:\u001b[39m\u001b[38;5;124m\"\u001b[39m,np\u001b[38;5;241m.\u001b[39mpower(arrop1,arrop2))\n\u001b[1;32m---> 18\u001b[0m \u001b[38;5;28mprint\u001b[39m(\u001b[38;5;124m\"\u001b[39m\u001b[38;5;124mdot product:\u001b[39m\u001b[38;5;124m\"\u001b[39m,np\u001b[38;5;241m.\u001b[39mdot(arrop1,arrop2))\n",
      "\u001b[1;31mValueError\u001b[0m: shapes (2,3) and (2,3) not aligned: 3 (dim 1) != 2 (dim 0)"
     ]
    }
   ],
   "source": [
    "import numpy as np\n",
    "print(\"array 1:\")\n",
    "arrop1=np.array([[1,2,3],\n",
    "               [10,20,30]])\n",
    "print(arrop1)\n",
    "\n",
    "print(\"array 2:\")\n",
    "arrop2=np.array([[1,2,3],\n",
    "                [10,20,30]])\n",
    "print(arrop2)\n",
    "\n",
    "print(\"addition:\",np.add(arrop1,arrop2))\n",
    "print(\"subtraction:\",np.subtract(arrop2,arrop1))\n",
    "print(\"multiplication:\",np.multiply(arrop2,arrop1))\n",
    "print(\"division:\",np.divide(arrop1,arrop2))\n",
    "print(\"floor division:\",np.floor_divide(arrop1,arrop2))\n",
    "print(\"exponentiation:\",np.power(arrop1,arrop2))\n",
    "print(\"dot product:\",np.dot(arrop1,arrop2))\n"
   ]
  },
  {
   "cell_type": "code",
   "execution_count": 67,
   "id": "d96fca45-3c8a-4ec5-8821-1dcda200176b",
   "metadata": {},
   "outputs": [
    {
     "name": "stdout",
     "output_type": "stream",
     "text": [
      "reshape tp 1D: [  1   2   3  10  20  30  50 100 150]\n",
      "array of 1*9: [[  1   2   3  10  20  30  50 100 150]]\n",
      "array of 9*1: [[  1]\n",
      " [  2]\n",
      " [  3]\n",
      " [ 10]\n",
      " [ 20]\n",
      " [ 30]\n",
      " [ 50]\n",
      " [100]\n",
      " [150]]\n"
     ]
    }
   ],
   "source": [
    "# 5. Reshaping and Flattening\n",
    "# | Function        | Purpose                            | Example             |\n",
    "# | --------------- | ---------------------------------- | ------------------- |\n",
    "# | `arr.reshape()` | Change shape without changing data | `arr.reshape(3, 2)` |\n",
    "# | `arr.flatten()` | Convert multi-dimensional to 1D    | `arr.flatten()`     |\n",
    "\n",
    "#rule for reshaping:\n",
    "# Original 3×3 array has 9 elements\n",
    "# So you can reshape it to any shape with 9 total elements:\n",
    "# (9,), (1, 9), (9, 1), (3, 3), (3, 1, 3), etc.\n",
    "\n",
    "#reshape() produces a copy on non-contiguous arrays:\n",
    "# | Situation            | Result               |\n",
    "# | -------------------- | -------------------- |\n",
    "# | Contiguous array     | ✅ Returns a **view** |\n",
    "# | Non-contiguous array | ❌ Returns a **copy** |\n",
    "\n",
    "# | Situation                | Example Code                                     | Output / Behavior                                 |\n",
    "# | ------------------------ | ------------------------------------------------ | ------------------------------------------------- |\n",
    "# | **Contiguous array**     | `a = np.arange(6)`<br>`b = a.reshape(2, 3)`      | ✅ **View** → `b[0,0]=999` changes `a[0]`          |\n",
    "# |                          |                                                  | `print(a)` → `[999 1 2 3 4 5]`                    |\n",
    "# | **Non-contiguous array** | `a = np.arange(6)[::2]`<br>`b = a.reshape(3, 1)` | ❌ **Copy** → `b[0,0]=999` does **not** change `a` |\n",
    "#                                                                                  `print(a)` → `[0 2 4]` remains unchanged          \n",
    "\n",
    "\n",
    "\n",
    "# | Term     | What it means                                 | Example Effect                       |\n",
    "# | -------- | --------------------------------------------- | ------------------------------------ |\n",
    "# | **View** | New \"window\" to the same data (shared memory) | ✅ Changes affect the original array  |\n",
    "# | **Copy** | A completely separate array (new memory)      | ❌ Changes do **not** affect original |\n",
    "\n",
    "\n",
    "import numpy as np\n",
    "arrreshape=np.array([[1,2,3],\n",
    "                    [10,20,30],\n",
    "                    [50,100,150]])\n",
    "print(\"reshape tp 1D:\",arrreshape.reshape(9,))  #A 1D array has only one axis (dimension) — it’s neither a row nor a column in matrix terms.\n",
    "print(\"array of 1*9:\",arrreshape.reshape(1,9))\n",
    "print(\"array of 9*1:\",arrreshape.reshape(9,1))\n"
   ]
  },
  {
   "cell_type": "code",
   "execution_count": 79,
   "id": "de7a48ce-7e1b-4d05-8d88-cb1527330753",
   "metadata": {},
   "outputs": [
    {
     "name": "stdout",
     "output_type": "stream",
     "text": [
      "to 1D array using ravel: [  1   2   3  10  20  30  40  50  60 100 200 300]\n",
      "to 1D array using ravel, used np: [  1   2   3  10  20  30  40  50  60 100 200 300]\n"
     ]
    }
   ],
   "source": [
    "#FLATTENING AN ARRAY\n",
    "#np.ravel() vs np.flatten\n",
    "#similarity : Both are used to convert multidimensional arrays into 1D arrays.\n",
    "# Key Differences:\n",
    "# | Feature            | `np.ravel()`                             | `np.flatten()`            |\n",
    "# | ------------------ | ---------------------------------------- | ------------------------- |\n",
    "# | Return Type        | 1D array                                 | 1D array                  |\n",
    "# | Copy vs View       | Returns a **view** if possible (no copy) | Always returns a **copy** |\n",
    "# | Modifies original? | If it's a view, yes                      | No, it's a copy           |\n",
    "# | Method or Function | Function (`np.ravel()`)                  | Method (`arr.flatten()`)  |\n",
    "\n",
    "import numpy as np\n",
    "arrravel=np.array([[1,2,3],\n",
    "                 [10,20,30],\n",
    "                 [40,50,60],\n",
    "                 [100,200,300]])\n",
    "print(\"to 1D array using ravel:\",arrravel.ravel())\n",
    "print(\"to 1D array using ravel, used np:\",np.ravel(arrravel))"
   ]
  },
  {
   "cell_type": "code",
   "execution_count": 87,
   "id": "dac4a409-510e-4dee-af24-9ffe6f22dbfb",
   "metadata": {},
   "outputs": [
    {
     "name": "stdout",
     "output_type": "stream",
     "text": [
      "to 1D array using flatten: [  1   2   3  10  20  30  40  50  60 100 200 300]\n"
     ]
    },
    {
     "ename": "AttributeError",
     "evalue": "module 'numpy' has no attribute 'flatten'",
     "output_type": "error",
     "traceback": [
      "\u001b[1;31m---------------------------------------------------------------------------\u001b[0m",
      "\u001b[1;31mAttributeError\u001b[0m                            Traceback (most recent call last)",
      "Cell \u001b[1;32mIn[87], line 7\u001b[0m\n\u001b[0;32m      2\u001b[0m arrflatten\u001b[38;5;241m=\u001b[39mnp\u001b[38;5;241m.\u001b[39marray([[\u001b[38;5;241m1\u001b[39m,\u001b[38;5;241m2\u001b[39m,\u001b[38;5;241m3\u001b[39m],\n\u001b[0;32m      3\u001b[0m                  [\u001b[38;5;241m10\u001b[39m,\u001b[38;5;241m20\u001b[39m,\u001b[38;5;241m30\u001b[39m],\n\u001b[0;32m      4\u001b[0m                  [\u001b[38;5;241m40\u001b[39m,\u001b[38;5;241m50\u001b[39m,\u001b[38;5;241m60\u001b[39m],\n\u001b[0;32m      5\u001b[0m                  [\u001b[38;5;241m100\u001b[39m,\u001b[38;5;241m200\u001b[39m,\u001b[38;5;241m300\u001b[39m]])\n\u001b[0;32m      6\u001b[0m \u001b[38;5;28mprint\u001b[39m(\u001b[38;5;124m\"\u001b[39m\u001b[38;5;124mto 1D array using flatten:\u001b[39m\u001b[38;5;124m\"\u001b[39m,arrflatten\u001b[38;5;241m.\u001b[39mflatten())\n\u001b[1;32m----> 7\u001b[0m \u001b[38;5;28mprint\u001b[39m(\u001b[38;5;124m\"\u001b[39m\u001b[38;5;124mto 1D array using flatten, used np:\u001b[39m\u001b[38;5;124m\"\u001b[39m,np\u001b[38;5;241m.\u001b[39mflatten(arrflatten))\n",
      "File \u001b[1;32m~\\anaconda3\\Lib\\site-packages\\numpy\\__init__.py:333\u001b[0m, in \u001b[0;36m__getattr__\u001b[1;34m(attr)\u001b[0m\n\u001b[0;32m    330\u001b[0m     \u001b[38;5;124m\"\u001b[39m\u001b[38;5;124mRemoved in NumPy 1.25.0\u001b[39m\u001b[38;5;124m\"\u001b[39m\n\u001b[0;32m    331\u001b[0m     \u001b[38;5;28;01mraise\u001b[39;00m \u001b[38;5;167;01mRuntimeError\u001b[39;00m(\u001b[38;5;124m\"\u001b[39m\u001b[38;5;124mTester was removed in NumPy 1.25.\u001b[39m\u001b[38;5;124m\"\u001b[39m)\n\u001b[1;32m--> 333\u001b[0m \u001b[38;5;28;01mraise\u001b[39;00m \u001b[38;5;167;01mAttributeError\u001b[39;00m(\u001b[38;5;124m\"\u001b[39m\u001b[38;5;124mmodule \u001b[39m\u001b[38;5;132;01m{!r}\u001b[39;00m\u001b[38;5;124m has no attribute \u001b[39m\u001b[38;5;124m\"\u001b[39m\n\u001b[0;32m    334\u001b[0m                      \u001b[38;5;124m\"\u001b[39m\u001b[38;5;132;01m{!r}\u001b[39;00m\u001b[38;5;124m\"\u001b[39m\u001b[38;5;241m.\u001b[39mformat(\u001b[38;5;18m__name__\u001b[39m, attr))\n",
      "\u001b[1;31mAttributeError\u001b[0m: module 'numpy' has no attribute 'flatten'"
     ]
    }
   ],
   "source": [
    "import numpy as np\n",
    "arrflatten=np.array([[1,2,3],\n",
    "                 [10,20,30],\n",
    "                 [40,50,60],\n",
    "                 [100,200,300]])\n",
    "print(\"to 1D array using flatten:\",arrflatten.flatten())\n",
    "print(\"to 1D array using flatten, used np:\",np.flatten(arrflatten))  #it will be invalid"
   ]
  },
  {
   "cell_type": "code",
   "execution_count": null,
   "id": "1176d39e-dcc3-4ca1-be5e-80bc3ae011f3",
   "metadata": {},
   "outputs": [],
   "source": [
    "# table with correct usage for ravel() and flatten:\n",
    "# | Operation                  | Use This          |\n",
    "# | -------------------------- | ----------------- |\n",
    "# | Flatten a NumPy array      | `arr.flatten()`   |\n",
    "# | Flatten using NumPy itself | `np.ravel(arr)`   |\n",
    "# | Flatten using array method | `arr.ravel()`     |\n",
    "# | ❌ Not valid                | `np.flatten(arr)` |\n",
    "#✅ np.ravel() is valid because it's a NumPy function; np.flatten() is invalid because flatten() is only a method of arrays, not a NumPy function."
   ]
  },
  {
   "cell_type": "markdown",
   "id": "21e34131-ab6e-4d1e-9b5f-3ab6b012f165",
   "metadata": {},
   "source": [
    "# Indexing,Slicing and Boolean Masking"
   ]
  },
  {
   "cell_type": "code",
   "execution_count": 101,
   "id": "c01097bf-b033-401b-b325-fa8538e477ec",
   "metadata": {},
   "outputs": [
    {
     "name": "stdout",
     "output_type": "stream",
     "text": [
      "accessing from 1d array:\n",
      "10\n",
      "40\n",
      "accesssing from  2d array:\n",
      "2\n",
      "6\n",
      "6\n",
      "6\n"
     ]
    }
   ],
   "source": [
    "#Indexing in NumPy\n",
    "#Indexing means accessing elements by their position (like Python lists).\n",
    "print(\"accessing from 1d array:\")\n",
    "#🔹 1D Array:\n",
    "arr = np.array([10, 20, 30, 40])\n",
    "print(arr[0])   # 10\n",
    "print(arr[-1])  # 40 (last element)\n",
    "\n",
    "\n",
    "print(\"accesssing from  2d array:\")\n",
    "#🔹 2D Array:\n",
    "arr2 = np.array([[1, 2, 3],\n",
    "                 [4, 5, 6]])\n",
    "\n",
    "print(arr2[0, 1])  # 2 (row 0, column 1)\n",
    "print(arr2[1,2])  # 6 (same as above)\n",
    "print(arr2[1][2]) #print(arr2[1,2]) and print(arr2[1][2]) are same\n",
    "print(arr2[1][-1])"
   ]
  },
  {
   "cell_type": "code",
   "execution_count": 114,
   "id": "d9bef67c-4649-4c12-8d02-2732eb9fb181",
   "metadata": {},
   "outputs": [
    {
     "name": "stdout",
     "output_type": "stream",
     "text": [
      "[20 30 40]\n",
      "[10 20 30]\n",
      "[10 30 50]\n",
      "[50 40 30 20 10]\n",
      "[[2 3]\n",
      " [5 6]]\n",
      "[1 4 7]\n",
      "[[1 3]\n",
      " [7 9]]\n"
     ]
    }
   ],
   "source": [
    "# Slicing in NumPy\n",
    "# Slicing means accessing a range of elements using [start:stop:step].\n",
    "#1D Slice:\n",
    "arr = np.array([10, 20, 30, 40, 50])\n",
    "\n",
    "print(arr[1:4])      # [20 30 40]...here index 1 to 3 ((stop index 4 is excluded))\n",
    "print(arr[:3])       # [10 20 30]...here index 0 to 2\n",
    "print(arr[::2])      # [10 30 50]...here index 0 to end with steo size 2\n",
    "print(arr[::-1])     #it reversed the elements\n",
    "\n",
    "\n",
    "# 2D Slice:\n",
    "arr2 = np.array([[1, 2, 3],\n",
    "                 [4, 5, 6],\n",
    "                 [7, 8, 9]])\n",
    "\n",
    "print(arr2[0:2, 1:])     # rows 0-1, cols 1-2 → [[2 3], [5 6]]\n",
    "print(arr2[:, 0])        # all rows, col 0 → [1 4 7]\n",
    "print(arr2[::2, ::2])    # every 2nd row and column → [[1 3], [7 9]]\n"
   ]
  },
  {
   "cell_type": "code",
   "execution_count": null,
   "id": "538772e3-d42d-4e67-9f07-87f300631355",
   "metadata": {},
   "outputs": [],
   "source": [
    "# | Type     | Syntax            | Example         | Output           |\n",
    "# | -------- | ----------------- | --------------- | ---------------- |\n",
    "# | 1D Index | `arr[i]`          | `arr[2]`        | `30`             |\n",
    "# | 2D Index | `arr[i, j]`       | `arr[1, 2]`     | `6`              |\n",
    "# | 1D Slice | `arr[start:stop]` | `arr[1:4]`      | `[20 30 40]`     | #stop part is excluded always, step size default value is 1\n",
    "# | 2D Slice | `arr[rows, cols]` | `arr[0:2, 1:3]` | `[[2 3], [5 6]]` |\n",
    "\n",
    "# | Operation      | Syntax                 | Example      | Output                  |\n",
    "# | -------------- | ---------------------- | ------------ | ----------------------- |\n",
    "# | Indexing       | `arr[i]`               | `arr[2]`     | 3rd element             |\n",
    "# | Slicing        | `arr[start:stop]`      | `arr[1:4]`   | Elements at index 1,2,3 |\n",
    "# | Negative index | `arr[-1]`              | `arr[-2]`    | 2nd last element        |\n",
    "# | Step slicing   | `arr[start:stop:step]` | `arr[0:5:2]` | Every 2nd element       |\n"
   ]
  },
  {
   "cell_type": "code",
   "execution_count": 107,
   "id": "4c1edc0d-55b3-47d7-9313-7d1842a2d9bc",
   "metadata": {},
   "outputs": [
    {
     "name": "stdout",
     "output_type": "stream",
     "text": [
      "[10 30 50]\n"
     ]
    }
   ],
   "source": [
    "#Fancy Indexing:\n",
    "#Selecting multiple elements at once using a list or array of indices. \n",
    "\n",
    "# 1D Fancy Indexing:\n",
    "#import numpy as np\n",
    "\n",
    "arr = np.array([10, 20, 30, 40, 50])\n",
    "\n",
    "print(arr[[0, 2, 4]])  # → [10 30 50]\n"
   ]
  },
  {
   "cell_type": "code",
   "execution_count": 109,
   "id": "7f71cb98-b735-4ac0-a74f-c49e13a1e2e4",
   "metadata": {},
   "outputs": [
    {
     "name": "stdout",
     "output_type": "stream",
     "text": [
      "[12 23 31]\n"
     ]
    }
   ],
   "source": [
    "#2D Fancy Indexing (Row and Column)\n",
    "arr2d = np.array([[11, 12, 13],\n",
    "                  [21, 22, 23],\n",
    "                  [31, 32, 33]])\n",
    "\n",
    "# Pick elements at (0,1), (1,2), (2,0)\n",
    "rows = [0, 1, 2]\n",
    "cols = [1, 2, 0]\n",
    "\n",
    "print(arr2d[rows, cols])  # → [12 23 31]\n"
   ]
  },
  {
   "cell_type": "code",
   "execution_count": 124,
   "id": "fb6a2266-b4f3-4307-be05-80a078907133",
   "metadata": {},
   "outputs": [
    {
     "name": "stdout",
     "output_type": "stream",
     "text": [
      "[[  1   2   3]\n",
      " [  4   5   6]\n",
      " [ 10  20  30]\n",
      " [100 200 300]]\n",
      "[[False False False]\n",
      " [False False False]\n",
      " [False  True  True]\n",
      " [ True  True  True]]\n",
      "[[ True  True  True]\n",
      " [ True  True  True]\n",
      " [False False False]\n",
      " [False False False]]\n"
     ]
    }
   ],
   "source": [
    "#Boolean Masking:\n",
    "#Boolean masking means filtering out the values from an array that satisfy a particular condition, and it returns a result in the form of True or False.\n",
    "#Boolean masking is ~20 to 30 times faster than a Python loop for large arrays.\n",
    "import numpy as np\n",
    "arrbool=np.array([[1,2,3],\n",
    "                 [4,5,6],\n",
    "                 [10,20,30],\n",
    "                 [100,200,300]])\n",
    "print(arrbool)\n",
    "print(arrbool>10)\n",
    "print(arrbool<10)"
   ]
  },
  {
   "cell_type": "markdown",
   "id": "e197cc39-0e12-4f81-b8e0-66163ac996d5",
   "metadata": {},
   "source": [
    "# ADVANCED NUMPY"
   ]
  },
  {
   "cell_type": "code",
   "execution_count": 127,
   "id": "e561fac9-3839-4501-86c5-c38489969b71",
   "metadata": {},
   "outputs": [],
   "source": [
    "#INSERT:\n",
    "#np.insert() is used to insert values into an array at specific positions.\n",
    "#np.insert(arr, index, values, axis=0/1/None)\n",
    "# | Parameter | Description                                                                |\n",
    "# | --------- | -------------------------------------------------------------------------- |\n",
    "# | `arr`     | The input array                                                            |\n",
    "# | `index`   | Position(s) where the new values should be inserted                        |\n",
    "# | `values`  | The values to insert                                                       |\n",
    "# | `axis`    | Axis along which to insert (optional). If None, inserts in flattened array |\n",
    "\n",
    "\n",
    "# | `axis` value | Meaning                             | Works on                                     | Example (2D)                        |\n",
    "# | ------------ | ----------------------------------- | -------------------------------------------- | ----------------------------------- |\n",
    "# | `axis=0`     | Operates **row-wise**               | Inserts **rows** or works **down** columns   | Insert/delete/operate along rows    |\n",
    "# | `axis=1`     | Operates **column-wise**            | Inserts **columns** or works **across** rows | Insert/delete/operate along columns |\n",
    "# | `axis=None`  | Operates on the **flattened array** | Treats array as 1D                           | Used for 1D or flattening 2D        |\n"
   ]
  },
  {
   "cell_type": "code",
   "execution_count": 129,
   "id": "6b45676c-73ed-4c0e-9242-9ba8739c8d29",
   "metadata": {},
   "outputs": [
    {
     "name": "stdout",
     "output_type": "stream",
     "text": [
      "[10 99 20 30]\n"
     ]
    }
   ],
   "source": [
    "#Example 1: Insert in 1D Array\n",
    "import numpy as np\n",
    "\n",
    "arr = np.array([10, 20, 30])\n",
    "result = np.insert(arr, 1, 99)   # Insert 99 at index 1\n",
    "print(result)  # [10 99 20 30]\n"
   ]
  },
  {
   "cell_type": "code",
   "execution_count": 131,
   "id": "370b6dac-53dc-4a79-859d-d7203723bd32",
   "metadata": {},
   "outputs": [
    {
     "name": "stdout",
     "output_type": "stream",
     "text": [
      "[[1 2]\n",
      " [5 6]\n",
      " [3 4]]\n"
     ]
    }
   ],
   "source": [
    "#Example 2: Insert in 2D Array (row-wise)\n",
    "arr2d = np.array([[1, 2],\n",
    "                  [3, 4]])\n",
    "\n",
    "new_row = [5, 6]\n",
    "\n",
    "result = np.insert(arr2d, 1, new_row, axis=0)  # Insert row at index 1\n",
    "print(result)\n"
   ]
  },
  {
   "cell_type": "code",
   "execution_count": 133,
   "id": "07b45627-bde0-48f7-8a88-bbc2f00296ea",
   "metadata": {},
   "outputs": [
    {
     "name": "stdout",
     "output_type": "stream",
     "text": [
      "[[1 9 2]\n",
      " [3 9 4]]\n"
     ]
    }
   ],
   "source": [
    "#Example 3: Insert Column\n",
    "arr2d = np.array([[1, 2],\n",
    "                  [3, 4]])\n",
    "\n",
    "new_col = [9, 9]\n",
    "\n",
    "result = np.insert(arr2d, 1, new_col, axis=1)  # Insert column at index 1\n",
    "print(result)\n",
    "\n"
   ]
  },
  {
   "cell_type": "code",
   "execution_count": 137,
   "id": "6d3a4e36-1762-4927-b920-b323351d4b6c",
   "metadata": {},
   "outputs": [
    {
     "data": {
      "text/plain": [
       "array([ 1,  2, 99,  3,  4])"
      ]
     },
     "execution_count": 137,
     "metadata": {},
     "output_type": "execute_result"
    }
   ],
   "source": [
    "#axis=None → Treats array as 1D (flattened)\n",
    "arr = np.array([[1, 2],\n",
    "                [3, 4]])\n",
    "\n",
    "np.insert(arr, 2, 99, axis=None)\n",
    "#axis=None: flatten the array and work as 1D\n",
    "\n"
   ]
  },
  {
   "cell_type": "code",
   "execution_count": 141,
   "id": "c17cb69b-aff1-49c0-afbf-7bd71356dc7b",
   "metadata": {},
   "outputs": [
    {
     "name": "stdout",
     "output_type": "stream",
     "text": [
      "[1 2 3 4 5]\n",
      "[  1   2 100   3   4   5]\n"
     ]
    }
   ],
   "source": [
    "#inserting in 1d array\n",
    "import numpy as np\n",
    "arr_1d=np.array([1,2,3,4,5])\n",
    "print(arr_1d)\n",
    "newarr_1d=np.insert(arr_1d,2,100)\n",
    "print(newarr_1d)"
   ]
  },
  {
   "cell_type": "code",
   "execution_count": 159,
   "id": "a9c7a972-5b7a-439f-bc18-d00c1ce55751",
   "metadata": {},
   "outputs": [
    {
     "name": "stdout",
     "output_type": "stream",
     "text": [
      "[[  1   2   3]\n",
      " [100 200 300]]\n",
      "[[  1   2   3]\n",
      " [ 10  20  30]\n",
      " [100 200 300]]\n"
     ]
    }
   ],
   "source": [
    "#inserting in 2d array:\n",
    "import numpy as np\n",
    "arr_2d=np.array([[1,2,3],\n",
    "                [100,200,300]])\n",
    "print(arr_2d)\n",
    "newarr_2d=np.insert(arr_2d,1,[10,20,30],axis=0)\n",
    "print(newarr_2d)\n"
   ]
  },
  {
   "cell_type": "code",
   "execution_count": 161,
   "id": "a3f7e421-76f6-4188-91d6-2bd65d01b89a",
   "metadata": {},
   "outputs": [
    {
     "name": "stdout",
     "output_type": "stream",
     "text": [
      "[[  1   2   3]\n",
      " [100 200 300]]\n",
      "[  1  10  20  30   2   3 100 200 300]\n"
     ]
    }
   ],
   "source": [
    "import numpy as np\n",
    "arr__2d=np.array([[1,2,3],\n",
    "                [100,200,300]])\n",
    "print(arr__2d)\n",
    "nonearr=np.insert(arr__2d,1,[10,20,30],axis=None) # None flattens the array\n",
    "print(nonearr)"
   ]
  },
  {
   "cell_type": "code",
   "execution_count": 171,
   "id": "2138ff8c-8349-44fe-a642-324d40b6dacc",
   "metadata": {},
   "outputs": [
    {
     "name": "stdout",
     "output_type": "stream",
     "text": [
      "[1 2 3 4 5]\n",
      "[   1    2    3    4    5 1000]\n"
     ]
    }
   ],
   "source": [
    "# ✅ np.append() in NumPy:\n",
    "# np.append() is used to add elements to the end of an array.\n",
    "#1d array\n",
    "import numpy as np\n",
    "arrapp=np.array([1,2,3,4,5])\n",
    "print(arrapp)\n",
    "newarrapp=np.append(arrapp,1000)\n",
    "print(newarrapp)"
   ]
  },
  {
   "cell_type": "code",
   "execution_count": 181,
   "id": "0ef28fde-4ca6-4a56-9206-197fa643f444",
   "metadata": {},
   "outputs": [
    {
     "name": "stdout",
     "output_type": "stream",
     "text": [
      "[1 2 3 4 5]\n"
     ]
    }
   ],
   "source": [
    "#  Examples\n",
    "# ➤ 1. Append in 1D array (default)\n",
    "import numpy as np\n",
    "\n",
    "arr = np.array([1, 2, 3])\n",
    "result = np.append(arr, [4, 5])\n",
    "print(result)\n"
   ]
  },
  {
   "cell_type": "code",
   "execution_count": 185,
   "id": "547b1633-e09f-49e5-87bd-6707da0045be",
   "metadata": {},
   "outputs": [
    {
     "name": "stdout",
     "output_type": "stream",
     "text": [
      "[1 2 3 4 5 6]\n"
     ]
    }
   ],
   "source": [
    "#2. Append in 2D array — axis=None (flattens first)\n",
    "arr2d = np.array([[1, 2],\n",
    "                  [3, 4]])\n",
    "\n",
    "result = np.append(arr2d, [5, 6])\n",
    "print(result)\n"
   ]
  },
  {
   "cell_type": "code",
   "execution_count": 187,
   "id": "8f717961-a9fa-44fb-8a72-d60fbdd4c818",
   "metadata": {},
   "outputs": [
    {
     "name": "stdout",
     "output_type": "stream",
     "text": [
      "[[1 2]\n",
      " [3 4]\n",
      " [5 6]]\n"
     ]
    }
   ],
   "source": [
    "#3. Append row to 2D array — axis=0\n",
    "arr = np.array([[1, 2],\n",
    "                [3, 4]])\n",
    "\n",
    "new_row = [[5, 6]]\n",
    "result = np.append(arr, new_row, axis=0)\n",
    "print(result)\n"
   ]
  },
  {
   "cell_type": "code",
   "execution_count": 179,
   "id": "a4c8f818-3bc2-4a2f-9eba-7db1d35c996d",
   "metadata": {},
   "outputs": [
    {
     "name": "stdout",
     "output_type": "stream",
     "text": [
      "[[1 2 3]\n",
      " [4 5 6]]\n",
      "[[1 2 3]\n",
      " [4 5 6]\n",
      " [7 8 9]]\n"
     ]
    }
   ],
   "source": [
    "#2d array\n",
    "import numpy as np\n",
    "arrapp_2d=np.array([[1,2,3],\n",
    "                  [4,5,6]])\n",
    "print(arrapp_2d)\n",
    "newarrapp_2d=np.append(arrapp_2d,[[7,8,9]],axis=0)\n",
    "print(newarrapp_2d)"
   ]
  },
  {
   "cell_type": "code",
   "execution_count": 189,
   "id": "2cea1bd1-f51e-404f-9e69-4651b0087d3d",
   "metadata": {},
   "outputs": [
    {
     "name": "stdout",
     "output_type": "stream",
     "text": [
      "[[1 2 5]\n",
      " [3 4 6]]\n"
     ]
    }
   ],
   "source": [
    "# 4. Append column to 2D array — axis=1\n",
    "arr = np.array([[1, 2],\n",
    "                [3, 4]])\n",
    "\n",
    "new_col = [[5], [6]]\n",
    "result = np.append(arr, new_col, axis=1)\n",
    "print(result)\n"
   ]
  },
  {
   "cell_type": "code",
   "execution_count": null,
   "id": "f9cb5b27-f81a-4c99-8853-4090a84531a8",
   "metadata": {},
   "outputs": [],
   "source": []
  }
 ],
 "metadata": {
  "kernelspec": {
   "display_name": "Python 3 (ipykernel)",
   "language": "python",
   "name": "python3"
  },
  "language_info": {
   "codemirror_mode": {
    "name": "ipython",
    "version": 3
   },
   "file_extension": ".py",
   "mimetype": "text/x-python",
   "name": "python",
   "nbconvert_exporter": "python",
   "pygments_lexer": "ipython3",
   "version": "3.12.4"
  }
 },
 "nbformat": 4,
 "nbformat_minor": 5
}
