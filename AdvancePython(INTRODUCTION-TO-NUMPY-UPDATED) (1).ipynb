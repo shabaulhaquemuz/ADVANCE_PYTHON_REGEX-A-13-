{
 "cells": [
  {
   "cell_type": "code",
   "execution_count": 1,
   "id": "6b6ddbf7-fbd7-4e8e-8688-1f17d270fbd5",
   "metadata": {},
   "outputs": [],
   "source": [
    "#Numpy- NumPy is a Python library used to perform mathematical tasks, especially with arrays and matrices.\n",
    "#Numpy stands for numerical python\n",
    "\n",
    "# NumPy Overview\n",
    "# NumPy uses arrays to perform operations and store data efficiently.\n",
    "\n",
    "# Why Arrays?\n",
    "# Arrays store data in continuous memory locations.\n",
    "# This makes data access faster compared to Python lists.\n",
    "\n",
    "# Key Advantages of NumPy Arrays(its the difference also between lists and arrays):\n",
    "# Speed: Much faster than lists for numerical tasks.\n",
    "# Efficiency: Consumes less memory due to continuous memory allocation.\n",
    "# Convenient Operations: Supports mathematical operations like addition, multiplication, and trigonometric functions directly on arrays.\n",
    "\n",
    "# Definition:\n",
    "# Broadcasting in NumPy is the ability to perform element-wise operations on arrays of different shapes — by automatically expanding \n",
    "#the smaller array to match the shape of the larger one.\n",
    "# 🎯 In Simple Words:# You can add, subtract, multiply, etc., arrays of different shapes, and NumPy will stretch the smaller array without copying data."
   ]
  },
  {
   "cell_type": "code",
   "execution_count": 4,
   "id": "b41fccf6-0856-473a-a358-9fbf69dc7270",
   "metadata": {},
   "outputs": [
    {
     "name": "stdout",
     "output_type": "stream",
     "text": [
      "Requirement already satisfied: numpy in c:\\users\\shaba\\anaconda3\\lib\\site-packages (1.26.4)\n"
     ]
    }
   ],
   "source": [
    "!pip install numpy\n",
    "\n",
    "#pip install numpy\n",
    "#This is the normal Python command to install the NumPy library from the Python Package Index (PyPI).\n",
    "\n",
    "#This is ! (Exclamation mark)\n",
    "#In Jupyter Notebook or Colab, putting ! before a command allows you to run system shell commands directly from the notebook.\n",
    "\n",
    "# Command Prompt = The tool / application (like CMD.exe in Windows)\n",
    "# System Shell Command = The instructions / commands you type in (like mkdir, cd, pip install numpy)\n",
    "\n",
    "# Example:\n",
    "# If you open Command Prompt (CMD) and type:\n",
    "# pip install numpy\n",
    "# pip install numpy is the shell command.\n",
    "# The CMD window you are typing into is the Command Prompt."
   ]
  },
  {
   "cell_type": "code",
   "execution_count": 1,
   "id": "69af74c8-4e63-4a3b-b3fc-b24e203dda6a",
   "metadata": {},
   "outputs": [
    {
     "name": "stdout",
     "output_type": "stream",
     "text": [
      "<class 'numpy.ndarray'> [0 1 2 3]\n"
     ]
    }
   ],
   "source": [
    "import numpy\n",
    "arr=numpy.arange(4)\n",
    "print(type(arr),arr)\n"
   ]
  },
  {
   "cell_type": "code",
   "execution_count": 12,
   "id": "da4aa811-f5ba-48b9-946f-28cfb57628aa",
   "metadata": {},
   "outputs": [
    {
     "name": "stdout",
     "output_type": "stream",
     "text": [
      "7\n",
      "0\n"
     ]
    }
   ],
   "source": [
    "# ✅ 1. Scalar (0-D array)\n",
    "# A scalar is a single number (just one value), like 5, 3.14, etc.\n",
    "#it has no direction\n",
    "#used to perform arithmetic operations\n",
    "\n",
    "# | Code                 | Meaning                                           |\n",
    "# | -------------------- | ------------------------------------------------- |\n",
    "# | `import numpy`       | Import the NumPy library.                         |\n",
    "# | `import numpy as np` | Import NumPy and use **`np`** as a shortcut name. |\n",
    "\n",
    "    \n",
    "import numpy as np\n",
    "\n",
    "a = np.array(7)\n",
    "print(a)            # Output: 7\n",
    "print(a.ndim)       # 0 (scalar has 0 dimensions) #prints the number of dimensions (axes) of the array.\n"
   ]
  },
  {
   "cell_type": "code",
   "execution_count": 24,
   "id": "5fc7c5ee-8549-4345-9591-fffbea4ffdfb",
   "metadata": {},
   "outputs": [
    {
     "name": "stdout",
     "output_type": "stream",
     "text": [
      "[1 2 3]\n",
      "1\n"
     ]
    }
   ],
   "source": [
    "#  2. Vector (1-D array)\n",
    "# A vector is a 1-dimensional array of numbers.\n",
    "# It can be thought of as a list like [1, 2, 3].\n",
    "# 1D array → No \"vertical only\" or \"horizontal only\" → Just a list of values\n",
    "# Vertical axis appears only in 2D or higher arrays.\n",
    "# Technically, a 1D array has one direction → It’s a linear sequence.\n",
    "# But it is NOT explicitly \"horizontal\" or \"vertical\" because NumPy doesn’t assign a direction to 1D arrays.\n",
    "\n",
    "v = np.array([1, 2, 3])\n",
    "print(v)            # Output: [1 2 3]\n",
    "print(v.ndim)       # 1 (vector)\n"
   ]
  },
  {
   "cell_type": "code",
   "execution_count": 28,
   "id": "5dcacff3-cb4a-43f5-9c4c-10569a65f4da",
   "metadata": {},
   "outputs": [
    {
     "name": "stdout",
     "output_type": "stream",
     "text": [
      "[[1 2 3]\n",
      " [4 5 6]]\n",
      "2\n"
     ]
    }
   ],
   "source": [
    "# ✅ 3. Matrix (2-D array)\n",
    "# A matrix is a 2-dimensional array of numbers — rows and columns.\n",
    "m = np.array([[1, 2, 3],\n",
    "              [4, 5, 6]])\n",
    "print(m)\n",
    "# Output:\n",
    "# [[1 2 3]\n",
    "#  [4 5 6]]\n",
    "\n",
    "print(m.ndim)       # 2 (matrix)\n",
    "\n",
    "#Are the number of rows and columns always the same in a matrix?\n",
    "#❌ No, in general matrices do not have to be square.\n",
    "# | Matrix Type            | Description      | Example Shape      |\n",
    "# | ---------------------- | ---------------- | ------------------ |\n",
    "# | **Square Matrix**      | Rows = Columns   | `2x2`, `3x3`, etc. |\n",
    "# | **Rectangular Matrix** | Rows ≠ Columns   | `2x3`, `3x2`, etc. |\n",
    "# | **Row Vector**         | 1 row, N columns | `1x3`              |\n",
    "# | **Column Vector**      | N rows, 1 column | `3x1`              |\n"
   ]
  },
  {
   "cell_type": "code",
   "execution_count": 5,
   "id": "0c1807ee-3cc6-4905-8119-979b7c7b1ed7",
   "metadata": {},
   "outputs": [
    {
     "name": "stdout",
     "output_type": "stream",
     "text": [
      "[[1 2 3]]\n",
      "Shape: (1, 3)\n"
     ]
    }
   ],
   "source": [
    "#✅ 1. Row Vector\n",
    "#A row vector is a 2D array with 1 row and N columns.\n",
    "import numpy as np\n",
    "\n",
    "row_vec = np.array([[1, 2, 3]])\n",
    "print(row_vec)\n",
    "print(\"Shape:\", row_vec.shape)  # (1, 3)\n",
    "\n",
    "\n",
    "# | **Number** | **Meaning**           |\n",
    "# | ---------- | --------------------- |\n",
    "# | `1`        | **Number of rows**    |\n",
    "# | `3`        | **Number of columns** |\n"
   ]
  },
  {
   "cell_type": "code",
   "execution_count": 32,
   "id": "9014b707-39fd-438c-b351-48124d62dc98",
   "metadata": {},
   "outputs": [
    {
     "name": "stdout",
     "output_type": "stream",
     "text": [
      "[[1]\n",
      " [2]\n",
      " [3]]\n",
      "Shape: (3, 1)\n"
     ]
    }
   ],
   "source": [
    "#  2. Column Vector\n",
    "# A column vector is a 2D array with N rows and 1 column\n",
    "col_vec = np.array([[1],\n",
    "                    [2],\n",
    "                    [3]])\n",
    "print(col_vec)\n",
    "print(\"Shape:\", col_vec.shape)  # (3, 1)\n"
   ]
  },
  {
   "cell_type": "code",
   "execution_count": 17,
   "id": "0340cf3e-e1ad-4f9a-860a-b65293328770",
   "metadata": {},
   "outputs": [
    {
     "name": "stdout",
     "output_type": "stream",
     "text": [
      "4\n",
      "(4,)\n",
      "4\n",
      "[100   1   2   3] <class 'numpy.ndarray'>\n"
     ]
    }
   ],
   "source": [
    "import numpy as np\n",
    "arr=np.arange(4)\n",
    "arr.size\n",
    "print(arr.size)\n",
    "arr.shape\n",
    "arr[0]=100\n",
    "print(arr.shape)\n",
    "print(arr.size)\n",
    "print(arr,type(arr))"
   ]
  },
  {
   "cell_type": "code",
   "execution_count": 46,
   "id": "e9a050ef-7ca9-4b58-ac53-57e277391db7",
   "metadata": {},
   "outputs": [
    {
     "name": "stdout",
     "output_type": "stream",
     "text": [
      "[0 1 2 3 4 5 6 7 8 9]\n"
     ]
    }
   ],
   "source": [
    "import numpy as np\n",
    "arr1=np.arange(10)\n",
    "print(arr1)"
   ]
  },
  {
   "cell_type": "code",
   "execution_count": 19,
   "id": "99263f0b-5d4d-4abb-935f-c1d5cdb290bb",
   "metadata": {},
   "outputs": [
    {
     "name": "stdout",
     "output_type": "stream",
     "text": [
      "10\n",
      "(10,)\n"
     ]
    }
   ],
   "source": [
    "import numpy as np\n",
    "arr2=np.arange(10)\n",
    "print(arr2.size)\n",
    "print(arr2.shape)\n",
    "#shape shows number of rows and columns"
   ]
  },
  {
   "cell_type": "code",
   "execution_count": 74,
   "id": "8492fe92-1329-4897-8a0d-3d4c74f5e0c2",
   "metadata": {},
   "outputs": [
    {
     "name": "stdout",
     "output_type": "stream",
     "text": [
      "(3,) (5,)\n",
      "[10 20 30] [30 40 50 60 70]\n"
     ]
    }
   ],
   "source": [
    "import numpy as np\n",
    "arr3=np.array([10,20,30])\n",
    "arr4=np.array([30,40,50,60,70])\n",
    "print(arr3.shape,arr4.shape)\n",
    "print(arr3,arr4)"
   ]
  },
  {
   "cell_type": "code",
   "execution_count": 78,
   "id": "050cd2c3-d13f-4f8b-aa0b-47358a2ac351",
   "metadata": {},
   "outputs": [
    {
     "name": "stdout",
     "output_type": "stream",
     "text": [
      "(3,) (1, 5)\n",
      "[10 20 30] [[30 40 50 60 70]]\n"
     ]
    }
   ],
   "source": [
    "import numpy as np\n",
    "arr5=np.array([10,20,30])\n",
    "arr6=np.array([[30,40,50,60,70]])\n",
    "print(arr5.shape,arr6.shape)\n",
    "print(arr5,arr6)\n",
    "#1 row 5 column...row vector"
   ]
  },
  {
   "cell_type": "code",
   "execution_count": 7,
   "id": "db0e8228-29f4-4a1f-8727-0261d86d3c0b",
   "metadata": {},
   "outputs": [
    {
     "name": "stdout",
     "output_type": "stream",
     "text": [
      "(1, 2, 3)\n",
      "[[[ 10  20  30]\n",
      "  [ 50 100 500]]]\n",
      "[[ 10  20  30  50 100 500]]\n"
     ]
    }
   ],
   "source": [
    "import numpy as np\n",
    "arr7=np.array([[[10,20,30],\n",
    "             [50,100,500]]])\n",
    "print(arr7.shape)\n",
    "print(arr7)\n",
    "\n",
    "arr8=arr7.reshape((1,6))\n",
    "print(arr8)\n",
    "#2 rows, three columns...column vector"
   ]
  },
  {
   "cell_type": "code",
   "execution_count": 9,
   "id": "ca84eaff-aa90-4054-b28b-f691a2ae020d",
   "metadata": {},
   "outputs": [
    {
     "name": "stdout",
     "output_type": "stream",
     "text": [
      "[[ 10]\n",
      " [ 20]\n",
      " [ 30]\n",
      " [ 50]\n",
      " [100]\n",
      " [500]]\n"
     ]
    }
   ],
   "source": [
    "#if you want it to print like a table (row × column)..\n",
    "#But if you want to see it in column form, you can transpose it:\n",
    "print(arr8.T)"
   ]
  },
  {
   "cell_type": "code",
   "execution_count": 17,
   "id": "dcf14bd9-19c2-4025-abf6-9911522bfe26",
   "metadata": {},
   "outputs": [
    {
     "data": {
      "text/plain": [
       "array([0., 0., 0., 0., 0.])"
      ]
     },
     "execution_count": 17,
     "metadata": {},
     "output_type": "execute_result"
    }
   ],
   "source": [
    "np.zeros((5))\n",
    "#1D example of np.zeros()\n"
   ]
  },
  {
   "cell_type": "code",
   "execution_count": 19,
   "id": "477d3e8d-cf92-4626-866b-2c55674b54be",
   "metadata": {},
   "outputs": [
    {
     "data": {
      "text/plain": [
       "array([[0., 0., 0., 0., 0., 0.]])"
      ]
     },
     "execution_count": 19,
     "metadata": {},
     "output_type": "execute_result"
    }
   ],
   "source": [
    "np.zeros((1,6))\n",
    "#2D example np.zeros()"
   ]
  },
  {
   "cell_type": "code",
   "execution_count": 21,
   "id": "73969e4b-9f25-4d09-8b4c-7f4b10aaac1c",
   "metadata": {},
   "outputs": [
    {
     "data": {
      "text/plain": [
       "array([[0., 0., 0., 0., 0., 0.]])"
      ]
     },
     "execution_count": 21,
     "metadata": {},
     "output_type": "execute_result"
    }
   ],
   "source": [
    "np.zeros(((1,6)))\n",
    "#it is akso a 2-D array only"
   ]
  },
  {
   "cell_type": "code",
   "execution_count": 23,
   "id": "28dfaeab-88eb-41da-afed-6bae9833f156",
   "metadata": {},
   "outputs": [
    {
     "data": {
      "text/plain": [
       "array([[[[0., 0., 0., 0.],\n",
       "         [0., 0., 0., 0.],\n",
       "         [0., 0., 0., 0.]],\n",
       "\n",
       "        [[0., 0., 0., 0.],\n",
       "         [0., 0., 0., 0.],\n",
       "         [0., 0., 0., 0.]]]])"
      ]
     },
     "execution_count": 23,
     "metadata": {},
     "output_type": "execute_result"
    }
   ],
   "source": [
    "# | Shape you give        | Array type created               |\n",
    "# | --------------------- | -------------------------------- |\n",
    "# | `np.zeros(5)`         | **1D array** → shape `(5,)`      |\n",
    "# | `np.zeros((2,6))`     | **2D array** → shape `(2,6)`     |\n",
    "# | `np.zeros((3,4,2))`   | **3D array** → shape `(3,4,2)`   |\n",
    "# | `np.zeros((2,3,4,5))` | **4D array** → shape `(2,3,4,5)` |\n",
    "np.zeros((1,2,3,4))"
   ]
  },
  {
   "cell_type": "code",
   "execution_count": 25,
   "id": "6ddbcb39-bbf6-4b00-9627-7f1aa642b10a",
   "metadata": {},
   "outputs": [
    {
     "data": {
      "text/plain": [
       "array([1., 1., 1., 1., 1., 1.])"
      ]
     },
     "execution_count": 25,
     "metadata": {},
     "output_type": "execute_result"
    }
   ],
   "source": [
    "np.ones(6)\n",
    "#1d array using ones"
   ]
  },
  {
   "cell_type": "code",
   "execution_count": 27,
   "id": "3f4cd6d9-b4ed-469e-bded-028abd16cd6c",
   "metadata": {},
   "outputs": [
    {
     "data": {
      "text/plain": [
       "array([[1., 1., 1., 1., 1.]])"
      ]
     },
     "execution_count": 27,
     "metadata": {},
     "output_type": "execute_result"
    }
   ],
   "source": [
    "np.ones((1,5))\n",
    "#2d array using ones"
   ]
  },
  {
   "cell_type": "code",
   "execution_count": 35,
   "id": "0d5e3a62-5383-4ec0-9511-d90e4aca2175",
   "metadata": {},
   "outputs": [
    {
     "name": "stdout",
     "output_type": "stream",
     "text": [
      "[[[1. 1. 1.]\n",
      "  [1. 1. 1.]]]\n",
      "[[[1.]\n",
      "  [1.]]\n",
      "\n",
      " [[1.]\n",
      "  [1.]]\n",
      "\n",
      " [[1.]\n",
      "  [1.]]]\n"
     ]
    }
   ],
   "source": [
    "az=np.ones((1,2,3))\n",
    "print(az)     #3d array using ones\n",
    "print(az.T)   #3d array in table form\n",
    "#This is a 3D array of ones\n",
    "#(1, 2, 3)\n",
    "# | Number | What it means                               |\n",
    "# | ------ | ------------------------------------------- |\n",
    "# | `1`    | **Number of blocks** (like layers or depth) |\n",
    "# | `2`    | **Number of rows in each block**            |\n",
    "# | `3`    | **Number of columns in each row**           |\n",
    "\n",
    "# What does az.T do?\n",
    "# .T = Transpose\n",
    "# For 3D arrays, transpose will swap the axes:\n",
    "\n",
    "# Original shape: (1,2,3)   here 2 rows and 3 columns\n",
    "\n",
    "# Transposed shape: (3,2,1)  after transpose, 2 rows and 3 columns"
   ]
  },
  {
   "cell_type": "code",
   "execution_count": 47,
   "id": "704022e1-618d-425b-96d9-0f12f6f8cec4",
   "metadata": {},
   "outputs": [
    {
     "data": {
      "text/plain": [
       "array([[ 0.,  1.],\n",
       "       [ 2.,  3.],\n",
       "       [ 4.,  5.],\n",
       "       [ 6.,  7.],\n",
       "       [ 8.,  9.],\n",
       "       [10., 11.]])"
      ]
     },
     "execution_count": 47,
     "metadata": {},
     "output_type": "execute_result"
    }
   ],
   "source": [
    "arr9=np.arange(12, dtype=\"float\")\n",
    "arr9=arr9.reshape(6,2)\n",
    "arr9\n"
   ]
  },
  {
   "cell_type": "code",
   "execution_count": 57,
   "id": "af32ebb5-ef11-402d-a95c-37325ebdaa64",
   "metadata": {},
   "outputs": [
    {
     "ename": "ValueError",
     "evalue": "cannot reshape array of size 10 into shape (6,2)",
     "output_type": "error",
     "traceback": [
      "\u001b[1;31m---------------------------------------------------------------------------\u001b[0m",
      "\u001b[1;31mValueError\u001b[0m                                Traceback (most recent call last)",
      "Cell \u001b[1;32mIn[57], line 2\u001b[0m\n\u001b[0;32m      1\u001b[0m arr9\u001b[38;5;241m=\u001b[39mnp\u001b[38;5;241m.\u001b[39marange(\u001b[38;5;241m10\u001b[39m, dtype\u001b[38;5;241m=\u001b[39m\u001b[38;5;124m\"\u001b[39m\u001b[38;5;124mfloat\u001b[39m\u001b[38;5;124m\"\u001b[39m)\n\u001b[1;32m----> 2\u001b[0m arr9\u001b[38;5;241m=\u001b[39marr9\u001b[38;5;241m.\u001b[39mreshape(\u001b[38;5;241m6\u001b[39m,\u001b[38;5;241m2\u001b[39m)\n\u001b[0;32m      3\u001b[0m arr9\n",
      "\u001b[1;31mValueError\u001b[0m: cannot reshape array of size 10 into shape (6,2)"
     ]
    }
   ],
   "source": [
    "arr9=np.arange(10, dtype=\"float\")\n",
    "arr9=arr9.reshape(6,2)\n",
    "arr9\n",
    "#reshape can be done if the elements are in multiple"
   ]
  },
  {
   "cell_type": "code",
   "execution_count": 106,
   "id": "3cf8f8e4-a613-4878-95f4-44d3cd4e008c",
   "metadata": {},
   "outputs": [
    {
     "data": {
      "text/plain": [
       "array([[1., 1.],\n",
       "       [1., 1.],\n",
       "       [1., 1.],\n",
       "       [1., 1.],\n",
       "       [1., 1.]])"
      ]
     },
     "execution_count": 106,
     "metadata": {},
     "output_type": "execute_result"
    }
   ],
   "source": [
    "arr9=np.arange(10, dtype=\"float\")\n",
    "arr9=arr9.reshape(5,2)\n",
    "arr9\n",
    "np.ones_like(arr9)\n",
    "\n",
    "# | Function              | What it does                                   |\n",
    "# | --------------------- | ---------------------------------------------- |\n",
    "# | `np.ones(shape)`      | **You specify the shape manually**             |\n",
    "# | `np.ones_like(array)` | **Automatically takes the shape from `array`** |\n",
    "\n",
    "#in ones we give the shape by ourself, ones_like takes the shape by looking at the array"
   ]
  },
  {
   "cell_type": "code",
   "execution_count": 110,
   "id": "f3166955-b9f8-45c4-8f29-4f2acde0ce4e",
   "metadata": {},
   "outputs": [
    {
     "data": {
      "text/plain": [
       "array([[0., 0.],\n",
       "       [0., 0.],\n",
       "       [0., 0.],\n",
       "       [0., 0.],\n",
       "       [0., 0.]])"
      ]
     },
     "execution_count": 110,
     "metadata": {},
     "output_type": "execute_result"
    }
   ],
   "source": [
    "arr9=np.arange(10, dtype=\"float\")\n",
    "arr9=arr9.reshape(5,2)\n",
    "arr9\n",
    "np.zeros_like(arr9)"
   ]
  },
  {
   "cell_type": "code",
   "execution_count": 118,
   "id": "3cbaa70a-9a4b-472e-95fe-6de6ae05eb63",
   "metadata": {},
   "outputs": [
    {
     "name": "stdout",
     "output_type": "stream",
     "text": [
      "[1 3 5 7 9]\n"
     ]
    }
   ],
   "source": [
    "import numpy as np\n",
    "\n",
    "a = np.array([1, 2, 3])          # 1D array → shape: (3,)\n",
    "b = np.array([[1, 2], [3, 4]])   # 2D array → shape: (2, 2)\n",
    "c = np.zeros((2, 3))             # 2D array of zeros → shape: (2, 3)\n",
    "d = np.ones((3, 3))              # 2D array of ones → shape: (3, 3)\n",
    "e = np.eye(3)                    # Identity matrix (3x3) → diagonal ones\n",
    "f = np.arange(1, 10, 2)          # 1D array → range from 1 to 9 with step 2 → [1 3 5 7 9]\n",
    "\n",
    "print(f)                         # Output: [1 3 5 7 9]\n"
   ]
  },
  {
   "cell_type": "code",
   "execution_count": 1,
   "id": "f364f9db-0ceb-42fc-9b4d-bdfa7a5900dc",
   "metadata": {},
   "outputs": [
    {
     "data": {
      "text/plain": [
       "(3,)"
      ]
     },
     "execution_count": 1,
     "metadata": {},
     "output_type": "execute_result"
    }
   ],
   "source": [
    "import numpy as np\n",
    "z1=np.array([1,2,3])\n",
    "z1.shape"
   ]
  },
  {
   "cell_type": "code",
   "execution_count": 59,
   "id": "81e74a9f-a78c-4395-99f9-9918171303c5",
   "metadata": {},
   "outputs": [
    {
     "data": {
      "text/plain": [
       "array([[1., 0., 0., 0.],\n",
       "       [0., 1., 0., 0.],\n",
       "       [0., 0., 1., 0.],\n",
       "       [0., 0., 0., 1.]])"
      ]
     },
     "execution_count": 59,
     "metadata": {},
     "output_type": "execute_result"
    }
   ],
   "source": [
    "np.eye(4)"
   ]
  },
  {
   "cell_type": "code",
   "execution_count": 63,
   "id": "ce221895-a592-4a27-b1af-fab28a188d39",
   "metadata": {},
   "outputs": [
    {
     "data": {
      "text/plain": [
       "array([[1., 0., 0., 0., 0.],\n",
       "       [0., 1., 0., 0., 0.],\n",
       "       [0., 0., 1., 0., 0.],\n",
       "       [0., 0., 0., 1., 0.],\n",
       "       [0., 0., 0., 0., 1.]])"
      ]
     },
     "execution_count": 63,
     "metadata": {},
     "output_type": "execute_result"
    }
   ],
   "source": [
    "import numpy\n",
    "numpy.eye(5)"
   ]
  },
  {
   "cell_type": "code",
   "execution_count": null,
   "id": "d76abb9c-1808-4ad6-b05a-82ab9f755f71",
   "metadata": {},
   "outputs": [],
   "source": []
  }
 ],
 "metadata": {
  "kernelspec": {
   "display_name": "Python 3 (ipykernel)",
   "language": "python",
   "name": "python3"
  },
  "language_info": {
   "codemirror_mode": {
    "name": "ipython",
    "version": 3
   },
   "file_extension": ".py",
   "mimetype": "text/x-python",
   "name": "python",
   "nbconvert_exporter": "python",
   "pygments_lexer": "ipython3",
   "version": "3.12.4"
  }
 },
 "nbformat": 4,
 "nbformat_minor": 5
}
