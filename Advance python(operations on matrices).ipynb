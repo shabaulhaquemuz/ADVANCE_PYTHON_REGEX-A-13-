{
 "cells": [
  {
   "cell_type": "code",
   "execution_count": 3,
   "id": "a48b5bc2-80a7-4976-b43a-619316db7fc7",
   "metadata": {},
   "outputs": [
    {
     "name": "stdout",
     "output_type": "stream",
     "text": [
      "[[10 20 30]\n",
      " [40 50 60]]\n"
     ]
    }
   ],
   "source": [
    "#slicing and indexing\n",
    "import numpy as np\n",
    "arr=np.array([[10,20,30],[40,50,60]])\n",
    "print(arr)"
   ]
  },
  {
   "cell_type": "code",
   "execution_count": 7,
   "id": "1adc0d75-8e7e-4a24-8b05-22a98407bd29",
   "metadata": {},
   "outputs": [
    {
     "data": {
      "text/plain": [
       "array([10, 20, 30])"
      ]
     },
     "execution_count": 7,
     "metadata": {},
     "output_type": "execute_result"
    }
   ],
   "source": [
    "arr[0]"
   ]
  },
  {
   "cell_type": "code",
   "execution_count": 9,
   "id": "82987877-aff8-4b23-82e5-92e0049e486a",
   "metadata": {},
   "outputs": [
    {
     "data": {
      "text/plain": [
       "array([40, 50, 60])"
      ]
     },
     "execution_count": 9,
     "metadata": {},
     "output_type": "execute_result"
    }
   ],
   "source": [
    "arr[1]"
   ]
  },
  {
   "cell_type": "code",
   "execution_count": 13,
   "id": "8c81aae6-5a0b-4c2a-866a-0d219506052f",
   "metadata": {},
   "outputs": [
    {
     "data": {
      "text/plain": [
       "10"
      ]
     },
     "execution_count": 13,
     "metadata": {},
     "output_type": "execute_result"
    }
   ],
   "source": [
    "arr[0][0]"
   ]
  },
  {
   "cell_type": "code",
   "execution_count": 15,
   "id": "49749b5f-28c0-48d7-9e58-c4e7635697a2",
   "metadata": {},
   "outputs": [
    {
     "data": {
      "text/plain": [
       "20"
      ]
     },
     "execution_count": 15,
     "metadata": {},
     "output_type": "execute_result"
    }
   ],
   "source": [
    "arr[0][1]"
   ]
  },
  {
   "cell_type": "code",
   "execution_count": 17,
   "id": "fd83f406-bdf6-41f8-9b02-90f91209e6d3",
   "metadata": {},
   "outputs": [
    {
     "data": {
      "text/plain": [
       "30"
      ]
     },
     "execution_count": 17,
     "metadata": {},
     "output_type": "execute_result"
    }
   ],
   "source": [
    "arr[0][2]"
   ]
  },
  {
   "cell_type": "code",
   "execution_count": 19,
   "id": "18d9d85b-27ad-4aa4-b71b-3c5dfcb8200a",
   "metadata": {},
   "outputs": [
    {
     "data": {
      "text/plain": [
       "array([[10, 20, 30],\n",
       "       [40, 50, 60]])"
      ]
     },
     "execution_count": 19,
     "metadata": {},
     "output_type": "execute_result"
    }
   ],
   "source": [
    "arr[:]"
   ]
  },
  {
   "cell_type": "code",
   "execution_count": 21,
   "id": "d558ba56-b7db-4c30-8af1-36aedf348558",
   "metadata": {},
   "outputs": [
    {
     "data": {
      "text/plain": [
       "array([20, 50])"
      ]
     },
     "execution_count": 21,
     "metadata": {},
     "output_type": "execute_result"
    }
   ],
   "source": [
    "arr[:,1]"
   ]
  },
  {
   "cell_type": "code",
   "execution_count": 25,
   "id": "48dd6278-da23-40b7-857a-aeb39f3ee583",
   "metadata": {},
   "outputs": [
    {
     "data": {
      "text/plain": [
       "60"
      ]
     },
     "execution_count": 25,
     "metadata": {},
     "output_type": "execute_result"
    }
   ],
   "source": [
    "arr[1][2]"
   ]
  },
  {
   "cell_type": "code",
   "execution_count": 102,
   "id": "e009de39-24d5-40d8-ba4d-5f09bfdf4b18",
   "metadata": {},
   "outputs": [
    {
     "name": "stdout",
     "output_type": "stream",
     "text": [
      "[[10 20]\n",
      " [40 50]]\n",
      "[10 20 40 50]\n"
     ]
    }
   ],
   "source": [
    "print(arr[0:,0:2])\n",
    "print(arr[0:,0:2].flatten()) #flatten is a function which is used to convert 2d array into 1d array"
   ]
  },
  {
   "cell_type": "code",
   "execution_count": 133,
   "id": "f875ea4e-1df4-49a7-9fa7-aff1d163be50",
   "metadata": {},
   "outputs": [
    {
     "name": "stdout",
     "output_type": "stream",
     "text": [
      "[[10 20 30]\n",
      " [40 50 60]]\n",
      "[30 40 50 60]\n",
      "[10 20 30 40]\n",
      "[28 40 48 60]\n"
     ]
    }
   ],
   "source": [
    "#filtering data from array\n",
    "arr1=np.array([[10,20,30],[40,50,60]])\n",
    "print(arr1)\n",
    "print(arr1[arr1>25])\n",
    "print(arr1[arr1<50])\n",
    "print((arr1[arr1>25]) & (arr1[arr1>50]) )"
   ]
  },
  {
   "cell_type": "code",
   "execution_count": 135,
   "id": "3669bb8f-f8ad-4cb2-adaf-509cfacee37d",
   "metadata": {},
   "outputs": [
    {
     "data": {
      "text/plain": [
       "array([[20, 30, 40],\n",
       "       [50, 60, 70]])"
      ]
     },
     "execution_count": 135,
     "metadata": {},
     "output_type": "execute_result"
    }
   ],
   "source": [
    "arr2=np.array([[10,20,30],[40,50,60]])\n",
    "arr2+10"
   ]
  },
  {
   "cell_type": "code",
   "execution_count": 137,
   "id": "0587ded9-4559-4fe6-821d-68c7e28672ca",
   "metadata": {},
   "outputs": [
    {
     "name": "stdout",
     "output_type": "stream",
     "text": [
      "[[ 20  40  60]\n",
      " [ 80 100 120]]\n"
     ]
    }
   ],
   "source": [
    "arr3=np.array([[10,20,30],[40,50,60]])\n",
    "arr4=np.array([[10,20,30],[40,50,60]])\n",
    "print(arr3+arr4)"
   ]
  },
  {
   "cell_type": "code",
   "execution_count": 143,
   "id": "c1344c38-4acc-409d-824e-d3fae226f9b4",
   "metadata": {},
   "outputs": [
    {
     "ename": "ValueError",
     "evalue": "setting an array element with a sequence. The requested array has an inhomogeneous shape after 1 dimensions. The detected shape was (2,) + inhomogeneous part.",
     "output_type": "error",
     "traceback": [
      "\u001b[1;31m---------------------------------------------------------------------------\u001b[0m",
      "\u001b[1;31mValueError\u001b[0m                                Traceback (most recent call last)",
      "Cell \u001b[1;32mIn[143], line 2\u001b[0m\n\u001b[0;32m      1\u001b[0m arr4\u001b[38;5;241m=\u001b[39mnp\u001b[38;5;241m.\u001b[39marray([[\u001b[38;5;241m10\u001b[39m,\u001b[38;5;241m20\u001b[39m,\u001b[38;5;241m30\u001b[39m],[\u001b[38;5;241m40\u001b[39m,\u001b[38;5;241m50\u001b[39m,\u001b[38;5;241m60\u001b[39m]])\n\u001b[1;32m----> 2\u001b[0m arr5\u001b[38;5;241m=\u001b[39mnp\u001b[38;5;241m.\u001b[39marray([[\u001b[38;5;241m10\u001b[39m,\u001b[38;5;241m20\u001b[39m,\u001b[38;5;241m30\u001b[39m],[\u001b[38;5;241m40\u001b[39m,\u001b[38;5;241m50\u001b[39m]])\n\u001b[0;32m      3\u001b[0m \u001b[38;5;28mprint\u001b[39m(arr4\u001b[38;5;241m+\u001b[39marr5)\n",
      "\u001b[1;31mValueError\u001b[0m: setting an array element with a sequence. The requested array has an inhomogeneous shape after 1 dimensions. The detected shape was (2,) + inhomogeneous part."
     ]
    }
   ],
   "source": [
    "arr4=np.array([[10,20,30],[40,50,60]])\n",
    "arr5=np.array([[10,20,30],[40,50]])\n",
    "print(arr4+arr5)\n",
    "#elements of same size can be added only through addition"
   ]
  },
  {
   "cell_type": "code",
   "execution_count": 149,
   "id": "2d1d1a92-df16-42e9-a6d0-31edd0405c9c",
   "metadata": {},
   "outputs": [
    {
     "name": "stdout",
     "output_type": "stream",
     "text": [
      "[28 64]\n"
     ]
    }
   ],
   "source": [
    "#multiplication of 2d with 1d\n",
    "a=np.array([[1,2,3],[4,5,6]])\n",
    "b=np.array([2,4,6])\n",
    "result=np.dot(a,b)\n",
    "print(result)\n"
   ]
  },
  {
   "cell_type": "code",
   "execution_count": 163,
   "id": "9054e60b-80b1-49c4-b5e0-358f37910b3d",
   "metadata": {},
   "outputs": [
    {
     "name": "stdout",
     "output_type": "stream",
     "text": [
      "[[ 82 134]\n",
      " [178 296]]\n"
     ]
    }
   ],
   "source": [
    "#multiplication of 2d with 2d\n",
    "a1=np.array([[1,2,3],[4,5,6]])\n",
    "b1=np.array([[2,4],[10,20],[20,30]])\n",
    "result=np.dot(a1,b1)\n",
    "print(result)\n"
   ]
  },
  {
   "cell_type": "code",
   "execution_count": 153,
   "id": "60cb78ce-c1f6-44ce-9d46-e67e91c907c8",
   "metadata": {},
   "outputs": [
    {
     "name": "stdout",
     "output_type": "stream",
     "text": [
      "[[ 5  8 11]\n",
      " [ 8 13 18]\n",
      " [11 18 25]]\n"
     ]
    }
   ],
   "source": [
    "m=np.array([[1,2,3],[2,3,4]])\n",
    "n=np.array([[1,2],[2,3],[3,4]])\n",
    "result1=np.dot(n,m)\n",
    "print(result1)"
   ]
  },
  {
   "cell_type": "code",
   "execution_count": 165,
   "id": "e0d3c10b-be0b-4ed8-a95f-29fce204ce0a",
   "metadata": {},
   "outputs": [
    {
     "name": "stdout",
     "output_type": "stream",
     "text": [
      "[[14 20 26 32]\n",
      " [20 29 38 47]\n",
      " [32 47 62 77]]\n"
     ]
    }
   ],
   "source": [
    "# 3*n n*4\n",
    "m1=np.array([[1,2,3],[2,3,4],[4,5,6]])\n",
    "n1=np.array([[1,2,3,4],[2,3,4,5],[3,4,5,6]])\n",
    "result2=np.dot(m1,n1)\n",
    "print(result2)"
   ]
  },
  {
   "cell_type": "code",
   "execution_count": 171,
   "id": "aa9ccb85-f073-471b-ba58-e3c921baca7a",
   "metadata": {},
   "outputs": [
    {
     "data": {
      "text/plain": [
       "10"
      ]
     },
     "execution_count": 171,
     "metadata": {},
     "output_type": "execute_result"
    }
   ],
   "source": [
    "data=np.array([[1,2],[3,4]])\n",
    "np.sum(data)"
   ]
  },
  {
   "cell_type": "code",
   "execution_count": 173,
   "id": "eecaa47b-3557-4c00-963d-83d40c866cb0",
   "metadata": {},
   "outputs": [
    {
     "data": {
      "text/plain": [
       "2.5"
      ]
     },
     "execution_count": 173,
     "metadata": {},
     "output_type": "execute_result"
    }
   ],
   "source": [
    "np.mean(data)"
   ]
  },
  {
   "cell_type": "code",
   "execution_count": 175,
   "id": "354f790d-ab9d-4b25-a5a3-098af952504f",
   "metadata": {},
   "outputs": [
    {
     "data": {
      "text/plain": [
       "array([1, 2])"
      ]
     },
     "execution_count": 175,
     "metadata": {},
     "output_type": "execute_result"
    }
   ],
   "source": [
    "np.min(data,axis=0)"
   ]
  },
  {
   "cell_type": "code",
   "execution_count": 177,
   "id": "06bae4fb-36d2-4575-943a-9af58ce0ab60",
   "metadata": {},
   "outputs": [
    {
     "data": {
      "text/plain": [
       "array([3, 4])"
      ]
     },
     "execution_count": 177,
     "metadata": {},
     "output_type": "execute_result"
    }
   ],
   "source": [
    "np.max(data,axis=0)"
   ]
  },
  {
   "cell_type": "code",
   "execution_count": 179,
   "id": "df9d214d-fe63-4356-bc07-89125f898990",
   "metadata": {},
   "outputs": [
    {
     "data": {
      "text/plain": [
       "array([1, 3])"
      ]
     },
     "execution_count": 179,
     "metadata": {},
     "output_type": "execute_result"
    }
   ],
   "source": [
    "np.min(data,axis=1)"
   ]
  },
  {
   "cell_type": "code",
   "execution_count": 181,
   "id": "63502bca-fcb0-4def-8724-4b523cf7a233",
   "metadata": {},
   "outputs": [
    {
     "data": {
      "text/plain": [
       "array([2, 4])"
      ]
     },
     "execution_count": 181,
     "metadata": {},
     "output_type": "execute_result"
    }
   ],
   "source": [
    "np.max(data,axis=1)"
   ]
  },
  {
   "cell_type": "code",
   "execution_count": 195,
   "id": "b973552d-ceda-44b6-b5fe-30195a5d2e0c",
   "metadata": {},
   "outputs": [
    {
     "data": {
      "text/plain": [
       "array([4, 6])"
      ]
     },
     "execution_count": 195,
     "metadata": {},
     "output_type": "execute_result"
    }
   ],
   "source": [
    "np.sum(data,axis=0)"
   ]
  },
  {
   "cell_type": "code",
   "execution_count": 197,
   "id": "83848c16-e961-453e-b55c-9c4ebb09c982",
   "metadata": {},
   "outputs": [
    {
     "data": {
      "text/plain": [
       "array([3, 7])"
      ]
     },
     "execution_count": 197,
     "metadata": {},
     "output_type": "execute_result"
    }
   ],
   "source": [
    "np.sum(data,axis=1)"
   ]
  },
  {
   "cell_type": "code",
   "execution_count": 185,
   "id": "f5e1fd39-458b-49ae-a57d-c2d7fc552c82",
   "metadata": {},
   "outputs": [
    {
     "data": {
      "text/plain": [
       "array([[1, 2],\n",
       "       [2, 3],\n",
       "       [5, 6]])"
      ]
     },
     "execution_count": 185,
     "metadata": {},
     "output_type": "execute_result"
    }
   ],
   "source": [
    "x=np.array([[1,2],\n",
    "           [2,3]])\n",
    "y=np.array([[5,6]])\n",
    "np.vstack((x,y))\n",
    "\n",
    "# np.vstack() – Vertical Stack\n",
    "# np.vstack((x, y)) means stack arrays vertically (row-wise).\n",
    "\n",
    "# Think of it like adding y as a new row below x.\n",
    "\n",
    "# np.hstack() – Horizontal Stack\n",
    "# np.hstack((x, y)) means stack arrays horizontally (column-wise).\n",
    "\n",
    "# You need to match the number of rows, not columns.\n",
    "\n",
    "# Each array is placed side by side."
   ]
  },
  {
   "cell_type": "code",
   "execution_count": 191,
   "id": "606710e6-d448-456d-aec5-bebb76f1daca",
   "metadata": {},
   "outputs": [
    {
     "data": {
      "text/plain": [
       "array([[1, 2],\n",
       "       [2, 3],\n",
       "       [5, 6],\n",
       "       [7, 8]])"
      ]
     },
     "execution_count": 191,
     "metadata": {},
     "output_type": "execute_result"
    }
   ],
   "source": [
    "x1=np.array([[1,2],\n",
    "           [2,3]])\n",
    "y1=np.array([[5,6],\n",
    "            [7,8]])\n",
    "np.vstack((x1,y1))\n"
   ]
  },
  {
   "cell_type": "code",
   "execution_count": 193,
   "id": "0b3a43d1-30d4-4116-ba15-0564bb580091",
   "metadata": {},
   "outputs": [
    {
     "data": {
      "text/plain": [
       "array([[1, 2, 5, 6],\n",
       "       [2, 3, 7, 8]])"
      ]
     },
     "execution_count": 193,
     "metadata": {},
     "output_type": "execute_result"
    }
   ],
   "source": [
    "np.hstack((x1,y1))"
   ]
  },
  {
   "cell_type": "code",
   "execution_count": null,
   "id": "86bfba47-955b-4807-99b2-53357aea7d30",
   "metadata": {},
   "outputs": [],
   "source": [
    "#how to read a data from a file using numpy\n",
    "#broadcasting"
   ]
  }
 ],
 "metadata": {
  "kernelspec": {
   "display_name": "Python 3 (ipykernel)",
   "language": "python",
   "name": "python3"
  },
  "language_info": {
   "codemirror_mode": {
    "name": "ipython",
    "version": 3
   },
   "file_extension": ".py",
   "mimetype": "text/x-python",
   "name": "python",
   "nbconvert_exporter": "python",
   "pygments_lexer": "ipython3",
   "version": "3.12.4"
  }
 },
 "nbformat": 4,
 "nbformat_minor": 5
}
