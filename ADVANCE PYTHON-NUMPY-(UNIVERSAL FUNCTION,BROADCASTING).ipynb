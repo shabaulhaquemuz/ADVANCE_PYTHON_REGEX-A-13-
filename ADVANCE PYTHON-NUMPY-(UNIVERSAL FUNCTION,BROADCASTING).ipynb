{
 "cells": [
  {
   "cell_type": "code",
   "execution_count": 7,
   "id": "002fc88b-3887-482d-b6a0-7cabab3d9f7a",
   "metadata": {},
   "outputs": [
    {
     "data": {
      "text/plain": [
       "array([[20, 40, 60],\n",
       "       [50, 70, 90]])"
      ]
     },
     "execution_count": 7,
     "metadata": {},
     "output_type": "execute_result"
    }
   ],
   "source": [
    "#Universal function: functions that can be applied over each elements\n",
    "#Broadcasting operation\n",
    "import numpy as np\n",
    "arr=np.array([10,20,30])\n",
    "arr1=np.array([[10,20,30],[40,50,60]])\n",
    "arr+arr1\n",
    "#here arr has stretched its size as per the size of arr1"
   ]
  },
  {
   "cell_type": "code",
   "execution_count": 11,
   "id": "164e0dcb-7fea-4080-8eeb-198ecd04cb45",
   "metadata": {},
   "outputs": [
    {
     "data": {
      "text/plain": [
       "array([[20, 30, 40],\n",
       "       [60, 70, 80]])"
      ]
     },
     "execution_count": 11,
     "metadata": {},
     "output_type": "execute_result"
    }
   ],
   "source": [
    "arr=np.array([[10],\n",
    "               [20]])\n",
    "arr1=np.array([[10,20,30],\n",
    "               [40,50,60]])\n",
    "arr+arr1\n"
   ]
  },
  {
   "cell_type": "code",
   "execution_count": null,
   "id": "71aa706a-4403-4ba2-9cf6-0c5f24516bbf",
   "metadata": {},
   "outputs": [],
   "source": [
    "#Broadcasting:\n",
    "#broadcasting is NumPy's ability to “stretch” or “replicate” smaller arrays to match the dimensions of larger ones during arithmetic operations\n",
    "#Rules of broadcasting:-\n",
    "#1.the array must have the same shape\n",
    "#2.the array have the same number of dimensions and the length of each dimension should be common or 1\n",
    "\n"
   ]
  }
 ],
 "metadata": {
  "kernelspec": {
   "display_name": "Python 3 (ipykernel)",
   "language": "python",
   "name": "python3"
  },
  "language_info": {
   "codemirror_mode": {
    "name": "ipython",
    "version": 3
   },
   "file_extension": ".py",
   "mimetype": "text/x-python",
   "name": "python",
   "nbconvert_exporter": "python",
   "pygments_lexer": "ipython3",
   "version": "3.12.4"
  }
 },
 "nbformat": 4,
 "nbformat_minor": 5
}
