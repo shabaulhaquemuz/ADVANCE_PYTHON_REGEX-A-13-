{
 "cells": [
  {
   "cell_type": "code",
   "execution_count": 1,
   "id": "c724c271-d55c-4343-b2e1-5baaf92c3084",
   "metadata": {},
   "outputs": [],
   "source": [
    "import pandas as pd"
   ]
  },
  {
   "cell_type": "code",
   "execution_count": 3,
   "id": "05cba714-b2a0-4ffa-bbac-55d52d5cd271",
   "metadata": {},
   "outputs": [],
   "source": [
    "nf=pd.read_csv(\"nifty.csv\")"
   ]
  },
  {
   "cell_type": "code",
   "execution_count": 5,
   "id": "846e71af-848f-4d54-a18f-4340309a4cb3",
   "metadata": {},
   "outputs": [
    {
     "data": {
      "text/html": [
       "<div>\n",
       "<style scoped>\n",
       "    .dataframe tbody tr th:only-of-type {\n",
       "        vertical-align: middle;\n",
       "    }\n",
       "\n",
       "    .dataframe tbody tr th {\n",
       "        vertical-align: top;\n",
       "    }\n",
       "\n",
       "    .dataframe thead th {\n",
       "        text-align: right;\n",
       "    }\n",
       "</style>\n",
       "<table border=\"1\" class=\"dataframe\">\n",
       "  <thead>\n",
       "    <tr style=\"text-align: right;\">\n",
       "      <th></th>\n",
       "      <th>Date</th>\n",
       "      <th>Open</th>\n",
       "      <th>High</th>\n",
       "      <th>Low</th>\n",
       "      <th>Close</th>\n",
       "      <th>Shares Traded</th>\n",
       "      <th>Turnover (₹ Cr)</th>\n",
       "    </tr>\n",
       "  </thead>\n",
       "  <tbody>\n",
       "    <tr>\n",
       "      <th>0</th>\n",
       "      <td>16-JUL-2024</td>\n",
       "      <td>24615.90</td>\n",
       "      <td>24661.25</td>\n",
       "      <td>24587.65</td>\n",
       "      <td>24613.00</td>\n",
       "      <td>283212233</td>\n",
       "      <td>28668.71</td>\n",
       "    </tr>\n",
       "    <tr>\n",
       "      <th>1</th>\n",
       "      <td>18-JUL-2024</td>\n",
       "      <td>24543.80</td>\n",
       "      <td>24837.75</td>\n",
       "      <td>24504.45</td>\n",
       "      <td>24800.85</td>\n",
       "      <td>350924425</td>\n",
       "      <td>40477.17</td>\n",
       "    </tr>\n",
       "    <tr>\n",
       "      <th>2</th>\n",
       "      <td>19-JUL-2024</td>\n",
       "      <td>24853.80</td>\n",
       "      <td>24854.80</td>\n",
       "      <td>24508.15</td>\n",
       "      <td>24530.90</td>\n",
       "      <td>343772965</td>\n",
       "      <td>33588.08</td>\n",
       "    </tr>\n",
       "    <tr>\n",
       "      <th>3</th>\n",
       "      <td>22-JUL-2024</td>\n",
       "      <td>24445.75</td>\n",
       "      <td>24595.20</td>\n",
       "      <td>24362.30</td>\n",
       "      <td>24509.25</td>\n",
       "      <td>324190553</td>\n",
       "      <td>32496.23</td>\n",
       "    </tr>\n",
       "    <tr>\n",
       "      <th>4</th>\n",
       "      <td>23-JUL-2024</td>\n",
       "      <td>24568.90</td>\n",
       "      <td>24582.55</td>\n",
       "      <td>24074.20</td>\n",
       "      <td>24479.05</td>\n",
       "      <td>436408768</td>\n",
       "      <td>44921.42</td>\n",
       "    </tr>\n",
       "    <tr>\n",
       "      <th>...</th>\n",
       "      <td>...</td>\n",
       "      <td>...</td>\n",
       "      <td>...</td>\n",
       "      <td>...</td>\n",
       "      <td>...</td>\n",
       "      <td>...</td>\n",
       "      <td>...</td>\n",
       "    </tr>\n",
       "    <tr>\n",
       "      <th>244</th>\n",
       "      <td>09-JUL-2025</td>\n",
       "      <td>25514.60</td>\n",
       "      <td>25548.70</td>\n",
       "      <td>25424.35</td>\n",
       "      <td>25476.10</td>\n",
       "      <td>239081546</td>\n",
       "      <td>20549.50</td>\n",
       "    </tr>\n",
       "    <tr>\n",
       "      <th>245</th>\n",
       "      <td>10-JUL-2025</td>\n",
       "      <td>25511.65</td>\n",
       "      <td>25524.05</td>\n",
       "      <td>25340.45</td>\n",
       "      <td>25355.25</td>\n",
       "      <td>219609322</td>\n",
       "      <td>21435.36</td>\n",
       "    </tr>\n",
       "    <tr>\n",
       "      <th>246</th>\n",
       "      <td>11-JUL-2025</td>\n",
       "      <td>25255.50</td>\n",
       "      <td>25322.45</td>\n",
       "      <td>25129.00</td>\n",
       "      <td>25149.85</td>\n",
       "      <td>249987681</td>\n",
       "      <td>26251.65</td>\n",
       "    </tr>\n",
       "    <tr>\n",
       "      <th>247</th>\n",
       "      <td>14-JUL-2025</td>\n",
       "      <td>25149.50</td>\n",
       "      <td>25151.10</td>\n",
       "      <td>25001.95</td>\n",
       "      <td>25082.30</td>\n",
       "      <td>259533624</td>\n",
       "      <td>23316.33</td>\n",
       "    </tr>\n",
       "    <tr>\n",
       "      <th>248</th>\n",
       "      <td>15-JUL-2025</td>\n",
       "      <td>25089.50</td>\n",
       "      <td>25245.20</td>\n",
       "      <td>25088.45</td>\n",
       "      <td>25195.80</td>\n",
       "      <td>241340130</td>\n",
       "      <td>23282.70</td>\n",
       "    </tr>\n",
       "  </tbody>\n",
       "</table>\n",
       "<p>249 rows × 7 columns</p>\n",
       "</div>"
      ],
      "text/plain": [
       "           Date      Open      High       Low     Close   Shares Traded   \\\n",
       "0    16-JUL-2024  24615.90  24661.25  24587.65  24613.00       283212233   \n",
       "1    18-JUL-2024  24543.80  24837.75  24504.45  24800.85       350924425   \n",
       "2    19-JUL-2024  24853.80  24854.80  24508.15  24530.90       343772965   \n",
       "3    22-JUL-2024  24445.75  24595.20  24362.30  24509.25       324190553   \n",
       "4    23-JUL-2024  24568.90  24582.55  24074.20  24479.05       436408768   \n",
       "..           ...       ...       ...       ...       ...             ...   \n",
       "244  09-JUL-2025  25514.60  25548.70  25424.35  25476.10       239081546   \n",
       "245  10-JUL-2025  25511.65  25524.05  25340.45  25355.25       219609322   \n",
       "246  11-JUL-2025  25255.50  25322.45  25129.00  25149.85       249987681   \n",
       "247  14-JUL-2025  25149.50  25151.10  25001.95  25082.30       259533624   \n",
       "248  15-JUL-2025  25089.50  25245.20  25088.45  25195.80       241340130   \n",
       "\n",
       "     Turnover (₹ Cr)  \n",
       "0           28668.71  \n",
       "1           40477.17  \n",
       "2           33588.08  \n",
       "3           32496.23  \n",
       "4           44921.42  \n",
       "..               ...  \n",
       "244         20549.50  \n",
       "245         21435.36  \n",
       "246         26251.65  \n",
       "247         23316.33  \n",
       "248         23282.70  \n",
       "\n",
       "[249 rows x 7 columns]"
      ]
     },
     "execution_count": 5,
     "metadata": {},
     "output_type": "execute_result"
    }
   ],
   "source": [
    "nf"
   ]
  },
  {
   "cell_type": "code",
   "execution_count": 15,
   "id": "c112717a-0f9d-4511-a0d9-f3897434dbc8",
   "metadata": {},
   "outputs": [
    {
     "name": "stdout",
     "output_type": "stream",
     "text": [
      "float64\n"
     ]
    }
   ],
   "source": [
    "print(nf['Open '].dtype)"
   ]
  },
  {
   "cell_type": "code",
   "execution_count": 17,
   "id": "3f06b251-d1ef-40c1-90e2-c90badd1ca2e",
   "metadata": {},
   "outputs": [
    {
     "name": "stdout",
     "output_type": "stream",
     "text": [
      "0      16-JUL-2024\n",
      "1      18-JUL-2024\n",
      "2      19-JUL-2024\n",
      "3      22-JUL-2024\n",
      "4      23-JUL-2024\n",
      "          ...     \n",
      "244    09-JUL-2025\n",
      "245    10-JUL-2025\n",
      "246    11-JUL-2025\n",
      "247    14-JUL-2025\n",
      "248    15-JUL-2025\n",
      "Name: Date , Length: 249, dtype: object\n"
     ]
    }
   ],
   "source": [
    "print(nf['Date '])"
   ]
  },
  {
   "cell_type": "code",
   "execution_count": 19,
   "id": "485794a4-1148-4563-b2ef-156398685541",
   "metadata": {},
   "outputs": [
    {
     "name": "stdout",
     "output_type": "stream",
     "text": [
      "object\n"
     ]
    }
   ],
   "source": [
    "print(nf['Date '].dtype)"
   ]
  },
  {
   "cell_type": "code",
   "execution_count": 29,
   "id": "1971e48d-5dfe-42e9-aa56-ca3d7a559c68",
   "metadata": {},
   "outputs": [
    {
     "name": "stdout",
     "output_type": "stream",
     "text": [
      "         Date     Open      High       Low    Close   Shares Traded   \\\n",
      "0  16-JUL-2024  24615.9  24661.25  24587.65  24613.0       283212233   \n",
      "\n",
      "   Turnover (₹ Cr)  \n",
      "0         28668.71  \n"
     ]
    }
   ],
   "source": [
    "df=pd.read_csv(\"nifty.csv\")\n",
    "df\n",
    "filtered_df = df[df['Date '] == '16-JUL-2024']\n",
    "print(filtered_df)\n"
   ]
  },
  {
   "cell_type": "code",
   "execution_count": 51,
   "id": "15cd236c-eb54-4377-96ad-16b99542361b",
   "metadata": {},
   "outputs": [
    {
     "data": {
      "text/html": [
       "<div>\n",
       "<style scoped>\n",
       "    .dataframe tbody tr th:only-of-type {\n",
       "        vertical-align: middle;\n",
       "    }\n",
       "\n",
       "    .dataframe tbody tr th {\n",
       "        vertical-align: top;\n",
       "    }\n",
       "\n",
       "    .dataframe thead th {\n",
       "        text-align: right;\n",
       "    }\n",
       "</style>\n",
       "<table border=\"1\" class=\"dataframe\">\n",
       "  <thead>\n",
       "    <tr style=\"text-align: right;\">\n",
       "      <th></th>\n",
       "      <th>Date</th>\n",
       "      <th>Open</th>\n",
       "      <th>High</th>\n",
       "      <th>Low</th>\n",
       "      <th>Close</th>\n",
       "      <th>Shares Traded</th>\n",
       "      <th>Turnover (₹ Cr)</th>\n",
       "    </tr>\n",
       "  </thead>\n",
       "  <tbody>\n",
       "    <tr>\n",
       "      <th>0</th>\n",
       "      <td>16-JUL-2024</td>\n",
       "      <td>24615.9</td>\n",
       "      <td>24661.25</td>\n",
       "      <td>24587.65</td>\n",
       "      <td>24613.00</td>\n",
       "      <td>283212233</td>\n",
       "      <td>28668.71</td>\n",
       "    </tr>\n",
       "    <tr>\n",
       "      <th>1</th>\n",
       "      <td>18-JUL-2024</td>\n",
       "      <td>24543.8</td>\n",
       "      <td>24837.75</td>\n",
       "      <td>24504.45</td>\n",
       "      <td>24800.85</td>\n",
       "      <td>350924425</td>\n",
       "      <td>40477.17</td>\n",
       "    </tr>\n",
       "  </tbody>\n",
       "</table>\n",
       "</div>"
      ],
      "text/plain": [
       "         Date     Open      High       Low     Close   Shares Traded   \\\n",
       "0  16-JUL-2024  24615.9  24661.25  24587.65  24613.00       283212233   \n",
       "1  18-JUL-2024  24543.8  24837.75  24504.45  24800.85       350924425   \n",
       "\n",
       "   Turnover (₹ Cr)  \n",
       "0         28668.71  \n",
       "1         40477.17  "
      ]
     },
     "execution_count": 51,
     "metadata": {},
     "output_type": "execute_result"
    }
   ],
   "source": [
    "df.head(2)"
   ]
  },
  {
   "cell_type": "code",
   "execution_count": 49,
   "id": "6c96c99a-482e-4cb4-af75-fb95990943ce",
   "metadata": {},
   "outputs": [
    {
     "data": {
      "text/html": [
       "<div>\n",
       "<style scoped>\n",
       "    .dataframe tbody tr th:only-of-type {\n",
       "        vertical-align: middle;\n",
       "    }\n",
       "\n",
       "    .dataframe tbody tr th {\n",
       "        vertical-align: top;\n",
       "    }\n",
       "\n",
       "    .dataframe thead th {\n",
       "        text-align: right;\n",
       "    }\n",
       "</style>\n",
       "<table border=\"1\" class=\"dataframe\">\n",
       "  <thead>\n",
       "    <tr style=\"text-align: right;\">\n",
       "      <th></th>\n",
       "      <th>Date</th>\n",
       "      <th>Open</th>\n",
       "      <th>High</th>\n",
       "      <th>Low</th>\n",
       "      <th>Close</th>\n",
       "      <th>Shares Traded</th>\n",
       "      <th>Turnover (₹ Cr)</th>\n",
       "    </tr>\n",
       "  </thead>\n",
       "  <tbody>\n",
       "    <tr>\n",
       "      <th>246</th>\n",
       "      <td>11-JUL-2025</td>\n",
       "      <td>25255.5</td>\n",
       "      <td>25322.45</td>\n",
       "      <td>25129.00</td>\n",
       "      <td>25149.85</td>\n",
       "      <td>249987681</td>\n",
       "      <td>26251.65</td>\n",
       "    </tr>\n",
       "    <tr>\n",
       "      <th>247</th>\n",
       "      <td>14-JUL-2025</td>\n",
       "      <td>25149.5</td>\n",
       "      <td>25151.10</td>\n",
       "      <td>25001.95</td>\n",
       "      <td>25082.30</td>\n",
       "      <td>259533624</td>\n",
       "      <td>23316.33</td>\n",
       "    </tr>\n",
       "    <tr>\n",
       "      <th>248</th>\n",
       "      <td>15-JUL-2025</td>\n",
       "      <td>25089.5</td>\n",
       "      <td>25245.20</td>\n",
       "      <td>25088.45</td>\n",
       "      <td>25195.80</td>\n",
       "      <td>241340130</td>\n",
       "      <td>23282.70</td>\n",
       "    </tr>\n",
       "  </tbody>\n",
       "</table>\n",
       "</div>"
      ],
      "text/plain": [
       "           Date     Open      High       Low     Close   Shares Traded   \\\n",
       "246  11-JUL-2025  25255.5  25322.45  25129.00  25149.85       249987681   \n",
       "247  14-JUL-2025  25149.5  25151.10  25001.95  25082.30       259533624   \n",
       "248  15-JUL-2025  25089.5  25245.20  25088.45  25195.80       241340130   \n",
       "\n",
       "     Turnover (₹ Cr)  \n",
       "246         26251.65  \n",
       "247         23316.33  \n",
       "248         23282.70  "
      ]
     },
     "execution_count": 49,
     "metadata": {},
     "output_type": "execute_result"
    }
   ],
   "source": [
    "df.tail(3)"
   ]
  },
  {
   "cell_type": "code",
   "execution_count": 57,
   "id": "959836bb-d704-4fb5-8191-1226122f9a9e",
   "metadata": {},
   "outputs": [
    {
     "data": {
      "text/plain": [
       "0      16-JUL-2024\n",
       "1      18-JUL-2024\n",
       "2      19-JUL-2024\n",
       "3      22-JUL-2024\n",
       "4      23-JUL-2024\n",
       "          ...     \n",
       "244    09-JUL-2025\n",
       "245    10-JUL-2025\n",
       "246    11-JUL-2025\n",
       "247    14-JUL-2025\n",
       "248    15-JUL-2025\n",
       "Name: Date , Length: 249, dtype: object"
      ]
     },
     "execution_count": 57,
     "metadata": {},
     "output_type": "execute_result"
    }
   ],
   "source": [
    "df[\"Date \"]"
   ]
  },
  {
   "cell_type": "code",
   "execution_count": 59,
   "id": "b581cb54-b617-4d8a-bb38-7374f4079087",
   "metadata": {},
   "outputs": [
    {
     "data": {
      "text/plain": [
       "'16-JUL-2024'"
      ]
     },
     "execution_count": 59,
     "metadata": {},
     "output_type": "execute_result"
    }
   ],
   "source": [
    "df[\"Date \"][0]"
   ]
  },
  {
   "cell_type": "code",
   "execution_count": 61,
   "id": "b7e33440-3e98-4015-a82a-d3e52b51edb4",
   "metadata": {},
   "outputs": [
    {
     "data": {
      "text/plain": [
       "0      24615.90\n",
       "1      24543.80\n",
       "2      24853.80\n",
       "3      24445.75\n",
       "4      24568.90\n",
       "         ...   \n",
       "244    25514.60\n",
       "245    25511.65\n",
       "246    25255.50\n",
       "247    25149.50\n",
       "248    25089.50\n",
       "Name: Open , Length: 249, dtype: float64"
      ]
     },
     "execution_count": 61,
     "metadata": {},
     "output_type": "execute_result"
    }
   ],
   "source": [
    "df[\"Open \"]"
   ]
  },
  {
   "cell_type": "code",
   "execution_count": 65,
   "id": "4b4ef41f-94bf-469f-b59a-c858fa04f33f",
   "metadata": {},
   "outputs": [
    {
     "data": {
      "text/plain": [
       "24543.8"
      ]
     },
     "execution_count": 65,
     "metadata": {},
     "output_type": "execute_result"
    }
   ],
   "source": [
    "df[\"Open \"][1]"
   ]
  },
  {
   "cell_type": "code",
   "execution_count": 69,
   "id": "7ea40d83-2b61-4873-8b50-f5cf6d5fd62e",
   "metadata": {},
   "outputs": [
    {
     "data": {
      "text/plain": [
       "'No Index'"
      ]
     },
     "execution_count": 69,
     "metadata": {},
     "output_type": "execute_result"
    }
   ],
   "source": [
    "df[\"Open \"].get(40000,\"No Index\")\n",
    "#get will give you data\n",
    "#no index will give you some message"
   ]
  },
  {
   "cell_type": "code",
   "execution_count": 75,
   "id": "017e61f8-f185-497f-a318-995c6ed74d95",
   "metadata": {},
   "outputs": [
    {
     "name": "stderr",
     "output_type": "stream",
     "text": [
      "C:\\Users\\shaba\\AppData\\Local\\Temp\\ipykernel_40012\\2569959821.py:3: SettingWithCopyWarning: \n",
      "A value is trying to be set on a copy of a slice from a DataFrame\n",
      "\n",
      "See the caveats in the documentation: https://pandas.pydata.org/pandas-docs/stable/user_guide/indexing.html#returning-a-view-versus-a-copy\n",
      "  openSeries[0]=999999999\n"
     ]
    },
    {
     "data": {
      "text/html": [
       "<div>\n",
       "<style scoped>\n",
       "    .dataframe tbody tr th:only-of-type {\n",
       "        vertical-align: middle;\n",
       "    }\n",
       "\n",
       "    .dataframe tbody tr th {\n",
       "        vertical-align: top;\n",
       "    }\n",
       "\n",
       "    .dataframe thead th {\n",
       "        text-align: right;\n",
       "    }\n",
       "</style>\n",
       "<table border=\"1\" class=\"dataframe\">\n",
       "  <thead>\n",
       "    <tr style=\"text-align: right;\">\n",
       "      <th></th>\n",
       "      <th>Date</th>\n",
       "      <th>Open</th>\n",
       "      <th>High</th>\n",
       "      <th>Low</th>\n",
       "      <th>Close</th>\n",
       "      <th>Shares Traded</th>\n",
       "      <th>Turnover (₹ Cr)</th>\n",
       "    </tr>\n",
       "  </thead>\n",
       "  <tbody>\n",
       "    <tr>\n",
       "      <th>0</th>\n",
       "      <td>16-JUL-2024</td>\n",
       "      <td>999999999.0</td>\n",
       "      <td>24661.25</td>\n",
       "      <td>24587.65</td>\n",
       "      <td>24613.00</td>\n",
       "      <td>283212233</td>\n",
       "      <td>28668.71</td>\n",
       "    </tr>\n",
       "    <tr>\n",
       "      <th>1</th>\n",
       "      <td>18-JUL-2024</td>\n",
       "      <td>24543.8</td>\n",
       "      <td>24837.75</td>\n",
       "      <td>24504.45</td>\n",
       "      <td>24800.85</td>\n",
       "      <td>350924425</td>\n",
       "      <td>40477.17</td>\n",
       "    </tr>\n",
       "  </tbody>\n",
       "</table>\n",
       "</div>"
      ],
      "text/plain": [
       "         Date         Open      High       Low     Close   Shares Traded   \\\n",
       "0  16-JUL-2024  999999999.0  24661.25  24587.65  24613.00       283212233   \n",
       "1  18-JUL-2024      24543.8  24837.75  24504.45  24800.85       350924425   \n",
       "\n",
       "   Turnover (₹ Cr)  \n",
       "0         28668.71  \n",
       "1         40477.17  "
      ]
     },
     "execution_count": 75,
     "metadata": {},
     "output_type": "execute_result"
    }
   ],
   "source": [
    "df.head(2)\n",
    "openSeries=df[\"Open \" ]\n",
    "openSeries[0]=999999999\n",
    "openSeries\n",
    "df.head(2)\n",
    "#original data frame value is changed"
   ]
  },
  {
   "cell_type": "code",
   "execution_count": 77,
   "id": "a95d630e-ba79-42cc-a55a-a40d3649f9f6",
   "metadata": {},
   "outputs": [
    {
     "data": {
      "text/html": [
       "<div>\n",
       "<style scoped>\n",
       "    .dataframe tbody tr th:only-of-type {\n",
       "        vertical-align: middle;\n",
       "    }\n",
       "\n",
       "    .dataframe tbody tr th {\n",
       "        vertical-align: top;\n",
       "    }\n",
       "\n",
       "    .dataframe thead th {\n",
       "        text-align: right;\n",
       "    }\n",
       "</style>\n",
       "<table border=\"1\" class=\"dataframe\">\n",
       "  <thead>\n",
       "    <tr style=\"text-align: right;\">\n",
       "      <th></th>\n",
       "      <th>Date</th>\n",
       "      <th>Open</th>\n",
       "      <th>High</th>\n",
       "      <th>Low</th>\n",
       "      <th>Close</th>\n",
       "      <th>Shares Traded</th>\n",
       "      <th>Turnover (₹ Cr)</th>\n",
       "    </tr>\n",
       "  </thead>\n",
       "  <tbody>\n",
       "    <tr>\n",
       "      <th>0</th>\n",
       "      <td>16-JUL-2024</td>\n",
       "      <td>999999999.0</td>\n",
       "      <td>24661.25</td>\n",
       "      <td>24587.65</td>\n",
       "      <td>24613.00</td>\n",
       "      <td>283212233</td>\n",
       "      <td>28668.71</td>\n",
       "    </tr>\n",
       "    <tr>\n",
       "      <th>1</th>\n",
       "      <td>18-JUL-2024</td>\n",
       "      <td>24543.8</td>\n",
       "      <td>24837.75</td>\n",
       "      <td>24504.45</td>\n",
       "      <td>24800.85</td>\n",
       "      <td>350924425</td>\n",
       "      <td>40477.17</td>\n",
       "    </tr>\n",
       "  </tbody>\n",
       "</table>\n",
       "</div>"
      ],
      "text/plain": [
       "         Date         Open      High       Low     Close   Shares Traded   \\\n",
       "0  16-JUL-2024  999999999.0  24661.25  24587.65  24613.00       283212233   \n",
       "1  18-JUL-2024      24543.8  24837.75  24504.45  24800.85       350924425   \n",
       "\n",
       "   Turnover (₹ Cr)  \n",
       "0         28668.71  \n",
       "1         40477.17  "
      ]
     },
     "execution_count": 77,
     "metadata": {},
     "output_type": "execute_result"
    }
   ],
   "source": [
    "openSeries=df[\"Open \" ].copy()\n",
    "openSeries[0]=888888\n",
    "openSeries\n",
    "df.head(2)\n",
    "#original data frame is not changed"
   ]
  },
  {
   "cell_type": "code",
   "execution_count": 79,
   "id": "6c541a96-738f-49cd-b2ca-6e15187320db",
   "metadata": {},
   "outputs": [
    {
     "data": {
      "text/plain": [
       "<bound method IndexOpsMixin.value_counts of 0      1.000000e+09\n",
       "1      2.454380e+04\n",
       "2      2.485380e+04\n",
       "3      2.444575e+04\n",
       "4      2.456890e+04\n",
       "           ...     \n",
       "244    2.551460e+04\n",
       "245    2.551165e+04\n",
       "246    2.525550e+04\n",
       "247    2.514950e+04\n",
       "248    2.508950e+04\n",
       "Name: Open , Length: 249, dtype: float64>"
      ]
     },
     "execution_count": 79,
     "metadata": {},
     "output_type": "execute_result"
    }
   ],
   "source": [
    "df[\"Open \"].value_counts"
   ]
  },
  {
   "cell_type": "code",
   "execution_count": 83,
   "id": "96fd972b-6f0e-4b90-bf48-d62c0d2498c8",
   "metadata": {
    "scrolled": true
   },
   "outputs": [
    {
     "data": {
      "text/plain": [
       "Close \n",
       "24613.00    1\n",
       "22124.70    1\n",
       "22119.30    1\n",
       "22082.65    1\n",
       "22337.30    1\n",
       "           ..\n",
       "23907.25    1\n",
       "24221.90    1\n",
       "24194.50    1\n",
       "24213.30    1\n",
       "25195.80    1\n",
       "Name: count, Length: 249, dtype: int64"
      ]
     },
     "execution_count": 83,
     "metadata": {},
     "output_type": "execute_result"
    }
   ],
   "source": [
    "df[\"Close \"].value_counts(sort=True, ascending=True)"
   ]
  },
  {
   "cell_type": "code",
   "execution_count": 85,
   "id": "44471319-138b-4da6-8719-620bb6ae9ab2",
   "metadata": {},
   "outputs": [
    {
     "data": {
      "text/plain": [
       "Close \n",
       "24613.00    0.004016\n",
       "23350.40    0.004016\n",
       "22119.30    0.004016\n",
       "22082.65    0.004016\n",
       "22337.30    0.004016\n",
       "              ...   \n",
       "23907.25    0.004016\n",
       "24221.90    0.004016\n",
       "24194.50    0.004016\n",
       "24274.90    0.004016\n",
       "25195.80    0.004016\n",
       "Name: proportion, Length: 249, dtype: float64"
      ]
     },
     "execution_count": 85,
     "metadata": {},
     "output_type": "execute_result"
    }
   ],
   "source": [
    "df[\"Close \"].value_counts(normalize=True)"
   ]
  },
  {
   "cell_type": "code",
   "execution_count": 97,
   "id": "6bc8a924-4479-4b58-957d-ba67dfeb39f4",
   "metadata": {},
   "outputs": [
    {
     "data": {
      "text/plain": [
       "0      mammal pokemon\n",
       "1        not a mammal\n",
       "2        not a mammal\n",
       "3        not a mammal\n",
       "4        not a mammal\n",
       "            ...      \n",
       "244      not a mammal\n",
       "245      not a mammal\n",
       "246            mammal\n",
       "247      not a mammal\n",
       "248      not a mammal\n",
       "Name: Open , Length: 249, dtype: object"
      ]
     },
     "execution_count": 97,
     "metadata": {},
     "output_type": "execute_result"
    }
   ],
   "source": [
    "def typefunc(x):\n",
    "    if x == 25255.5:\n",
    "        return \"mammal\"\n",
    "    elif x == 999999999.0:\n",
    "        return \"mammal pokemon\"\n",
    "    else:\n",
    "        return \"not a mammal\"\n",
    "\n",
    "df[\"Open \"].apply(typefunc)\n",
    "\n"
   ]
  },
  {
   "cell_type": "code",
   "execution_count": 19,
   "id": "ab4d1d9d-d0c0-48b3-884e-9bdb5e8a782a",
   "metadata": {},
   "outputs": [
    {
     "name": "stdout",
     "output_type": "stream",
     "text": [
      "           Date      Open      High       Low     Close   Shares Traded   \\\n",
      "0    16-JUL-2024  24615.90  24661.25  24587.65  24613.00       283212233   \n",
      "1    18-JUL-2024  24543.80  24837.75  24504.45  24800.85       350924425   \n",
      "2    19-JUL-2024  24853.80  24854.80  24508.15  24530.90       343772965   \n",
      "3    22-JUL-2024  24445.75  24595.20  24362.30  24509.25       324190553   \n",
      "4    23-JUL-2024  24568.90  24582.55  24074.20  24479.05       436408768   \n",
      "..           ...       ...       ...       ...       ...             ...   \n",
      "244  09-JUL-2025  25514.60  25548.70  25424.35  25476.10       239081546   \n",
      "245  10-JUL-2025  25511.65  25524.05  25340.45  25355.25       219609322   \n",
      "246  11-JUL-2025  25255.50  25322.45  25129.00  25149.85       249987681   \n",
      "247  14-JUL-2025  25149.50  25151.10  25001.95  25082.30       259533624   \n",
      "248  15-JUL-2025  25089.50  25245.20  25088.45  25195.80       241340130   \n",
      "\n",
      "     Turnover (₹ Cr) Day Month  Year  \n",
      "0           28668.71  16   JUL  2024  \n",
      "1           40477.17  18   JUL  2024  \n",
      "2           33588.08  19   JUL  2024  \n",
      "3           32496.23  22   JUL  2024  \n",
      "4           44921.42  23   JUL  2024  \n",
      "..               ...  ..   ...   ...  \n",
      "244         20549.50  09   JUL  2025  \n",
      "245         21435.36  10   JUL  2025  \n",
      "246         26251.65  11   JUL  2025  \n",
      "247         23316.33  14   JUL  2025  \n",
      "248         23282.70  15   JUL  2025  \n",
      "\n",
      "[249 rows x 10 columns]\n"
     ]
    }
   ],
   "source": [
    "import pandas as pd\n",
    "\n",
    "df = pd.read_csv(\"nifty.csv\")   # ✅ Define df first\n",
    "\n",
    "df[['Day', 'Month', 'Year']] = df['Date '].str.split('-', expand=True)\n",
    "print(df)\n"
   ]
  },
  {
   "cell_type": "code",
   "execution_count": 21,
   "id": "5e8db9b8-b1e6-4859-b4b7-e367ce579b85",
   "metadata": {},
   "outputs": [
    {
     "name": "stdout",
     "output_type": "stream",
     "text": [
      "           Date      Open      High       Low     Close   Shares Traded   \\\n",
      "0    16-JUL-2024  24615.90  24661.25  24587.65  24613.00       283212233   \n",
      "1    18-JUL-2024  24543.80  24837.75  24504.45  24800.85       350924425   \n",
      "2    19-JUL-2024  24853.80  24854.80  24508.15  24530.90       343772965   \n",
      "3    22-JUL-2024  24445.75  24595.20  24362.30  24509.25       324190553   \n",
      "4    23-JUL-2024  24568.90  24582.55  24074.20  24479.05       436408768   \n",
      "..           ...       ...       ...       ...       ...             ...   \n",
      "244  09-JUL-2025  25514.60  25548.70  25424.35  25476.10       239081546   \n",
      "245  10-JUL-2025  25511.65  25524.05  25340.45  25355.25       219609322   \n",
      "246  11-JUL-2025  25255.50  25322.45  25129.00  25149.85       249987681   \n",
      "247  14-JUL-2025  25149.50  25151.10  25001.95  25082.30       259533624   \n",
      "248  15-JUL-2025  25089.50  25245.20  25088.45  25195.80       241340130   \n",
      "\n",
      "     Turnover (₹ Cr) Day Month  Year  \n",
      "0           28668.71  16   JUL  2024  \n",
      "1           40477.17  18   JUL  2024  \n",
      "2           33588.08  19   JUL  2024  \n",
      "3           32496.23  22   JUL  2024  \n",
      "4           44921.42  23   JUL  2024  \n",
      "..               ...  ..   ...   ...  \n",
      "244         20549.50  09   JUL  2025  \n",
      "245         21435.36  10   JUL  2025  \n",
      "246         26251.65  11   JUL  2025  \n",
      "247         23316.33  14   JUL  2025  \n",
      "248         23282.70  15   JUL  2025  \n",
      "\n",
      "[249 rows x 10 columns]\n"
     ]
    }
   ],
   "source": [
    "df = df.drop_duplicates()\n",
    "print(df)"
   ]
  },
  {
   "cell_type": "code",
   "execution_count": 25,
   "id": "a30a3339-a5ec-4b2d-82e6-ccf51e8489b0",
   "metadata": {},
   "outputs": [
    {
     "name": "stdout",
     "output_type": "stream",
     "text": [
      "           Date      Open      High       Low     Close   Shares Traded   \\\n",
      "0    16-JUL-2024  24615.90  24661.25  24587.65  24613.00       283212233   \n",
      "1    18-JUL-2024  24543.80  24837.75  24504.45  24800.85       350924425   \n",
      "2    19-JUL-2024  24853.80  24854.80  24508.15  24530.90       343772965   \n",
      "3    22-JUL-2024  24445.75  24595.20  24362.30  24509.25       324190553   \n",
      "4    23-JUL-2024  24568.90  24582.55  24074.20  24479.05       436408768   \n",
      "..           ...       ...       ...       ...       ...             ...   \n",
      "244  09-JUL-2025  25514.60  25548.70  25424.35  25476.10       239081546   \n",
      "245  10-JUL-2025  25511.65  25524.05  25340.45  25355.25       219609322   \n",
      "246  11-JUL-2025  25255.50  25322.45  25129.00  25149.85       249987681   \n",
      "247  14-JUL-2025  25149.50  25151.10  25001.95  25082.30       259533624   \n",
      "248  15-JUL-2025  25089.50  25245.20  25088.45  25195.80       241340130   \n",
      "\n",
      "     Turnover (₹ Cr) Day Month  Year  \n",
      "0           28668.71  16   JUL  2024  \n",
      "1           40477.17  18   JUL  2024  \n",
      "2           33588.08  19   JUL  2024  \n",
      "3           32496.23  22   JUL  2024  \n",
      "4           44921.42  23   JUL  2024  \n",
      "..               ...  ..   ...   ...  \n",
      "244         20549.50  09   JUL  2025  \n",
      "245         21435.36  10   JUL  2025  \n",
      "246         26251.65  11   JUL  2025  \n",
      "247         23316.33  14   JUL  2025  \n",
      "248         23282.70  15   JUL  2025  \n",
      "\n",
      "[249 rows x 10 columns]\n"
     ]
    }
   ],
   "source": [
    "df = df.drop_duplicates(subset=['Day', 'Month', 'Year'])\n",
    "print(df)"
   ]
  },
  {
   "cell_type": "code",
   "execution_count": null,
   "id": "05946b8d-9b64-4823-bb2d-5b6ea82f415d",
   "metadata": {},
   "outputs": [],
   "source": []
  }
 ],
 "metadata": {
  "kernelspec": {
   "display_name": "Python 3 (ipykernel)",
   "language": "python",
   "name": "python3"
  },
  "language_info": {
   "codemirror_mode": {
    "name": "ipython",
    "version": 3
   },
   "file_extension": ".py",
   "mimetype": "text/x-python",
   "name": "python",
   "nbconvert_exporter": "python",
   "pygments_lexer": "ipython3",
   "version": "3.12.4"
  }
 },
 "nbformat": 4,
 "nbformat_minor": 5
}
