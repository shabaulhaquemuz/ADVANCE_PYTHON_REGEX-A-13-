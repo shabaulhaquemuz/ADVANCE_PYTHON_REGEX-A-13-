{
 "cells": [
  {
   "cell_type": "code",
   "execution_count": 15,
   "id": "d5022cdb-13da-473f-add6-af9423cd5382",
   "metadata": {},
   "outputs": [
    {
     "name": "stdout",
     "output_type": "stream",
     "text": [
      "      Name  Age  Salary  Performance Score\n",
      "0  shabaul   10   10000                 80\n",
      "1     saif   20   20000                 85\n",
      "2    amaan   30   30000                 43\n",
      "3   pritam   40   40000                 45\n",
      "4  jibrail   50   50000                 69\n",
      "5     saud   60   60000                 78\n",
      "6    afzal   70  700000                 88\n",
      "7   jibran   80   80000                 98\n"
     ]
    }
   ],
   "source": [
    "#ADDING COLUMNS\n",
    "import pandas as pd\n",
    "data={\"Name\":[\"shabaul\",\"saif\",\"amaan\",\"pritam\",\"jibrail\",\"saud\",\"afzal\",\"jibran\"],\n",
    "       \"Age\":[10,20,30,40,50,60,70,80],\n",
    "       \"Salary\":[10000,20000,30000,40000,50000,60000,700000,80000],\n",
    "       \"Performance Score\":[80,85,43,45,69,78,88,98]\n",
    "      }\n",
    "df=pd.DataFrame(data)\n",
    "print(df)"
   ]
  },
  {
   "cell_type": "code",
   "execution_count": 17,
   "id": "45faf96d-f1aa-4837-af93-e5876012e459",
   "metadata": {},
   "outputs": [],
   "source": [
    "#Adding a new column in a Pandas DataFrame is very easy — just like assigning a value to a dictionary key.\n",
    "# Syntax to Add a New Column\n",
    "#syntax 1: df['new_column_name'] = values  #it adds the column at last position of column index\n",
    "#syntax 2: df.insert(loc,\"Column_name\",data), where loc means location(index),based on column and not on rows\n",
    "#there are two ways of adding columns in a dataframe:\n",
    "# | Method              | What it does                      |\n",
    "# | ------------------- | --------------------------------- |\n",
    "# | `df['Col'] = data`   | Adds column at the end (default)  |\n",
    "# | `df.insert(loc,col,name, data ...)` | Adds column at specific index `i` |\n"
   ]
  },
  {
   "cell_type": "code",
   "execution_count": 21,
   "id": "2b2f86e3-962f-47e3-88bc-a965006754f4",
   "metadata": {},
   "outputs": [
    {
     "name": "stdout",
     "output_type": "stream",
     "text": [
      "      Name  Age  Salary  Performance Score    Bonus\n",
      "0  shabaul   10   10000                 80   1000.0\n",
      "1     saif   20   20000                 85   2000.0\n",
      "2    amaan   30   30000                 43   3000.0\n",
      "3   pritam   40   40000                 45   4000.0\n",
      "4  jibrail   50   50000                 69   5000.0\n",
      "5     saud   60   60000                 78   6000.0\n",
      "6    afzal   70  700000                 88  70000.0\n",
      "7   jibran   80   80000                 98   8000.0\n"
     ]
    }
   ],
   "source": [
    "# adding new column at last position of column\n",
    "df[\"Bonus\"]=df[\"Salary\"]*0.1  # method 1: directly assigning value\n",
    "print(df)"
   ]
  },
  {
   "cell_type": "code",
   "execution_count": 53,
   "id": "46213204-2023-48e7-8080-0033757fda71",
   "metadata": {},
   "outputs": [
    {
     "name": "stdout",
     "output_type": "stream",
     "text": [
      "   Employee_ID     Name  Age  Salary  Performance Score    Bonus\n",
      "0            1  shabaul   10   10000                 80   1000.0\n",
      "1            2     saif   20   20000                 85   2000.0\n",
      "2            3    amaan   30   30000                 43   3000.0\n",
      "3            4   pritam   40   40000                 45   4000.0\n",
      "4            5  jibrail   50   50000                 69   5000.0\n",
      "5            6     saud   60   60000                 78   6000.0\n",
      "6            7    afzal   70  700000                 88  70000.0\n",
      "7            8   jibran   80   80000                 98   8000.0\n"
     ]
    }
   ],
   "source": [
    "# adding new column at specific position of column\n",
    "df.insert(0,\"Employee_ID\",[i for i in range(1,9)]) # employee_id column added at column position 0.\n",
    "print(df)"
   ]
  },
  {
   "cell_type": "code",
   "execution_count": 55,
   "id": "a7f1dcf0-427b-4b75-b122-06433605d01d",
   "metadata": {},
   "outputs": [],
   "source": [
    "# The full form of .loc in Pandas is:\n",
    "# .loc → Location\n",
    "# .loc stands for \"Label-based location\"\n",
    "#It is used to access data in a DataFrame using labels (not integer positions).\n",
    "# Works with both default and custom index.\n",
    "\n",
    "# df.loc[row_label, column_name]\n",
    "# Examples of .loc[]:\n",
    "# Get full row with label 1:\n",
    "# df.loc[1]\n",
    "\n",
    "# 2. Get Salary of row with label 1:\n",
    "# df.loc[1, \"Salary\"]\n"
   ]
  },
  {
   "cell_type": "code",
   "execution_count": 57,
   "id": "9a84615c-de91-417c-ac2f-ff9c052ecadc",
   "metadata": {},
   "outputs": [],
   "source": [
    "# The full form of .iloc in Pandas is:\n",
    "# .iloc → Integer Location\n",
    "# .iloc stands for \"Integer-location based indexing\"\n",
    "# It is used to access data in a DataFrame using integer positions (like list indexes).\n",
    "# Works only with positional index (starting from 0), not custom labels.\n",
    "\n",
    "# Syntax: df.iloc[row_position, column_position]\n",
    "\n",
    "# Examples of .iloc[]:\n",
    "# Get full row at position 1 (second row):\n",
    "# df.iloc[1]\n",
    "\n",
    "# Get specific value at row 1, column 2:\n",
    "# df.iloc[1, 2]\n",
    "\n",
    "# Get first 3 rows:\n",
    "# df.iloc[0:3]\n",
    "\n",
    "# Get entire column at index position 1:\n",
    "# df.iloc[:, 1]"
   ]
  },
  {
   "cell_type": "code",
   "execution_count": 59,
   "id": "d4846b13-7dda-47de-a053-79197eb93f61",
   "metadata": {},
   "outputs": [
    {
     "data": {
      "text/html": [
       "<div>\n",
       "<style scoped>\n",
       "    .dataframe tbody tr th:only-of-type {\n",
       "        vertical-align: middle;\n",
       "    }\n",
       "\n",
       "    .dataframe tbody tr th {\n",
       "        vertical-align: top;\n",
       "    }\n",
       "\n",
       "    .dataframe thead th {\n",
       "        text-align: right;\n",
       "    }\n",
       "</style>\n",
       "<table border=\"1\" class=\"dataframe\">\n",
       "  <thead>\n",
       "    <tr style=\"text-align: right;\">\n",
       "      <th></th>\n",
       "      <th>Employee_ID</th>\n",
       "      <th>Name</th>\n",
       "      <th>Age</th>\n",
       "      <th>Salary</th>\n",
       "      <th>Performance Score</th>\n",
       "      <th>Bonus</th>\n",
       "    </tr>\n",
       "  </thead>\n",
       "  <tbody>\n",
       "    <tr>\n",
       "      <th>0</th>\n",
       "      <td>1</td>\n",
       "      <td>shabaul</td>\n",
       "      <td>10</td>\n",
       "      <td>10500.0</td>\n",
       "      <td>80</td>\n",
       "      <td>1000.0</td>\n",
       "    </tr>\n",
       "    <tr>\n",
       "      <th>1</th>\n",
       "      <td>2</td>\n",
       "      <td>saif</td>\n",
       "      <td>20</td>\n",
       "      <td>21000.0</td>\n",
       "      <td>85</td>\n",
       "      <td>2000.0</td>\n",
       "    </tr>\n",
       "    <tr>\n",
       "      <th>2</th>\n",
       "      <td>3</td>\n",
       "      <td>amaan</td>\n",
       "      <td>30</td>\n",
       "      <td>31500.0</td>\n",
       "      <td>43</td>\n",
       "      <td>3000.0</td>\n",
       "    </tr>\n",
       "    <tr>\n",
       "      <th>3</th>\n",
       "      <td>4</td>\n",
       "      <td>pritam</td>\n",
       "      <td>40</td>\n",
       "      <td>42000.0</td>\n",
       "      <td>45</td>\n",
       "      <td>4000.0</td>\n",
       "    </tr>\n",
       "    <tr>\n",
       "      <th>4</th>\n",
       "      <td>5</td>\n",
       "      <td>jibrail</td>\n",
       "      <td>50</td>\n",
       "      <td>52500.0</td>\n",
       "      <td>69</td>\n",
       "      <td>5000.0</td>\n",
       "    </tr>\n",
       "    <tr>\n",
       "      <th>5</th>\n",
       "      <td>6</td>\n",
       "      <td>saud</td>\n",
       "      <td>60</td>\n",
       "      <td>63000.0</td>\n",
       "      <td>78</td>\n",
       "      <td>6000.0</td>\n",
       "    </tr>\n",
       "    <tr>\n",
       "      <th>6</th>\n",
       "      <td>7</td>\n",
       "      <td>afzal</td>\n",
       "      <td>70</td>\n",
       "      <td>735000.0</td>\n",
       "      <td>88</td>\n",
       "      <td>70000.0</td>\n",
       "    </tr>\n",
       "    <tr>\n",
       "      <th>7</th>\n",
       "      <td>8</td>\n",
       "      <td>jibran</td>\n",
       "      <td>80</td>\n",
       "      <td>84000.0</td>\n",
       "      <td>98</td>\n",
       "      <td>8000.0</td>\n",
       "    </tr>\n",
       "  </tbody>\n",
       "</table>\n",
       "</div>"
      ],
      "text/plain": [
       "   Employee_ID     Name  Age    Salary  Performance Score    Bonus\n",
       "0            1  shabaul   10   10500.0                 80   1000.0\n",
       "1            2     saif   20   21000.0                 85   2000.0\n",
       "2            3    amaan   30   31500.0                 43   3000.0\n",
       "3            4   pritam   40   42000.0                 45   4000.0\n",
       "4            5  jibrail   50   52500.0                 69   5000.0\n",
       "5            6     saud   60   63000.0                 78   6000.0\n",
       "6            7    afzal   70  735000.0                 88  70000.0\n",
       "7            8   jibran   80   84000.0                 98   8000.0"
      ]
     },
     "execution_count": 59,
     "metadata": {},
     "output_type": "execute_result"
    }
   ],
   "source": [
    "# updating value of a dataframe\n",
    "#1. salary of every row has been updated\n",
    "df[\"Salary\"]=df[\"Salary\"]*1.05  \n",
    "df"
   ]
  },
  {
   "cell_type": "code",
   "execution_count": 71,
   "id": "6bc279fb-fb86-47c6-ba0f-8cea16452299",
   "metadata": {},
   "outputs": [
    {
     "data": {
      "text/html": [
       "<div>\n",
       "<style scoped>\n",
       "    .dataframe tbody tr th:only-of-type {\n",
       "        vertical-align: middle;\n",
       "    }\n",
       "\n",
       "    .dataframe tbody tr th {\n",
       "        vertical-align: top;\n",
       "    }\n",
       "\n",
       "    .dataframe thead th {\n",
       "        text-align: right;\n",
       "    }\n",
       "</style>\n",
       "<table border=\"1\" class=\"dataframe\">\n",
       "  <thead>\n",
       "    <tr style=\"text-align: right;\">\n",
       "      <th></th>\n",
       "      <th>Employee_ID</th>\n",
       "      <th>Name</th>\n",
       "      <th>Age</th>\n",
       "      <th>Salary</th>\n",
       "      <th>Performance Score</th>\n",
       "      <th>Bonus</th>\n",
       "    </tr>\n",
       "  </thead>\n",
       "  <tbody>\n",
       "    <tr>\n",
       "      <th>0</th>\n",
       "      <td>1</td>\n",
       "      <td>shabaul</td>\n",
       "      <td>10</td>\n",
       "      <td>20000.0</td>\n",
       "      <td>80</td>\n",
       "      <td>1000.0</td>\n",
       "    </tr>\n",
       "    <tr>\n",
       "      <th>1</th>\n",
       "      <td>2</td>\n",
       "      <td>saif</td>\n",
       "      <td>20</td>\n",
       "      <td>21000.0</td>\n",
       "      <td>85</td>\n",
       "      <td>2000.0</td>\n",
       "    </tr>\n",
       "    <tr>\n",
       "      <th>2</th>\n",
       "      <td>3</td>\n",
       "      <td>amaan</td>\n",
       "      <td>30</td>\n",
       "      <td>31500.0</td>\n",
       "      <td>43</td>\n",
       "      <td>3000.0</td>\n",
       "    </tr>\n",
       "    <tr>\n",
       "      <th>3</th>\n",
       "      <td>4</td>\n",
       "      <td>pritam</td>\n",
       "      <td>40</td>\n",
       "      <td>42000.0</td>\n",
       "      <td>45</td>\n",
       "      <td>4000.0</td>\n",
       "    </tr>\n",
       "    <tr>\n",
       "      <th>4</th>\n",
       "      <td>5</td>\n",
       "      <td>jibrail</td>\n",
       "      <td>50</td>\n",
       "      <td>52500.0</td>\n",
       "      <td>69</td>\n",
       "      <td>5000.0</td>\n",
       "    </tr>\n",
       "    <tr>\n",
       "      <th>5</th>\n",
       "      <td>6</td>\n",
       "      <td>saud</td>\n",
       "      <td>60</td>\n",
       "      <td>63000.0</td>\n",
       "      <td>78</td>\n",
       "      <td>6000.0</td>\n",
       "    </tr>\n",
       "    <tr>\n",
       "      <th>6</th>\n",
       "      <td>7</td>\n",
       "      <td>afzal</td>\n",
       "      <td>70</td>\n",
       "      <td>735000.0</td>\n",
       "      <td>88</td>\n",
       "      <td>70000.0</td>\n",
       "    </tr>\n",
       "    <tr>\n",
       "      <th>7</th>\n",
       "      <td>8</td>\n",
       "      <td>jibran</td>\n",
       "      <td>80</td>\n",
       "      <td>84000.0</td>\n",
       "      <td>98</td>\n",
       "      <td>8000.0</td>\n",
       "    </tr>\n",
       "  </tbody>\n",
       "</table>\n",
       "</div>"
      ],
      "text/plain": [
       "   Employee_ID     Name  Age    Salary  Performance Score    Bonus\n",
       "0            1  shabaul   10   20000.0                 80   1000.0\n",
       "1            2     saif   20   21000.0                 85   2000.0\n",
       "2            3    amaan   30   31500.0                 43   3000.0\n",
       "3            4   pritam   40   42000.0                 45   4000.0\n",
       "4            5  jibrail   50   52500.0                 69   5000.0\n",
       "5            6     saud   60   63000.0                 78   6000.0\n",
       "6            7    afzal   70  735000.0                 88  70000.0\n",
       "7            8   jibran   80   84000.0                 98   8000.0"
      ]
     },
     "execution_count": 71,
     "metadata": {},
     "output_type": "execute_result"
    }
   ],
   "source": [
    "df.loc[0,\"Salary\"]=20000  # updating a specific person's salary using .loc\n",
    "df"
   ]
  },
  {
   "cell_type": "code",
   "execution_count": 75,
   "id": "b2c7642f-39a9-4c72-8fea-5987dd02fb72",
   "metadata": {},
   "outputs": [],
   "source": [
    "# removing column\n",
    "# In Pandas, a column is removed using either of the following methods:\n",
    "# Method 1: df.drop()\n",
    "# df.drop(\"column_name\", axis=1, inplace=True)  # when you write true here, it will do a change in original dataframe\n",
    "# df.drop(columns=[\"ColumnName\"],inplace=True)  # when you write false here, it will return a new dataframe\n",
    "\n",
    "# Method 2: del keyword\n",
    "# del df[\"Salary\"]\n",
    "\n",
    "# Method 3: Using .pop()\n",
    "# df.pop(\"column_name\")\n",
    "# This also removes the column and returns it.\n",
    "# removed_column = df.pop(\"Salary\")\n",
    "\n",
    "\n"
   ]
  },
  {
   "cell_type": "code",
   "execution_count": 81,
   "id": "d047038c-c431-4f68-8eed-bf5801bc9248",
   "metadata": {},
   "outputs": [
    {
     "data": {
      "text/html": [
       "<div>\n",
       "<style scoped>\n",
       "    .dataframe tbody tr th:only-of-type {\n",
       "        vertical-align: middle;\n",
       "    }\n",
       "\n",
       "    .dataframe tbody tr th {\n",
       "        vertical-align: top;\n",
       "    }\n",
       "\n",
       "    .dataframe thead th {\n",
       "        text-align: right;\n",
       "    }\n",
       "</style>\n",
       "<table border=\"1\" class=\"dataframe\">\n",
       "  <thead>\n",
       "    <tr style=\"text-align: right;\">\n",
       "      <th></th>\n",
       "      <th>Employee_ID</th>\n",
       "      <th>Name</th>\n",
       "      <th>Age</th>\n",
       "      <th>Salary</th>\n",
       "      <th>Bonus</th>\n",
       "    </tr>\n",
       "  </thead>\n",
       "  <tbody>\n",
       "    <tr>\n",
       "      <th>0</th>\n",
       "      <td>1</td>\n",
       "      <td>shabaul</td>\n",
       "      <td>10</td>\n",
       "      <td>20000.0</td>\n",
       "      <td>1000.0</td>\n",
       "    </tr>\n",
       "    <tr>\n",
       "      <th>1</th>\n",
       "      <td>2</td>\n",
       "      <td>saif</td>\n",
       "      <td>20</td>\n",
       "      <td>21000.0</td>\n",
       "      <td>2000.0</td>\n",
       "    </tr>\n",
       "    <tr>\n",
       "      <th>2</th>\n",
       "      <td>3</td>\n",
       "      <td>amaan</td>\n",
       "      <td>30</td>\n",
       "      <td>31500.0</td>\n",
       "      <td>3000.0</td>\n",
       "    </tr>\n",
       "    <tr>\n",
       "      <th>3</th>\n",
       "      <td>4</td>\n",
       "      <td>pritam</td>\n",
       "      <td>40</td>\n",
       "      <td>42000.0</td>\n",
       "      <td>4000.0</td>\n",
       "    </tr>\n",
       "    <tr>\n",
       "      <th>4</th>\n",
       "      <td>5</td>\n",
       "      <td>jibrail</td>\n",
       "      <td>50</td>\n",
       "      <td>52500.0</td>\n",
       "      <td>5000.0</td>\n",
       "    </tr>\n",
       "    <tr>\n",
       "      <th>5</th>\n",
       "      <td>6</td>\n",
       "      <td>saud</td>\n",
       "      <td>60</td>\n",
       "      <td>63000.0</td>\n",
       "      <td>6000.0</td>\n",
       "    </tr>\n",
       "    <tr>\n",
       "      <th>6</th>\n",
       "      <td>7</td>\n",
       "      <td>afzal</td>\n",
       "      <td>70</td>\n",
       "      <td>735000.0</td>\n",
       "      <td>70000.0</td>\n",
       "    </tr>\n",
       "    <tr>\n",
       "      <th>7</th>\n",
       "      <td>8</td>\n",
       "      <td>jibran</td>\n",
       "      <td>80</td>\n",
       "      <td>84000.0</td>\n",
       "      <td>8000.0</td>\n",
       "    </tr>\n",
       "  </tbody>\n",
       "</table>\n",
       "</div>"
      ],
      "text/plain": [
       "   Employee_ID     Name  Age    Salary    Bonus\n",
       "0            1  shabaul   10   20000.0   1000.0\n",
       "1            2     saif   20   21000.0   2000.0\n",
       "2            3    amaan   30   31500.0   3000.0\n",
       "3            4   pritam   40   42000.0   4000.0\n",
       "4            5  jibrail   50   52500.0   5000.0\n",
       "5            6     saud   60   63000.0   6000.0\n",
       "6            7    afzal   70  735000.0  70000.0\n",
       "7            8   jibran   80   84000.0   8000.0"
      ]
     },
     "execution_count": 81,
     "metadata": {},
     "output_type": "execute_result"
    }
   ],
   "source": [
    "#using drop\n",
    "df.drop(columns=\"Performance Score\", inplace=False) # inplace =false, so returned a new dataframe, no change in original dataframe"
   ]
  },
  {
   "cell_type": "code",
   "execution_count": 85,
   "id": "b09dd7e0-9e72-4e15-8aca-3c07f9f230b4",
   "metadata": {},
   "outputs": [
    {
     "name": "stdout",
     "output_type": "stream",
     "text": [
      "   Employee_ID     Name  Age    Salary  Performance Score    Bonus\n",
      "0            1  shabaul   10   20000.0                 80   1000.0\n",
      "1            2     saif   20   21000.0                 85   2000.0\n",
      "2            3    amaan   30   31500.0                 43   3000.0\n",
      "3            4   pritam   40   42000.0                 45   4000.0\n",
      "4            5  jibrail   50   52500.0                 69   5000.0\n",
      "5            6     saud   60   63000.0                 78   6000.0\n",
      "6            7    afzal   70  735000.0                 88  70000.0\n",
      "7            8   jibran   80   84000.0                 98   8000.0\n"
     ]
    }
   ],
   "source": [
    "print(df) # original dataframe still has performance score"
   ]
  },
  {
   "cell_type": "code",
   "execution_count": 89,
   "id": "4369f01d-8338-4827-9bb0-6f1ce6263873",
   "metadata": {},
   "outputs": [
    {
     "name": "stdout",
     "output_type": "stream",
     "text": [
      "   Employee_ID     Name  Age    Salary    Bonus\n",
      "0            1  shabaul   10   20000.0   1000.0\n",
      "1            2     saif   20   21000.0   2000.0\n",
      "2            3    amaan   30   31500.0   3000.0\n",
      "3            4   pritam   40   42000.0   4000.0\n",
      "4            5  jibrail   50   52500.0   5000.0\n",
      "5            6     saud   60   63000.0   6000.0\n",
      "6            7    afzal   70  735000.0  70000.0\n",
      "7            8   jibran   80   84000.0   8000.0\n"
     ]
    }
   ],
   "source": [
    "df.drop(columns=\"Performance Score\",inplace=True) # inplace = True, done a change in original dataframe\n",
    "print(df)"
   ]
  },
  {
   "cell_type": "code",
   "execution_count": 91,
   "id": "3a33c058-849a-49bd-a148-10c911273602",
   "metadata": {},
   "outputs": [],
   "source": [
    "#Handling Missing Data\n",
    "# In Python and Pandas, NaN and None are both used to represent missing or null values\n",
    "# Feature\tNaN (numpy.nan)\tNone\n",
    "# Full form\tNot a Number\tNone (null object)\n",
    "# Type\tfloat (from NumPy)\tNoneType (built-in)\n",
    "# Used Mostly in numerical data (Pandas/NumPy)\tGeneral Python (any object)\n"
   ]
  },
  {
   "cell_type": "code",
   "execution_count": 3,
   "id": "66b4c221-b43d-44c0-ad4b-c3df257dcbe1",
   "metadata": {},
   "outputs": [
    {
     "name": "stdout",
     "output_type": "stream",
     "text": [
      "      Name   Age    Salary  Performance Score\n",
      "0  shabaul  10.0   10000.0               80.0\n",
      "1     None   NaN       NaN                NaN\n",
      "2    amaan  30.0   30000.0               43.0\n",
      "3   pritam  40.0   40000.0               45.0\n",
      "4  jibrail  50.0   50000.0               69.0\n",
      "5     saud  60.0   60000.0               78.0\n",
      "6    afzal  70.0  700000.0               88.0\n",
      "7   jibran  80.0   80000.0               98.0\n"
     ]
    }
   ],
   "source": [
    "# TO CHECK MISSING VALUES\n",
    "# isnull() is a method used to check whether a value is present in a dataset or not\n",
    "#it returns the value in the form of boolean(true or false)\n",
    "#here, true means the value is missing and false means the value is present\n",
    "import pandas as pd\n",
    "data2={\"Name\":[\"shabaul\",None,\"amaan\",\"pritam\",\"jibrail\",\"saud\",\"afzal\",\"jibran\"],\n",
    "       \"Age\":[10,None,30,40,50,60,70,80],\n",
    "       \"Salary\":[10000,None,30000,40000,50000,60000,700000,80000],\n",
    "       \"Performance Score\":[80,None,43,45,69,78,88,98]\n",
    "      }\n",
    "dff=pd.DataFrame(data2)\n",
    "print(dff)"
   ]
  },
  {
   "cell_type": "code",
   "execution_count": 9,
   "id": "91ce3441-3e8d-4476-b1f0-2c7587ff2807",
   "metadata": {},
   "outputs": [
    {
     "data": {
      "text/html": [
       "<div>\n",
       "<style scoped>\n",
       "    .dataframe tbody tr th:only-of-type {\n",
       "        vertical-align: middle;\n",
       "    }\n",
       "\n",
       "    .dataframe tbody tr th {\n",
       "        vertical-align: top;\n",
       "    }\n",
       "\n",
       "    .dataframe thead th {\n",
       "        text-align: right;\n",
       "    }\n",
       "</style>\n",
       "<table border=\"1\" class=\"dataframe\">\n",
       "  <thead>\n",
       "    <tr style=\"text-align: right;\">\n",
       "      <th></th>\n",
       "      <th>Name</th>\n",
       "      <th>Age</th>\n",
       "      <th>Salary</th>\n",
       "      <th>Performance Score</th>\n",
       "    </tr>\n",
       "  </thead>\n",
       "  <tbody>\n",
       "    <tr>\n",
       "      <th>0</th>\n",
       "      <td>False</td>\n",
       "      <td>False</td>\n",
       "      <td>False</td>\n",
       "      <td>False</td>\n",
       "    </tr>\n",
       "    <tr>\n",
       "      <th>1</th>\n",
       "      <td>True</td>\n",
       "      <td>True</td>\n",
       "      <td>True</td>\n",
       "      <td>True</td>\n",
       "    </tr>\n",
       "    <tr>\n",
       "      <th>2</th>\n",
       "      <td>False</td>\n",
       "      <td>False</td>\n",
       "      <td>False</td>\n",
       "      <td>False</td>\n",
       "    </tr>\n",
       "    <tr>\n",
       "      <th>3</th>\n",
       "      <td>False</td>\n",
       "      <td>False</td>\n",
       "      <td>False</td>\n",
       "      <td>False</td>\n",
       "    </tr>\n",
       "    <tr>\n",
       "      <th>4</th>\n",
       "      <td>False</td>\n",
       "      <td>False</td>\n",
       "      <td>False</td>\n",
       "      <td>False</td>\n",
       "    </tr>\n",
       "    <tr>\n",
       "      <th>5</th>\n",
       "      <td>False</td>\n",
       "      <td>False</td>\n",
       "      <td>False</td>\n",
       "      <td>False</td>\n",
       "    </tr>\n",
       "    <tr>\n",
       "      <th>6</th>\n",
       "      <td>False</td>\n",
       "      <td>False</td>\n",
       "      <td>False</td>\n",
       "      <td>False</td>\n",
       "    </tr>\n",
       "    <tr>\n",
       "      <th>7</th>\n",
       "      <td>False</td>\n",
       "      <td>False</td>\n",
       "      <td>False</td>\n",
       "      <td>False</td>\n",
       "    </tr>\n",
       "  </tbody>\n",
       "</table>\n",
       "</div>"
      ],
      "text/plain": [
       "    Name    Age  Salary  Performance Score\n",
       "0  False  False   False              False\n",
       "1   True   True    True               True\n",
       "2  False  False   False              False\n",
       "3  False  False   False              False\n",
       "4  False  False   False              False\n",
       "5  False  False   False              False\n",
       "6  False  False   False              False\n",
       "7  False  False   False              False"
      ]
     },
     "execution_count": 9,
     "metadata": {},
     "output_type": "execute_result"
    }
   ],
   "source": [
    "dff.isnull()\n",
    "#will give false where data is present, will give true when data is absent."
   ]
  },
  {
   "cell_type": "code",
   "execution_count": 13,
   "id": "d0d3e2d2-b8be-4a25-8ec5-f8a687571cc2",
   "metadata": {},
   "outputs": [
    {
     "name": "stdout",
     "output_type": "stream",
     "text": [
      "Name                 1\n",
      "Age                  1\n",
      "Salary               1\n",
      "Performance Score    1\n",
      "dtype: int64\n"
     ]
    }
   ],
   "source": [
    "# it counts how many True values (i.e. nulls) are there in each column.\n",
    "print(dff.isnull().sum())"
   ]
  },
  {
   "cell_type": "code",
   "execution_count": 19,
   "id": "d698be72-d413-42dc-b9d8-26a82b7be476",
   "metadata": {},
   "outputs": [
    {
     "name": "stdout",
     "output_type": "stream",
     "text": [
      "      Name   Age    Salary  Performance Score\n",
      "0  shabaul  10.0   10000.0               80.0\n",
      "2    amaan  30.0   30000.0               43.0\n",
      "3   pritam  40.0   40000.0               45.0\n",
      "4  jibrail  50.0   50000.0               69.0\n",
      "5     saud  60.0   60000.0               78.0\n",
      "6    afzal  70.0  700000.0               88.0\n",
      "7   jibran  80.0   80000.0               98.0\n"
     ]
    }
   ],
   "source": [
    "# to handle missing values, there are two ways: 1. remove that value 2. fill that value\n",
    "#during data analysis, if that missing value is not important, remove it\n",
    "#ifthat missing value is important, fill it\n",
    "\n",
    "#.dropna()\n",
    "#.dropna() is a Pandas method used to remove missing values (NaN/None) from a DataFrame or Series.\n",
    "dff.dropna(axis=0,inplace=True)   #axis=0 means, rows with missing values will be deleted and inplace=true means original dataframe will be changed\n",
    "print(dff)                               #axis=1 means, column with missing values will be deleted"
   ]
  },
  {
   "cell_type": "code",
   "execution_count": 25,
   "id": "0eae990d-7c2f-4834-b1dc-a0a4feb66de1",
   "metadata": {},
   "outputs": [
    {
     "name": "stdout",
     "output_type": "stream",
     "text": [
      "      Name   Age    Salary  Performance Score\n",
      "0  shabaul  10.0   10000.0               80.0\n",
      "1     None   NaN       NaN                NaN\n",
      "2    amaan  30.0   30000.0               43.0\n",
      "3   pritam  40.0   40000.0               45.0\n",
      "4  jibrail  50.0   50000.0               69.0\n",
      "5     saud  60.0   60000.0               78.0\n",
      "6    afzal  70.0  700000.0               88.0\n",
      "7   jibran  80.0   80000.0               98.0\n"
     ]
    }
   ],
   "source": [
    "#.fillna() is a method in pandas used to replace missing values (NaN or None) with some other value.\n",
    "#syntax= dff.fillna(value,inplace=True)\n",
    "\n",
    "import pandas as pd\n",
    "data3={\"Name\":[\"shabaul\",None,\"amaan\",\"pritam\",\"jibrail\",\"saud\",\"afzal\",\"jibran\"],\n",
    "       \"Age\":[10,None,30,40,50,60,70,80],\n",
    "       \"Salary\":[10000,None,30000,40000,50000,60000,700000,80000],\n",
    "       \"Performance Score\":[80,None,43,45,69,78,88,98]\n",
    "      }\n",
    "dfd=pd.DataFrame(data3)\n",
    "print(dfd)"
   ]
  },
  {
   "cell_type": "code",
   "execution_count": 33,
   "id": "7e928e0b-594a-4239-be75-062e71427cdc",
   "metadata": {},
   "outputs": [
    {
     "name": "stderr",
     "output_type": "stream",
     "text": [
      "C:\\Users\\shaba\\AppData\\Local\\Temp\\ipykernel_7300\\810772792.py:2: FutureWarning: A value is trying to be set on a copy of a DataFrame or Series through chained assignment using an inplace method.\n",
      "The behavior will change in pandas 3.0. This inplace method will never work because the intermediate object on which we are setting values always behaves as a copy.\n",
      "\n",
      "For example, when doing 'df[col].method(value, inplace=True)', try using 'df.method({col: value}, inplace=True)' or df[col] = df[col].method(value) instead, to perform the operation inplace on the original object.\n",
      "\n",
      "\n",
      "  dfd[\"Age\"].fillna(dfd[\"Age\"].mean(),inplace=True)\n"
     ]
    },
    {
     "data": {
      "text/html": [
       "<div>\n",
       "<style scoped>\n",
       "    .dataframe tbody tr th:only-of-type {\n",
       "        vertical-align: middle;\n",
       "    }\n",
       "\n",
       "    .dataframe tbody tr th {\n",
       "        vertical-align: top;\n",
       "    }\n",
       "\n",
       "    .dataframe thead th {\n",
       "        text-align: right;\n",
       "    }\n",
       "</style>\n",
       "<table border=\"1\" class=\"dataframe\">\n",
       "  <thead>\n",
       "    <tr style=\"text-align: right;\">\n",
       "      <th></th>\n",
       "      <th>Name</th>\n",
       "      <th>Age</th>\n",
       "      <th>Salary</th>\n",
       "      <th>Performance Score</th>\n",
       "    </tr>\n",
       "  </thead>\n",
       "  <tbody>\n",
       "    <tr>\n",
       "      <th>0</th>\n",
       "      <td>shabaul</td>\n",
       "      <td>10.000000</td>\n",
       "      <td>10000.0</td>\n",
       "      <td>80.0</td>\n",
       "    </tr>\n",
       "    <tr>\n",
       "      <th>1</th>\n",
       "      <td>None</td>\n",
       "      <td>48.571429</td>\n",
       "      <td>NaN</td>\n",
       "      <td>NaN</td>\n",
       "    </tr>\n",
       "    <tr>\n",
       "      <th>2</th>\n",
       "      <td>amaan</td>\n",
       "      <td>30.000000</td>\n",
       "      <td>30000.0</td>\n",
       "      <td>43.0</td>\n",
       "    </tr>\n",
       "    <tr>\n",
       "      <th>3</th>\n",
       "      <td>pritam</td>\n",
       "      <td>40.000000</td>\n",
       "      <td>40000.0</td>\n",
       "      <td>45.0</td>\n",
       "    </tr>\n",
       "    <tr>\n",
       "      <th>4</th>\n",
       "      <td>jibrail</td>\n",
       "      <td>50.000000</td>\n",
       "      <td>50000.0</td>\n",
       "      <td>69.0</td>\n",
       "    </tr>\n",
       "    <tr>\n",
       "      <th>5</th>\n",
       "      <td>saud</td>\n",
       "      <td>60.000000</td>\n",
       "      <td>60000.0</td>\n",
       "      <td>78.0</td>\n",
       "    </tr>\n",
       "    <tr>\n",
       "      <th>6</th>\n",
       "      <td>afzal</td>\n",
       "      <td>70.000000</td>\n",
       "      <td>700000.0</td>\n",
       "      <td>88.0</td>\n",
       "    </tr>\n",
       "    <tr>\n",
       "      <th>7</th>\n",
       "      <td>jibran</td>\n",
       "      <td>80.000000</td>\n",
       "      <td>80000.0</td>\n",
       "      <td>98.0</td>\n",
       "    </tr>\n",
       "  </tbody>\n",
       "</table>\n",
       "</div>"
      ],
      "text/plain": [
       "      Name        Age    Salary  Performance Score\n",
       "0  shabaul  10.000000   10000.0               80.0\n",
       "1     None  48.571429       NaN                NaN\n",
       "2    amaan  30.000000   30000.0               43.0\n",
       "3   pritam  40.000000   40000.0               45.0\n",
       "4  jibrail  50.000000   50000.0               69.0\n",
       "5     saud  60.000000   60000.0               78.0\n",
       "6    afzal  70.000000  700000.0               88.0\n",
       "7   jibran  80.000000   80000.0               98.0"
      ]
     },
     "execution_count": 33,
     "metadata": {},
     "output_type": "execute_result"
    }
   ],
   "source": [
    "#filling the age column with mean age value\n",
    "dfd[\"Age\"].fillna(dfd[\"Age\"].mean(),inplace=True)  #this will fill the missing values in age with mean value of age\n",
    "dfd"
   ]
  },
  {
   "cell_type": "code",
   "execution_count": 35,
   "id": "66779485-54d3-4a64-8c89-a2e3a1e28d39",
   "metadata": {},
   "outputs": [],
   "source": [
    "# Feature\t               df = df.fillna(0)\t                    df.fillna(0, inplace=True)\n",
    "# Modifies df?\t             ✅ Yes\t                                   ✅ Yes\n",
    "# Returns a new object?\t     ✅ Yes (a new DataFrame)\t               ❌ No (returns None)\n",
    "# Original df changed?\t    ✅ Yes, because you reassigned it\t      ✅ Yes, because it was changed in-place\n",
    "\n",
    "\n",
    "# In older versions of Pandas, inplace=True was believed to be faster because it modified the object directly. But in modern Pandas (1.5+ and 2.x), \n",
    "# both usually perform similarly because operations like fillna() still create a copy internally. So there's no significant performance gain.\n",
    "# The recommended approach today is df = df.fillna(0) for clarity and safety"
   ]
  },
  {
   "cell_type": "code",
   "execution_count": 37,
   "id": "e951683f-c8e1-410a-8001-a15bf5ae2c1b",
   "metadata": {},
   "outputs": [],
   "source": [
    "#interpolation\n",
    "#Interpolation is used to fill missing values (NaN) in a DataFrame or Series using estimated values based on other data points.\n",
    "#The .interpolate() method is used to fill missing values (NaN) by estimating them using other existing values.\n",
    "\n",
    "# different types of interpolation :-\n",
    "# | Method         | Description                                         |\n",
    "# | -------------- | --------------------------------------------------- |\n",
    "# | `'linear'`     | Default. Straight-line interpolation between points |\n",
    "# | `'time'`       | For time series with datetime index                 |\n",
    "# | `'polynomial'` | Requires `order=2` or higher                        |\n",
    "# | `'spline'`     | Smooth curve interpolation                          |\n",
    "# | `'pad'`        | Forward fill (`ffill`)                              |\n",
    "# | `'bfill'`      | Backward fill                                       |\n",
    "\n"
   ]
  },
  {
   "cell_type": "code",
   "execution_count": 49,
   "id": "40c32012-ee6d-48c8-a7b2-f9c824f01efe",
   "metadata": {},
   "outputs": [
    {
     "name": "stdout",
     "output_type": "stream",
     "text": [
      "Before Interpolation:\n",
      "   Time  Value\n",
      "0     1   10.0\n",
      "1     2    NaN\n",
      "2     3   30.0\n",
      "3     4    NaN\n",
      "4     5   50.0\n",
      "After Interpolation\n",
      "   Time  Value\n",
      "0     1   10.0\n",
      "1     2   20.0\n",
      "2     3   30.0\n",
      "3     4   40.0\n",
      "4     5   50.0\n"
     ]
    }
   ],
   "source": [
    "#linear interpolation\n",
    "# Linear interpolation means filling in a missing value by drawing a straight line between two known values and \n",
    "# estimating the value that should be in between.\n",
    "\n",
    "# Example:\n",
    "# | Day | Temperature |\n",
    "# | --- | ----------- |\n",
    "# | 1   | 20°C        |\n",
    "# | 2   | NaN         |\n",
    "# | 3   | 30°C        |\n",
    "#So Day 2 = 25 (mid-point between 20 and 30)\n",
    "\n",
    "data4={\"Time\":[1,2,3,4,5],\n",
    "       \"Value\":[10,None,30,None,50]\n",
    "    \n",
    "}\n",
    "da=pd.DataFrame(data4)\n",
    "print(\"Before Interpolation:\")\n",
    "print(da)\n",
    "\n",
    "da[\"Value\"]=da[\"Value\"].interpolate(method=\"linear\")\n",
    "print(\"After Interpolation\")\n",
    "print(da)"
   ]
  },
  {
   "cell_type": "code",
   "execution_count": 55,
   "id": "6222ca6a-76e2-443f-98e6-f541e0338d0f",
   "metadata": {},
   "outputs": [
    {
     "data": {
      "text/html": [
       "<div>\n",
       "<style scoped>\n",
       "    .dataframe tbody tr th:only-of-type {\n",
       "        vertical-align: middle;\n",
       "    }\n",
       "\n",
       "    .dataframe tbody tr th {\n",
       "        vertical-align: top;\n",
       "    }\n",
       "\n",
       "    .dataframe thead th {\n",
       "        text-align: right;\n",
       "    }\n",
       "</style>\n",
       "<table border=\"1\" class=\"dataframe\">\n",
       "  <thead>\n",
       "    <tr style=\"text-align: right;\">\n",
       "      <th></th>\n",
       "      <th>X</th>\n",
       "      <th>Y</th>\n",
       "    </tr>\n",
       "  </thead>\n",
       "  <tbody>\n",
       "    <tr>\n",
       "      <th>0</th>\n",
       "      <td>1</td>\n",
       "      <td>10.0</td>\n",
       "    </tr>\n",
       "    <tr>\n",
       "      <th>1</th>\n",
       "      <td>2</td>\n",
       "      <td>NaN</td>\n",
       "    </tr>\n",
       "    <tr>\n",
       "      <th>2</th>\n",
       "      <td>3</td>\n",
       "      <td>30.0</td>\n",
       "    </tr>\n",
       "    <tr>\n",
       "      <th>3</th>\n",
       "      <td>4</td>\n",
       "      <td>NaN</td>\n",
       "    </tr>\n",
       "    <tr>\n",
       "      <th>4</th>\n",
       "      <td>5</td>\n",
       "      <td>50.0</td>\n",
       "    </tr>\n",
       "    <tr>\n",
       "      <th>5</th>\n",
       "      <td>6</td>\n",
       "      <td>NaN</td>\n",
       "    </tr>\n",
       "    <tr>\n",
       "      <th>6</th>\n",
       "      <td>7</td>\n",
       "      <td>70.0</td>\n",
       "    </tr>\n",
       "    <tr>\n",
       "      <th>7</th>\n",
       "      <td>8</td>\n",
       "      <td>NaN</td>\n",
       "    </tr>\n",
       "  </tbody>\n",
       "</table>\n",
       "</div>"
      ],
      "text/plain": [
       "   X     Y\n",
       "0  1  10.0\n",
       "1  2   NaN\n",
       "2  3  30.0\n",
       "3  4   NaN\n",
       "4  5  50.0\n",
       "5  6   NaN\n",
       "6  7  70.0\n",
       "7  8   NaN"
      ]
     },
     "execution_count": 55,
     "metadata": {},
     "output_type": "execute_result"
    }
   ],
   "source": [
    "# performing polynomial interpolation\n",
    "import pandas as pd\n",
    "data5={\n",
    "    \"X\":[1,2,3,4,5,6,7,8],\n",
    "    \"Y\":[10,None,30,None,50,None,70,None]\n",
    "    \n",
    "}\n",
    "dp=pd.DataFrame(data5)\n",
    "dp"
   ]
  },
  {
   "cell_type": "code",
   "execution_count": 71,
   "id": "77c4f062-7e3f-4562-b5ef-24efdcc5b8ee",
   "metadata": {},
   "outputs": [
    {
     "name": "stdout",
     "output_type": "stream",
     "text": [
      "   X     Y\n",
      "0  1  10.0\n",
      "1  2  20.0\n",
      "2  3  30.0\n",
      "3  4  40.0\n",
      "4  5  50.0\n",
      "5  6  60.0\n",
      "6  7  70.0\n",
      "7  8   NaN\n"
     ]
    }
   ],
   "source": [
    "dp[\"Y\"]=dp[\"Y\"].interpolate(method=\"polynomial\",order=2)\n",
    "print(dp)\n",
    "\n",
    "#The order parameter determines the degree of the polynomial used to estimate the missing values (NaNs)."
   ]
  },
  {
   "cell_type": "code",
   "execution_count": 5,
   "id": "68c745d1-79ea-42d3-bb73-225cdc90ed0f",
   "metadata": {},
   "outputs": [
    {
     "ename": "NameError",
     "evalue": "name 'NAN' is not defined",
     "output_type": "error",
     "traceback": [
      "\u001b[1;31m---------------------------------------------------------------------------\u001b[0m",
      "\u001b[1;31mNameError\u001b[0m                                 Traceback (most recent call last)",
      "Cell \u001b[1;32mIn[5], line 4\u001b[0m\n\u001b[0;32m      1\u001b[0m \u001b[38;5;28;01mimport\u001b[39;00m \u001b[38;5;21;01mpandas\u001b[39;00m \u001b[38;5;28;01mas\u001b[39;00m \u001b[38;5;21;01mpd\u001b[39;00m\n\u001b[0;32m      2\u001b[0m A\u001b[38;5;241m=\u001b[39m{\n\u001b[0;32m      3\u001b[0m     \u001b[38;5;124m\"\u001b[39m\u001b[38;5;124mC\u001b[39m\u001b[38;5;124m\"\u001b[39m:[\u001b[38;5;241m1\u001b[39m,\u001b[38;5;241m2\u001b[39m,\u001b[38;5;241m3\u001b[39m,\u001b[38;5;241m4\u001b[39m,\u001b[38;5;241m5\u001b[39m,\u001b[38;5;241m6\u001b[39m,\u001b[38;5;241m7\u001b[39m,\u001b[38;5;241m8\u001b[39m,\u001b[38;5;241m9\u001b[39m,\u001b[38;5;241m10\u001b[39m],\n\u001b[1;32m----> 4\u001b[0m     \u001b[38;5;124m\"\u001b[39m\u001b[38;5;124mD\u001b[39m\u001b[38;5;124m\"\u001b[39m:[\u001b[38;5;241m10\u001b[39m,NAN,\u001b[38;5;241m30\u001b[39m,NAN,\u001b[38;5;241m50\u001b[39m,NAN,\u001b[38;5;241m70\u001b[39m,NAN,\u001b[38;5;241m90\u001b[39m,NAN]\n\u001b[0;32m      5\u001b[0m }\n\u001b[0;32m      6\u001b[0m pf\u001b[38;5;241m=\u001b[39mpd\u001b[38;5;241m.\u001b[39mDataFrame(A)\n\u001b[0;32m      7\u001b[0m pf\n",
      "\u001b[1;31mNameError\u001b[0m: name 'NAN' is not defined"
     ]
    }
   ],
   "source": [
    "import pandas as pd\n",
    "A={\n",
    "    \"C\":[1,2,3,4,5,6,7,8,9,10],\n",
    "    \"D\":[10,NAN,30,NAN,50,NAN,70,NAN,90,NAN] # WE SHOULD NOT USE NAN TO REPRESENT MISSING VALUES IN PANDAS\n",
    "}\n",
    "pf=pd.DataFrame(A)\n",
    "pf"
   ]
  },
  {
   "cell_type": "code",
   "execution_count": null,
   "id": "fadb403e-35bb-481d-be35-e0739556be9d",
   "metadata": {},
   "outputs": [],
   "source": [
    "# | **When to Use**                   | **Use**  | **One-liner Explanation**                                                               |\n",
    "# | --------------------------------- | -------- | --------------------------------------------------------------------------------------- |\n",
    "# | Missing values in numeric columns | `np.nan` | Use for numbers; standard in pandas but needs `import numpy`.                           |\n",
    "# | Missing values in any data type   | `pd.NA`  | Best all-rounder for pandas; supports strings, ints, bools — no NumPy needed.           |\n",
    "# | Quick/easy missing values         | `None`   | Simple and auto-converted to `NaN`; good for basic use, but limited for advanced tasks. |\n"
   ]
  },
  {
   "cell_type": "code",
   "execution_count": 27,
   "id": "bc6a9a4a-39b8-4794-81da-1153cdd5c419",
   "metadata": {},
   "outputs": [
    {
     "name": "stdout",
     "output_type": "stream",
     "text": [
      "before interpolation:\n",
      "    D     E\n",
      "0   1  10.0\n",
      "1   2   NaN\n",
      "2   3  30.0\n",
      "3   4   NaN\n",
      "4   5  50.0\n",
      "5   6   NaN\n",
      "6   7  70.0\n",
      "7   8   NaN\n",
      "8   9  90.0\n",
      "9  10   NaN\n",
      "after interpolation:\n",
      "    D     E\n",
      "0   1  10.0\n",
      "1   2  20.0\n",
      "2   3  30.0\n",
      "3   4  40.0\n",
      "4   5  50.0\n",
      "5   6  60.0\n",
      "6   7  70.0\n",
      "7   8  80.0\n",
      "8   9  90.0\n",
      "9  10  90.0\n"
     ]
    }
   ],
   "source": [
    "#linear interpolation using np.nan\n",
    "import numpy as np  #explicitly\n",
    "import pandas as pd\n",
    "B={\n",
    "    \"D\":[1,2,3,4,5,6,7,8,9,10],\n",
    "    \"E\":[10,np.nan,30,np.nan,50,np.nan,70,np.nan,90,np.nan] # we can use np.nan or pd.NA or NONE to represent missing values\n",
    "}\n",
    "rf=pd.DataFrame(B)\n",
    "print(\"before interpolation:\")\n",
    "print(rf)\n",
    "print(\"after interpolation:\")\n",
    "rf[\"E\"]=rf[\"E\"].interpolate(method=\"linear\")\n",
    "print(rf)"
   ]
  },
  {
   "cell_type": "code",
   "execution_count": 39,
   "id": "beaf8c58-ef0f-455b-b11a-5ec07f9a2b62",
   "metadata": {},
   "outputs": [
    {
     "name": "stdout",
     "output_type": "stream",
     "text": [
      "before interpolation:\n",
      "    W     X\n",
      "0   1  10.0\n",
      "1   2   NaN\n",
      "2   3  30.0\n",
      "3   4   NaN\n",
      "4   5   NaN\n",
      "5   6  60.0\n",
      "6   7  70.0\n",
      "7   8   NaN\n",
      "8   9  90.0\n",
      "9  10   NaN\n",
      "after interpolation: \n",
      "    W     X\n",
      "0   1  10.0\n",
      "1   2  20.0\n",
      "2   3  30.0\n",
      "3   4  40.0\n",
      "4   5  50.0\n",
      "5   6  60.0\n",
      "6   7  70.0\n",
      "7   8  80.0\n",
      "8   9  90.0\n",
      "9  10  90.0\n"
     ]
    }
   ],
   "source": [
    "#linear interpolation using None\n",
    "Q={\n",
    "    \"W\":[1,2,3,4,5,6,7,8,9,10],\n",
    "    \"X\":[10,None,30,None,None,60,70,None,90,None]\n",
    "}\n",
    "qf=pd.DataFrame(Q)\n",
    "print(\"before interpolation:\")\n",
    "print(qf)\n",
    "qf[\"X\"]=qf[\"X\"].interpolate(method=\"linear\")\n",
    "print(\"after interpolation: \")\n",
    "print(qf)"
   ]
  },
  {
   "cell_type": "code",
   "execution_count": 55,
   "id": "1867378d-4f25-4ae2-b580-876f26e5add4",
   "metadata": {},
   "outputs": [
    {
     "name": "stdout",
     "output_type": "stream",
     "text": [
      "before interpolation:\n",
      "    U     O\n",
      "0   1  10.0\n",
      "1   2  20.0\n",
      "2   3  30.0\n",
      "3   4   NaN\n",
      "4   5   NaN\n",
      "5   6  60.0\n",
      "6   7   NaN\n",
      "7   8  80.0\n",
      "8   9  90.0\n",
      "9  10   NaN\n",
      "    U     O\n",
      "0   1  10.0\n",
      "1   2  20.0\n",
      "2   3  30.0\n",
      "3   4  40.0\n",
      "4   5  50.0\n",
      "5   6  60.0\n",
      "6   7  70.0\n",
      "7   8  80.0\n",
      "8   9  90.0\n",
      "9  10   NaN\n"
     ]
    }
   ],
   "source": [
    "#polynomial interpolation\n",
    "P={\n",
    "    \"U\":[1,2,3,4,5,6,7,8,9,10],\n",
    "    \"O\":[10,20,30,None,None,60,None,80,90,None]\n",
    "}\n",
    "uo=pd.DataFrame(P)\n",
    "print(\"before interpolation:\")\n",
    "print(uo)\n",
    "uo[\"O\"]=uo[\"O\"].interpolate(method=\"polynomial\",order=2)\n",
    "print(uo)\n",
    "\n",
    "# Interpolation works between known values.\n",
    "# It doesn’t fill missing values at the start or end (edges) if there are no valid surrounding points.\n",
    "# The last None (at index 9) is at the end.\n",
    "# There is no known value after it — so pandas can’t compute a polynomial fit for it."
   ]
  },
  {
   "cell_type": "code",
   "execution_count": 13,
   "id": "26157682-c0c5-46ab-8017-279219ddb2b6",
   "metadata": {},
   "outputs": [
    {
     "name": "stdout",
     "output_type": "stream",
     "text": [
      "before interpolation: \n",
      "                 Date  Temperature\n",
      "0 2025-07-25 00:00:00         20.0\n",
      "1 2025-07-25 01:00:00          NaN\n",
      "2 2025-07-25 02:00:00         30.0\n",
      "3 2025-07-25 03:00:00          NaN\n",
      "4 2025-07-25 04:00:00         50.0\n",
      "5 2025-07-25 05:00:00         60.0\n",
      "after interpolation: \n",
      "                     Temperature\n",
      "Date                            \n",
      "2025-07-25 00:00:00         20.0\n",
      "2025-07-25 01:00:00         25.0\n",
      "2025-07-25 02:00:00         30.0\n",
      "2025-07-25 03:00:00         40.0\n",
      "2025-07-25 04:00:00         50.0\n",
      "2025-07-25 05:00:00         60.0\n"
     ]
    },
    {
     "name": "stderr",
     "output_type": "stream",
     "text": [
      "C:\\Users\\shaba\\AppData\\Local\\Temp\\ipykernel_21656\\2871331801.py:5: FutureWarning: 'H' is deprecated and will be removed in a future version, please use 'h' instead.\n",
      "  \"Date\":pd.date_range(start=\"2025-07-25 00:00\",periods=6,freq=\"H\"),  #Pandas expects the date format in ISO format like \"YYYY-MM-DD HH:MM\"\n"
     ]
    }
   ],
   "source": [
    "# time interpolation\n",
    "## interpolation works best when values come at regular intervals, If intervals are not regular, interpolation may give wrong or misleading results.\n",
    "import pandas as pd\n",
    "T={\n",
    "    \"Date\":pd.date_range(start=\"2025-07-25 00:00\",periods=6,freq=\"H\"),  #Pandas expects the date format in ISO format like \"YYYY-MM-DD HH:MM\"\n",
    "    \"Temperature\":[20,None,30,None,50,60]                               #time-weighted interpolation only works on Series or DataFrames with a DatetimeIndex\n",
    "}\n",
    "tf=pd.DataFrame(T)\n",
    "print(\"before interpolation: \")\n",
    "print(tf)\n",
    "tf.set_index(\"Date\",inplace=True)\n",
    "tf[\"Temperature\"]=tf[\"Temperature\"].interpolate(method=\"time\")\n",
    "print(\"after interpolation: \")\n",
    "print(tf)"
   ]
  },
  {
   "cell_type": "code",
   "execution_count": 23,
   "id": "583163b2-b8aa-4acd-95b6-2d6add5a0aed",
   "metadata": {},
   "outputs": [
    {
     "name": "stdout",
     "output_type": "stream",
     "text": [
      "before sorting:\n",
      "      Name  Age  Salary\n",
      "0  Shabaul   25   40000\n",
      "1    Amaan   24   50000\n",
      "2   Pritam   32   60000\n",
      "3    Rehan   23   70000\n",
      "after sorting:\n",
      "      Name  Age  Salary\n",
      "3    Rehan   23   70000\n",
      "1    Amaan   24   50000\n",
      "0  Shabaul   25   40000\n",
      "2   Pritam   32   60000\n"
     ]
    }
   ],
   "source": [
    "#Sorting and Aggregation\n",
    "#SORTING: Used to sort rows based on one or more column values.\n",
    "# | Task                      | Code Example                                |\n",
    "# | ------------------------- | ------------------------------------------- |\n",
    "# | Sort by one column        | `df.sort_values(by=\"Age\")`                  |\n",
    "# | Sort by multiple columns  | `df.sort_values(by=[\"Age\", \"Name\"])`        |\n",
    "# | Sort descending           | `df.sort_values(by=\"Age\", ascending=False)` |\n",
    "# | Sort by index             | `df.sort_index()`                           |\n",
    "# | Sort columns (by name)    | `df.sort_index(axis=1)`                     |\n",
    "# | Modify original DataFrame | `inplace=True`                              |\n",
    "\n",
    "#sorting one column(age) in ascending order\n",
    "S={\n",
    "    \"Name\":[\"Shabaul\",\"Amaan\",\"Pritam\",\"Rehan\"],\n",
    "    \"Age\":[25,24,32,23],\n",
    "    \"Salary\":[40000,50000,60000,70000]\n",
    "}\n",
    "sf=pd.DataFrame(S)\n",
    "print(\"before sorting:\")\n",
    "print(sf)\n",
    "\n",
    "sf.sort_values(by=\"Age\",inplace=True)\n",
    "print(\"after sorting:\")\n",
    "print(sf)"
   ]
  },
  {
   "cell_type": "code",
   "execution_count": 29,
   "id": "e205b9cc-9e0f-438a-97fd-eb22ac7a3236",
   "metadata": {},
   "outputs": [
    {
     "name": "stdout",
     "output_type": "stream",
     "text": [
      "before sorting:\n",
      "      Name  Age  Salary\n",
      "0  Shabaul   25   40000\n",
      "1    Amaan   24   50000\n",
      "2   Pritam   32   60000\n",
      "3    Rehan   23   70000\n",
      "after sorting:\n",
      "      Name  Age  Salary\n",
      "3    Rehan   23   70000\n",
      "1    Amaan   24   50000\n",
      "0  Shabaul   25   40000\n",
      "2   Pritam   32   60000\n"
     ]
    }
   ],
   "source": [
    "#sorting one column(age) in ascending order\n",
    "S={\n",
    "    \"Name\":[\"Shabaul\",\"Amaan\",\"Pritam\",\"Rehan\"],\n",
    "    \"Age\":[25,24,32,23],\n",
    "    \"Salary\":[40000,50000,60000,70000]\n",
    "}\n",
    "sf=pd.DataFrame(S)\n",
    "print(\"before sorting:\")\n",
    "print(sf)\n",
    "\n",
    "sf.sort_values(by=\"Age\",ascending=True,inplace=True)\n",
    "print(\"after sorting:\")\n",
    "print(sf)"
   ]
  },
  {
   "cell_type": "code",
   "execution_count": 33,
   "id": "d34879d1-a93d-49f5-9a9a-20465848f799",
   "metadata": {},
   "outputs": [
    {
     "name": "stdout",
     "output_type": "stream",
     "text": [
      "before sorting:\n",
      "      Name  Age  Salary\n",
      "0  Shabaul   25   40000\n",
      "1    Amaan   24   50000\n",
      "2   Pritam   32   60000\n",
      "3    Rehan   23   70000\n",
      "after sorting:\n",
      "      Name  Age  Salary\n",
      "2   Pritam   32   60000\n",
      "0  Shabaul   25   40000\n",
      "1    Amaan   24   50000\n",
      "3    Rehan   23   70000\n"
     ]
    }
   ],
   "source": [
    "#sorting one column(age) in descending order\n",
    "S={\n",
    "    \"Name\":[\"Shabaul\",\"Amaan\",\"Pritam\",\"Rehan\"],\n",
    "    \"Age\":[25,24,32,23],\n",
    "    \"Salary\":[40000,50000,60000,70000]\n",
    "}\n",
    "sf=pd.DataFrame(S)\n",
    "print(\"before sorting:\")\n",
    "print(sf)\n",
    "\n",
    "sf.sort_values(by=\"Age\",ascending=False,inplace=True)\n",
    "print(\"after sorting:\")\n",
    "print(sf)"
   ]
  },
  {
   "cell_type": "code",
   "execution_count": 39,
   "id": "0294db74-3e11-4d91-8ceb-836150dcc338",
   "metadata": {},
   "outputs": [
    {
     "name": "stdout",
     "output_type": "stream",
     "text": [
      "before sorting:\n",
      "      Name  Age  Salary\n",
      "0  Shabaul   25   40000\n",
      "1    Amaan   24   50000\n",
      "2   Pritam   32   60000\n",
      "3    Rehan   23   70000\n",
      "after sorting:\n",
      "      Name  Age  Salary\n",
      "3    Rehan   23   70000\n",
      "1    Amaan   24   50000\n",
      "0  Shabaul   25   40000\n",
      "2   Pritam   32   60000\n"
     ]
    }
   ],
   "source": [
    "#sorting two columns(age,salary) in ascending order\n",
    "S={\n",
    "    \"Name\":[\"Shabaul\",\"Amaan\",\"Pritam\",\"Rehan\"],\n",
    "    \"Age\":[25,24,32,23],\n",
    "    \"Salary\":[40000,50000,60000,70000]\n",
    "}\n",
    "sf=pd.DataFrame(S)\n",
    "print(\"before sorting:\")\n",
    "print(sf)\n",
    "\n",
    "sf.sort_values(by=[\"Age\",\"Salary\"],ascending=[True,True],inplace=True)\n",
    "print(\"after sorting:\")\n",
    "print(sf)\n",
    "\n",
    "# Step 1: Primary Sort — by Age\n",
    "# Pandas first sorts all the rows by Age in ascending order.\n",
    "\n",
    "# Step 2: Secondary Sort — by Salary\n",
    "# If two or more rows have the same Age, then it sorts those tied rows by Salary."
   ]
  },
  {
   "cell_type": "code",
   "execution_count": 43,
   "id": "a08c07d7-5c65-4ead-bf73-d2cd0004bbc3",
   "metadata": {},
   "outputs": [
    {
     "name": "stdout",
     "output_type": "stream",
     "text": [
      "before sorting:\n",
      "      Name  Age  Salary\n",
      "0  Shabaul   25   40000\n",
      "1    Amaan   24   50000\n",
      "2   Pritam   32   60000\n",
      "3    Rehan   23   70000\n",
      "after sorting:\n",
      "      Name  Age  Salary\n",
      "0  Shabaul   25   40000\n",
      "1    Amaan   24   50000\n",
      "2   Pritam   32   60000\n",
      "3    Rehan   23   70000\n"
     ]
    }
   ],
   "source": [
    "S={\n",
    "    \"Name\":[\"Shabaul\",\"Amaan\",\"Pritam\",\"Rehan\"],\n",
    "    \"Age\":[25,24,32,23],\n",
    "    \"Salary\":[40000,50000,60000,70000]\n",
    "}\n",
    "sf=pd.DataFrame(S)\n",
    "print(\"before sorting:\")\n",
    "print(sf)\n",
    "\n",
    "sf.sort_values(by=[\"Salary\",\"Age\"],ascending=[True,True],inplace=True)\n",
    "print(\"after sorting:\")\n",
    "print(sf)\n",
    "\n",
    "# Primary sort → by \"Salary\" (lowest to highest)\n",
    "# Secondary sort → by \"Age\" (used only if salaries match)"
   ]
  },
  {
   "cell_type": "code",
   "execution_count": 47,
   "id": "409a9932-a3b9-46b7-bc0b-cfab3760fbe4",
   "metadata": {},
   "outputs": [],
   "source": [
    "# Aggregation means performing summary operations like:\n",
    "# sum(), mean(), max(), min(), count(), etc.\n",
    "# on our DataFrame to get insights from grouped or raw data.\n",
    "\n",
    "#common aggregate function:=\n",
    "# | Function   | Meaning           |\n",
    "# | ---------- | ----------------- |\n",
    "# | `sum()`    | Total             |\n",
    "# | `mean()`   | Average           |\n",
    "# | `count()`  | Number of entries |\n",
    "# | `min()`    | Minimum value     |\n",
    "# | `max()`    | Maximum value     |\n",
    "# | `median()` | Middle value      |\n",
    "# | `agg()`    | Combine multiple  |\n",
    "\n",
    "#Simple syntax\n",
    "# df.[\"column name\"].mean()\n",
    "# df.[\"column name\"].mean()\n",
    "# df.[\"column name\"].mean()\n",
    "# df.[\"column name\"].mean()"
   ]
  },
  {
   "cell_type": "code",
   "execution_count": 9,
   "id": "1c3cdbe2-b73e-41be-befd-ccedbf6dd403",
   "metadata": {},
   "outputs": [
    {
     "name": "stdout",
     "output_type": "stream",
     "text": [
      "      Name  Age  Salary\n",
      "0  Shabaul   25   40000\n",
      "1    Amaan   24   50000\n",
      "2   Pritam   32   60000\n",
      "3    Rehan   23   70000\n",
      "mean of age is 26.0\n",
      "minimum of age is 23\n",
      "maximum of age is 32\n",
      "count of age is 4\n",
      "sum of age is 104\n",
      "median of age is 4\n"
     ]
    }
   ],
   "source": [
    "import pandas as pd\n",
    "S={\n",
    "    \"Name\":[\"Shabaul\",\"Amaan\",\"Pritam\",\"Rehan\"],\n",
    "    \"Age\":[25,24,32,23],\n",
    "    \"Salary\":[40000,50000,60000,70000]\n",
    "}\n",
    "sf=pd.DataFrame(S)\n",
    "print(sf)\n",
    "meanage=sf[\"Age\"].mean()\n",
    "print(\"mean of age is\",meanage)\n",
    "minage=sf[\"Age\"].min()\n",
    "print(\"minimum of age is\",minage)\n",
    "maxage=sf[\"Age\"].max()\n",
    "print(\"maximum of age is\",maxage)\n",
    "countage=sf[\"Age\"].count()\n",
    "print(\"count of age is\",countage)\n",
    "sumage=sf[\"Age\"].sum()\n",
    "print(\"sum of age is\",sumage)\n",
    "medianage=sf[\"Age\"].count()\n",
    "print(\"median of age is\",medianage)\n"
   ]
  },
  {
   "cell_type": "code",
   "execution_count": 13,
   "id": "63b9b359-eceb-4d43-8a0e-63945889d506",
   "metadata": {},
   "outputs": [
    {
     "name": "stdout",
     "output_type": "stream",
     "text": [
      "min       23.0\n",
      "max       32.0\n",
      "mean      26.0\n",
      "median    24.5\n",
      "count      4.0\n",
      "median    24.5\n",
      "Name: Age, dtype: float64\n"
     ]
    }
   ],
   "source": [
    "print(sf[\"Age\"].agg([\"min\", \"max\", \"mean\", \"median\",\"count\",\"median\"])) # agg() use to compute multiple aggregate functions in one time\n"
   ]
  },
  {
   "cell_type": "code",
   "execution_count": 4,
   "id": "83f64eb7-18f3-404a-852e-b38d2d939086",
   "metadata": {},
   "outputs": [
    {
     "name": "stdout",
     "output_type": "stream",
     "text": [
      "<pandas.core.groupby.generic.DataFrameGroupBy object at 0x000002CD20E6E0C0>\n"
     ]
    }
   ],
   "source": [
    "#In Pandas, groupby() is used to group data based on one or more columns. It's a powerful method for data aggregation, transformation, and analysis.\n",
    "#syntax: df.groupby('column_name'), a preparatory step for further operations like .sum(), .mean(\n",
    "#df.groupby(['col1', 'col2']),You can also group by multiple columns, still not giving any output\n",
    "import pandas as pd\n",
    "gd=pd.DataFrame(\n",
    "    {\n",
    "        \"Name\":[\"Shabaul\",\"Saif\",\"Amaan\",\"Pritam\",\"Rehan\"],\n",
    "        \"Age\":[23,24,35,23,23],\n",
    "        \"Salary\":[50000,60000,70000,80000,90000]\n",
    "    }\n",
    "    )\n",
    "grouped=gd.groupby(\"Age\") #it did group age , but no output just memory address\n",
    "print(grouped)"
   ]
  },
  {
   "cell_type": "code",
   "execution_count": 8,
   "id": "b3586e8e-4abb-409f-b7b4-8e906cb0ce55",
   "metadata": {},
   "outputs": [
    {
     "name": "stdout",
     "output_type": "stream",
     "text": [
      "<pandas.core.groupby.generic.SeriesGroupBy object at 0x000002CD226B4DD0>\n"
     ]
    }
   ],
   "source": [
    "import pandas as pd\n",
    "gd=pd.DataFrame(\n",
    "    {\n",
    "        \"Name\":[\"Shabaul\",\"Saif\",\"Amaan\",\"Pritam\",\"Rehan\"],\n",
    "        \"Age\":[23,24,35,23,23],\n",
    "        \"Salary\":[50000,60000,70000,80000,90000]\n",
    "    }\n",
    "    )\n",
    "grouped=gd.groupby(\"Age\")[\"Salary\"] #it did group age , but still no output just memory address\n",
    "print(grouped)"
   ]
  },
  {
   "cell_type": "code",
   "execution_count": 12,
   "id": "fac85483-7c5e-4776-8498-9366d40be7df",
   "metadata": {},
   "outputs": [
    {
     "name": "stdout",
     "output_type": "stream",
     "text": [
      "Age\n",
      "23    65000.0\n",
      "24    75000.0\n",
      "35    70000.0\n",
      "Name: Salary, dtype: float64\n"
     ]
    }
   ],
   "source": [
    "import pandas as pd\n",
    "gd=pd.DataFrame(\n",
    "    {\n",
    "        \"Name\":[\"Shabaul\",\"Saif\",\"Amaan\",\"Pritam\",\"Rehan\"],\n",
    "        \"Age\":[23,24,35,23,24],\n",
    "        \"Salary\":[50000,60000,70000,80000,90000]\n",
    "    }\n",
    "    )\n",
    "grouped=gd.groupby(\"Age\")[\"Salary\"].mean() #find average salary now(of people with same age)\n",
    "print(grouped)"
   ]
  },
  {
   "cell_type": "code",
   "execution_count": 18,
   "id": "bff62db6-65f9-4048-a839-1fab9a4a3c1d",
   "metadata": {},
   "outputs": [
    {
     "name": "stdout",
     "output_type": "stream",
     "text": [
      "Age\n",
      "23    80000\n",
      "24    90000\n",
      "35    70000\n",
      "Name: Salary, dtype: int64\n"
     ]
    }
   ],
   "source": [
    "import pandas as pd\n",
    "# Creating a DataFrame with Name, Age, and Salary columns\n",
    "gd=pd.DataFrame(\n",
    "    {\n",
    "        \"Name\":[\"Shabaul\",\"Saif\",\"Amaan\",\"Pritam\",\"Rehan\"],\n",
    "        \"Age\":[23,24,35,23,24],\n",
    "        \"Salary\":[50000,60000,70000,80000,90000]\n",
    "    }\n",
    "    )\n",
    "grouped=gd.groupby(\"Age\")[\"Salary\"].max()  # Grouping the data by 'Age' and finding the highest salary in each age group\n",
    "print(grouped)"
   ]
  },
  {
   "cell_type": "code",
   "execution_count": 28,
   "id": "a37c8ca4-f5ea-4290-aceb-da3dd8f5eaa8",
   "metadata": {},
   "outputs": [
    {
     "name": "stdout",
     "output_type": "stream",
     "text": [
      "Age  Name   \n",
      "23   Pritam     80000\n",
      "     Shabaul    50000\n",
      "24   Rehan      90000\n",
      "     Saif       60000\n",
      "35   Amaan      70000\n",
      "Name: Salary, dtype: int64\n"
     ]
    }
   ],
   "source": [
    "# groupby using multiple columns\n",
    "import pandas as pd\n",
    "gdm=pd.DataFrame({\n",
    "        \"Name\":[\"Shabaul\",\"Saif\",\"Amaan\",\"Pritam\",\"Rehan\"],\n",
    "        \"Age\":[23,24,35,23,24],\n",
    "        \"Salary\":[50000,60000,70000,80000,90000]\n",
    "})\n",
    "groupmultiple=gdm.groupby([\"Age\",\"Name\"])[\"Salary\"].sum()\n",
    "print(groupmultiple)"
   ]
  },
  {
   "cell_type": "code",
   "execution_count": 30,
   "id": "556db834-068f-409b-b183-215d144a1514",
   "metadata": {},
   "outputs": [
    {
     "name": "stdout",
     "output_type": "stream",
     "text": [
      "Age  Name   \n",
      "23   Pritam     80000\n",
      "     Shabaul    50000\n",
      "24   Rehan      90000\n",
      "     Saif       60000\n",
      "35   Amaan      70000\n",
      "Name: Salary, dtype: int64\n"
     ]
    }
   ],
   "source": [
    "# Importing the pandas library\n",
    "import pandas as pd\n",
    "\n",
    "# Creating a DataFrame with Name, Age, and Salary\n",
    "gdm = pd.DataFrame({\n",
    "    \"Name\": [\"Shabaul\", \"Saif\", \"Amaan\", \"Pritam\", \"Rehan\"],\n",
    "    \"Age\": [23, 24, 35, 23, 24],\n",
    "    \"Salary\": [50000, 60000, 70000, 80000, 90000]\n",
    "})\n",
    "\n",
    "# Grouping the data by both 'Age' and 'Name' columns\n",
    "# This will group rows where both Age and Name match, then calculate the total salary for each group\n",
    "groupmultiple = gdm.groupby([\"Age\", \"Name\"])[\"Salary\"].sum()\n",
    "\n",
    "# Printing the grouped result\n",
    "print(groupmultiple)\n",
    "\n",
    "# the .sum() function is not adding anything in this case because each (Age, Name) pair is unique in the DataFrame.\n",
    "# There are no duplicate entries to add together."
   ]
  },
  {
   "cell_type": "code",
   "execution_count": 34,
   "id": "102d2c3b-34da-4971-b012-bb89dc20ed70",
   "metadata": {},
   "outputs": [
    {
     "name": "stdout",
     "output_type": "stream",
     "text": [
      "Age  Name   \n",
      "23   Shabaul    130000\n",
      "24   Rehan       90000\n",
      "     Saif        60000\n",
      "35   Amaan       70000\n",
      "Name: Salary, dtype: int64\n"
     ]
    }
   ],
   "source": [
    "import pandas as pd\n",
    "\n",
    "# Creating a DataFrame with duplicate 'Name' and 'Age' combination\n",
    "gdm = pd.DataFrame({\n",
    "    \"Name\": [\"Shabaul\", \"Saif\", \"Amaan\", \"Shabaul\", \"Rehan\"],\n",
    "    \"Age\": [23, 24, 35, 23, 24],\n",
    "    \"Salary\": [50000, 60000, 70000, 80000, 90000]\n",
    "})\n",
    "\n",
    "# Grouping by 'Age' and 'Name', then summing salaries\n",
    "# Since \"Shabaul\" with Age 23 appears twice, their salaries are added together\n",
    "groupmultiple = gdm.groupby([\"Age\", \"Name\"])[\"Salary\"].sum()\n",
    "\n",
    "# Printing the grouped result\n",
    "print(groupmultiple)\n"
   ]
  },
  {
   "cell_type": "code",
   "execution_count": 42,
   "id": "78b4ac73-6b64-45b9-bc45-2d5b736ca953",
   "metadata": {},
   "outputs": [
    {
     "name": "stdout",
     "output_type": "stream",
     "text": [
      "   Customer_ID     Name  OrderAmount\n",
      "0            1  Shabaul          250\n",
      "1            2    Amaan          450\n"
     ]
    }
   ],
   "source": [
    "# Merging in Pandas (pd.merge) and joining\n",
    "# merge() is used to combine two DataFrames based on one or more common columns (like SQL JOINs).\n",
    "# merge() in Pandas can combine two DataFrames at a time only.\n",
    "\n",
    "df_customers=pd.DataFrame({\n",
    "    \"Customer_ID\":[1,2,3],\n",
    "    \"Name\":[\"Shabaul\",\"Amaan\",\"Pritam\"]\n",
    "})\n",
    "df_orders=pd.DataFrame({\n",
    "    \"Customer_ID\":[1,2,4],\n",
    "    \"OrderAmount\":[250,450,350]\n",
    "})\n",
    "merged=pd.merge(df_customers,df_orders, on=\"Customer_ID\",how=\"inner\")\n",
    "print(merged)"
   ]
  },
  {
   "cell_type": "code",
   "execution_count": 46,
   "id": "6065fa49-91f7-4635-8375-ebfd2a134987",
   "metadata": {},
   "outputs": [
    {
     "name": "stdout",
     "output_type": "stream",
     "text": [
      "   ID   Name  Age  Salary\n",
      "0   1  Alice   25   50000\n",
      "1   2    Bob   30   60000\n"
     ]
    }
   ],
   "source": [
    "#Merging 3 DataFrames\n",
    "#we can merge multiple DataFrames by chaining merge() calls.\n",
    "import pandas as pd\n",
    "\n",
    "df1 = pd.DataFrame({'ID': [1, 2], 'Name': ['Alice', 'Bob']})\n",
    "df2 = pd.DataFrame({'ID': [1, 2], 'Age': [25, 30]})\n",
    "df3 = pd.DataFrame({'ID': [1, 2], 'Salary': [50000, 60000]})\n",
    "\n",
    "# Merge df1 and df2 first\n",
    "merged1 = pd.merge(df1, df2, on='ID')\n",
    "\n",
    "# Then merge the result with df3\n",
    "final_merged = pd.merge(merged1, df3, on='ID')\n",
    "\n",
    "print(final_merged)"
   ]
  },
  {
   "cell_type": "code",
   "execution_count": 50,
   "id": "7d150ddd-2080-464e-9682-7b6fac40c9ec",
   "metadata": {},
   "outputs": [
    {
     "name": "stdout",
     "output_type": "stream",
     "text": [
      "    Name  Subject\n",
      "0  Alice     Math\n",
      "1  Alice  Science\n",
      "2    Bob     Math\n",
      "3    Bob  Science\n"
     ]
    }
   ],
   "source": [
    "# | **Join Type** | **Definition (Easy Words)**                               | **Keeps All Rows From** | **Rows Without Match?** | **Missing Values Filled With** |\n",
    "# | ------------- | --------------------------------------------------------- | ----------------------- | ----------------------- | ------------------------------ |\n",
    "# | `inner`       | Keeps only rows where keys match in both DataFrames       | Matching in both        | ❌ Removed               | –                              |\n",
    "# | `left`        | Keeps all rows from the **left** DataFrame                | Left                    | ✅ From left side        | `NaN` in right columns         |\n",
    "# | `right`       | Keeps all rows from the **right** DataFrame               | Right                   | ✅ From right side       | `NaN` in left columns          |\n",
    "# | `outer`       | Keeps all rows from **both** DataFrames (full outer join) | Both                    | ✅ From both sides       | `NaN` where no match           |\n",
    "\n",
    "# What is a Cross Join?\n",
    "# A cross join (also called Cartesian product) returns every combination of rows from two DataFrames.\n",
    "# Each row from the first table is paired with every row from the second table.\n",
    "# If:\n",
    "# df1 has 3 rows\n",
    "# df2 has 2 rows\n",
    "# ➡️ Cross join will give 3 × 2 = 6 rows\n",
    "\n",
    "#example of cross join: \n",
    "import pandas as pd\n",
    "\n",
    "# First DataFrame\n",
    "df1 = pd.DataFrame({\n",
    "    'Name': ['Alice', 'Bob']\n",
    "})\n",
    "\n",
    "# Second DataFrame\n",
    "df2 = pd.DataFrame({\n",
    "    'Subject': ['Math', 'Science']\n",
    "})\n",
    "\n",
    "# Cross Join\n",
    "cross = df1.merge(df2, how='cross')\n",
    "print(cross)\n"
   ]
  },
  {
   "cell_type": "code",
   "execution_count": null,
   "id": "c760ff33-599c-4962-8b41-503b24de3bb4",
   "metadata": {},
   "outputs": [],
   "source": []
  }
 ],
 "metadata": {
  "kernelspec": {
   "display_name": "Python 3 (ipykernel)",
   "language": "python",
   "name": "python3"
  },
  "language_info": {
   "codemirror_mode": {
    "name": "ipython",
    "version": 3
   },
   "file_extension": ".py",
   "mimetype": "text/x-python",
   "name": "python",
   "nbconvert_exporter": "python",
   "pygments_lexer": "ipython3",
   "version": "3.12.4"
  }
 },
 "nbformat": 4,
 "nbformat_minor": 5
}
