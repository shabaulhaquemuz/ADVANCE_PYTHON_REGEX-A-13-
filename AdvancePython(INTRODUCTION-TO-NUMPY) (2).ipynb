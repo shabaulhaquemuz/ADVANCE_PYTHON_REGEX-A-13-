{
 "cells": [
  {
   "cell_type": "code",
   "execution_count": 1,
   "id": "6b6ddbf7-fbd7-4e8e-8688-1f17d270fbd5",
   "metadata": {},
   "outputs": [],
   "source": [
    "#Numpy- NumPy is a Python library used to perform mathematical tasks, especially with arrays and matrices.\n",
    "#Numpy stands for numerical python\n",
    "\n",
    "# NumPy Overview\n",
    "# NumPy uses arrays to perform operations and store data efficiently.\n",
    "\n",
    "# Why Arrays?\n",
    "# Arrays store data in continuous memory locations.\n",
    "# This makes data access faster compared to Python lists.\n",
    "\n",
    "# Key Advantages of NumPy Arrays(its the difference also between lists and arrays):\n",
    "# Speed: Much faster than lists for numerical tasks.\n",
    "# Efficiency: Consumes less memory due to continuous memory allocation.\n",
    "# Convenient Operations: Supports mathematical operations like addition, multiplication, and trigonometric functions directly on arrays.\n",
    "\n",
    "# Definition:\n",
    "# Broadcasting in NumPy is the ability to perform element-wise operations on arrays of different shapes — by automatically expanding \n",
    "#the smaller array to match the shape of the larger one.\n",
    "# 🎯 In Simple Words:# You can add, subtract, multiply, etc., arrays of different shapes, and NumPy will stretch the smaller array without copying data."
   ]
  },
  {
   "cell_type": "code",
   "execution_count": 4,
   "id": "b41fccf6-0856-473a-a358-9fbf69dc7270",
   "metadata": {},
   "outputs": [
    {
     "name": "stdout",
     "output_type": "stream",
     "text": [
      "Requirement already satisfied: numpy in c:\\users\\shaba\\anaconda3\\lib\\site-packages (1.26.4)\n"
     ]
    }
   ],
   "source": [
    "!pip install numpy\n",
    "\n",
    "#pip install numpy\n",
    "#This is the normal Python command to install the NumPy library from the Python Package Index (PyPI).\n",
    "\n",
    "#This is ! (Exclamation mark)\n",
    "#In Jupyter Notebook or Colab, putting ! before a command allows you to run system shell commands directly from the notebook.\n",
    "\n",
    "# Command Prompt = The tool / application (like CMD.exe in Windows)\n",
    "# System Shell Command = The instructions / commands you type in (like mkdir, cd, pip install numpy)\n",
    "\n",
    "# Example:\n",
    "# If you open Command Prompt (CMD) and type:\n",
    "# pip install numpy\n",
    "# pip install numpy is the shell command.\n",
    "# The CMD window you are typing into is the Command Prompt."
   ]
  },
  {
   "cell_type": "code",
   "execution_count": 1,
   "id": "69af74c8-4e63-4a3b-b3fc-b24e203dda6a",
   "metadata": {},
   "outputs": [
    {
     "name": "stdout",
     "output_type": "stream",
     "text": [
      "<class 'numpy.ndarray'> [0 1 2 3]\n"
     ]
    }
   ],
   "source": [
    "import numpy\n",
    "arr=numpy.arange(4)\n",
    "print(type(arr),arr)\n"
   ]
  },
  {
   "cell_type": "code",
   "execution_count": 12,
   "id": "da4aa811-f5ba-48b9-946f-28cfb57628aa",
   "metadata": {},
   "outputs": [
    {
     "name": "stdout",
     "output_type": "stream",
     "text": [
      "7\n",
      "0\n"
     ]
    }
   ],
   "source": [
    "# ✅ 1. Scalar (0-D array)\n",
    "# A scalar is a single number (just one value), like 5, 3.14, etc.\n",
    "#it has no direction\n",
    "#used to perform arithmetic operations\n",
    "\n",
    "# | Code                 | Meaning                                           |\n",
    "# | -------------------- | ------------------------------------------------- |\n",
    "# | `import numpy`       | Import the NumPy library.                         |\n",
    "# | `import numpy as np` | Import NumPy and use **`np`** as a shortcut name. |\n",
    "\n",
    "    \n",
    "import numpy as np\n",
    "\n",
    "a = np.array(7)\n",
    "print(a)            # Output: 7\n",
    "print(a.ndim)       # 0 (scalar has 0 dimensions) #prints the number of dimensions (axes) of the array.\n"
   ]
  },
  {
   "cell_type": "code",
   "execution_count": 24,
   "id": "5fc7c5ee-8549-4345-9591-fffbea4ffdfb",
   "metadata": {},
   "outputs": [
    {
     "name": "stdout",
     "output_type": "stream",
     "text": [
      "[1 2 3]\n",
      "1\n"
     ]
    }
   ],
   "source": [
    "#  2. Vector (1-D array)\n",
    "# A vector is a 1-dimensional array of numbers.\n",
    "# It can be thought of as a list like [1, 2, 3].\n",
    "# 1D array → No \"vertical only\" or \"horizontal only\" → Just a list of values\n",
    "# Vertical axis appears only in 2D or higher arrays.\n",
    "# Technically, a 1D array has one direction → It’s a linear sequence.\n",
    "# But it is NOT explicitly \"horizontal\" or \"vertical\" because NumPy doesn’t assign a direction to 1D arrays.\n",
    "\n",
    "v = np.array([1, 2, 3])\n",
    "print(v)            # Output: [1 2 3]\n",
    "print(v.ndim)       # 1 (vector)\n"
   ]
  },
  {
   "cell_type": "code",
   "execution_count": 28,
   "id": "5dcacff3-cb4a-43f5-9c4c-10569a65f4da",
   "metadata": {},
   "outputs": [
    {
     "name": "stdout",
     "output_type": "stream",
     "text": [
      "[[1 2 3]\n",
      " [4 5 6]]\n",
      "2\n"
     ]
    }
   ],
   "source": [
    "# ✅ 3. Matrix (2-D array)\n",
    "# A matrix is a 2-dimensional array of numbers — rows and columns.\n",
    "m = np.array([[1, 2, 3],\n",
    "              [4, 5, 6]])\n",
    "print(m)\n",
    "# Output:\n",
    "# [[1 2 3]\n",
    "#  [4 5 6]]\n",
    "\n",
    "print(m.ndim)       # 2 (matrix)\n",
    "\n",
    "#Are the number of rows and columns always the same in a matrix?\n",
    "#❌ No, in general matrices do not have to be square.\n",
    "# | Matrix Type            | Description      | Example Shape      |\n",
    "# | ---------------------- | ---------------- | ------------------ |\n",
    "# | **Square Matrix**      | Rows = Columns   | `2x2`, `3x3`, etc. |\n",
    "# | **Rectangular Matrix** | Rows ≠ Columns   | `2x3`, `3x2`, etc. |\n",
    "# | **Row Vector**         | 1 row, N columns | `1x3`              |\n",
    "# | **Column Vector**      | N rows, 1 column | `3x1`              |\n"
   ]
  },
  {
   "cell_type": "code",
   "execution_count": 5,
   "id": "0c1807ee-3cc6-4905-8119-979b7c7b1ed7",
   "metadata": {},
   "outputs": [
    {
     "name": "stdout",
     "output_type": "stream",
     "text": [
      "[[1 2 3]]\n",
      "Shape: (1, 3)\n"
     ]
    }
   ],
   "source": [
    "#✅ 1. Row Vector\n",
    "#A row vector is a 2D array with 1 row and N columns.\n",
    "import numpy as np\n",
    "\n",
    "row_vec = np.array([[1, 2, 3]])\n",
    "print(row_vec)\n",
    "print(\"Shape:\", row_vec.shape)  # (1, 3)\n",
    "\n",
    "\n",
    "# | **Number** | **Meaning**           |\n",
    "# | ---------- | --------------------- |\n",
    "# | `1`        | **Number of rows**    |\n",
    "# | `3`        | **Number of columns** |\n"
   ]
  },
  {
   "cell_type": "code",
   "execution_count": 32,
   "id": "9014b707-39fd-438c-b351-48124d62dc98",
   "metadata": {},
   "outputs": [
    {
     "name": "stdout",
     "output_type": "stream",
     "text": [
      "[[1]\n",
      " [2]\n",
      " [3]]\n",
      "Shape: (3, 1)\n"
     ]
    }
   ],
   "source": [
    "#  2. Column Vector\n",
    "# A column vector is a 2D array with N rows and 1 column\n",
    "col_vec = np.array([[1],\n",
    "                    [2],\n",
    "                    [3]])\n",
    "print(col_vec)\n",
    "print(\"Shape:\", col_vec.shape)  # (3, 1)\n"
   ]
  },
  {
   "cell_type": "code",
   "execution_count": 17,
   "id": "0340cf3e-e1ad-4f9a-860a-b65293328770",
   "metadata": {},
   "outputs": [
    {
     "name": "stdout",
     "output_type": "stream",
     "text": [
      "4\n",
      "(4,)\n",
      "4\n",
      "[100   1   2   3] <class 'numpy.ndarray'>\n"
     ]
    }
   ],
   "source": [
    "import numpy as np\n",
    "arr=np.arange(4)\n",
    "arr.size\n",
    "print(arr.size)\n",
    "arr.shape\n",
    "arr[0]=100\n",
    "print(arr.shape)\n",
    "print(arr.size)\n",
    "print(arr,type(arr))"
   ]
  },
  {
   "cell_type": "code",
   "execution_count": 46,
   "id": "e9a050ef-7ca9-4b58-ac53-57e277391db7",
   "metadata": {},
   "outputs": [
    {
     "name": "stdout",
     "output_type": "stream",
     "text": [
      "[0 1 2 3 4 5 6 7 8 9]\n"
     ]
    }
   ],
   "source": [
    "import numpy as np\n",
    "arr1=np.arange(10)\n",
    "print(arr1)"
   ]
  },
  {
   "cell_type": "code",
   "execution_count": 19,
   "id": "99263f0b-5d4d-4abb-935f-c1d5cdb290bb",
   "metadata": {},
   "outputs": [
    {
     "name": "stdout",
     "output_type": "stream",
     "text": [
      "10\n",
      "(10,)\n"
     ]
    }
   ],
   "source": [
    "import numpy as np\n",
    "arr2=np.arange(10)\n",
    "print(arr2.size)\n",
    "print(arr2.shape)\n",
    "#shape shows number of rows and columns"
   ]
  },
  {
   "cell_type": "code",
   "execution_count": 74,
   "id": "8492fe92-1329-4897-8a0d-3d4c74f5e0c2",
   "metadata": {},
   "outputs": [
    {
     "name": "stdout",
     "output_type": "stream",
     "text": [
      "(3,) (5,)\n",
      "[10 20 30] [30 40 50 60 70]\n"
     ]
    }
   ],
   "source": [
    "import numpy as np\n",
    "arr3=np.array([10,20,30])\n",
    "arr4=np.array([30,40,50,60,70])\n",
    "print(arr3.shape,arr4.shape)\n",
    "print(arr3,arr4)"
   ]
  },
  {
   "cell_type": "code",
   "execution_count": 78,
   "id": "050cd2c3-d13f-4f8b-aa0b-47358a2ac351",
   "metadata": {},
   "outputs": [
    {
     "name": "stdout",
     "output_type": "stream",
     "text": [
      "(3,) (1, 5)\n",
      "[10 20 30] [[30 40 50 60 70]]\n"
     ]
    }
   ],
   "source": [
    "import numpy as np\n",
    "arr5=np.array([10,20,30])\n",
    "arr6=np.array([[30,40,50,60,70]])\n",
    "print(arr5.shape,arr6.shape)\n",
    "print(arr5,arr6)\n",
    "#1 row 5 column...row vector"
   ]
  },
  {
   "cell_type": "code",
   "execution_count": 92,
   "id": "db0e8228-29f4-4a1f-8727-0261d86d3c0b",
   "metadata": {},
   "outputs": [
    {
     "name": "stdout",
     "output_type": "stream",
     "text": [
      "(1, 2, 3)\n",
      "[[[ 10  20  30]\n",
      "  [ 50 100 500]]]\n",
      "[[ 10  20  30  50 100 500]]\n"
     ]
    }
   ],
   "source": [
    "import numpy as np\n",
    "arr7=np.array([[[10,20,30],\n",
    "             [50,100,500]]])\n",
    "print(arr7.shape)\n",
    "print(arr7)\n",
    "\n",
    "arr8=arr7.reshape((1,6))\n",
    "print(arr8)\n",
    "#2 rows, three columns...column vector"
   ]
  },
  {
   "cell_type": "code",
   "execution_count": 94,
   "id": "dcf14bd9-19c2-4025-abf6-9911522bfe26",
   "metadata": {},
   "outputs": [
    {
     "data": {
      "text/plain": [
       "array([[0., 0., 0., 0., 0., 0.],\n",
       "       [0., 0., 0., 0., 0., 0.]])"
      ]
     },
     "execution_count": 94,
     "metadata": {},
     "output_type": "execute_result"
    }
   ],
   "source": [
    "np.zeros((2,6))\n"
   ]
  },
  {
   "cell_type": "code",
   "execution_count": 96,
   "id": "6ddbcb39-bbf6-4b00-9627-7f1aa642b10a",
   "metadata": {},
   "outputs": [
    {
     "data": {
      "text/plain": [
       "array([[1., 1., 1., 1., 1., 1.],\n",
       "       [1., 1., 1., 1., 1., 1.]])"
      ]
     },
     "execution_count": 96,
     "metadata": {},
     "output_type": "execute_result"
    }
   ],
   "source": [
    "np.ones((2,6))"
   ]
  },
  {
   "cell_type": "code",
   "execution_count": 98,
   "id": "704022e1-618d-425b-96d9-0f12f6f8cec4",
   "metadata": {},
   "outputs": [
    {
     "data": {
      "text/plain": [
       "array([[0., 1.],\n",
       "       [2., 3.],\n",
       "       [4., 5.],\n",
       "       [6., 7.],\n",
       "       [8., 9.]])"
      ]
     },
     "execution_count": 98,
     "metadata": {},
     "output_type": "execute_result"
    }
   ],
   "source": [
    "arr9=np.arange(10, dtype=\"float\")\n",
    "arr9=arr9.reshape(5,2)\n",
    "arr9"
   ]
  },
  {
   "cell_type": "code",
   "execution_count": 106,
   "id": "3cf8f8e4-a613-4878-95f4-44d3cd4e008c",
   "metadata": {},
   "outputs": [
    {
     "data": {
      "text/plain": [
       "array([[1., 1.],\n",
       "       [1., 1.],\n",
       "       [1., 1.],\n",
       "       [1., 1.],\n",
       "       [1., 1.]])"
      ]
     },
     "execution_count": 106,
     "metadata": {},
     "output_type": "execute_result"
    }
   ],
   "source": [
    "arr9=np.arange(10, dtype=\"float\")\n",
    "arr9=arr9.reshape(5,2)\n",
    "arr9\n",
    "np.ones_like(arr9)\n",
    "#in ones we give the shape by ourself, ones_like takes the shape by looking at the array"
   ]
  },
  {
   "cell_type": "code",
   "execution_count": 110,
   "id": "f3166955-b9f8-45c4-8f29-4f2acde0ce4e",
   "metadata": {},
   "outputs": [
    {
     "data": {
      "text/plain": [
       "array([[0., 0.],\n",
       "       [0., 0.],\n",
       "       [0., 0.],\n",
       "       [0., 0.],\n",
       "       [0., 0.]])"
      ]
     },
     "execution_count": 110,
     "metadata": {},
     "output_type": "execute_result"
    }
   ],
   "source": [
    "arr9=np.arange(10, dtype=\"float\")\n",
    "arr9=arr9.reshape(5,2)\n",
    "arr9\n",
    "np.zeros_like(arr9)"
   ]
  },
  {
   "cell_type": "code",
   "execution_count": 116,
   "id": "4b6b9d65-72f1-4790-89a6-49c233be33e8",
   "metadata": {},
   "outputs": [
    {
     "name": "stdout",
     "output_type": "stream",
     "text": [
      "[1 3 5 7 9]\n"
     ]
    }
   ],
   "source": [
    "#different functions to make different arrays\n",
    "a=np.array([1,2,3])       #1D array\n",
    "b=np.array([[1,2],[3,4]]) #2D array\n",
    "c=np.zeros((2,3))         \n",
    "d=np.ones((3,3))\n",
    "e=np.eye(3)\n",
    "f=np.arange(1,10,2)\n",
    "print(f)"
   ]
  },
  {
   "cell_type": "code",
   "execution_count": 118,
   "id": "3cbaa70a-9a4b-472e-95fe-6de6ae05eb63",
   "metadata": {},
   "outputs": [
    {
     "name": "stdout",
     "output_type": "stream",
     "text": [
      "[1 3 5 7 9]\n"
     ]
    }
   ],
   "source": [
    "import numpy as np\n",
    "\n",
    "a = np.array([1, 2, 3])          # 1D array → shape: (3,)\n",
    "b = np.array([[1, 2], [3, 4]])   # 2D array → shape: (2, 2)\n",
    "c = np.zeros((2, 3))             # 2D array of zeros → shape: (2, 3)\n",
    "d = np.ones((3, 3))              # 2D array of ones → shape: (3, 3)\n",
    "e = np.eye(3)                    # Identity matrix (3x3) → diagonal ones\n",
    "f = np.arange(1, 10, 2)          # 1D array → range from 1 to 9 with step 2 → [1 3 5 7 9]\n",
    "\n",
    "print(f)                         # Output: [1 3 5 7 9]\n"
   ]
  },
  {
   "cell_type": "code",
   "execution_count": null,
   "id": "f364f9db-0ceb-42fc-9b4d-bdfa7a5900dc",
   "metadata": {},
   "outputs": [],
   "source": []
  }
 ],
 "metadata": {
  "kernelspec": {
   "display_name": "Python 3 (ipykernel)",
   "language": "python",
   "name": "python3"
  },
  "language_info": {
   "codemirror_mode": {
    "name": "ipython",
    "version": 3
   },
   "file_extension": ".py",
   "mimetype": "text/x-python",
   "name": "python",
   "nbconvert_exporter": "python",
   "pygments_lexer": "ipython3",
   "version": "3.12.4"
  }
 },
 "nbformat": 4,
 "nbformat_minor": 5
}
