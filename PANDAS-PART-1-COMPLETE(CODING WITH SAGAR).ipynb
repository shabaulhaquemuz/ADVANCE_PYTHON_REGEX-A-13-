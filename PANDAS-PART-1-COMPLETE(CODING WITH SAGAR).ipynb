{
 "cells": [
  {
   "cell_type": "code",
   "execution_count": 3,
   "id": "1bd0f80e-8187-4d36-bcc2-40b3505c2076",
   "metadata": {},
   "outputs": [],
   "source": [
    "# DATA MANIPULATION: CHANGING,ORGANIZING OR PREPARING DATA TO MAKE IT USEFUL AND EASIER TO UNDERSTAND.\n",
    "# GOAL: TO CLEAN,TRANSFORM AND STRUCTURE RAW DATA FOR BETTER USABILITY\n",
    "#example: organizing a grocery list(sorting random items into categories like \"fruits\" or dairy), fixing errors in a student record(correcting missing or wrong grades)"
   ]
  },
  {
   "cell_type": "code",
   "execution_count": 5,
   "id": "278ae187-54b0-4f57-933c-525e5d901e8d",
   "metadata": {},
   "outputs": [],
   "source": [
    "#data analysis: extracting patterns, trends and insights from the data to solve problems, support decision making, and generate actionable conclusions.\n",
    "#example: analyzing sales trends, tracking fitness progress"
   ]
  },
  {
   "cell_type": "code",
   "execution_count": 11,
   "id": "edd4a0fb-121e-46ab-b5f9-4c404ede63ca",
   "metadata": {},
   "outputs": [],
   "source": [
    "#pandas was created by Wes McKinney, a data scientist and software developer in 2008.\n",
    "#pandas is a powerful and popular python library designed for data manipulation and data analysis.\n",
    "#it simplifies working with structured datasets like tables, spreadsheets or time-series data.\n",
    "#it is built on numpy due to which we can do fast calculation.\n",
    "\n",
    "#IMportance/features/use of pandas:\n",
    "# performance: faster because built on numpy\n",
    "# can handle millions of rows efficiently\n",
    "# ease of use: beginner-friendly syntax for cleaning and transforming data\n",
    "# integration: works with libraries like matplotlib(visualisations) and scikit-learn"
   ]
  },
  {
   "cell_type": "code",
   "execution_count": 13,
   "id": "e4809508-b2e7-4bf0-905a-6983cd5f9d18",
   "metadata": {},
   "outputs": [
    {
     "name": "stdout",
     "output_type": "stream",
     "text": [
      "Requirement already satisfied: pandas in c:\\users\\shaba\\anaconda3\\lib\\site-packages (2.2.2)\n",
      "Requirement already satisfied: numpy>=1.26.0 in c:\\users\\shaba\\anaconda3\\lib\\site-packages (from pandas) (1.26.4)\n",
      "Requirement already satisfied: python-dateutil>=2.8.2 in c:\\users\\shaba\\anaconda3\\lib\\site-packages (from pandas) (2.9.0.post0)\n",
      "Requirement already satisfied: pytz>=2020.1 in c:\\users\\shaba\\anaconda3\\lib\\site-packages (from pandas) (2024.1)\n",
      "Requirement already satisfied: tzdata>=2022.7 in c:\\users\\shaba\\anaconda3\\lib\\site-packages (from pandas) (2023.3)\n",
      "Requirement already satisfied: six>=1.5 in c:\\users\\shaba\\anaconda3\\lib\\site-packages (from python-dateutil>=2.8.2->pandas) (1.16.0)\n",
      "Note: you may need to restart the kernel to use updated packages.\n"
     ]
    }
   ],
   "source": [
    "pip install pandas"
   ]
  },
  {
   "cell_type": "code",
   "execution_count": 7,
   "id": "7ecf42d2-12cd-4cd5-af35-e268baa32da1",
   "metadata": {},
   "outputs": [],
   "source": [
    "import pandas as pd"
   ]
  },
  {
   "cell_type": "code",
   "execution_count": 17,
   "id": "93cc3818-cb14-4335-bdee-faa80eee8afc",
   "metadata": {},
   "outputs": [],
   "source": [
    "#SERIES: A series is a one-dimensional labelled arrary that can hold any data-type: integers,floats,strings or even Python objects.\n",
    "#each element in the series has a unique label called as index.\n",
    "\n",
    "#Dataframe: A dataframe is a two-dimensional labeled data structure in pandas, similar to a table in a database, a spreadsheet or a sql table.\n",
    "# It’s more than just an array — it's like a table with many features, not just numbers.\n",
    "# Array = only values.[can contain different data types]\n",
    "# DataFrame = values + labels + tools.\n",
    "#it consists of rows and columns:\n",
    "#a. rows have indices\n",
    "#b. columns have names"
   ]
  },
  {
   "cell_type": "code",
   "execution_count": 9,
   "id": "75f24aaf-d446-4c44-b369-45c8dea8c4a9",
   "metadata": {},
   "outputs": [],
   "source": [
    "import pandas as pd"
   ]
  },
  {
   "cell_type": "code",
   "execution_count": 11,
   "id": "f77b8565-2d84-4c6d-b21c-620a4171a3cc",
   "metadata": {},
   "outputs": [
    {
     "name": "stdout",
     "output_type": "stream",
     "text": [
      "      Name  Age         City\n",
      "0  Shabaul   20  Muzaffarpur\n",
      "1     Saif   23        Delhi\n",
      "2    Amaan   25       Jaipur\n"
     ]
    }
   ],
   "source": [
    "#creating our own dataframe in pandas using dictionary\n",
    "data={\"Name\":[\"Shabaul\",\"Saif\",\"Amaan\"],\n",
    "     \"Age\":[20,23,25],\n",
    "     \"City\":[\"Muzaffarpur\",\"Delhi\",\"Jaipur\"]\n",
    "     }\n",
    "df=pd.DataFrame(data)\n",
    "print(df)\n",
    "#here indexing coming on its own, we didnt specify"
   ]
  },
  {
   "cell_type": "code",
   "execution_count": 13,
   "id": "ffd05a46-390e-4719-91bf-321d488c2cfa",
   "metadata": {},
   "outputs": [
    {
     "name": "stdout",
     "output_type": "stream",
     "text": [
      "      Name  Age         City\n",
      "0  Shabaul   20  Muzaffarpur\n",
      "1     Saif   23        Delhi\n",
      "2    Amaan   25       Jaipur\n"
     ]
    }
   ],
   "source": [
    "data={\"Name\":[\"Shabaul\",\"Saif\",\"Amaan\"],\n",
    "     \"Age\":[20,23,25],\n",
    "     \"City\":[\"Muzaffarpur\",\"Delhi\",\"Jaipur\"]\n",
    "     }\n",
    "df=pd.DataFrame(data)\n",
    "print(df)"
   ]
  },
  {
   "cell_type": "code",
   "execution_count": 27,
   "id": "ceba7b6e-e04f-47de-923a-1d0f634bca15",
   "metadata": {},
   "outputs": [
    {
     "data": {
      "text/html": [
       "<style type=\"text/css\">\n",
       "</style>\n",
       "<table id=\"T_61e69\">\n",
       "  <thead>\n",
       "    <tr>\n",
       "      <th id=\"T_61e69_level0_col0\" class=\"col_heading level0 col0\" >Name</th>\n",
       "      <th id=\"T_61e69_level0_col1\" class=\"col_heading level0 col1\" >Age</th>\n",
       "      <th id=\"T_61e69_level0_col2\" class=\"col_heading level0 col2\" >City</th>\n",
       "    </tr>\n",
       "  </thead>\n",
       "  <tbody>\n",
       "    <tr>\n",
       "      <td id=\"T_61e69_row0_col0\" class=\"data row0 col0\" >Shabaul</td>\n",
       "      <td id=\"T_61e69_row0_col1\" class=\"data row0 col1\" >20</td>\n",
       "      <td id=\"T_61e69_row0_col2\" class=\"data row0 col2\" >Muzaffarpur</td>\n",
       "    </tr>\n",
       "    <tr>\n",
       "      <td id=\"T_61e69_row1_col0\" class=\"data row1 col0\" >Saif</td>\n",
       "      <td id=\"T_61e69_row1_col1\" class=\"data row1 col1\" >23</td>\n",
       "      <td id=\"T_61e69_row1_col2\" class=\"data row1 col2\" >Delhi</td>\n",
       "    </tr>\n",
       "    <tr>\n",
       "      <td id=\"T_61e69_row2_col0\" class=\"data row2 col0\" >Amaan</td>\n",
       "      <td id=\"T_61e69_row2_col1\" class=\"data row2 col1\" >25</td>\n",
       "      <td id=\"T_61e69_row2_col2\" class=\"data row2 col2\" >Jaipur</td>\n",
       "    </tr>\n",
       "  </tbody>\n",
       "</table>\n"
      ],
      "text/plain": [
       "<pandas.io.formats.style.Styler at 0x197ec5652b0>"
      ]
     },
     "execution_count": 27,
     "metadata": {},
     "output_type": "execute_result"
    }
   ],
   "source": [
    "df.style.hide(axis=\"index\") #to hide the index"
   ]
  },
  {
   "cell_type": "markdown",
   "id": "0b1678ed-e4fc-4ae6-b7c7-42837e6d5aaf",
   "metadata": {},
   "source": [
    "#df.head()\n",
    "#it Returns the first 5 rows of the DataFrame by default.\n",
    "df.head(10)  # First 10 rows\n",
    "df.head(2)   # First 2 rows\n"
   ]
  },
  {
   "cell_type": "code",
   "execution_count": 55,
   "id": "148104a5-87c5-409e-aa43-a2ed5eaf41c5",
   "metadata": {},
   "outputs": [
    {
     "data": {
      "text/html": [
       "<div>\n",
       "<style scoped>\n",
       "    .dataframe tbody tr th:only-of-type {\n",
       "        vertical-align: middle;\n",
       "    }\n",
       "\n",
       "    .dataframe tbody tr th {\n",
       "        vertical-align: top;\n",
       "    }\n",
       "\n",
       "    .dataframe thead th {\n",
       "        text-align: right;\n",
       "    }\n",
       "</style>\n",
       "<table border=\"1\" class=\"dataframe\">\n",
       "  <thead>\n",
       "    <tr style=\"text-align: right;\">\n",
       "      <th></th>\n",
       "      <th>Name</th>\n",
       "      <th>Age</th>\n",
       "      <th>City</th>\n",
       "    </tr>\n",
       "  </thead>\n",
       "  <tbody>\n",
       "    <tr>\n",
       "      <th>0</th>\n",
       "      <td>Shabaul</td>\n",
       "      <td>20</td>\n",
       "      <td>Muzaffarpur</td>\n",
       "    </tr>\n",
       "    <tr>\n",
       "      <th>1</th>\n",
       "      <td>Saif</td>\n",
       "      <td>23</td>\n",
       "      <td>Delhi</td>\n",
       "    </tr>\n",
       "    <tr>\n",
       "      <th>2</th>\n",
       "      <td>Amaan</td>\n",
       "      <td>25</td>\n",
       "      <td>Jaipur</td>\n",
       "    </tr>\n",
       "  </tbody>\n",
       "</table>\n",
       "</div>"
      ],
      "text/plain": [
       "      Name  Age         City\n",
       "0  Shabaul   20  Muzaffarpur\n",
       "1     Saif   23        Delhi\n",
       "2    Amaan   25       Jaipur"
      ]
     },
     "execution_count": 55,
     "metadata": {},
     "output_type": "execute_result"
    }
   ],
   "source": [
    "# df.tail()\n",
    "# Returns the last 5 rows of the DataFrame by default.\n",
    "df.tail(3)   # Last 3 rows\n",
    "df.tail(8)   # Last 8 rows\n"
   ]
  },
  {
   "cell_type": "code",
   "execution_count": 63,
   "id": "a08bf838-f3c8-4393-b44a-72f71b845989",
   "metadata": {},
   "outputs": [
    {
     "data": {
      "text/html": [
       "<div>\n",
       "<style scoped>\n",
       "    .dataframe tbody tr th:only-of-type {\n",
       "        vertical-align: middle;\n",
       "    }\n",
       "\n",
       "    .dataframe tbody tr th {\n",
       "        vertical-align: top;\n",
       "    }\n",
       "\n",
       "    .dataframe thead th {\n",
       "        text-align: right;\n",
       "    }\n",
       "</style>\n",
       "<table border=\"1\" class=\"dataframe\">\n",
       "  <thead>\n",
       "    <tr style=\"text-align: right;\">\n",
       "      <th></th>\n",
       "      <th>ORDERNUMBER</th>\n",
       "      <th>QUANTITYORDERED</th>\n",
       "      <th>PRICEEACH</th>\n",
       "      <th>ORDERLINENUMBER</th>\n",
       "      <th>SALES</th>\n",
       "      <th>ORDERDATE</th>\n",
       "      <th>STATUS</th>\n",
       "      <th>QTR_ID</th>\n",
       "      <th>MONTH_ID</th>\n",
       "      <th>YEAR_ID</th>\n",
       "      <th>...</th>\n",
       "      <th>ADDRESSLINE1</th>\n",
       "      <th>ADDRESSLINE2</th>\n",
       "      <th>CITY</th>\n",
       "      <th>STATE</th>\n",
       "      <th>POSTALCODE</th>\n",
       "      <th>COUNTRY</th>\n",
       "      <th>TERRITORY</th>\n",
       "      <th>CONTACTLASTNAME</th>\n",
       "      <th>CONTACTFIRSTNAME</th>\n",
       "      <th>DEALSIZE</th>\n",
       "    </tr>\n",
       "  </thead>\n",
       "  <tbody>\n",
       "    <tr>\n",
       "      <th>0</th>\n",
       "      <td>10107</td>\n",
       "      <td>30</td>\n",
       "      <td>95.70</td>\n",
       "      <td>2</td>\n",
       "      <td>2871.00</td>\n",
       "      <td>2/24/2003 0:00</td>\n",
       "      <td>Shipped</td>\n",
       "      <td>1</td>\n",
       "      <td>2</td>\n",
       "      <td>2003</td>\n",
       "      <td>...</td>\n",
       "      <td>897 Long Airport Avenue</td>\n",
       "      <td>NaN</td>\n",
       "      <td>NYC</td>\n",
       "      <td>NY</td>\n",
       "      <td>10022</td>\n",
       "      <td>USA</td>\n",
       "      <td>NaN</td>\n",
       "      <td>Yu</td>\n",
       "      <td>Kwai</td>\n",
       "      <td>Small</td>\n",
       "    </tr>\n",
       "    <tr>\n",
       "      <th>1</th>\n",
       "      <td>10121</td>\n",
       "      <td>34</td>\n",
       "      <td>81.35</td>\n",
       "      <td>5</td>\n",
       "      <td>2765.90</td>\n",
       "      <td>5/7/2003 0:00</td>\n",
       "      <td>Shipped</td>\n",
       "      <td>2</td>\n",
       "      <td>5</td>\n",
       "      <td>2003</td>\n",
       "      <td>...</td>\n",
       "      <td>59 rue de l'Abbaye</td>\n",
       "      <td>NaN</td>\n",
       "      <td>Reims</td>\n",
       "      <td>NaN</td>\n",
       "      <td>51100</td>\n",
       "      <td>France</td>\n",
       "      <td>EMEA</td>\n",
       "      <td>Henriot</td>\n",
       "      <td>Paul</td>\n",
       "      <td>Small</td>\n",
       "    </tr>\n",
       "    <tr>\n",
       "      <th>2</th>\n",
       "      <td>10134</td>\n",
       "      <td>41</td>\n",
       "      <td>94.74</td>\n",
       "      <td>2</td>\n",
       "      <td>3884.34</td>\n",
       "      <td>7/1/2003 0:00</td>\n",
       "      <td>Shipped</td>\n",
       "      <td>3</td>\n",
       "      <td>7</td>\n",
       "      <td>2003</td>\n",
       "      <td>...</td>\n",
       "      <td>27 rue du Colonel Pierre Avia</td>\n",
       "      <td>NaN</td>\n",
       "      <td>Paris</td>\n",
       "      <td>NaN</td>\n",
       "      <td>75508</td>\n",
       "      <td>France</td>\n",
       "      <td>EMEA</td>\n",
       "      <td>Da Cunha</td>\n",
       "      <td>Daniel</td>\n",
       "      <td>Medium</td>\n",
       "    </tr>\n",
       "    <tr>\n",
       "      <th>3</th>\n",
       "      <td>10145</td>\n",
       "      <td>45</td>\n",
       "      <td>83.26</td>\n",
       "      <td>6</td>\n",
       "      <td>3746.70</td>\n",
       "      <td>8/25/2003 0:00</td>\n",
       "      <td>Shipped</td>\n",
       "      <td>3</td>\n",
       "      <td>8</td>\n",
       "      <td>2003</td>\n",
       "      <td>...</td>\n",
       "      <td>78934 Hillside Dr.</td>\n",
       "      <td>NaN</td>\n",
       "      <td>Pasadena</td>\n",
       "      <td>CA</td>\n",
       "      <td>90003</td>\n",
       "      <td>USA</td>\n",
       "      <td>NaN</td>\n",
       "      <td>Young</td>\n",
       "      <td>Julie</td>\n",
       "      <td>Medium</td>\n",
       "    </tr>\n",
       "    <tr>\n",
       "      <th>4</th>\n",
       "      <td>10159</td>\n",
       "      <td>49</td>\n",
       "      <td>100.00</td>\n",
       "      <td>14</td>\n",
       "      <td>5205.27</td>\n",
       "      <td>10/10/2003 0:00</td>\n",
       "      <td>Shipped</td>\n",
       "      <td>4</td>\n",
       "      <td>10</td>\n",
       "      <td>2003</td>\n",
       "      <td>...</td>\n",
       "      <td>7734 Strong St.</td>\n",
       "      <td>NaN</td>\n",
       "      <td>San Francisco</td>\n",
       "      <td>CA</td>\n",
       "      <td>NaN</td>\n",
       "      <td>USA</td>\n",
       "      <td>NaN</td>\n",
       "      <td>Brown</td>\n",
       "      <td>Julie</td>\n",
       "      <td>Medium</td>\n",
       "    </tr>\n",
       "    <tr>\n",
       "      <th>...</th>\n",
       "      <td>...</td>\n",
       "      <td>...</td>\n",
       "      <td>...</td>\n",
       "      <td>...</td>\n",
       "      <td>...</td>\n",
       "      <td>...</td>\n",
       "      <td>...</td>\n",
       "      <td>...</td>\n",
       "      <td>...</td>\n",
       "      <td>...</td>\n",
       "      <td>...</td>\n",
       "      <td>...</td>\n",
       "      <td>...</td>\n",
       "      <td>...</td>\n",
       "      <td>...</td>\n",
       "      <td>...</td>\n",
       "      <td>...</td>\n",
       "      <td>...</td>\n",
       "      <td>...</td>\n",
       "      <td>...</td>\n",
       "      <td>...</td>\n",
       "    </tr>\n",
       "    <tr>\n",
       "      <th>2818</th>\n",
       "      <td>10350</td>\n",
       "      <td>20</td>\n",
       "      <td>100.00</td>\n",
       "      <td>15</td>\n",
       "      <td>2244.40</td>\n",
       "      <td>12/2/2004 0:00</td>\n",
       "      <td>Shipped</td>\n",
       "      <td>4</td>\n",
       "      <td>12</td>\n",
       "      <td>2004</td>\n",
       "      <td>...</td>\n",
       "      <td>C/ Moralzarzal, 86</td>\n",
       "      <td>NaN</td>\n",
       "      <td>Madrid</td>\n",
       "      <td>NaN</td>\n",
       "      <td>28034</td>\n",
       "      <td>Spain</td>\n",
       "      <td>EMEA</td>\n",
       "      <td>Freyre</td>\n",
       "      <td>Diego</td>\n",
       "      <td>Small</td>\n",
       "    </tr>\n",
       "    <tr>\n",
       "      <th>2819</th>\n",
       "      <td>10373</td>\n",
       "      <td>29</td>\n",
       "      <td>100.00</td>\n",
       "      <td>1</td>\n",
       "      <td>3978.51</td>\n",
       "      <td>1/31/2005 0:00</td>\n",
       "      <td>Shipped</td>\n",
       "      <td>1</td>\n",
       "      <td>1</td>\n",
       "      <td>2005</td>\n",
       "      <td>...</td>\n",
       "      <td>Torikatu 38</td>\n",
       "      <td>NaN</td>\n",
       "      <td>Oulu</td>\n",
       "      <td>NaN</td>\n",
       "      <td>90110</td>\n",
       "      <td>Finland</td>\n",
       "      <td>EMEA</td>\n",
       "      <td>Koskitalo</td>\n",
       "      <td>Pirkko</td>\n",
       "      <td>Medium</td>\n",
       "    </tr>\n",
       "    <tr>\n",
       "      <th>2820</th>\n",
       "      <td>10386</td>\n",
       "      <td>43</td>\n",
       "      <td>100.00</td>\n",
       "      <td>4</td>\n",
       "      <td>5417.57</td>\n",
       "      <td>3/1/2005 0:00</td>\n",
       "      <td>Resolved</td>\n",
       "      <td>1</td>\n",
       "      <td>3</td>\n",
       "      <td>2005</td>\n",
       "      <td>...</td>\n",
       "      <td>C/ Moralzarzal, 86</td>\n",
       "      <td>NaN</td>\n",
       "      <td>Madrid</td>\n",
       "      <td>NaN</td>\n",
       "      <td>28034</td>\n",
       "      <td>Spain</td>\n",
       "      <td>EMEA</td>\n",
       "      <td>Freyre</td>\n",
       "      <td>Diego</td>\n",
       "      <td>Medium</td>\n",
       "    </tr>\n",
       "    <tr>\n",
       "      <th>2821</th>\n",
       "      <td>10397</td>\n",
       "      <td>34</td>\n",
       "      <td>62.24</td>\n",
       "      <td>1</td>\n",
       "      <td>2116.16</td>\n",
       "      <td>3/28/2005 0:00</td>\n",
       "      <td>Shipped</td>\n",
       "      <td>1</td>\n",
       "      <td>3</td>\n",
       "      <td>2005</td>\n",
       "      <td>...</td>\n",
       "      <td>1 rue Alsace-Lorraine</td>\n",
       "      <td>NaN</td>\n",
       "      <td>Toulouse</td>\n",
       "      <td>NaN</td>\n",
       "      <td>31000</td>\n",
       "      <td>France</td>\n",
       "      <td>EMEA</td>\n",
       "      <td>Roulet</td>\n",
       "      <td>Annette</td>\n",
       "      <td>Small</td>\n",
       "    </tr>\n",
       "    <tr>\n",
       "      <th>2822</th>\n",
       "      <td>10414</td>\n",
       "      <td>47</td>\n",
       "      <td>65.52</td>\n",
       "      <td>9</td>\n",
       "      <td>3079.44</td>\n",
       "      <td>5/6/2005 0:00</td>\n",
       "      <td>On Hold</td>\n",
       "      <td>2</td>\n",
       "      <td>5</td>\n",
       "      <td>2005</td>\n",
       "      <td>...</td>\n",
       "      <td>8616 Spinnaker Dr.</td>\n",
       "      <td>NaN</td>\n",
       "      <td>Boston</td>\n",
       "      <td>MA</td>\n",
       "      <td>51003</td>\n",
       "      <td>USA</td>\n",
       "      <td>NaN</td>\n",
       "      <td>Yoshido</td>\n",
       "      <td>Juri</td>\n",
       "      <td>Medium</td>\n",
       "    </tr>\n",
       "  </tbody>\n",
       "</table>\n",
       "<p>2823 rows × 25 columns</p>\n",
       "</div>"
      ],
      "text/plain": [
       "      ORDERNUMBER  QUANTITYORDERED  PRICEEACH  ORDERLINENUMBER    SALES  \\\n",
       "0           10107               30      95.70                2  2871.00   \n",
       "1           10121               34      81.35                5  2765.90   \n",
       "2           10134               41      94.74                2  3884.34   \n",
       "3           10145               45      83.26                6  3746.70   \n",
       "4           10159               49     100.00               14  5205.27   \n",
       "...           ...              ...        ...              ...      ...   \n",
       "2818        10350               20     100.00               15  2244.40   \n",
       "2819        10373               29     100.00                1  3978.51   \n",
       "2820        10386               43     100.00                4  5417.57   \n",
       "2821        10397               34      62.24                1  2116.16   \n",
       "2822        10414               47      65.52                9  3079.44   \n",
       "\n",
       "            ORDERDATE    STATUS  QTR_ID  MONTH_ID  YEAR_ID  ...  \\\n",
       "0      2/24/2003 0:00   Shipped       1         2     2003  ...   \n",
       "1       5/7/2003 0:00   Shipped       2         5     2003  ...   \n",
       "2       7/1/2003 0:00   Shipped       3         7     2003  ...   \n",
       "3      8/25/2003 0:00   Shipped       3         8     2003  ...   \n",
       "4     10/10/2003 0:00   Shipped       4        10     2003  ...   \n",
       "...               ...       ...     ...       ...      ...  ...   \n",
       "2818   12/2/2004 0:00   Shipped       4        12     2004  ...   \n",
       "2819   1/31/2005 0:00   Shipped       1         1     2005  ...   \n",
       "2820    3/1/2005 0:00  Resolved       1         3     2005  ...   \n",
       "2821   3/28/2005 0:00   Shipped       1         3     2005  ...   \n",
       "2822    5/6/2005 0:00   On Hold       2         5     2005  ...   \n",
       "\n",
       "                       ADDRESSLINE1  ADDRESSLINE2           CITY STATE  \\\n",
       "0           897 Long Airport Avenue           NaN            NYC    NY   \n",
       "1                59 rue de l'Abbaye           NaN          Reims   NaN   \n",
       "2     27 rue du Colonel Pierre Avia           NaN          Paris   NaN   \n",
       "3                78934 Hillside Dr.           NaN       Pasadena    CA   \n",
       "4                   7734 Strong St.           NaN  San Francisco    CA   \n",
       "...                             ...           ...            ...   ...   \n",
       "2818             C/ Moralzarzal, 86           NaN         Madrid   NaN   \n",
       "2819                    Torikatu 38           NaN           Oulu   NaN   \n",
       "2820             C/ Moralzarzal, 86           NaN         Madrid   NaN   \n",
       "2821          1 rue Alsace-Lorraine           NaN       Toulouse   NaN   \n",
       "2822             8616 Spinnaker Dr.           NaN         Boston    MA   \n",
       "\n",
       "     POSTALCODE  COUNTRY TERRITORY CONTACTLASTNAME CONTACTFIRSTNAME DEALSIZE  \n",
       "0         10022      USA       NaN              Yu             Kwai    Small  \n",
       "1         51100   France      EMEA         Henriot             Paul    Small  \n",
       "2         75508   France      EMEA        Da Cunha           Daniel   Medium  \n",
       "3         90003      USA       NaN           Young            Julie   Medium  \n",
       "4           NaN      USA       NaN           Brown            Julie   Medium  \n",
       "...         ...      ...       ...             ...              ...      ...  \n",
       "2818      28034    Spain      EMEA          Freyre            Diego    Small  \n",
       "2819      90110  Finland      EMEA       Koskitalo           Pirkko   Medium  \n",
       "2820      28034    Spain      EMEA          Freyre            Diego   Medium  \n",
       "2821      31000   France      EMEA          Roulet          Annette    Small  \n",
       "2822      51003      USA       NaN         Yoshido             Juri   Medium  \n",
       "\n",
       "[2823 rows x 25 columns]"
      ]
     },
     "execution_count": 63,
     "metadata": {},
     "output_type": "execute_result"
    }
   ],
   "source": [
    "#read data from CSV file into a dataframe\n",
    "dataf=pd.read_csv(\"sales_data_sample.csv\",encoding=\"latin1\")  #read_csv is a function\n",
    "dataf\n",
    "\n",
    "#we can also pass:\n",
    "# df=pd.read_csv(\"Ball.csv\", encoding=\"UTF-8\")  \n",
    "# df=pd.read_csv(\"Ball.csv\", encoding=\"latin1\")\n",
    "# df=pd.read_excel(\"Ball.xlsx\")--- to read excel file\n",
    "#df=pd.read_json(\"Ball.json\")"
   ]
  },
  {
   "cell_type": "code",
   "execution_count": 67,
   "id": "67d401c6-211c-4872-a33f-0c409ccea8d3",
   "metadata": {},
   "outputs": [
    {
     "name": "stdout",
     "output_type": "stream",
     "text": [
      "<class 'pandas.core.frame.DataFrame'>\n",
      "RangeIndex: 2823 entries, 0 to 2822\n",
      "Data columns (total 25 columns):\n",
      " #   Column            Non-Null Count  Dtype  \n",
      "---  ------            --------------  -----  \n",
      " 0   ORDERNUMBER       2823 non-null   int64  \n",
      " 1   QUANTITYORDERED   2823 non-null   int64  \n",
      " 2   PRICEEACH         2823 non-null   float64\n",
      " 3   ORDERLINENUMBER   2823 non-null   int64  \n",
      " 4   SALES             2823 non-null   float64\n",
      " 5   ORDERDATE         2823 non-null   object \n",
      " 6   STATUS            2823 non-null   object \n",
      " 7   QTR_ID            2823 non-null   int64  \n",
      " 8   MONTH_ID          2823 non-null   int64  \n",
      " 9   YEAR_ID           2823 non-null   int64  \n",
      " 10  PRODUCTLINE       2823 non-null   object \n",
      " 11  MSRP              2823 non-null   int64  \n",
      " 12  PRODUCTCODE       2823 non-null   object \n",
      " 13  CUSTOMERNAME      2823 non-null   object \n",
      " 14  PHONE             2823 non-null   object \n",
      " 15  ADDRESSLINE1      2823 non-null   object \n",
      " 16  ADDRESSLINE2      302 non-null    object \n",
      " 17  CITY              2823 non-null   object \n",
      " 18  STATE             1337 non-null   object \n",
      " 19  POSTALCODE        2747 non-null   object \n",
      " 20  COUNTRY           2823 non-null   object \n",
      " 21  TERRITORY         1749 non-null   object \n",
      " 22  CONTACTLASTNAME   2823 non-null   object \n",
      " 23  CONTACTFIRSTNAME  2823 non-null   object \n",
      " 24  DEALSIZE          2823 non-null   object \n",
      "dtypes: float64(2), int64(7), object(16)\n",
      "memory usage: 551.5+ KB\n",
      "displaying the info of data set None\n"
     ]
    }
   ],
   "source": [
    "#\n",
    "\n",
    "print(\"displaying the info of data set\",dataf.info())"
   ]
  },
  {
   "cell_type": "code",
   "execution_count": 75,
   "id": "1cac0874-8bfa-4622-ac50-7323fb3f43e7",
   "metadata": {},
   "outputs": [],
   "source": [
    "# What dataf.info() shows:\n",
    "# dataf.info()\n",
    "# Shows detailed information about the structure of the dataset.\n",
    "\n",
    "# Index Range (start to end)\n",
    "\n",
    "# ✅ Number of rows and columns\n",
    "\n",
    "# ✅ Column names\n",
    "\n",
    "# ✅ Data types of each column (int64, float64, object, etc.)"
   ]
  },
  {
   "cell_type": "code",
   "execution_count": 77,
   "id": "781162d9-ccdc-46b1-bb36-381ab4ded5a4",
   "metadata": {},
   "outputs": [
    {
     "name": "stdout",
     "output_type": "stream",
     "text": [
      "<class 'pandas.core.frame.DataFrame'>\n",
      "RangeIndex: 3 entries, 0 to 2\n",
      "Data columns (total 3 columns):\n",
      " #   Column  Non-Null Count  Dtype \n",
      "---  ------  --------------  ----- \n",
      " 0   Name    3 non-null      object\n",
      " 1   Age     3 non-null      int64 \n",
      " 2   City    3 non-null      object\n",
      "dtypes: int64(1), object(2)\n",
      "memory usage: 204.0+ bytes\n"
     ]
    }
   ],
   "source": [
    "df.info()"
   ]
  },
  {
   "cell_type": "code",
   "execution_count": 79,
   "id": "e8a8d9b3-4c86-4aea-8d09-16fe51a9e669",
   "metadata": {},
   "outputs": [],
   "source": [
    "import pandas as pd"
   ]
  },
  {
   "cell_type": "code",
   "execution_count": 39,
   "id": "04abaad4-ec18-4221-b620-cc14013110f6",
   "metadata": {},
   "outputs": [
    {
     "name": "stdout",
     "output_type": "stream",
     "text": [
      "Sample Dataframe:\n",
      "      Name  Age  Salary  Performance Score\n",
      "0  shabaul   10   10000                 80\n",
      "1     saif   20   20000                 85\n",
      "2    amaan   30   30000                 43\n",
      "3   pritam   40   40000                 45\n",
      "4  jibrail   50   50000                 69\n",
      "5     saud   60   60000                 78\n",
      "6    afzal   70  700000                 88\n",
      "7   jibran   80   80000                 98\n",
      "Descriptive Statistics:\n",
      "             Age         Salary  Performance Score\n",
      "count   8.000000       8.000000            8.00000\n",
      "mean   45.000000  123750.000000           73.25000\n",
      "std    24.494897  233907.032814           19.88359\n",
      "min    10.000000   10000.000000           43.00000\n",
      "25%    27.500000   27500.000000           63.00000\n",
      "50%    45.000000   45000.000000           79.00000\n",
      "75%    62.500000   65000.000000           85.75000\n",
      "max    80.000000  700000.000000           98.00000\n"
     ]
    }
   ],
   "source": [
    "data2={\"Name\":[\"shabaul\",\"saif\",\"amaan\",\"pritam\",\"jibrail\",\"saud\",\"afzal\",\"jibran\"],\n",
    "       \"Age\":[10,20,30,40,50,60,70,80],\n",
    "       \"Salary\":[10000,20000,30000,40000,50000,60000,700000,80000],\n",
    "       \"Performance Score\":[80,85,43,45,69,78,88,98]\n",
    "      }\n",
    "dff=pd.DataFrame(data2)\n",
    "print(\"Sample Dataframe:\")\n",
    "print(dff)\n",
    "\n",
    "print(\"Descriptive Statistics:\")\n",
    "print(dff.describe()) #describe() is used to generate summary statistics of the numerical columns in a DataFrame.\n",
    "# | Metric         | Meaning                                   |\n",
    "# | -------------- | ----------------------------------------- |\n",
    "# | `count`        | Total non-null values                     |\n",
    "# | `mean`         | Average value                             |\n",
    "# | `std`          | Standard deviation (spread of data)       |\n",
    "# | `min`          | Minimum value                             |\n",
    "# | `25%`          | 1st quartile (25% of values are below it) |\n",
    "# | `50%` (median) | Middle value                              |\n",
    "# | `75%`          | 3rd quartile (75% of values are below it) |\n",
    "# | `max`          | Maximum value                             |\n"
   ]
  },
  {
   "cell_type": "code",
   "execution_count": 41,
   "id": "972e8794-d347-46bc-a19f-19a85f81265c",
   "metadata": {},
   "outputs": [
    {
     "data": {
      "text/plain": [
       "(8, 4)"
      ]
     },
     "execution_count": 41,
     "metadata": {},
     "output_type": "execute_result"
    }
   ],
   "source": [
    "# In Pandas, .shape is an attribute, not a method.\n",
    "#You don’t use parentheses () like a function/method.\n",
    "dff.shape\n",
    "\n",
    "#\n",
    "#It stores a tuple: (number_of_rows, number_of_columns) #which means how big is your dataset\n"
   ]
  },
  {
   "cell_type": "code",
   "execution_count": 43,
   "id": "ace42c11-6f9e-4533-b104-bb7b55da1b17",
   "metadata": {},
   "outputs": [
    {
     "data": {
      "text/plain": [
       "Index(['Name', 'Age', 'Salary', 'Performance Score'], dtype='object')"
      ]
     },
     "execution_count": 43,
     "metadata": {},
     "output_type": "execute_result"
    }
   ],
   "source": [
    "# df.columns\n",
    "# In Pandas, df.columns is an attribute (just like df.shape) \n",
    "#Column names of the DataFrame (like a list of column names)\n",
    "dff.columns"
   ]
  },
  {
   "cell_type": "code",
   "execution_count": 47,
   "id": "8d904171-0459-401f-8a8e-5b38cfd33583",
   "metadata": {},
   "outputs": [
    {
     "data": {
      "text/plain": [
       "RangeIndex(start=0, stop=8, step=1)"
      ]
     },
     "execution_count": 47,
     "metadata": {},
     "output_type": "execute_result"
    }
   ],
   "source": [
    "# df.index\n",
    "# df.index is an attribute that represents the row labels of a DataFrame.\n",
    "\n",
    "# By default, it's just numbers like 0, 1, 2, ...\n",
    "dff.index"
   ]
  },
  {
   "cell_type": "code",
   "execution_count": 53,
   "id": "937188d9-3f20-4a6d-97b6-86a9309c7b34",
   "metadata": {},
   "outputs": [
    {
     "name": "stdout",
     "output_type": "stream",
     "text": [
      "0    shabaul\n",
      "1       saif\n",
      "2      amaan\n",
      "3     pritam\n",
      "4    jibrail\n",
      "5       saud\n",
      "6      afzal\n",
      "7     jibran\n",
      "Name: Name, dtype: object\n"
     ]
    },
    {
     "data": {
      "text/plain": [
       "pandas.core.series.Series"
      ]
     },
     "execution_count": 53,
     "metadata": {},
     "output_type": "execute_result"
    }
   ],
   "source": [
    "# | What you select                           | What you get    | Type Returned |\n",
    "# | ----------------------------------------- | --------------- | ------------- |\n",
    "# | Single column (`df['col']`)               | A single column | `Series`      |\n",
    "# | Multiple columns (`df[['col1', 'col2']]`) | A mini table    | `DataFrame`   |\n",
    "print(dff[\"Name\"])\n",
    "type(dff[\"Name\"])  # single column selected , returns a series"
   ]
  },
  {
   "cell_type": "code",
   "execution_count": 71,
   "id": "6eb230ff-3a68-49ed-a319-48f9ffc55ec2",
   "metadata": {},
   "outputs": [
    {
     "name": "stdout",
     "output_type": "stream",
     "text": [
      "0    shabaul\n",
      "1       saif\n",
      "2      amaan\n",
      "3     pritam\n",
      "4    jibrail\n",
      "5       saud\n",
      "6      afzal\n",
      "7     jibran\n",
      "Name: Name, dtype: object\n"
     ]
    }
   ],
   "source": [
    "#using variable to return a single column\n",
    "single_column=dff[\"Name\"]\n",
    "print(single_column)"
   ]
  },
  {
   "cell_type": "code",
   "execution_count": 59,
   "id": "b1c437f7-74e7-45f5-bed7-03426ce4f399",
   "metadata": {},
   "outputs": [
    {
     "name": "stdout",
     "output_type": "stream",
     "text": [
      "      Name  Salary\n",
      "0  shabaul   10000\n",
      "1     saif   20000\n",
      "2    amaan   30000\n",
      "3   pritam   40000\n",
      "4  jibrail   50000\n",
      "5     saud   60000\n",
      "6    afzal  700000\n",
      "7   jibran   80000\n",
      "<class 'pandas.core.frame.DataFrame'>\n"
     ]
    }
   ],
   "source": [
    "print(dff[[\"Name\",\"Salary\"]])\n",
    "print(type(dff[[\"Name\",\"Salary\"]])) # multiple columns selected so return a dataframe just like a table"
   ]
  },
  {
   "cell_type": "code",
   "execution_count": 73,
   "id": "5e166121-d29a-4008-98db-23ff4573d7cc",
   "metadata": {},
   "outputs": [
    {
     "name": "stdout",
     "output_type": "stream",
     "text": [
      "      Name  Salary\n",
      "0  shabaul   10000\n",
      "1     saif   20000\n",
      "2    amaan   30000\n",
      "3   pritam   40000\n",
      "4  jibrail   50000\n",
      "5     saud   60000\n",
      "6    afzal  700000\n",
      "7   jibran   80000\n"
     ]
    }
   ],
   "source": [
    "#using variable to return multiple column\n",
    "multiple=dff[[\"Name\",\"Salary\"]]\n",
    "print(multiple)"
   ]
  },
  {
   "cell_type": "code",
   "execution_count": 77,
   "id": "87b4a02c-7395-4ca3-827c-d860509c3b88",
   "metadata": {},
   "outputs": [
    {
     "name": "stdout",
     "output_type": "stream",
     "text": [
      "employess whose salary are more than 50000\n",
      "     Name  Age  Salary  Performance Score\n",
      "5    saud   60   60000                 78\n",
      "6   afzal   70  700000                 88\n",
      "7  jibran   80   80000                 98\n"
     ]
    }
   ],
   "source": [
    "#filtering rows based on a single condition\n",
    "filtered_rows=dff[dff[\"Salary\"]>50000]\n",
    "print(\"employess whose salary are more than 50000\")\n",
    "print(filtered_rows)"
   ]
  },
  {
   "cell_type": "code",
   "execution_count": 81,
   "id": "dab5be94-de9b-4652-8eeb-9511f8e01a58",
   "metadata": {},
   "outputs": [
    {
     "name": "stdout",
     "output_type": "stream",
     "text": [
      "employees whose salary are more than 50000 and less than 75000\n",
      "   Name  Age  Salary  Performance Score\n",
      "5  saud   60   60000                 78\n"
     ]
    }
   ],
   "source": [
    "filtered_multiple_rows=dff[(dff[\"Salary\"]>50000) & (dff[\"Salary\"]<75000)]\n",
    "print(\"employees whose salary are more than 50000 and less than 75000\")\n",
    "print(filtered_multiple_rows)"
   ]
  },
  {
   "cell_type": "code",
   "execution_count": 85,
   "id": "71732595-7f84-4d2d-ab93-e8d99b31bcae",
   "metadata": {},
   "outputs": [
    {
     "name": "stdout",
     "output_type": "stream",
     "text": [
      "employees whose salary is greater than 50000 and age is greater than 50\n",
      "     Name  Age  Salary  Performance Score\n",
      "5    saud   60   60000                 78\n",
      "6   afzal   70  700000                 88\n",
      "7  jibran   80   80000                 98\n"
     ]
    }
   ],
   "source": [
    "multiple_salary_age=dff[(dff[\"Salary\"]>50000) & (dff[\"Age\"]>50)]\n",
    "print(\"employees whose salary is greater than 50000 and age is greater than 50\")\n",
    "print(multiple_salary_age)"
   ]
  },
  {
   "cell_type": "code",
   "execution_count": 99,
   "id": "51ac0ab0-e853-41be-a720-d2a4373c0cec",
   "metadata": {},
   "outputs": [
    {
     "name": "stdout",
     "output_type": "stream",
     "text": [
      "employees whose age is greater than 30 or performance score is greater than 80\n",
      "      Name  Age  Salary  Performance Score\n",
      "1     saif   20   20000                 85\n",
      "3   pritam   40   40000                 45\n",
      "4  jibrail   50   50000                 69\n",
      "5     saud   60   60000                 78\n",
      "6    afzal   70  700000                 88\n",
      "7   jibran   80   80000                 98\n"
     ]
    }
   ],
   "source": [
    "multi_age_score=dff[(dff[\"Age\"]>30) | (dff[\"Performance Score\"]>80)] \n",
    "print(\"employees whose age is greater than 30 or performance score is greater than 80\")\n",
    "print(multi_age_score)\n",
    "\n",
    "\n",
    "# OR is not valid when filtering in Pandas (inside brackets)\n",
    "# ✅ Instead, we use | (pipe symbol)\n",
    "#Its not a regular OR but a Bitwise OR\n",
    "\n",
    "\n",
    "#& is originally a bitwise AND operator (not the regular and keyword).\n"
   ]
  },
  {
   "cell_type": "code",
   "execution_count": null,
   "id": "cb13c353-1545-4156-9f4a-8b9adcc6876c",
   "metadata": {},
   "outputs": [],
   "source": []
  }
 ],
 "metadata": {
  "kernelspec": {
   "display_name": "Python 3 (ipykernel)",
   "language": "python",
   "name": "python3"
  },
  "language_info": {
   "codemirror_mode": {
    "name": "ipython",
    "version": 3
   },
   "file_extension": ".py",
   "mimetype": "text/x-python",
   "name": "python",
   "nbconvert_exporter": "python",
   "pygments_lexer": "ipython3",
   "version": "3.12.4"
  }
 },
 "nbformat": 4,
 "nbformat_minor": 5
}
