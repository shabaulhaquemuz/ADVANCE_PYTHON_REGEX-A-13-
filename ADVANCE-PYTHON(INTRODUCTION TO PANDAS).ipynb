{
 "cells": [
  {
   "cell_type": "code",
   "execution_count": 1,
   "id": "3fa597ab-18a3-4b4a-b731-f4eb707a7d97",
   "metadata": {},
   "outputs": [],
   "source": [
    "#Pandas\n",
    "#library which is used to manipulate, transform, change and prepare\n",
    "#numpy is only used for numerical data\n",
    "#pandas=> numerical/string => SQL developer\n"
   ]
  },
  {
   "cell_type": "code",
   "execution_count": 3,
   "id": "f49e2d03-eacf-49ca-ae02-ce00d0a0f9b5",
   "metadata": {},
   "outputs": [
    {
     "data": {
      "text/plain": [
       "pandas.core.series.Series"
      ]
     },
     "execution_count": 3,
     "metadata": {},
     "output_type": "execute_result"
    }
   ],
   "source": [
    "#series=> 1column/ representaion of nd array\n",
    "# What is an ND Array?\n",
    "# ND array stands for N-Dimensional Array.\n",
    "# N means any number of dimensions (1D, 2D, 3D, 4D, etc.)\n",
    "# In NumPy, ndarray is the main data structure used to store arrays.\n",
    "\n",
    "#Examples of ND Arrays:\n",
    "# | Dimension    | Example                          | Shape     |\n",
    "# | ------------ | -------------------------------- | --------- |\n",
    "# | **1D array** | `[1, 2, 3]`                      | `(3,)`    |\n",
    "# | **2D array** | `[[1, 2, 3], [4, 5, 6]]`         | `(2,3)`   |\n",
    "# | **3D array** | `[[[1,2],[3,4]], [[5,6],[7,8]]]` | `(2,2,2)` |\n",
    "\n",
    "\n",
    "import pandas as pd\n",
    "pd.Series([10,20,30,40])\n",
    "type(pd.Series([10,20,30,40]))\n",
    "\n"
   ]
  },
  {
   "cell_type": "code",
   "execution_count": 5,
   "id": "79b8c9c1-1df4-41fe-ad88-a0b118fc2ef7",
   "metadata": {},
   "outputs": [
    {
     "data": {
      "text/plain": [
       "0    10\n",
       "1    20\n",
       "2    30\n",
       "3    40\n",
       "dtype: int64"
      ]
     },
     "execution_count": 5,
     "metadata": {},
     "output_type": "execute_result"
    }
   ],
   "source": [
    "#pandas uses numpy in the background to storing and managing the data, thats wjhy all the functionalities of numpy are there in pandas\n",
    "import pandas as pd\n",
    "marks=pd.Series([10,20,30,40])\n",
    "marks\n"
   ]
  },
  {
   "cell_type": "code",
   "execution_count": 7,
   "id": "342e87fd-e7dc-44e7-a012-a5c0c11566bb",
   "metadata": {},
   "outputs": [
    {
     "data": {
      "text/plain": [
       "10"
      ]
     },
     "execution_count": 7,
     "metadata": {},
     "output_type": "execute_result"
    }
   ],
   "source": [
    "marks[0]"
   ]
  },
  {
   "cell_type": "code",
   "execution_count": 9,
   "id": "b494f8f4-b10f-4fba-9fc7-aed532eb54a0",
   "metadata": {},
   "outputs": [
    {
     "data": {
      "text/plain": [
       "20"
      ]
     },
     "execution_count": 9,
     "metadata": {},
     "output_type": "execute_result"
    }
   ],
   "source": [
    "marks[1]"
   ]
  },
  {
   "cell_type": "code",
   "execution_count": 13,
   "id": "47a517c1-0c3c-4f59-be5d-8e888c1cec26",
   "metadata": {},
   "outputs": [
    {
     "data": {
      "text/plain": [
       "50"
      ]
     },
     "execution_count": 13,
     "metadata": {},
     "output_type": "execute_result"
    }
   ],
   "source": [
    "marks[1]=50\n",
    "marks[1]"
   ]
  },
  {
   "cell_type": "code",
   "execution_count": 19,
   "id": "a2afb7e5-1a44-4f8d-acfe-588546f1ada7",
   "metadata": {},
   "outputs": [
    {
     "name": "stdout",
     "output_type": "stream",
     "text": [
      "1    50\n",
      "2    30\n",
      "3    40\n",
      "dtype: int64\n"
     ]
    }
   ],
   "source": [
    "print(marks[1:])"
   ]
  },
  {
   "cell_type": "code",
   "execution_count": 29,
   "id": "82c86537-6cbb-416a-ada7-ee987e2aa95e",
   "metadata": {},
   "outputs": [
    {
     "name": "stdout",
     "output_type": "stream",
     "text": [
      "A    10\n",
      "B    20\n",
      "C    30\n",
      "D    40\n",
      "dtype: object\n",
      "10\n",
      "10\n"
     ]
    },
    {
     "name": "stderr",
     "output_type": "stream",
     "text": [
      "C:\\Users\\shaba\\AppData\\Local\\Temp\\ipykernel_47220\\1532498184.py:5: FutureWarning: Series.__getitem__ treating keys as positions is deprecated. In a future version, integer keys will always be treated as labels (consistent with DataFrame behavior). To access a value by position, use `ser.iloc[pos]`\n",
      "  print(marks[0])\n"
     ]
    }
   ],
   "source": [
    "marks=pd.Series([10,20,30,\"40\"],index=[\"A\",\"B\",\"C\",\"D\"])\n",
    "marks.dtype\n",
    "marks.index\n",
    "print(marks)\n",
    "print(marks[0])\n",
    "print(marks[\"A\"])"
   ]
  },
  {
   "cell_type": "code",
   "execution_count": 33,
   "id": "4d5d85e6-8385-4b2c-8d58-64d6a0f29496",
   "metadata": {},
   "outputs": [
    {
     "data": {
      "text/plain": [
       "True"
      ]
     },
     "execution_count": 33,
     "metadata": {},
     "output_type": "execute_result"
    }
   ],
   "source": [
    "#to check if any element is present in a series\n",
    "10 in marks.values"
   ]
  },
  {
   "cell_type": "code",
   "execution_count": 35,
   "id": "7f12e4c9-bc5f-41a8-b80b-64ecd84c023f",
   "metadata": {},
   "outputs": [
    {
     "data": {
      "text/plain": [
       "False"
      ]
     },
     "execution_count": 35,
     "metadata": {},
     "output_type": "execute_result"
    }
   ],
   "source": [
    "10 not in marks.values"
   ]
  },
  {
   "cell_type": "code",
   "execution_count": 37,
   "id": "fc4ebc31-891f-4e14-825d-6a034e346d9f",
   "metadata": {},
   "outputs": [
    {
     "data": {
      "text/plain": [
       "{'A': 10, 'B': 20, 'C': 30, 'D': '40'}"
      ]
     },
     "execution_count": 37,
     "metadata": {},
     "output_type": "execute_result"
    }
   ],
   "source": [
    "#to_list() function\n",
    "marks.to_dict()"
   ]
  },
  {
   "cell_type": "code",
   "execution_count": 39,
   "id": "3d257aea-4bc5-4eed-9de6-6d8e21ee0f95",
   "metadata": {},
   "outputs": [
    {
     "data": {
      "text/plain": [
       "[10, 20, 30, '40']"
      ]
     },
     "execution_count": 39,
     "metadata": {},
     "output_type": "execute_result"
    }
   ],
   "source": [
    "marks.to_list()"
   ]
  },
  {
   "cell_type": "code",
   "execution_count": 81,
   "id": "d1d73bfb-0a69-48ce-bd91-bc6f2c0c0dfe",
   "metadata": {},
   "outputs": [
    {
     "name": "stdout",
     "output_type": "stream",
     "text": [
      "300\n",
      "10\n",
      "92.5\n",
      "C\n",
      "10     1\n",
      "20     1\n",
      "300    1\n",
      "40     1\n",
      "Name: count, dtype: int64\n",
      "1\n",
      "A     10\n",
      "B     20\n",
      "D     40\n",
      "C    300\n",
      "dtype: int64\n",
      "C    300\n",
      "D     40\n",
      "B     20\n",
      "A     10\n",
      "dtype: int64\n"
     ]
    }
   ],
   "source": [
    "mark=pd.Series([10,20,300,40], index=[\"A\",\"B\",\"C\",\"D\"])\n",
    "print(mark.max())\n",
    "print(mark.min())\n",
    "print(mark.mean())\n",
    "print(mark.idxmax()) #shows maximum values index\n",
    "print(mark.value_counts())\n",
    "print(mark.value_counts()[10])\n",
    "print(mark.sort_values(ascending=True))\n",
    "print(mark.sort_values(ascending=False))\n"
   ]
  },
  {
   "cell_type": "code",
   "execution_count": 85,
   "id": "ded57fa6-fbe1-4194-8150-f823cf5fb6be",
   "metadata": {},
   "outputs": [
    {
     "name": "stdout",
     "output_type": "stream",
     "text": [
      "C    300\n",
      "D     40\n",
      "B     20\n",
      "A     10\n",
      "dtype: int64\n"
     ]
    }
   ],
   "source": [
    "print(mark.sort_values(ascending=False))"
   ]
  },
  {
   "cell_type": "code",
   "execution_count": 87,
   "id": "11f5273f-6fa0-471b-b8c4-3039cf438d6d",
   "metadata": {},
   "outputs": [
    {
     "name": "stdout",
     "output_type": "stream",
     "text": [
      "0    300\n",
      "1     40\n",
      "2     20\n",
      "3     10\n",
      "dtype: int64\n"
     ]
    }
   ],
   "source": [
    "print(mark.sort_values(ascending=False,ignore_index=True))"
   ]
  },
  {
   "cell_type": "code",
   "execution_count": 91,
   "id": "9551fe9f-5128-48dc-9467-a4c98c10dd55",
   "metadata": {},
   "outputs": [
    {
     "data": {
      "text/plain": [
       "0     Grade F\n",
       "1     Grade F\n",
       "2     Grade F\n",
       "3     Grade B\n",
       "4     Grade B\n",
       "5     Grade A\n",
       "6     Grade A\n",
       "7     Grade A\n",
       "8     Grade A\n",
       "9     Grade A\n",
       "10    Grade A\n",
       "11    Grade A\n",
       "12    Grade A\n",
       "13    Grade A\n",
       "14    Grade A\n",
       "15    Grade A\n",
       "dtype: object"
      ]
     },
     "execution_count": 91,
     "metadata": {},
     "output_type": "execute_result"
    }
   ],
   "source": [
    "markks=pd.Series([10,20,30,40,50,60,70,80,90,100,110,120,130,140,150,200])\n",
    "def func(num):\n",
    "    if(num<40):\n",
    "        return \"Grade F\"\n",
    "    elif(num<60):\n",
    "        return \"Grade B\"\n",
    "    else:\n",
    "        return \"Grade A\"\n",
    "markks.apply(func)\n",
    "#apply function is passed to each and every elements\n",
    "\n",
    "#How does apply() work on a Series?\n",
    "#When you run:\n",
    "#markks.apply(func)\n",
    "\n",
    "# Pandas automatically does this behind the scenes:\n",
    "# For each element in markks, it calls func()\n",
    "# It passes one element at a time into func(num)\n",
    "\n",
    "\n",
    "# So:\n",
    "# num is irrelevant to Pandas.\n",
    "\n",
    "# Pandas just sends each value to the first parameter of your function, whatever name you give.\n",
    "#but we have to pass any parameter else it will give error"
   ]
  },
  {
   "cell_type": "code",
   "execution_count": 93,
   "id": "99c1f5c0-d66f-4c15-8aff-0308f9d84b2d",
   "metadata": {},
   "outputs": [
    {
     "data": {
      "text/plain": [
       "3      40\n",
       "4      50\n",
       "5      60\n",
       "6      70\n",
       "7      80\n",
       "8      90\n",
       "9     100\n",
       "10    110\n",
       "11    120\n",
       "12    130\n",
       "13    140\n",
       "14    150\n",
       "15    200\n",
       "dtype: int64"
      ]
     },
     "execution_count": 93,
     "metadata": {},
     "output_type": "execute_result"
    }
   ],
   "source": [
    "#filtering elements in a series\n",
    "markks[markks>30]"
   ]
  },
  {
   "cell_type": "code",
   "execution_count": null,
   "id": "9957bba4-23f2-4ab5-ae2f-d73606286dd2",
   "metadata": {},
   "outputs": [],
   "source": []
  }
 ],
 "metadata": {
  "kernelspec": {
   "display_name": "Python 3 (ipykernel)",
   "language": "python",
   "name": "python3"
  },
  "language_info": {
   "codemirror_mode": {
    "name": "ipython",
    "version": 3
   },
   "file_extension": ".py",
   "mimetype": "text/x-python",
   "name": "python",
   "nbconvert_exporter": "python",
   "pygments_lexer": "ipython3",
   "version": "3.12.4"
  }
 },
 "nbformat": 4,
 "nbformat_minor": 5
}
