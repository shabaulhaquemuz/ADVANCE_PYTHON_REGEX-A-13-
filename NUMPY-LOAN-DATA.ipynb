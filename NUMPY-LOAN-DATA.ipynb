{
 "cells": [
  {
   "cell_type": "code",
   "execution_count": 7,
   "id": "b518fd8a-b331-4259-90a8-57a61e627dd8",
   "metadata": {},
   "outputs": [
    {
     "data": {
      "text/plain": [
       "array([[ 2000.,    40.,   365.,  3121.,  4241., 13621.],\n",
       "       [ 2000.,    40.,   365.,  3061.,  4171., 15041.],\n",
       "       [ 1000.,    40.,   365.,  2160.,  3280., 15340.],\n",
       "       ...,\n",
       "       [ 2000.,    40.,   365.,  4201.,  5001., 16600.],\n",
       "       [ 1000.,    40.,   365.,  2080.,  3320., 15600.],\n",
       "       [ 2000.,    40.,   365.,  4601.,  4601., 16600.]])"
      ]
     },
     "execution_count": 7,
     "metadata": {},
     "output_type": "execute_result"
    }
   ],
   "source": [
    "#numpy preprocessing\n",
    "import numpy as np\n",
    "lending_array=np.loadtxt(\"Lending-company-Numeric.csv\",delimiter=\",\") #this loadtxt function cant load files which has null values inside it, for that \"genfromtxt\" function is used\n",
    "lending_array"
   ]
  },
  {
   "cell_type": "code",
   "execution_count": 11,
   "id": "19d9f202-c485-4c57-8759-df5e3bc5408c",
   "metadata": {},
   "outputs": [
    {
     "data": {
      "text/plain": [
       "0"
      ]
     },
     "execution_count": 11,
     "metadata": {},
     "output_type": "execute_result"
    }
   ],
   "source": [
    "#to check null value anywhere in a particular array\n",
    "np.isnan(lending_array).sum()  #give count for true value"
   ]
  },
  {
   "cell_type": "code",
   "execution_count": 15,
   "id": "2b033993-f600-4df1-98be-5e3b69a77247",
   "metadata": {},
   "outputs": [
    {
     "ename": "ValueError",
     "evalue": "could not convert string '2000;40;365;3121;4241;13621' to float64 at row 0, column 1.",
     "output_type": "error",
     "traceback": [
      "\u001b[1;31m---------------------------------------------------------------------------\u001b[0m",
      "\u001b[1;31mValueError\u001b[0m                                Traceback (most recent call last)",
      "Cell \u001b[1;32mIn[15], line 1\u001b[0m\n\u001b[1;32m----> 1\u001b[0m lending_array\u001b[38;5;241m=\u001b[39mnp\u001b[38;5;241m.\u001b[39mloadtxt(\u001b[38;5;124m\"\u001b[39m\u001b[38;5;124mLending-company-Numeric-NAN.csv\u001b[39m\u001b[38;5;124m\"\u001b[39m,delimiter\u001b[38;5;241m=\u001b[39m\u001b[38;5;124m\"\u001b[39m\u001b[38;5;124m,\u001b[39m\u001b[38;5;124m\"\u001b[39m)\n",
      "File \u001b[1;32m~\\anaconda3\\Lib\\site-packages\\numpy\\lib\\npyio.py:1373\u001b[0m, in \u001b[0;36mloadtxt\u001b[1;34m(fname, dtype, comments, delimiter, converters, skiprows, usecols, unpack, ndmin, encoding, max_rows, quotechar, like)\u001b[0m\n\u001b[0;32m   1370\u001b[0m \u001b[38;5;28;01mif\u001b[39;00m \u001b[38;5;28misinstance\u001b[39m(delimiter, \u001b[38;5;28mbytes\u001b[39m):\n\u001b[0;32m   1371\u001b[0m     delimiter \u001b[38;5;241m=\u001b[39m delimiter\u001b[38;5;241m.\u001b[39mdecode(\u001b[38;5;124m'\u001b[39m\u001b[38;5;124mlatin1\u001b[39m\u001b[38;5;124m'\u001b[39m)\n\u001b[1;32m-> 1373\u001b[0m arr \u001b[38;5;241m=\u001b[39m _read(fname, dtype\u001b[38;5;241m=\u001b[39mdtype, comment\u001b[38;5;241m=\u001b[39mcomment, delimiter\u001b[38;5;241m=\u001b[39mdelimiter,\n\u001b[0;32m   1374\u001b[0m             converters\u001b[38;5;241m=\u001b[39mconverters, skiplines\u001b[38;5;241m=\u001b[39mskiprows, usecols\u001b[38;5;241m=\u001b[39musecols,\n\u001b[0;32m   1375\u001b[0m             unpack\u001b[38;5;241m=\u001b[39munpack, ndmin\u001b[38;5;241m=\u001b[39mndmin, encoding\u001b[38;5;241m=\u001b[39mencoding,\n\u001b[0;32m   1376\u001b[0m             max_rows\u001b[38;5;241m=\u001b[39mmax_rows, quote\u001b[38;5;241m=\u001b[39mquotechar)\n\u001b[0;32m   1378\u001b[0m \u001b[38;5;28;01mreturn\u001b[39;00m arr\n",
      "File \u001b[1;32m~\\anaconda3\\Lib\\site-packages\\numpy\\lib\\npyio.py:1016\u001b[0m, in \u001b[0;36m_read\u001b[1;34m(fname, delimiter, comment, quote, imaginary_unit, usecols, skiplines, max_rows, converters, ndmin, unpack, dtype, encoding)\u001b[0m\n\u001b[0;32m   1013\u001b[0m     data \u001b[38;5;241m=\u001b[39m _preprocess_comments(data, comments, encoding)\n\u001b[0;32m   1015\u001b[0m \u001b[38;5;28;01mif\u001b[39;00m read_dtype_via_object_chunks \u001b[38;5;129;01mis\u001b[39;00m \u001b[38;5;28;01mNone\u001b[39;00m:\n\u001b[1;32m-> 1016\u001b[0m     arr \u001b[38;5;241m=\u001b[39m _load_from_filelike(\n\u001b[0;32m   1017\u001b[0m         data, delimiter\u001b[38;5;241m=\u001b[39mdelimiter, comment\u001b[38;5;241m=\u001b[39mcomment, quote\u001b[38;5;241m=\u001b[39mquote,\n\u001b[0;32m   1018\u001b[0m         imaginary_unit\u001b[38;5;241m=\u001b[39mimaginary_unit,\n\u001b[0;32m   1019\u001b[0m         usecols\u001b[38;5;241m=\u001b[39musecols, skiplines\u001b[38;5;241m=\u001b[39mskiplines, max_rows\u001b[38;5;241m=\u001b[39mmax_rows,\n\u001b[0;32m   1020\u001b[0m         converters\u001b[38;5;241m=\u001b[39mconverters, dtype\u001b[38;5;241m=\u001b[39mdtype,\n\u001b[0;32m   1021\u001b[0m         encoding\u001b[38;5;241m=\u001b[39mencoding, filelike\u001b[38;5;241m=\u001b[39mfilelike,\n\u001b[0;32m   1022\u001b[0m         byte_converters\u001b[38;5;241m=\u001b[39mbyte_converters)\n\u001b[0;32m   1024\u001b[0m \u001b[38;5;28;01melse\u001b[39;00m:\n\u001b[0;32m   1025\u001b[0m     \u001b[38;5;66;03m# This branch reads the file into chunks of object arrays and then\u001b[39;00m\n\u001b[0;32m   1026\u001b[0m     \u001b[38;5;66;03m# casts them to the desired actual dtype.  This ensures correct\u001b[39;00m\n\u001b[0;32m   1027\u001b[0m     \u001b[38;5;66;03m# string-length and datetime-unit discovery (like `arr.astype()`).\u001b[39;00m\n\u001b[0;32m   1028\u001b[0m     \u001b[38;5;66;03m# Due to chunking, certain error reports are less clear, currently.\u001b[39;00m\n\u001b[0;32m   1029\u001b[0m     \u001b[38;5;28;01mif\u001b[39;00m filelike:\n",
      "\u001b[1;31mValueError\u001b[0m: could not convert string '2000;40;365;3121;4241;13621' to float64 at row 0, column 1."
     ]
    }
   ],
   "source": [
    "lending_array=np.loadtxt(\"Lending-company-Numeric-NAN.csv\",delimiter=\",\") "
   ]
  },
  {
   "cell_type": "code",
   "execution_count": 17,
   "id": "6f6906ef-29bd-4302-b63b-598bab92db8d",
   "metadata": {},
   "outputs": [],
   "source": [
    "lending_array_nan=np.genfromtxt(\"Lending-company-Numeric-NAN.csv\",delimiter=\";\")"
   ]
  },
  {
   "cell_type": "code",
   "execution_count": 19,
   "id": "a8d96f84-4721-430f-8dd1-64393d009101",
   "metadata": {},
   "outputs": [
    {
     "data": {
      "text/plain": [
       "260"
      ]
     },
     "execution_count": 19,
     "metadata": {},
     "output_type": "execute_result"
    }
   ],
   "source": [
    "np.isnan(lending_array_nan).sum() #checking null"
   ]
  },
  {
   "cell_type": "code",
   "execution_count": 23,
   "id": "8a86a7af-81df-48cc-96f2-cb5944015843",
   "metadata": {},
   "outputs": [
    {
     "data": {
      "text/plain": [
       "0"
      ]
     },
     "execution_count": 23,
     "metadata": {},
     "output_type": "execute_result"
    }
   ],
   "source": [
    "lending_array_nan=np.genfromtxt(\"Lending-company-Numeric-NAN.csv\",delimiter=\";\",filling_values=0)\n",
    "np.isnan(lending_array_nan).sum()"
   ]
  },
  {
   "cell_type": "markdown",
   "id": "66a64dcb-6152-4958-92ec-d987918c6f4a",
   "metadata": {},
   "source": []
  },
  {
   "cell_type": "code",
   "execution_count": 27,
   "id": "071dd8f6-d6e7-4c23-96ed-edc7b2d0e34e",
   "metadata": {},
   "outputs": [
    {
     "data": {
      "text/plain": [
       "64001.0"
      ]
     },
     "execution_count": 27,
     "metadata": {},
     "output_type": "execute_result"
    }
   ],
   "source": [
    "np.max(lending_array_nan)   #if we did not have remove tyhe null value then the max value will be nan only, so nan value must be removed first"
   ]
  },
  {
   "cell_type": "code",
   "execution_count": 45,
   "id": "ea4b829f-cb41-49aa-a6ff-f5224cffef72",
   "metadata": {},
   "outputs": [
    {
     "data": {
      "text/plain": [
       "64005.0"
      ]
     },
     "execution_count": 45,
     "metadata": {},
     "output_type": "execute_result"
    }
   ],
   "source": [
    "tempfillvalues=np.nanmax(lending_array_nan)+4   # 4 more than max\n",
    "#fill values 64005\n",
    "tempfillvalues"
   ]
  },
  {
   "cell_type": "code",
   "execution_count": 33,
   "id": "984226bf-b35a-48da-b609-f289852752d4",
   "metadata": {},
   "outputs": [
    {
     "data": {
      "text/plain": [
       "array([[2.0000e+03, 4.0000e+01, 3.6500e+02, 3.1210e+03, 4.2410e+03,\n",
       "        1.3621e+04],\n",
       "       [2.0000e+03, 4.0000e+01, 3.6500e+02, 3.0610e+03, 4.1710e+03,\n",
       "        1.5041e+04],\n",
       "       [1.0000e+03, 4.0000e+01, 3.6500e+02, 2.1600e+03, 3.2800e+03,\n",
       "        1.5340e+04],\n",
       "       ...,\n",
       "       [6.4005e+04, 4.0000e+01, 3.6500e+02, 4.2010e+03, 5.0010e+03,\n",
       "        1.6600e+04],\n",
       "       [1.0000e+03, 4.0000e+01, 3.6500e+02, 2.0800e+03, 3.3200e+03,\n",
       "        1.5600e+04],\n",
       "       [2.0000e+03, 4.0000e+01, 3.6500e+02, 4.6010e+03, 4.6010e+03,\n",
       "        1.6600e+04]])"
      ]
     },
     "execution_count": 33,
     "metadata": {},
     "output_type": "execute_result"
    }
   ],
   "source": [
    "lending_array_nan=np.genfromtxt(\"Lending-company-Numeric-NAN.csv\",delimiter=\";\",filling_values=tempfillvalues)\n",
    "\n",
    "lending_array_nan"
   ]
  },
  {
   "cell_type": "code",
   "execution_count": 35,
   "id": "05b9b032-c1e2-4ea4-8f70-64627d868d18",
   "metadata": {},
   "outputs": [
    {
     "data": {
      "text/plain": [
       "array([ 4263.34611697,  2989.56375839,  3537.84755513,  7469.10738255,\n",
       "        7304.64525407, 17753.86481304])"
      ]
     },
     "execution_count": 35,
     "metadata": {},
     "output_type": "execute_result"
    }
   ],
   "source": [
    "np.nanmean(lending_array_nan,axis=0)"
   ]
  },
  {
   "cell_type": "code",
   "execution_count": 37,
   "id": "a0fb2ef8-e821-4030-b2de-2fc8f80c1006",
   "metadata": {},
   "outputs": [
    {
     "data": {
      "text/plain": [
       "array([ 4263.35,  2989.56,  3537.85,  7469.11,  7304.65, 17753.86])"
      ]
     },
     "execution_count": 37,
     "metadata": {},
     "output_type": "execute_result"
    }
   ],
   "source": [
    "np.nanmean(lending_array_nan,axis=0).round(2)"
   ]
  },
  {
   "cell_type": "code",
   "execution_count": 39,
   "id": "5c194f78-b95d-435d-b904-2de3ee71a3c4",
   "metadata": {},
   "outputs": [
    {
     "data": {
      "text/plain": [
       "array([ 4263.346,  2989.564,  3537.848,  7469.107,  7304.645, 17753.865])"
      ]
     },
     "execution_count": 39,
     "metadata": {},
     "output_type": "execute_result"
    }
   ],
   "source": [
    "np.nanmean(lending_array_nan,axis=0).round(3)"
   ]
  },
  {
   "cell_type": "code",
   "execution_count": 41,
   "id": "41c5b8ce-51a8-47c3-b465-46856158bb5d",
   "metadata": {},
   "outputs": [
    {
     "data": {
      "text/plain": [
       "array([ 4263.3,  2989.6,  3537.8,  7469.1,  7304.6, 17753.9])"
      ]
     },
     "execution_count": 41,
     "metadata": {},
     "output_type": "execute_result"
    }
   ],
   "source": [
    "np.nanmean(lending_array_nan,axis=0).round(1)"
   ]
  },
  {
   "cell_type": "code",
   "execution_count": 43,
   "id": "d0491f7d-0fd2-4f02-a450-7db0af939ab9",
   "metadata": {},
   "outputs": [
    {
     "data": {
      "text/plain": [
       "array([ 2250.25,    46.11,   365.  ,  3895.99,  5160.75, 16571.44])"
      ]
     },
     "execution_count": 43,
     "metadata": {},
     "output_type": "execute_result"
    }
   ],
   "source": [
    "lending_array_nan=np.genfromtxt(\"Lending-company-Numeric-NAN.csv\",delimiter=\";\")\n",
    "np.nanmean(lending_array_nan,axis=0).round(2)"
   ]
  },
  {
   "cell_type": "code",
   "execution_count": 57,
   "id": "ac8a81df-1741-42a9-81f7-981cdcb19d87",
   "metadata": {},
   "outputs": [
    {
     "name": "stdout",
     "output_type": "stream",
     "text": [
      "[ 2250.25    46.11   365.    3895.99  5160.75 16571.44]\n",
      "2250.25\n"
     ]
    }
   ],
   "source": [
    "temp_mean=np.nanmean(lending_array_nan,axis=0).round(2)\n",
    "print(temp_mean)\n",
    "print(temp_mean[0])"
   ]
  },
  {
   "cell_type": "code",
   "execution_count": 65,
   "id": "9a8ca35c-5495-4f0f-be0f-b6bc405f4103",
   "metadata": {},
   "outputs": [
    {
     "data": {
      "text/plain": [
       "array([[ 2000.  ,    40.  ,   365.  ,  3121.  ,  4241.  , 13621.  ],\n",
       "       [ 2000.  ,    40.  ,   365.  ,  3061.  ,  4171.  , 15041.  ],\n",
       "       [ 1000.  ,    40.  ,   365.  ,  2160.  ,  3280.  , 15340.  ],\n",
       "       ...,\n",
       "       [ 2250.25,    40.  ,   365.  ,  4201.  ,  5001.  , 16600.  ],\n",
       "       [ 1000.  ,    40.  ,   365.  ,  2080.  ,  3320.  , 15600.  ],\n",
       "       [ 2000.  ,    40.  ,   365.  ,  4601.  ,  4601.  , 16600.  ]])"
      ]
     },
     "execution_count": 65,
     "metadata": {},
     "output_type": "execute_result"
    }
   ],
   "source": [
    "lending_array_nan=np.genfromtxt(\"Lending-company-Numeric-NAN.csv\",delimiter=\";\",filling_values=temp_mean[0])\n",
    "lending_array_nan"
   ]
  },
  {
   "cell_type": "code",
   "execution_count": 71,
   "id": "e9d6f7ba-a58f-40da-9f26-a871759f7c2f",
   "metadata": {},
   "outputs": [
    {
     "name": "stdout",
     "output_type": "stream",
     "text": [
      "[[ 2000.      40.     365.    3121.    4241.   13621.  ]\n",
      " [ 2000.      40.     365.    3061.    4171.   15041.  ]\n",
      " [ 1000.      40.     365.    2160.    3280.   15340.  ]\n",
      " ...\n",
      " [ 2250.25    40.     365.    4201.    5001.   16600.  ]\n",
      " [ 1000.      40.     365.    2080.    3320.   15600.  ]\n",
      " [ 2000.      40.     365.    4601.    4601.   16600.  ]]\n"
     ]
    }
   ],
   "source": [
    "import numpy as np\n",
    "\n",
    "# Load the data with NaNs preserved\n",
    "lending_array_nan = np.genfromtxt(\"Lending-company-Numeric-NAN.csv\", delimiter=\";\")\n",
    "\n",
    "# Step 1: Compute the column-wise means (ignoring NaNs)\n",
    "col_means = np.nanmean(lending_array_nan, axis=0)\n",
    "\n",
    "# Step 2: Find where NaNs are located\n",
    "nan_indices = np.where(np.isnan(lending_array_nan))\n",
    "\n",
    "# Step 3: Replace NaNs with the corresponding column mean\n",
    "lending_array_nan[nan_indices] = np.take(col_means, nan_indices[1])\n",
    "\n",
    "# Step 4: (Optional) Round for cleaner results\n",
    "lending_array_nan = np.round(lending_array_nan, 2)\n",
    "\n",
    "# Final array with all NaNs filled using their respective column means\n",
    "print(lending_array_nan)\n"
   ]
  },
  {
   "cell_type": "code",
   "execution_count": 89,
   "id": "96e89695-1e3b-4b56-b959-22d8ee0a80ac",
   "metadata": {},
   "outputs": [
    {
     "name": "stdout",
     "output_type": "stream",
     "text": [
      "[[          nan           nan           nan ...           nan\n",
      "            nan           nan]\n",
      " [4.8010226e+07           nan 3.5000000e+04 ...           nan\n",
      "            nan 9.4529600e+03]\n",
      " [5.7693261e+07           nan 3.0000000e+04 ...           nan\n",
      "            nan 4.6797000e+03]\n",
      " ...\n",
      " [5.0415990e+07           nan 1.0000000e+04 ...           nan\n",
      "            nan 2.1856400e+03]\n",
      " [4.6154151e+07           nan           nan ...           nan\n",
      "            nan 3.1994000e+03]\n",
      " [6.6055249e+07           nan 1.0000000e+04 ...           nan\n",
      "            nan 3.0190000e+02]]\n"
     ]
    }
   ],
   "source": [
    "import numpy as np\n",
    "\n",
    "data = np.genfromtxt(\"loan-data.csv\", delimiter=\";\")\n",
    "print(data)\n",
    "\n"
   ]
  },
  {
   "cell_type": "code",
   "execution_count": 91,
   "id": "cf57c2e6-cca6-4c85-a8c9-a8d8c7eb9eee",
   "metadata": {},
   "outputs": [
    {
     "data": {
      "text/plain": [
       "88019"
      ]
     },
     "execution_count": 91,
     "metadata": {},
     "output_type": "execute_result"
    }
   ],
   "source": [
    "np.isnan(data).sum()  "
   ]
  },
  {
   "cell_type": "code",
   "execution_count": 93,
   "id": "f5a470a0-9332-42a8-b6d6-a803bd24b757",
   "metadata": {},
   "outputs": [
    {
     "data": {
      "text/plain": [
       "nan"
      ]
     },
     "execution_count": 93,
     "metadata": {},
     "output_type": "execute_result"
    }
   ],
   "source": [
    "np.max(data)"
   ]
  },
  {
   "cell_type": "code",
   "execution_count": 95,
   "id": "83e7bbde-595f-48b1-8bd7-753c3d7a9867",
   "metadata": {},
   "outputs": [
    {
     "data": {
      "text/plain": [
       "68616523.0"
      ]
     },
     "execution_count": 95,
     "metadata": {},
     "output_type": "execute_result"
    }
   ],
   "source": [
    "tempfillvalue=np.nanmax(data)+4   # 4 more than max\n",
    "#fill values 64005\n",
    "tempfillvalue"
   ]
  },
  {
   "cell_type": "code",
   "execution_count": null,
   "id": "b973c26f-988f-4a7b-8fa5-5d23415547f5",
   "metadata": {},
   "outputs": [],
   "source": []
  }
 ],
 "metadata": {
  "kernelspec": {
   "display_name": "Python 3 (ipykernel)",
   "language": "python",
   "name": "python3"
  },
  "language_info": {
   "codemirror_mode": {
    "name": "ipython",
    "version": 3
   },
   "file_extension": ".py",
   "mimetype": "text/x-python",
   "name": "python",
   "nbconvert_exporter": "python",
   "pygments_lexer": "ipython3",
   "version": "3.12.4"
  }
 },
 "nbformat": 4,
 "nbformat_minor": 5
}
