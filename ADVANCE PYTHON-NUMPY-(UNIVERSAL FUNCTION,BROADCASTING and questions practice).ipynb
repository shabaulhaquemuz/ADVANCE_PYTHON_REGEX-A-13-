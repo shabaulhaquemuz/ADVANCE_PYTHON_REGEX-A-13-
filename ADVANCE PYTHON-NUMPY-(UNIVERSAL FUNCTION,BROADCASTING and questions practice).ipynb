{
 "cells": [
  {
   "cell_type": "code",
   "execution_count": 11,
   "id": "002fc88b-3887-482d-b6a0-7cabab3d9f7a",
   "metadata": {},
   "outputs": [
    {
     "name": "stdout",
     "output_type": "stream",
     "text": [
      "[5 7 9]\n",
      "[ 4 10 18]\n",
      "[3 3 3]\n"
     ]
    }
   ],
   "source": [
    "#C is the fastest programming language because it is closest to hardware, it is used for OS,\n",
    "#embedded system(An embedded system is a small computer built into a device to perform a specific task.).\n",
    "# Washing Machine\tControls washing cycles\n",
    "# Microwave Oven\tManages heating and timing\n",
    "\n",
    "# Universal Function (ufunc) in NumPy =\n",
    "# A built-in, fast, vectorized function that performs element-wise operations on arrays.\n",
    "# It’s written in C for speed, but you call it like normal Python functions.\n",
    "#Universal function: functions that can be applied over each elements\n",
    "\n",
    "# | Category            | Function Examples                       |\n",
    "# | ------------------- | --------------------------------------- |\n",
    "# | **Arithmetic**      | `add`, `subtract`, `multiply`, `divide` |\n",
    "# | **Trigonometric**   | `sin`, `cos`, `tan`                     |\n",
    "# | **Exponential/Log** | `exp`, `log`, `log10`                   |\n",
    "# | **Comparison**      | `greater`, `less`, `equal`              |\n",
    "# | **Statistical**     | `minimum`, `maximum`, `mean`, `std`     |\n",
    "\n",
    "import numpy as np\n",
    "\n",
    "arr1 = np.array([1, 2, 3])\n",
    "arr2 = np.array([4, 5, 6])\n",
    "\n",
    "print(np.add(arr1, arr2))       # [5 7 9]\n",
    "print(np.multiply(arr1, arr2))  # [ 4 10 18]\n",
    "print(np.subtract(arr2, arr1))  # [3 3 3]\n",
    "\n",
    "\n",
    "\n"
   ]
  },
  {
   "cell_type": "code",
   "execution_count": 5,
   "id": "a2b0f498-7f77-4655-affc-c7ec13392e0b",
   "metadata": {},
   "outputs": [],
   "source": [
    "# Why do people still use Python if it's slower?\n",
    "# Python is easy to write and learn.\n",
    "\n",
    "# Python is good for prototyping.\n",
    "\n",
    "# Many libraries like NumPy, TensorFlow, PyTorch use C/C++ internally for speed but give Python interface for simplicity.\n",
    "\n",
    "# NumPy and C: How are they related?\n",
    "# NumPy is a Python library, but internally, it uses C language for the heavy work (like calculations).\n",
    "\n",
    "# That’s why NumPy is very fast compared to normal Python loops."
   ]
  },
  {
   "cell_type": "code",
   "execution_count": 7,
   "id": "8c330083-fdee-4738-8859-c409813f63ae",
   "metadata": {},
   "outputs": [
    {
     "data": {
      "text/plain": [
       "array([[20, 40, 60],\n",
       "       [50, 70, 90]])"
      ]
     },
     "execution_count": 7,
     "metadata": {},
     "output_type": "execute_result"
    }
   ],
   "source": [
    "#Broadcasting:\n",
    "#broadcasting is NumPy's ability to “stretch” or “replicate” smaller arrays to match the dimensions of larger ones during arithmetic operations\n",
    "\n",
    "# Broadcasting Rule (Official Definition):\n",
    "\n",
    "# Two arrays are compatible for broadcasting if, for each dimension (starting from the right):\n",
    "# The dimensions are equal, or\n",
    "# One of the dimensions is 1 (it will be stretched to match the other).\n",
    "\n",
    "\n",
    "#Broadcasting operation\n",
    "import numpy as np\n",
    "arr=np.array([10,20,30])\n",
    "arr1=np.array([[10,20,30],[40,50,60]])\n",
    "arr+arr1\n",
    "#here arr has stretched its size as per the size of arr1"
   ]
  },
  {
   "cell_type": "code",
   "execution_count": 9,
   "id": "efb3e988-3d64-4677-8284-c3ca55c2876c",
   "metadata": {},
   "outputs": [
    {
     "data": {
      "text/plain": [
       "array([[20, 30, 40],\n",
       "       [60, 70, 80]])"
      ]
     },
     "execution_count": 9,
     "metadata": {},
     "output_type": "execute_result"
    }
   ],
   "source": [
    "arr=np.array([[10],\n",
    "               [20]])\n",
    "arr1=np.array([[10,20,30],\n",
    "               [40,50,60]])\n",
    "arr+arr1\n"
   ]
  },
  {
   "cell_type": "code",
   "execution_count": 13,
   "id": "bbbd3f5d-aaa2-4cf5-bf01-3d7dd93df316",
   "metadata": {},
   "outputs": [
    {
     "name": "stdout",
     "output_type": "stream",
     "text": [
      "[[11 22 33]\n",
      " [14 25 36]]\n"
     ]
    }
   ],
   "source": [
    "#Add a 1D array to a 2D array\n",
    "\n",
    "import numpy as np\n",
    "\n",
    "A = np.array([[1, 2, 3],\n",
    "              [4, 5, 6]])\n",
    "\n",
    "B = np.array([10, 20, 30])\n",
    "C=A+B\n",
    "print(C)"
   ]
  },
  {
   "cell_type": "code",
   "execution_count": 17,
   "id": "a18937c3-cb4c-4fd3-9eae-e11fb701ee6a",
   "metadata": {},
   "outputs": [
    {
     "name": "stdout",
     "output_type": "stream",
     "text": [
      "[[10 20 30]\n",
      " [20 40 60]\n",
      " [30 60 90]]\n"
     ]
    }
   ],
   "source": [
    "# Multiply a column vector with a row vector\n",
    "#**Row vectors and column vectors in NumPy are usually represented as 2D arrays.\n",
    "# | **Vector Type**   | **Shape in NumPy** | **Example**       |\n",
    "# | ----------------- | ------------------ | ----------------- |\n",
    "# | **Row Vector**    | (1, n) → **2D**    | `[[1, 2, 3]]`     |\n",
    "# | **Column Vector** | (n, 1) → **2D**    | `[[1], [2], [3]]` |\n",
    "# SO... [1,2,3] is 1d array and its not a row vector\n",
    "\n",
    "import numpy as np\n",
    "\n",
    "A = np.array([[1],\n",
    "              [2],\n",
    "              [3]],\n",
    "            )\n",
    "\n",
    "B = np.array([[10, 20, 30]])\n",
    "C=A*B\n",
    "print(C)"
   ]
  },
  {
   "cell_type": "code",
   "execution_count": 23,
   "id": "dc80d170-b8a7-4c33-a67a-19d4162f30d2",
   "metadata": {},
   "outputs": [
    {
     "name": "stdout",
     "output_type": "stream",
     "text": [
      "[2. 5. 8.]\n",
      "[4. 5. 6.]\n",
      "5.0\n"
     ]
    }
   ],
   "source": [
    "#Example 1: Different Row & Column Means\n",
    "\n",
    "import numpy as np\n",
    "\n",
    "arr = np.array([[1, 2, 3],\n",
    "                [4, 5, 6],\n",
    "                [7, 8, 9]])\n",
    "\n",
    "# Row-wise mean\n",
    "print(np.mean(arr, axis=1))   # [2. 5. 8.]\n",
    "\n",
    "# Column-wise mean\n",
    "print(np.mean(arr, axis=0))   # [4. 5. 6.]\n",
    "\n",
    "# Overall mean\n",
    "print(np.mean(arr))           # 5.0\n"
   ]
  },
  {
   "cell_type": "code",
   "execution_count": 35,
   "id": "28b94618-d095-491d-b60d-256248aec133",
   "metadata": {},
   "outputs": [
    {
     "name": "stdout",
     "output_type": "stream",
     "text": [
      "2.0\n",
      "5.0\n",
      "8.0\n",
      "[[-1.  0.  1.]\n",
      " [-1.  0.  1.]\n",
      " [-1.  0.  1.]]\n"
     ]
    }
   ],
   "source": [
    "# Subtract means from rows elements from mean of each row\n",
    "import numpy as np\n",
    "A=np.array([[1,2,3],\n",
    "            [4,5,6],\n",
    "            [7,8,9]])\n",
    "B1=np.mean(A[0])\n",
    "print(B1)\n",
    "B2=np.mean(A[1])\n",
    "print(B2)\n",
    "B3=np.mean(A[2])\n",
    "print(B3)\n",
    "\n",
    "C=A-np.array([[B1],\n",
    "    [B2],\n",
    "    [B3]])\n",
    "print(C)"
   ]
  },
  {
   "cell_type": "code",
   "execution_count": null,
   "id": "a9a24a43-a302-4e24-ac27-49896ca71890",
   "metadata": {},
   "outputs": [],
   "source": []
  }
 ],
 "metadata": {
  "kernelspec": {
   "display_name": "Python 3 (ipykernel)",
   "language": "python",
   "name": "python3"
  },
  "language_info": {
   "codemirror_mode": {
    "name": "ipython",
    "version": 3
   },
   "file_extension": ".py",
   "mimetype": "text/x-python",
   "name": "python",
   "nbconvert_exporter": "python",
   "pygments_lexer": "ipython3",
   "version": "3.12.4"
  }
 },
 "nbformat": 4,
 "nbformat_minor": 5
}
