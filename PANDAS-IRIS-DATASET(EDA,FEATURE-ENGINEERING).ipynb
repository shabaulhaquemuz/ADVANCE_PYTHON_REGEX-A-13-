{
 "cells": [
  {
   "cell_type": "code",
   "execution_count": 3,
   "id": "47d37197-b31a-496b-9c5a-133072aa65cc",
   "metadata": {},
   "outputs": [
    {
     "data": {
      "text/html": [
       "<div>\n",
       "<style scoped>\n",
       "    .dataframe tbody tr th:only-of-type {\n",
       "        vertical-align: middle;\n",
       "    }\n",
       "\n",
       "    .dataframe tbody tr th {\n",
       "        vertical-align: top;\n",
       "    }\n",
       "\n",
       "    .dataframe thead th {\n",
       "        text-align: right;\n",
       "    }\n",
       "</style>\n",
       "<table border=\"1\" class=\"dataframe\">\n",
       "  <thead>\n",
       "    <tr style=\"text-align: right;\">\n",
       "      <th></th>\n",
       "      <th>5.1</th>\n",
       "      <th>3.5</th>\n",
       "      <th>1.4</th>\n",
       "      <th>0.2</th>\n",
       "      <th>Iris-setosa</th>\n",
       "    </tr>\n",
       "  </thead>\n",
       "  <tbody>\n",
       "    <tr>\n",
       "      <th>0</th>\n",
       "      <td>4.9</td>\n",
       "      <td>3.0</td>\n",
       "      <td>1.4</td>\n",
       "      <td>0.2</td>\n",
       "      <td>Iris-setosa</td>\n",
       "    </tr>\n",
       "    <tr>\n",
       "      <th>1</th>\n",
       "      <td>4.7</td>\n",
       "      <td>3.2</td>\n",
       "      <td>1.3</td>\n",
       "      <td>0.2</td>\n",
       "      <td>Iris-setosa</td>\n",
       "    </tr>\n",
       "    <tr>\n",
       "      <th>2</th>\n",
       "      <td>4.6</td>\n",
       "      <td>3.1</td>\n",
       "      <td>1.5</td>\n",
       "      <td>0.2</td>\n",
       "      <td>Iris-setosa</td>\n",
       "    </tr>\n",
       "    <tr>\n",
       "      <th>3</th>\n",
       "      <td>5.0</td>\n",
       "      <td>3.6</td>\n",
       "      <td>1.4</td>\n",
       "      <td>0.2</td>\n",
       "      <td>Iris-setosa</td>\n",
       "    </tr>\n",
       "    <tr>\n",
       "      <th>4</th>\n",
       "      <td>5.4</td>\n",
       "      <td>3.9</td>\n",
       "      <td>1.7</td>\n",
       "      <td>0.4</td>\n",
       "      <td>Iris-setosa</td>\n",
       "    </tr>\n",
       "    <tr>\n",
       "      <th>...</th>\n",
       "      <td>...</td>\n",
       "      <td>...</td>\n",
       "      <td>...</td>\n",
       "      <td>...</td>\n",
       "      <td>...</td>\n",
       "    </tr>\n",
       "    <tr>\n",
       "      <th>144</th>\n",
       "      <td>6.7</td>\n",
       "      <td>3.0</td>\n",
       "      <td>5.2</td>\n",
       "      <td>2.3</td>\n",
       "      <td>Iris-virginica</td>\n",
       "    </tr>\n",
       "    <tr>\n",
       "      <th>145</th>\n",
       "      <td>6.3</td>\n",
       "      <td>2.5</td>\n",
       "      <td>5.0</td>\n",
       "      <td>1.9</td>\n",
       "      <td>Iris-virginica</td>\n",
       "    </tr>\n",
       "    <tr>\n",
       "      <th>146</th>\n",
       "      <td>6.5</td>\n",
       "      <td>3.0</td>\n",
       "      <td>5.2</td>\n",
       "      <td>2.0</td>\n",
       "      <td>Iris-virginica</td>\n",
       "    </tr>\n",
       "    <tr>\n",
       "      <th>147</th>\n",
       "      <td>6.2</td>\n",
       "      <td>3.4</td>\n",
       "      <td>5.4</td>\n",
       "      <td>2.3</td>\n",
       "      <td>Iris-virginica</td>\n",
       "    </tr>\n",
       "    <tr>\n",
       "      <th>148</th>\n",
       "      <td>5.9</td>\n",
       "      <td>3.0</td>\n",
       "      <td>5.1</td>\n",
       "      <td>1.8</td>\n",
       "      <td>Iris-virginica</td>\n",
       "    </tr>\n",
       "  </tbody>\n",
       "</table>\n",
       "<p>149 rows × 5 columns</p>\n",
       "</div>"
      ],
      "text/plain": [
       "     5.1  3.5  1.4  0.2     Iris-setosa\n",
       "0    4.9  3.0  1.4  0.2     Iris-setosa\n",
       "1    4.7  3.2  1.3  0.2     Iris-setosa\n",
       "2    4.6  3.1  1.5  0.2     Iris-setosa\n",
       "3    5.0  3.6  1.4  0.2     Iris-setosa\n",
       "4    5.4  3.9  1.7  0.4     Iris-setosa\n",
       "..   ...  ...  ...  ...             ...\n",
       "144  6.7  3.0  5.2  2.3  Iris-virginica\n",
       "145  6.3  2.5  5.0  1.9  Iris-virginica\n",
       "146  6.5  3.0  5.2  2.0  Iris-virginica\n",
       "147  6.2  3.4  5.4  2.3  Iris-virginica\n",
       "148  5.9  3.0  5.1  1.8  Iris-virginica\n",
       "\n",
       "[149 rows x 5 columns]"
      ]
     },
     "execution_count": 3,
     "metadata": {},
     "output_type": "execute_result"
    }
   ],
   "source": [
    "#STEP 1: STEP 1: Load and Inspect the Dataset\n",
    "\n",
    "import pandas as pd\n",
    "df=pd.read_csv(\"iris.data.csv\")\n",
    "df"
   ]
  },
  {
   "cell_type": "code",
   "execution_count": 5,
   "id": "c57e9be1-68a0-4f99-bf2a-3725fc03ced5",
   "metadata": {},
   "outputs": [
    {
     "name": "stdout",
     "output_type": "stream",
     "text": [
      "   5.1  3.5  1.4  0.2  Iris-setosa\n",
      "0  4.9  3.0  1.4  0.2  Iris-setosa\n",
      "1  4.7  3.2  1.3  0.2  Iris-setosa\n",
      "2  4.6  3.1  1.5  0.2  Iris-setosa\n",
      "3  5.0  3.6  1.4  0.2  Iris-setosa\n",
      "4  5.4  3.9  1.7  0.4  Iris-setosa\n"
     ]
    }
   ],
   "source": [
    "#show just above 5 rows\n",
    "print(df.head())"
   ]
  },
  {
   "cell_type": "code",
   "execution_count": 7,
   "id": "99baa02e-09e7-42f2-8eb3-4cd000fa5541",
   "metadata": {},
   "outputs": [],
   "source": [
    "#df.columns is an attribute of the DataFrame that holds the list of column names.\n",
    "#we are assigning new names to the columns of the dataframe df\n",
    "df.columns=['sepal_length', 'sepal_width', 'petal_length', 'petal_width', 'species']"
   ]
  },
  {
   "cell_type": "code",
   "execution_count": 9,
   "id": "8aed7a1f-7776-40a3-92c1-548c9d6a3c34",
   "metadata": {},
   "outputs": [
    {
     "data": {
      "text/html": [
       "<div>\n",
       "<style scoped>\n",
       "    .dataframe tbody tr th:only-of-type {\n",
       "        vertical-align: middle;\n",
       "    }\n",
       "\n",
       "    .dataframe tbody tr th {\n",
       "        vertical-align: top;\n",
       "    }\n",
       "\n",
       "    .dataframe thead th {\n",
       "        text-align: right;\n",
       "    }\n",
       "</style>\n",
       "<table border=\"1\" class=\"dataframe\">\n",
       "  <thead>\n",
       "    <tr style=\"text-align: right;\">\n",
       "      <th></th>\n",
       "      <th>sepal_length</th>\n",
       "      <th>sepal_width</th>\n",
       "      <th>petal_length</th>\n",
       "      <th>petal_width</th>\n",
       "      <th>species</th>\n",
       "    </tr>\n",
       "  </thead>\n",
       "  <tbody>\n",
       "    <tr>\n",
       "      <th>0</th>\n",
       "      <td>4.9</td>\n",
       "      <td>3.0</td>\n",
       "      <td>1.4</td>\n",
       "      <td>0.2</td>\n",
       "      <td>Iris-setosa</td>\n",
       "    </tr>\n",
       "    <tr>\n",
       "      <th>1</th>\n",
       "      <td>4.7</td>\n",
       "      <td>3.2</td>\n",
       "      <td>1.3</td>\n",
       "      <td>0.2</td>\n",
       "      <td>Iris-setosa</td>\n",
       "    </tr>\n",
       "    <tr>\n",
       "      <th>2</th>\n",
       "      <td>4.6</td>\n",
       "      <td>3.1</td>\n",
       "      <td>1.5</td>\n",
       "      <td>0.2</td>\n",
       "      <td>Iris-setosa</td>\n",
       "    </tr>\n",
       "    <tr>\n",
       "      <th>3</th>\n",
       "      <td>5.0</td>\n",
       "      <td>3.6</td>\n",
       "      <td>1.4</td>\n",
       "      <td>0.2</td>\n",
       "      <td>Iris-setosa</td>\n",
       "    </tr>\n",
       "    <tr>\n",
       "      <th>4</th>\n",
       "      <td>5.4</td>\n",
       "      <td>3.9</td>\n",
       "      <td>1.7</td>\n",
       "      <td>0.4</td>\n",
       "      <td>Iris-setosa</td>\n",
       "    </tr>\n",
       "    <tr>\n",
       "      <th>...</th>\n",
       "      <td>...</td>\n",
       "      <td>...</td>\n",
       "      <td>...</td>\n",
       "      <td>...</td>\n",
       "      <td>...</td>\n",
       "    </tr>\n",
       "    <tr>\n",
       "      <th>144</th>\n",
       "      <td>6.7</td>\n",
       "      <td>3.0</td>\n",
       "      <td>5.2</td>\n",
       "      <td>2.3</td>\n",
       "      <td>Iris-virginica</td>\n",
       "    </tr>\n",
       "    <tr>\n",
       "      <th>145</th>\n",
       "      <td>6.3</td>\n",
       "      <td>2.5</td>\n",
       "      <td>5.0</td>\n",
       "      <td>1.9</td>\n",
       "      <td>Iris-virginica</td>\n",
       "    </tr>\n",
       "    <tr>\n",
       "      <th>146</th>\n",
       "      <td>6.5</td>\n",
       "      <td>3.0</td>\n",
       "      <td>5.2</td>\n",
       "      <td>2.0</td>\n",
       "      <td>Iris-virginica</td>\n",
       "    </tr>\n",
       "    <tr>\n",
       "      <th>147</th>\n",
       "      <td>6.2</td>\n",
       "      <td>3.4</td>\n",
       "      <td>5.4</td>\n",
       "      <td>2.3</td>\n",
       "      <td>Iris-virginica</td>\n",
       "    </tr>\n",
       "    <tr>\n",
       "      <th>148</th>\n",
       "      <td>5.9</td>\n",
       "      <td>3.0</td>\n",
       "      <td>5.1</td>\n",
       "      <td>1.8</td>\n",
       "      <td>Iris-virginica</td>\n",
       "    </tr>\n",
       "  </tbody>\n",
       "</table>\n",
       "<p>149 rows × 5 columns</p>\n",
       "</div>"
      ],
      "text/plain": [
       "     sepal_length  sepal_width  petal_length  petal_width         species\n",
       "0             4.9          3.0           1.4          0.2     Iris-setosa\n",
       "1             4.7          3.2           1.3          0.2     Iris-setosa\n",
       "2             4.6          3.1           1.5          0.2     Iris-setosa\n",
       "3             5.0          3.6           1.4          0.2     Iris-setosa\n",
       "4             5.4          3.9           1.7          0.4     Iris-setosa\n",
       "..            ...          ...           ...          ...             ...\n",
       "144           6.7          3.0           5.2          2.3  Iris-virginica\n",
       "145           6.3          2.5           5.0          1.9  Iris-virginica\n",
       "146           6.5          3.0           5.2          2.0  Iris-virginica\n",
       "147           6.2          3.4           5.4          2.3  Iris-virginica\n",
       "148           5.9          3.0           5.1          1.8  Iris-virginica\n",
       "\n",
       "[149 rows x 5 columns]"
      ]
     },
     "execution_count": 9,
     "metadata": {},
     "output_type": "execute_result"
    }
   ],
   "source": [
    "df   #updated column with new column name"
   ]
  },
  {
   "cell_type": "code",
   "execution_count": 15,
   "id": "06f98c07-20d3-49cf-b192-242473d03d8d",
   "metadata": {},
   "outputs": [
    {
     "name": "stdout",
     "output_type": "stream",
     "text": [
      "(149, 5)\n"
     ]
    }
   ],
   "source": [
    "print(df.shape) #shows number od rows and columns.. here rows=149 and columns =5"
   ]
  },
  {
   "cell_type": "code",
   "execution_count": 17,
   "id": "ebe17905-b2e4-4629-a37a-53d2f1371886",
   "metadata": {},
   "outputs": [
    {
     "name": "stdout",
     "output_type": "stream",
     "text": [
      "Index(['sepal_length', 'sepal_width', 'petal_length', 'petal_width',\n",
      "       'species'],\n",
      "      dtype='object')\n"
     ]
    }
   ],
   "source": [
    "print(df.columns) # it returns the name of the columns"
   ]
  },
  {
   "cell_type": "code",
   "execution_count": 25,
   "id": "efcc4ad8-63e5-4aa2-801d-278f000568f7",
   "metadata": {},
   "outputs": [
    {
     "name": "stdout",
     "output_type": "stream",
     "text": [
      "<class 'pandas.core.frame.DataFrame'>\n",
      "RangeIndex: 149 entries, 0 to 148\n",
      "Data columns (total 5 columns):\n",
      " #   Column        Non-Null Count  Dtype  \n",
      "---  ------        --------------  -----  \n",
      " 0   sepal_length  149 non-null    float64\n",
      " 1   sepal_width   149 non-null    float64\n",
      " 2   petal_length  149 non-null    float64\n",
      " 3   petal_width   149 non-null    float64\n",
      " 4   species       149 non-null    object \n",
      "dtypes: float64(4), object(1)\n",
      "memory usage: 5.9+ KB\n"
     ]
    }
   ],
   "source": [
    "df.info()   #This returns a summary of the DataFrame structure"
   ]
  },
  {
   "cell_type": "code",
   "execution_count": 27,
   "id": "a6c36143-395f-4b5a-a7f8-2b89295576b7",
   "metadata": {},
   "outputs": [
    {
     "name": "stdout",
     "output_type": "stream",
     "text": [
      "       sepal_length  sepal_width  petal_length  petal_width\n",
      "count    149.000000   149.000000    149.000000   149.000000\n",
      "mean       5.848322     3.051007      3.774497     1.205369\n",
      "std        0.828594     0.433499      1.759651     0.761292\n",
      "min        4.300000     2.000000      1.000000     0.100000\n",
      "25%        5.100000     2.800000      1.600000     0.300000\n",
      "50%        5.800000     3.000000      4.400000     1.300000\n",
      "75%        6.400000     3.300000      5.100000     1.800000\n",
      "max        7.900000     4.400000      6.900000     2.500000\n"
     ]
    }
   ],
   "source": [
    "#STEP 2: Summary Statistics & Univariate Analysis\n",
    "# TASK 2.1 – Use describe() for numeric summary\n",
    "# Gives a quick summary of all the numbers in the table\n",
    "#This gives count, mean, std, min, max, and quartiles for all numeric columns.\n",
    "\n",
    "print(df.describe())\n"
   ]
  },
  {
   "cell_type": "code",
   "execution_count": 31,
   "id": "4675fce2-5162-428d-ba1a-9591804386f6",
   "metadata": {},
   "outputs": [
    {
     "name": "stdout",
     "output_type": "stream",
     "text": [
      "species\n",
      "Iris-versicolor    50\n",
      "Iris-virginica     50\n",
      "Iris-setosa        49\n",
      "Name: count, dtype: int64\n"
     ]
    }
   ],
   "source": [
    "#TASK 2.2 – Check unique values in the target\n",
    "print(df[\"species\"].value_counts())  #Shows number of times each species appears in the dataset"
   ]
  },
  {
   "cell_type": "code",
   "execution_count": 39,
   "id": "b8d7991f-97c4-4ffe-99d9-99d92ef9a28d",
   "metadata": {},
   "outputs": [
    {
     "name": "stdout",
     "output_type": "stream",
     "text": [
      "3\n"
     ]
    }
   ],
   "source": [
    "print(df[\"species\"].nunique())  ## Prints how many unique species are present in the dataset"
   ]
  },
  {
   "cell_type": "code",
   "execution_count": 51,
   "id": "90e57fc8-59b3-44cf-8e1b-f4c06815af9f",
   "metadata": {},
   "outputs": [
    {
     "name": "stdout",
     "output_type": "stream",
     "text": [
      "4.3\n",
      "5.8483221476510066\n",
      "7.9\n",
      "5.8\n",
      "149\n"
     ]
    }
   ],
   "source": [
    "#TASK 2.3 – Basic column-wise stats\n",
    "print(df[\"sepal_length\"].min())  ## Prints the smallest sepal length value\n",
    "print(df[\"sepal_length\"].median())  ## Prints the middle value (median) of sepal length\n",
    "print(df[\"sepal_length\"].mean())  # Prints the average (mean) sepal length\n",
    "print(df[\"sepal_length\"].max())   ## Prints the largest sepal length value\n",
    "print(df[\"sepal_length\"].count())  ## Prints the total number of sepal length values (non-null count)...Non-null count means how many values are actually present (not empty or missing) in a column."
   ]
  },
  {
   "cell_type": "code",
   "execution_count": 53,
   "id": "42881426-4fe0-41f9-b1ad-212dd587b5c9",
   "metadata": {},
   "outputs": [
    {
     "name": "stdout",
     "output_type": "stream",
     "text": [
      "sepal_length    0\n",
      "sepal_width     0\n",
      "petal_length    0\n",
      "petal_width     0\n",
      "species         0\n",
      "dtype: int64\n"
     ]
    }
   ],
   "source": [
    "#STEP 3: Missing Values & Duplicates\n",
    "#TASK 3.1 – Check for Missing Values\n",
    "print(df.isnull().sum())     # Shows how many missing (null) values are in each column"
   ]
  },
  {
   "cell_type": "code",
   "execution_count": 55,
   "id": "c694d177-f25a-4b8b-96b8-3e0ede60b9c6",
   "metadata": {},
   "outputs": [
    {
     "name": "stdout",
     "output_type": "stream",
     "text": [
      "3\n"
     ]
    }
   ],
   "source": [
    "#TASK 3.2 – Check for Duplicates\n",
    "print(df.duplicated().sum())   ## Shows the total number of duplicate rows in the dataset"
   ]
  },
  {
   "cell_type": "code",
   "execution_count": 61,
   "id": "496020c4-b5aa-44a5-926d-aad543b2a5ac",
   "metadata": {},
   "outputs": [
    {
     "name": "stdout",
     "output_type": "stream",
     "text": [
      "     sepal_length  sepal_width  petal_length  petal_width         species\n",
      "0             4.9          3.0           1.4          0.2     Iris-setosa\n",
      "1             4.7          3.2           1.3          0.2     Iris-setosa\n",
      "2             4.6          3.1           1.5          0.2     Iris-setosa\n",
      "3             5.0          3.6           1.4          0.2     Iris-setosa\n",
      "4             5.4          3.9           1.7          0.4     Iris-setosa\n",
      "..            ...          ...           ...          ...             ...\n",
      "144           6.7          3.0           5.2          2.3  Iris-virginica\n",
      "145           6.3          2.5           5.0          1.9  Iris-virginica\n",
      "146           6.5          3.0           5.2          2.0  Iris-virginica\n",
      "147           6.2          3.4           5.4          2.3  Iris-virginica\n",
      "148           5.9          3.0           5.1          1.8  Iris-virginica\n",
      "\n",
      "[146 rows x 5 columns]\n",
      "3\n"
     ]
    }
   ],
   "source": [
    "#To remove duplicates (if any):\n",
    "print(df.drop_duplicates())  ## Displays the dataset after removing duplicate rows (does not change original DataFrame)\n",
    "print(df.duplicated().sum())  #original dataframe still has duplicate values"
   ]
  },
  {
   "cell_type": "code",
   "execution_count": 69,
   "id": "4e7547a4-1bc4-4498-b997-05033eb90d8b",
   "metadata": {},
   "outputs": [
    {
     "name": "stdout",
     "output_type": "stream",
     "text": [
      "     sepal_length  sepal_width  petal_length  petal_width         species\n",
      "0             4.9          3.0           1.4          0.2     Iris-setosa\n",
      "1             4.7          3.2           1.3          0.2     Iris-setosa\n",
      "2             4.6          3.1           1.5          0.2     Iris-setosa\n",
      "3             5.0          3.6           1.4          0.2     Iris-setosa\n",
      "4             5.4          3.9           1.7          0.4     Iris-setosa\n",
      "..            ...          ...           ...          ...             ...\n",
      "144           6.7          3.0           5.2          2.3  Iris-virginica\n",
      "145           6.3          2.5           5.0          1.9  Iris-virginica\n",
      "146           6.5          3.0           5.2          2.0  Iris-virginica\n",
      "147           6.2          3.4           5.4          2.3  Iris-virginica\n",
      "148           5.9          3.0           5.1          1.8  Iris-virginica\n",
      "\n",
      "[146 rows x 5 columns]\n",
      "0\n"
     ]
    }
   ],
   "source": [
    "#removing duplicate values from original dataset\n",
    "df=df.drop_duplicates()\n",
    "print(df)\n",
    "print(df.duplicated().sum())  #duplicate values reduced to zero"
   ]
  },
  {
   "cell_type": "code",
   "execution_count": 73,
   "id": "eca4b991-a14a-40e0-b59a-78525d1bff2a",
   "metadata": {},
   "outputs": [
    {
     "name": "stdout",
     "output_type": "stream",
     "text": [
      "sepal_length    0\n",
      "sepal_width     0\n",
      "petal_length    0\n",
      "petal_width     0\n",
      "species         0\n",
      "dtype: int64\n"
     ]
    }
   ],
   "source": [
    "#TASK 3.3 – Check for Empty Strings (sometimes mistaken as non-null)\n",
    "print((df==\"\").sum())  # no empty string"
   ]
  },
  {
   "cell_type": "code",
   "execution_count": 75,
   "id": "e9fa28de-800b-4a2c-8991-fac0ea65bc99",
   "metadata": {},
   "outputs": [
    {
     "name": "stdout",
     "output_type": "stream",
     "text": [
      "species\n",
      "Iris-versicolor    50\n",
      "Iris-virginica     49\n",
      "Iris-setosa        47\n",
      "Name: count, dtype: int64\n"
     ]
    }
   ],
   "source": [
    "#TASK 4.1 – Use value_counts() for categorical column\n",
    "print(df[\"species\"].value_counts())  ## Shows the count of each unique species in the dataset"
   ]
  },
  {
   "cell_type": "code",
   "execution_count": 85,
   "id": "2053289f-6486-46e2-9f62-ccbaa10a4d66",
   "metadata": {},
   "outputs": [
    {
     "data": {
      "text/plain": [
       "array([[<Axes: title={'center': 'sepal_length'}>,\n",
       "        <Axes: title={'center': 'sepal_width'}>],\n",
       "       [<Axes: title={'center': 'petal_length'}>,\n",
       "        <Axes: title={'center': 'petal_width'}>]], dtype=object)"
      ]
     },
     "execution_count": 85,
     "metadata": {},
     "output_type": "execute_result"
    },
    {
     "data": {
      "image/png": "[encoded data removed]",
      "text/plain": [
       "<Figure size 640x480 with 4 Axes>"
      ]
     },
     "metadata": {},
     "output_type": "display_data"
    }
   ],
   "source": [
    "# TASK 4.2 – Use .hist() for numeric distributions\n",
    "# .hist() is used to create a histogram of a column or all numeric columns in a DataFrame.\n",
    "df[[\"sepal_length\",\"sepal_width\",\"petal_length\",\"petal_width\",\"species\"]].hist()\n"
   ]
  },
  {
   "cell_type": "code",
   "execution_count": 91,
   "id": "08403235-dab0-45ab-9cbf-93f6c245dfa1",
   "metadata": {},
   "outputs": [
    {
     "data": {
      "text/plain": [
       "array([[<Axes: title={'center': 'sepal_length'}>,\n",
       "        <Axes: title={'center': 'sepal_width'}>],\n",
       "       [<Axes: title={'center': 'petal_length'}>,\n",
       "        <Axes: title={'center': 'petal_width'}>]], dtype=object)"
      ]
     },
     "execution_count": 91,
     "metadata": {},
     "output_type": "execute_result"
    },
    {
     "data": {
      "image/png": "[encoded data removed]",
      "text/plain": [
       "<Figure size 1000x800 with 4 Axes>"
      ]
     },
     "metadata": {},
     "output_type": "display_data"
    }
   ],
   "source": [
    "df[[\"sepal_length\",\"sepal_width\",\"petal_length\",\"petal_width\",\"species\"]].hist(figsize=(10,8),bins=20)\n",
    "\n",
    "# figsize=(10, 8)\n",
    "# Sets the size of the whole plot (width=10, height=8).\n",
    "# Bigger size = bigger chart area.\n",
    "\n",
    "# bins=20\n",
    "# Divides the data into 20 equal-sized groups (intervals) on the x-axis.\n",
    "\n",
    "# More bins = more detailed histogram\n",
    "# Fewer bins = more general view"
   ]
  },
  {
   "cell_type": "code",
   "execution_count": 83,
   "id": "e821ccaa-f133-4e7e-8768-5d07ff313900",
   "metadata": {},
   "outputs": [
    {
     "data": {
      "text/plain": [
       "<Axes: >"
      ]
     },
     "execution_count": 83,
     "metadata": {},
     "output_type": "execute_result"
    },
    {
     "data": {
      "image/png": "[encoded data removed]",
      "text/plain": [
       "<Figure size 640x480 with 1 Axes>"
      ]
     },
     "metadata": {},
     "output_type": "display_data"
    }
   ],
   "source": [
    "df[\"petal_length\"].hist() # histogarm for 1 column"
   ]
  },
  {
   "cell_type": "code",
   "execution_count": 93,
   "id": "ba36f30c-0a38-4c7b-bb72-4a8dd15d8e9f",
   "metadata": {},
   "outputs": [
    {
     "name": "stdout",
     "output_type": "stream",
     "text": [
      "                species\n",
      "count               146\n",
      "unique                3\n",
      "top     Iris-versicolor\n",
      "freq                 50\n"
     ]
    }
   ],
   "source": [
    "#TASK 4.3 – Use describe() with include='object' to summarize non-numeric data:\n",
    "print(df.describe(include=\"object\"))"
   ]
  },
  {
   "cell_type": "code",
   "execution_count": 97,
   "id": "1ed2ce55-6dbc-4fd9-af32-eca4a1c1d668",
   "metadata": {},
   "outputs": [
    {
     "name": "stdout",
     "output_type": "stream",
     "text": [
      "                 sepal_length  sepal_width  petal_length  petal_width\n",
      "species                                                              \n",
      "Iris-setosa          5.008511     3.429787      1.463830     0.251064\n",
      "Iris-versicolor      5.936000     2.770000      4.260000     1.326000\n",
      "Iris-virginica       6.604082     2.979592      5.561224     2.028571\n"
     ]
    }
   ],
   "source": [
    "#TASK 5.1 – Group statistics by species\n",
    "print(df.groupby(\"species\").mean())  #shows the average of each numeric column grouped by species"
   ]
  },
  {
   "cell_type": "code",
   "execution_count": 101,
   "id": "8b46341f-d712-48db-9068-229180849e0a",
   "metadata": {},
   "outputs": [
    {
     "name": "stdout",
     "output_type": "stream",
     "text": [
      "              sepal_length  sepal_width  petal_length  petal_width\n",
      "sepal_length      1.000000    -0.103591      0.870793     0.816015\n",
      "sepal_width      -0.103591     1.000000     -0.415679    -0.350436\n",
      "petal_length      0.870793    -0.415679      1.000000     0.961405\n",
      "petal_width       0.816015    -0.350436      0.961405     1.000000\n"
     ]
    }
   ],
   "source": [
    "#TASK 5.2 – Correlation matrix\n",
    "#Check how features relate to each other numerically.\n",
    "print(df.select_dtypes(include=\"number\").corr())"
   ]
  },
  {
   "cell_type": "code",
   "execution_count": 103,
   "id": "83512e45-a8fb-424e-bca7-56508efcf4c9",
   "metadata": {},
   "outputs": [
    {
     "data": {
      "text/html": [
       "<div>\n",
       "<style scoped>\n",
       "    .dataframe tbody tr th:only-of-type {\n",
       "        vertical-align: middle;\n",
       "    }\n",
       "\n",
       "    .dataframe tbody tr th {\n",
       "        vertical-align: top;\n",
       "    }\n",
       "\n",
       "    .dataframe thead th {\n",
       "        text-align: right;\n",
       "    }\n",
       "</style>\n",
       "<table border=\"1\" class=\"dataframe\">\n",
       "  <thead>\n",
       "    <tr style=\"text-align: right;\">\n",
       "      <th></th>\n",
       "      <th>count</th>\n",
       "      <th>mean</th>\n",
       "      <th>std</th>\n",
       "      <th>min</th>\n",
       "      <th>25%</th>\n",
       "      <th>50%</th>\n",
       "      <th>75%</th>\n",
       "      <th>max</th>\n",
       "    </tr>\n",
       "    <tr>\n",
       "      <th>species</th>\n",
       "      <th></th>\n",
       "      <th></th>\n",
       "      <th></th>\n",
       "      <th></th>\n",
       "      <th></th>\n",
       "      <th></th>\n",
       "      <th></th>\n",
       "      <th></th>\n",
       "    </tr>\n",
       "  </thead>\n",
       "  <tbody>\n",
       "    <tr>\n",
       "      <th>Iris-setosa</th>\n",
       "      <td>47.0</td>\n",
       "      <td>1.463830</td>\n",
       "      <td>0.178673</td>\n",
       "      <td>1.0</td>\n",
       "      <td>1.4</td>\n",
       "      <td>1.50</td>\n",
       "      <td>1.6</td>\n",
       "      <td>1.9</td>\n",
       "    </tr>\n",
       "    <tr>\n",
       "      <th>Iris-versicolor</th>\n",
       "      <td>50.0</td>\n",
       "      <td>4.260000</td>\n",
       "      <td>0.469911</td>\n",
       "      <td>3.0</td>\n",
       "      <td>4.0</td>\n",
       "      <td>4.35</td>\n",
       "      <td>4.6</td>\n",
       "      <td>5.1</td>\n",
       "    </tr>\n",
       "    <tr>\n",
       "      <th>Iris-virginica</th>\n",
       "      <td>49.0</td>\n",
       "      <td>5.561224</td>\n",
       "      <td>0.553706</td>\n",
       "      <td>4.5</td>\n",
       "      <td>5.1</td>\n",
       "      <td>5.60</td>\n",
       "      <td>5.9</td>\n",
       "      <td>6.9</td>\n",
       "    </tr>\n",
       "  </tbody>\n",
       "</table>\n",
       "</div>"
      ],
      "text/plain": [
       "                 count      mean       std  min  25%   50%  75%  max\n",
       "species                                                             \n",
       "Iris-setosa       47.0  1.463830  0.178673  1.0  1.4  1.50  1.6  1.9\n",
       "Iris-versicolor   50.0  4.260000  0.469911  3.0  4.0  4.35  4.6  5.1\n",
       "Iris-virginica    49.0  5.561224  0.553706  4.5  5.1  5.60  5.9  6.9"
      ]
     },
     "execution_count": 103,
     "metadata": {},
     "output_type": "execute_result"
    }
   ],
   "source": [
    "#TASK 5.3 – Compare petal_length across species\n",
    "print(df.groupby(\"species\")[\"petal_length\"].describe())"
   ]
  },
  {
   "cell_type": "code",
   "execution_count": 105,
   "id": "56efa212-a740-44e6-9c02-ce57571aa8f4",
   "metadata": {},
   "outputs": [],
   "source": [
    "# IQR Full Form:\n",
    "# Interquartile Range\n",
    "# It is the difference between the third quartile (Q3) and the first quartile (Q1):\n",
    "# IQR=Q3−Q1\n",
    "\n",
    "# IQR shows the range of the middle 50% of your data.\n",
    "# It ignores outliers and extremes, focusing on the central data.\n",
    "\n",
    "# | Symbol | Name          | Percentile | Meaning                                      |\n",
    "# | ------ | ------------- | ---------- | -------------------------------------------- |\n",
    "# | Q1     | 1st Quartile  | 25%        | 25% of the data lies **below** this value    |\n",
    "# | Q2     | 2nd Quartile  | 50%        | **Median** – the middle value of the dataset |\n",
    "# | Q3     | 3rd Quartile  | 75%        | 75% of the data lies **below** this value    |\n",
    "# | Max    | Maximum Value | 100%       | Highest value in the dataset                 |\n"
   ]
  },
  {
   "cell_type": "code",
   "execution_count": 107,
   "id": "2f602d91-eb43-4698-ae31-5a15256f87ed",
   "metadata": {},
   "outputs": [],
   "source": [
    "\n",
    "# | Term            | Formula          | Meaning                                       |\n",
    "# | --------------- | ---------------- | --------------------------------------------- |\n",
    "# | **Lower Bound** | `Q1 - 1.5 × IQR` | Values below this are considered **outliers** |\n",
    "# | **Upper Bound** | `Q3 + 1.5 × IQR` | Values above this are considered **outliers** |\n",
    "# This range (Lower Bound to Upper Bound) contains normal data.\n",
    "# Anything outside this range is considered an outlier.\n",
    "\n"
   ]
  },
  {
   "cell_type": "code",
   "execution_count": 109,
   "id": "98d626ba-7a9f-43e2-91bc-a0718de3adbf",
   "metadata": {},
   "outputs": [
    {
     "name": "stdout",
     "output_type": "stream",
     "text": [
      "the outliers range is from 2.05 to 4.05\n"
     ]
    }
   ],
   "source": [
    "#STEP 6: Outlier Detection (Using IQR Method)\n",
    "#TASK 6.1 – Calculate IQR (Interquartile Range) for sepal_width\n",
    "Q1=df[\"sepal_width\"].quantile(0.25)\n",
    "Q3=df[\"sepal_width\"].quantile(0.75)\n",
    "IQR=Q3-Q1\n",
    "lower_bound=Q1-1.5*IQR\n",
    "upper_bound=Q3+1.5*IQR\n",
    "print(\"the outliers range is from\",lower_bound,\"to\",upper_bound)"
   ]
  },
  {
   "cell_type": "code",
   "execution_count": 119,
   "id": "2bf596cf-8254-4a97-8d99-224066b25f29",
   "metadata": {},
   "outputs": [
    {
     "name": "stdout",
     "output_type": "stream",
     "text": [
      "number of outliers: 4\n"
     ]
    }
   ],
   "source": [
    "print(\"number of outliers:\",df[(df[\"sepal_width\"]<lower_bound) | (df[\"sepal_width\"]>upper_bound)].shape[0])\n",
    "\n",
    "# df['sepal_width'] < lower_bound\n",
    "# → Finds values that are too small (below the normal range)\n",
    "\n",
    "# df['sepal_width'] > upper_bound\n",
    "# → Finds values that are too big (above the normal range)\n",
    "\n",
    "# |\n",
    "# → Means OR → So it checks for values that are too small OR too big\n",
    "\n",
    "# df[...]\n",
    "# → Filters the rows that are outliers in sepal_width\n",
    "\n",
    "# .shape[0]\n",
    "# → Counts how many such rows there are (i.e., number of outliers)\n",
    "\n",
    "# print(\"Number of outliers:\", ... )\n",
    "# → Displays the result"
   ]
  },
  {
   "cell_type": "code",
   "execution_count": 121,
   "id": "36650d97-61c9-4871-a01d-9a8c98acc5eb",
   "metadata": {},
   "outputs": [],
   "source": [
    "#  .shape in pandas:\n",
    "# It returns a tuple:\n",
    "# (rows, columns)\n",
    "\n",
    "# so,\n",
    "# df.shape\n",
    "# gives you:\n",
    "# (number of rows, number of columns)\n",
    "\n",
    "\n",
    "# ✅ .shape[0]\n",
    "# Returns only the number of rows\n",
    "\n",
    "# ✅ .shape[1]\n",
    "# Returns only the number of columns\n"
   ]
  },
  {
   "cell_type": "code",
   "execution_count": 129,
   "id": "803d6f8b-6da2-4781-aca6-1e6f43e767b9",
   "metadata": {},
   "outputs": [
    {
     "name": "stdout",
     "output_type": "stream",
     "text": [
      "the range of IQR is: 3.1499999999999986 to 8.350000000000001\n",
      "total number of outliers: 0\n"
     ]
    }
   ],
   "source": [
    "#TASK 6.2 – Calculate IQR (Interquartile Range) for sepal_length\n",
    "Q1=df[\"sepal_length\"].quantile(0.25)\n",
    "Q3=df[\"sepal_length\"].quantile(0.75)\n",
    "IQR=Q3-Q1\n",
    "lower_bound=Q1-1.5*IQR\n",
    "upper_bound=Q3+1.5*IQR\n",
    "print(\"the range of IQR is:\",lower_bound, \"to\",upper_bound)\n",
    "print(\"total number of outliers:\",df[(df[\"sepal_length\"]<lower_bound) | (df[\"sepal_length\"]>upper_bound)].shape[0])"
   ]
  },
  {
   "cell_type": "code",
   "execution_count": 135,
   "id": "656c12e6-d388-4a8e-bd27-16ead86deabb",
   "metadata": {},
   "outputs": [],
   "source": [
    "#STEP 7: Feature Engineering & EDA Insights (Final Step)\n",
    "# Feature engineering is the process of creating, transforming, or selecting features (columns/variables) in a dataset to help\n",
    "# a machine learning model perform better.\n",
    "\n",
    "# EDA Full Form:\n",
    "# Exploratory Data Analysis\n",
    "\n",
    "# Exploratory Data Analysis (EDA) is the process of analyzing datasets to summarize their main characteristics, often using visuals and statistics, \n",
    "# before applying any machine learning models."
   ]
  },
  {
   "cell_type": "code",
   "execution_count": 137,
   "id": "360e1fb1-a7ac-41ca-8c63-f2c1f1347c76",
   "metadata": {},
   "outputs": [],
   "source": [
    "#TASK 7.1 – Create a new ratio feature\n",
    "df[\"sepal_ratio\"]=df[\"sepal_length\"]/df[\"sepal_width\"]\n",
    "df[\"petal_ratio\"]=df[\"petal_length\"]/df[\"petal_width\"]"
   ]
  },
  {
   "cell_type": "code",
   "execution_count": 141,
   "id": "418effd9-49a6-4124-b0e6-e8bbc82ec09c",
   "metadata": {},
   "outputs": [
    {
     "data": {
      "text/html": [
       "<div>\n",
       "<style scoped>\n",
       "    .dataframe tbody tr th:only-of-type {\n",
       "        vertical-align: middle;\n",
       "    }\n",
       "\n",
       "    .dataframe tbody tr th {\n",
       "        vertical-align: top;\n",
       "    }\n",
       "\n",
       "    .dataframe thead th {\n",
       "        text-align: right;\n",
       "    }\n",
       "</style>\n",
       "<table border=\"1\" class=\"dataframe\">\n",
       "  <thead>\n",
       "    <tr style=\"text-align: right;\">\n",
       "      <th></th>\n",
       "      <th>sepal_ratio</th>\n",
       "      <th>petal_ratio</th>\n",
       "    </tr>\n",
       "    <tr>\n",
       "      <th>species</th>\n",
       "      <th></th>\n",
       "      <th></th>\n",
       "    </tr>\n",
       "  </thead>\n",
       "  <tbody>\n",
       "    <tr>\n",
       "      <th>Iris-setosa</th>\n",
       "      <td>1.470436</td>\n",
       "      <td>6.742553</td>\n",
       "    </tr>\n",
       "    <tr>\n",
       "      <th>Iris-versicolor</th>\n",
       "      <td>2.160402</td>\n",
       "      <td>3.242837</td>\n",
       "    </tr>\n",
       "    <tr>\n",
       "      <th>Iris-virginica</th>\n",
       "      <td>2.232132</td>\n",
       "      <td>2.782631</td>\n",
       "    </tr>\n",
       "  </tbody>\n",
       "</table>\n",
       "</div>"
      ],
      "text/plain": [
       "                 sepal_ratio  petal_ratio\n",
       "species                                  \n",
       "Iris-setosa         1.470436     6.742553\n",
       "Iris-versicolor     2.160402     3.242837\n",
       "Iris-virginica      2.232132     2.782631"
      ]
     },
     "execution_count": 141,
     "metadata": {},
     "output_type": "execute_result"
    }
   ],
   "source": [
    "#Then check if these ratios differ across species:\n",
    "df.groupby(\"species\")[[\"sepal_ratio\",\"petal_ratio\"]].mean()"
   ]
  },
  {
   "cell_type": "code",
   "execution_count": null,
   "id": "ea31ed07-fbdb-4bec-9cb9-ad3e7581538c",
   "metadata": {},
   "outputs": [],
   "source": [
    "#What steps did you take to understand and prepare the Iris dataset?\n",
    "# I performed step-by-step EDA using Pandas: I cleaned missing/duplicate values, explored summary stats, \n",
    "# analyzed feature distributions, used groupby and correlation for bivariate patterns, detected outliers using IQR, \n",
    "# and created new features like petal/sepal ratios."
   ]
  }
 ],
 "metadata": {
  "kernelspec": {
   "display_name": "Python 3 (ipykernel)",
   "language": "python",
   "name": "python3"
  },
  "language_info": {
   "codemirror_mode": {
    "name": "ipython",
    "version": 3
   },
   "file_extension": ".py",
   "mimetype": "text/x-python",
   "name": "python",
   "nbconvert_exporter": "python",
   "pygments_lexer": "ipython3",
   "version": "3.12.4"
  }
 },
 "nbformat": 4,
 "nbformat_minor": 5
}
